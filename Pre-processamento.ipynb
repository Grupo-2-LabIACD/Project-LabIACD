{
 "cells": [
  {
   "cell_type": "code",
   "execution_count": 1,
   "id": "e5350252",
   "metadata": {},
   "outputs": [],
   "source": [
    "%matplotlib inline\n",
    "\n",
    "import numpy as np # linear algebra\n",
    "import pandas as pd # data processing, CSV file I/O (e.g. pd.read_csv)\n",
    "import pydicom\n",
    "import os\n",
    "import scipy.ndimage\n",
    "import matplotlib.pyplot as plt\n",
    "from radiomics import featureextractor\n",
    "\n",
    "from skimage import measure, morphology\n",
    "from mpl_toolkits.mplot3d.art3d import Poly3DCollection\n"
   ]
  },
  {
   "cell_type": "code",
   "execution_count": 2,
   "id": "62225f20",
   "metadata": {},
   "outputs": [],
   "source": [
    "import pylidc as pl\n",
    "import os\n",
    "\n",
    "from pylidc.utils import consensus\n",
    "from pylidc.utils import volume_viewer\n",
    "\n",
    "import matplotlib.cm as cm\n",
    "import matplotlib.animation as manim\n",
    "\n",
    "from skimage.measure import find_contours\n",
    "\n",
    "from sqlalchemy import func"
   ]
  },
  {
   "cell_type": "markdown",
   "id": "e8f339bf",
   "metadata": {},
   "source": [
    "# 1. Carregar e Explorar Data"
   ]
  },
  {
   "cell_type": "code",
   "execution_count": 3,
   "id": "71f98767",
   "metadata": {},
   "outputs": [
    {
     "data": {
      "text/html": [
       "<div>\n",
       "<style scoped>\n",
       "    .dataframe tbody tr th:only-of-type {\n",
       "        vertical-align: middle;\n",
       "    }\n",
       "\n",
       "    .dataframe tbody tr th {\n",
       "        vertical-align: top;\n",
       "    }\n",
       "\n",
       "    .dataframe thead th {\n",
       "        text-align: right;\n",
       "    }\n",
       "</style>\n",
       "<table border=\"1\" class=\"dataframe\">\n",
       "  <thead>\n",
       "    <tr style=\"text-align: right;\">\n",
       "      <th></th>\n",
       "      <th>Subject ID</th>\n",
       "      <th>Study UID</th>\n",
       "      <th>Study Description</th>\n",
       "      <th>Study Date</th>\n",
       "      <th>Series ID</th>\n",
       "      <th>Series Description</th>\n",
       "      <th>Number of images</th>\n",
       "      <th>File Size (Bytes)</th>\n",
       "      <th>Collection Name</th>\n",
       "      <th>Modality</th>\n",
       "      <th>Manufacturer</th>\n",
       "    </tr>\n",
       "  </thead>\n",
       "  <tbody>\n",
       "    <tr>\n",
       "      <th>0</th>\n",
       "      <td>LIDC-IDRI-1001</td>\n",
       "      <td>1.3.6.1.4.1.14519.5.2.1.6279.6001.281499745765...</td>\n",
       "      <td>NaN</td>\n",
       "      <td>2000-01-01 00:00:00.0</td>\n",
       "      <td>1.3.6.1.4.1.14519.5.2.1.6279.6001.100225287222...</td>\n",
       "      <td>NaN</td>\n",
       "      <td>194</td>\n",
       "      <td>102096016</td>\n",
       "      <td>LIDC-IDRI</td>\n",
       "      <td>CT</td>\n",
       "      <td>SIEMENS</td>\n",
       "    </tr>\n",
       "    <tr>\n",
       "      <th>1</th>\n",
       "      <td>LIDC-IDRI-0778</td>\n",
       "      <td>1.3.6.1.4.1.14519.5.2.1.6279.6001.174809695196...</td>\n",
       "      <td>CHEST</td>\n",
       "      <td>2000-01-01 00:00:00.0</td>\n",
       "      <td>1.3.6.1.4.1.14519.5.2.1.6279.6001.100332161840...</td>\n",
       "      <td>Recon 2:</td>\n",
       "      <td>481</td>\n",
       "      <td>253245158</td>\n",
       "      <td>LIDC-IDRI</td>\n",
       "      <td>CT</td>\n",
       "      <td>GE MEDICAL SYSTEMS</td>\n",
       "    </tr>\n",
       "    <tr>\n",
       "      <th>2</th>\n",
       "      <td>LIDC-IDRI-0813</td>\n",
       "      <td>1.3.6.1.4.1.14519.5.2.1.6279.6001.139110171863...</td>\n",
       "      <td>NaN</td>\n",
       "      <td>2000-01-01 00:00:00.0</td>\n",
       "      <td>1.3.6.1.4.1.14519.5.2.1.6279.6001.100398138793...</td>\n",
       "      <td>NaN</td>\n",
       "      <td>157</td>\n",
       "      <td>82630786</td>\n",
       "      <td>LIDC-IDRI</td>\n",
       "      <td>CT</td>\n",
       "      <td>SIEMENS</td>\n",
       "    </tr>\n",
       "    <tr>\n",
       "      <th>3</th>\n",
       "      <td>LIDC-IDRI-0710</td>\n",
       "      <td>1.3.6.1.4.1.14519.5.2.1.6279.6001.116146223752...</td>\n",
       "      <td>CHEST</td>\n",
       "      <td>2000-01-01 00:00:00.0</td>\n",
       "      <td>1.3.6.1.4.1.14519.5.2.1.6279.6001.100530488926...</td>\n",
       "      <td>Recon 2: ACRIN LARGE</td>\n",
       "      <td>471</td>\n",
       "      <td>247987448</td>\n",
       "      <td>LIDC-IDRI</td>\n",
       "      <td>CT</td>\n",
       "      <td>GE MEDICAL SYSTEMS</td>\n",
       "    </tr>\n",
       "    <tr>\n",
       "      <th>4</th>\n",
       "      <td>LIDC-IDRI-0410</td>\n",
       "      <td>1.3.6.1.4.1.14519.5.2.1.6279.6001.818775038273...</td>\n",
       "      <td>CT LUNG SCREEN</td>\n",
       "      <td>2000-01-01 00:00:00.0</td>\n",
       "      <td>1.3.6.1.4.1.14519.5.2.1.6279.6001.100620385482...</td>\n",
       "      <td>NaN</td>\n",
       "      <td>126</td>\n",
       "      <td>66314722</td>\n",
       "      <td>LIDC-IDRI</td>\n",
       "      <td>CT</td>\n",
       "      <td>GE MEDICAL SYSTEMS</td>\n",
       "    </tr>\n",
       "  </tbody>\n",
       "</table>\n",
       "</div>"
      ],
      "text/plain": [
       "       Subject ID                                          Study UID  \\\n",
       "0  LIDC-IDRI-1001  1.3.6.1.4.1.14519.5.2.1.6279.6001.281499745765...   \n",
       "1  LIDC-IDRI-0778  1.3.6.1.4.1.14519.5.2.1.6279.6001.174809695196...   \n",
       "2  LIDC-IDRI-0813  1.3.6.1.4.1.14519.5.2.1.6279.6001.139110171863...   \n",
       "3  LIDC-IDRI-0710  1.3.6.1.4.1.14519.5.2.1.6279.6001.116146223752...   \n",
       "4  LIDC-IDRI-0410  1.3.6.1.4.1.14519.5.2.1.6279.6001.818775038273...   \n",
       "\n",
       "  Study Description             Study Date  \\\n",
       "0               NaN  2000-01-01 00:00:00.0   \n",
       "1             CHEST  2000-01-01 00:00:00.0   \n",
       "2               NaN  2000-01-01 00:00:00.0   \n",
       "3             CHEST  2000-01-01 00:00:00.0   \n",
       "4    CT LUNG SCREEN  2000-01-01 00:00:00.0   \n",
       "\n",
       "                                           Series ID    Series Description  \\\n",
       "0  1.3.6.1.4.1.14519.5.2.1.6279.6001.100225287222...                   NaN   \n",
       "1  1.3.6.1.4.1.14519.5.2.1.6279.6001.100332161840...              Recon 2:   \n",
       "2  1.3.6.1.4.1.14519.5.2.1.6279.6001.100398138793...                   NaN   \n",
       "3  1.3.6.1.4.1.14519.5.2.1.6279.6001.100530488926...  Recon 2: ACRIN LARGE   \n",
       "4  1.3.6.1.4.1.14519.5.2.1.6279.6001.100620385482...                   NaN   \n",
       "\n",
       "   Number of images  File Size (Bytes) Collection Name Modality  \\\n",
       "0               194          102096016       LIDC-IDRI       CT   \n",
       "1               481          253245158       LIDC-IDRI       CT   \n",
       "2               157           82630786       LIDC-IDRI       CT   \n",
       "3               471          247987448       LIDC-IDRI       CT   \n",
       "4               126           66314722       LIDC-IDRI       CT   \n",
       "\n",
       "         Manufacturer  \n",
       "0             SIEMENS  \n",
       "1  GE MEDICAL SYSTEMS  \n",
       "2             SIEMENS  \n",
       "3  GE MEDICAL SYSTEMS  \n",
       "4  GE MEDICAL SYSTEMS  "
      ]
     },
     "execution_count": 3,
     "metadata": {},
     "output_type": "execute_result"
    }
   ],
   "source": [
    "#Carregar o ficheiro metadata que contém os diretórios de cada imagem\n",
    "metadata = pd.read_csv('metadata.csv')\n",
    "metadata.head()"
   ]
  },
  {
   "cell_type": "code",
   "execution_count": 4,
   "id": "94e522e0",
   "metadata": {},
   "outputs": [
    {
     "data": {
      "text/plain": [
       "1308"
      ]
     },
     "execution_count": 4,
     "metadata": {},
     "output_type": "execute_result"
    }
   ],
   "source": [
    "rows = len(metadata)\n",
    "rows"
   ]
  },
  {
   "cell_type": "code",
   "execution_count": 5,
   "id": "0bc7a486",
   "metadata": {},
   "outputs": [
    {
     "ename": "KeyError",
     "evalue": "'File Location'",
     "output_type": "error",
     "traceback": [
      "\u001b[1;31m---------------------------------------------------------------------------\u001b[0m",
      "\u001b[1;31mKeyError\u001b[0m                                  Traceback (most recent call last)",
      "File \u001b[1;32m~\\anaconda3\\Lib\\site-packages\\pandas\\core\\indexes\\base.py:3653\u001b[0m, in \u001b[0;36mIndex.get_loc\u001b[1;34m(self, key)\u001b[0m\n\u001b[0;32m   3652\u001b[0m \u001b[38;5;28;01mtry\u001b[39;00m:\n\u001b[1;32m-> 3653\u001b[0m     \u001b[38;5;28;01mreturn\u001b[39;00m \u001b[38;5;28mself\u001b[39m\u001b[38;5;241m.\u001b[39m_engine\u001b[38;5;241m.\u001b[39mget_loc(casted_key)\n\u001b[0;32m   3654\u001b[0m \u001b[38;5;28;01mexcept\u001b[39;00m \u001b[38;5;167;01mKeyError\u001b[39;00m \u001b[38;5;28;01mas\u001b[39;00m err:\n",
      "File \u001b[1;32m~\\anaconda3\\Lib\\site-packages\\pandas\\_libs\\index.pyx:147\u001b[0m, in \u001b[0;36mpandas._libs.index.IndexEngine.get_loc\u001b[1;34m()\u001b[0m\n",
      "File \u001b[1;32m~\\anaconda3\\Lib\\site-packages\\pandas\\_libs\\index.pyx:176\u001b[0m, in \u001b[0;36mpandas._libs.index.IndexEngine.get_loc\u001b[1;34m()\u001b[0m\n",
      "File \u001b[1;32mpandas\\_libs\\hashtable_class_helper.pxi:7080\u001b[0m, in \u001b[0;36mpandas._libs.hashtable.PyObjectHashTable.get_item\u001b[1;34m()\u001b[0m\n",
      "File \u001b[1;32mpandas\\_libs\\hashtable_class_helper.pxi:7088\u001b[0m, in \u001b[0;36mpandas._libs.hashtable.PyObjectHashTable.get_item\u001b[1;34m()\u001b[0m\n",
      "\u001b[1;31mKeyError\u001b[0m: 'File Location'",
      "\nThe above exception was the direct cause of the following exception:\n",
      "\u001b[1;31mKeyError\u001b[0m                                  Traceback (most recent call last)",
      "Cell \u001b[1;32mIn[5], line 1\u001b[0m\n\u001b[1;32m----> 1\u001b[0m \u001b[38;5;28mdir\u001b[39m \u001b[38;5;241m=\u001b[39m metadata\u001b[38;5;241m.\u001b[39mloc[\u001b[38;5;241m0\u001b[39m][\u001b[38;5;124m'\u001b[39m\u001b[38;5;124mFile Location\u001b[39m\u001b[38;5;124m'\u001b[39m]\n\u001b[0;32m      2\u001b[0m \u001b[38;5;28mdir\u001b[39m\n",
      "File \u001b[1;32m~\\anaconda3\\Lib\\site-packages\\pandas\\core\\series.py:1007\u001b[0m, in \u001b[0;36mSeries.__getitem__\u001b[1;34m(self, key)\u001b[0m\n\u001b[0;32m   1004\u001b[0m     \u001b[38;5;28;01mreturn\u001b[39;00m \u001b[38;5;28mself\u001b[39m\u001b[38;5;241m.\u001b[39m_values[key]\n\u001b[0;32m   1006\u001b[0m \u001b[38;5;28;01melif\u001b[39;00m key_is_scalar:\n\u001b[1;32m-> 1007\u001b[0m     \u001b[38;5;28;01mreturn\u001b[39;00m \u001b[38;5;28mself\u001b[39m\u001b[38;5;241m.\u001b[39m_get_value(key)\n\u001b[0;32m   1009\u001b[0m \u001b[38;5;28;01mif\u001b[39;00m is_hashable(key):\n\u001b[0;32m   1010\u001b[0m     \u001b[38;5;66;03m# Otherwise index.get_value will raise InvalidIndexError\u001b[39;00m\n\u001b[0;32m   1011\u001b[0m     \u001b[38;5;28;01mtry\u001b[39;00m:\n\u001b[0;32m   1012\u001b[0m         \u001b[38;5;66;03m# For labels that don't resolve as scalars like tuples and frozensets\u001b[39;00m\n",
      "File \u001b[1;32m~\\anaconda3\\Lib\\site-packages\\pandas\\core\\series.py:1116\u001b[0m, in \u001b[0;36mSeries._get_value\u001b[1;34m(self, label, takeable)\u001b[0m\n\u001b[0;32m   1113\u001b[0m     \u001b[38;5;28;01mreturn\u001b[39;00m \u001b[38;5;28mself\u001b[39m\u001b[38;5;241m.\u001b[39m_values[label]\n\u001b[0;32m   1115\u001b[0m \u001b[38;5;66;03m# Similar to Index.get_value, but we do not fall back to positional\u001b[39;00m\n\u001b[1;32m-> 1116\u001b[0m loc \u001b[38;5;241m=\u001b[39m \u001b[38;5;28mself\u001b[39m\u001b[38;5;241m.\u001b[39mindex\u001b[38;5;241m.\u001b[39mget_loc(label)\n\u001b[0;32m   1118\u001b[0m \u001b[38;5;28;01mif\u001b[39;00m is_integer(loc):\n\u001b[0;32m   1119\u001b[0m     \u001b[38;5;28;01mreturn\u001b[39;00m \u001b[38;5;28mself\u001b[39m\u001b[38;5;241m.\u001b[39m_values[loc]\n",
      "File \u001b[1;32m~\\anaconda3\\Lib\\site-packages\\pandas\\core\\indexes\\base.py:3655\u001b[0m, in \u001b[0;36mIndex.get_loc\u001b[1;34m(self, key)\u001b[0m\n\u001b[0;32m   3653\u001b[0m     \u001b[38;5;28;01mreturn\u001b[39;00m \u001b[38;5;28mself\u001b[39m\u001b[38;5;241m.\u001b[39m_engine\u001b[38;5;241m.\u001b[39mget_loc(casted_key)\n\u001b[0;32m   3654\u001b[0m \u001b[38;5;28;01mexcept\u001b[39;00m \u001b[38;5;167;01mKeyError\u001b[39;00m \u001b[38;5;28;01mas\u001b[39;00m err:\n\u001b[1;32m-> 3655\u001b[0m     \u001b[38;5;28;01mraise\u001b[39;00m \u001b[38;5;167;01mKeyError\u001b[39;00m(key) \u001b[38;5;28;01mfrom\u001b[39;00m \u001b[38;5;21;01merr\u001b[39;00m\n\u001b[0;32m   3656\u001b[0m \u001b[38;5;28;01mexcept\u001b[39;00m \u001b[38;5;167;01mTypeError\u001b[39;00m:\n\u001b[0;32m   3657\u001b[0m     \u001b[38;5;66;03m# If we have a listlike key, _check_indexing_error will raise\u001b[39;00m\n\u001b[0;32m   3658\u001b[0m     \u001b[38;5;66;03m#  InvalidIndexError. Otherwise we fall through and re-raise\u001b[39;00m\n\u001b[0;32m   3659\u001b[0m     \u001b[38;5;66;03m#  the TypeError.\u001b[39;00m\n\u001b[0;32m   3660\u001b[0m     \u001b[38;5;28mself\u001b[39m\u001b[38;5;241m.\u001b[39m_check_indexing_error(key)\n",
      "\u001b[1;31mKeyError\u001b[0m: 'File Location'"
     ]
    }
   ],
   "source": [
    "dir = metadata.loc[0]['File Location']\n",
    "dir"
   ]
  },
  {
   "cell_type": "code",
   "execution_count": null,
   "id": "a32a4dd9",
   "metadata": {},
   "outputs": [],
   "source": [
    "#Abrir imagem com pydicom\n",
    "CT_folder = os.path.join(dir)\n",
    "\n",
    "ds = pydicom.read_file(os.path.join(CT_folder, '1-1.dcm'))\n",
    "ds"
   ]
  },
  {
   "cell_type": "code",
   "execution_count": null,
   "id": "d7fe1444",
   "metadata": {},
   "outputs": [],
   "source": [
    "#Pixel data\n",
    "image = ds.pixel_array\n",
    "image.shape"
   ]
  },
  {
   "cell_type": "code",
   "execution_count": null,
   "id": "2ea88e7b",
   "metadata": {},
   "outputs": [],
   "source": [
    "#Note that the image is a 2D array. Typically the pixel values are stored in a scaled format so we should adjust them:\n",
    "image = ds.RescaleSlope * image + ds.RescaleIntercept\n",
    "#Assim, a imagem fica em Housefield units outra vez\n",
    "\n",
    "plt.pcolormesh(image, cmap='Greys_r')\n",
    "plt.colorbar(label='HU')\n",
    "plt.axis('off')\n",
    "plt.show()"
   ]
  },
  {
   "cell_type": "markdown",
   "id": "c50e0fe0",
   "metadata": {},
   "source": [
    "# 1.1. Pylidc"
   ]
  },
  {
   "cell_type": "code",
   "execution_count": null,
   "id": "570c063c",
   "metadata": {},
   "outputs": [],
   "source": [
    "scans = pl.query(pl.Scan).all()\n",
    "print(scans[0])\n",
    "print(len(scans))"
   ]
  },
  {
   "cell_type": "code",
   "execution_count": null,
   "id": "b8f0aec7-6284-4815-95e8-1ba407282a6d",
   "metadata": {},
   "outputs": [],
   "source": [
    "print(scans[0].patient_id,\n",
    "      scans[0].pixel_spacing,\n",
    "      scans[0].slice_thickness,\n",
    "      scans[0].slice_spacing)"
   ]
  },
  {
   "cell_type": "code",
   "execution_count": null,
   "id": "2e943169-68ca-42b0-8fed-7212ce455e6d",
   "metadata": {},
   "outputs": [],
   "source": [
    "print(len(scans[0].annotations))"
   ]
  },
  {
   "cell_type": "code",
   "execution_count": null,
   "id": "5009edb4",
   "metadata": {},
   "outputs": [],
   "source": [
    "scans[0].annotations"
   ]
  },
  {
   "cell_type": "code",
   "execution_count": null,
   "id": "02fe9926-7df7-44de-a8bd-bef056307cfe",
   "metadata": {},
   "outputs": [],
   "source": [
    "nods = scans[0].cluster_annotations()\n",
    "\n",
    "print(\"%s has %d nodules.\" % (scans[0], len(nods)))\n",
    "\n",
    "for i,nod in enumerate(nods):\n",
    "    print(\"Nodule %d has %d annotations.\" % (i+1, len(nods[i])))"
   ]
  },
  {
   "cell_type": "code",
   "execution_count": null,
   "id": "3b81161f",
   "metadata": {},
   "outputs": [],
   "source": [
    "ann = pl.query(pl.Annotation).first()\n",
    "ann.visualize_in_scan()"
   ]
  },
  {
   "cell_type": "code",
   "execution_count": null,
   "id": "873c0721-93e9-42c2-a220-801978d2cd8f",
   "metadata": {},
   "outputs": [],
   "source": [
    "ann.visualize_in_3d(edgecolor='green', cmap='autumn')"
   ]
  },
  {
   "cell_type": "code",
   "execution_count": null,
   "id": "589a6d3b-77ee-4e99-8877-022aab473cf8",
   "metadata": {},
   "outputs": [],
   "source": [
    "scans[0].visualize(annotation_groups=nods)"
   ]
  },
  {
   "cell_type": "code",
   "execution_count": null,
   "id": "2f67e759",
   "metadata": {},
   "outputs": [],
   "source": [
    "ann.print_formatted_feature_table()"
   ]
  },
  {
   "cell_type": "code",
   "execution_count": null,
   "id": "90779969",
   "metadata": {},
   "outputs": [],
   "source": [
    "ann.feature_vals(return_str=False)"
   ]
  },
  {
   "cell_type": "code",
   "execution_count": null,
   "id": "2f3a1fca-17a6-475b-9888-4b69007cbba7",
   "metadata": {},
   "outputs": [],
   "source": [
    "len(ann.feature_vals(return_str=False))"
   ]
  },
  {
   "cell_type": "code",
   "execution_count": null,
   "id": "1f7274f4",
   "metadata": {},
   "outputs": [],
   "source": [
    "print(\"%.2f, %.2f, %.2f\" % (ann.diameter,ann.surface_area,ann.volume))"
   ]
  },
  {
   "cell_type": "code",
   "execution_count": null,
   "id": "05546300-cafa-4b5b-90d1-008bd418b7e8",
   "metadata": {},
   "outputs": [],
   "source": [
    "# Centróide\n",
    "i,j,k = ann.centroid\n",
    "\n",
    "vol = ann.scan.to_volume()\n",
    "\n",
    "plt.imshow(vol[:,:,int(k)], cmap=plt.cm.gray)\n",
    "plt.plot(j, i, '.r', label=\"Nodule centroid\")\n",
    "plt.legend()\n",
    "plt.show()"
   ]
  },
  {
   "cell_type": "code",
   "execution_count": null,
   "id": "c4a5e6e8-9d8d-4d51-9eb3-1d53bae4dcb4",
   "metadata": {},
   "outputs": [],
   "source": [
    "# uniform_cubic_resample\n",
    "# resampled volumes will have uniform side length of 70mm and\n",
    "# uniform voxel spacing of 1mm.\n",
    "n = 70\n",
    "vol,mask = ann.uniform_cubic_resample(n)\n",
    "\n",
    "# Setup the plot.\n",
    "img = plt.imshow(np.zeros((n+1, n+1)),\n",
    "                 vmin=vol.min(), vmax=vol.max(),\n",
    "                 cmap=plt.cm.gray)\n",
    "\n",
    "\n",
    "# View all the resampled image volume slices.\n",
    "for i in range(n+1):\n",
    "    img.set_data(vol[:,:,i] * (mask[:,:,i]*0.6+0.2))\n",
    "\n",
    "    plt.title(\"%02d / %02d\" % (i+1, n))\n",
    "    plt.pause(0.1)\n"
   ]
  },
  {
   "cell_type": "code",
   "execution_count": null,
   "id": "4d487fc0-627e-4ec8-b435-079c4de9164f",
   "metadata": {},
   "outputs": [],
   "source": [
    "#Plotting a contour on top of the image volume\n",
    "vol = ann.scan.to_volume()\n",
    "con = ann.contours[3]\n",
    "\n",
    "k = con.image_k_position\n",
    "ii,jj = ann.contours[3].to_matrix(include_k=False).T\n",
    "\n",
    "plt.imshow(vol[:,:,46], cmap=plt.cm.gray)\n",
    "plt.plot(jj, ii, '-r', lw=1, label=\"Nodule Boundary\")\n",
    "plt.legend()\n",
    "plt.show()"
   ]
  },
  {
   "cell_type": "code",
   "execution_count": null,
   "id": "0f0afe2c-055c-4576-97ee-a568b5b9da2a",
   "metadata": {},
   "outputs": [],
   "source": [
    "vol = ann.scan.to_volume()\n",
    "\n",
    "padding = 70.0\n",
    "\n",
    "mask = ann.boolean_mask(pad=padding)\n",
    "bbox = ann.bbox(pad=padding)\n",
    "\n",
    "volume_viewer(vol[bbox], mask, ls='-', lw=2, c='r')"
   ]
  },
  {
   "cell_type": "markdown",
   "id": "1e5bdeea-5e73-434f-aa6d-2ea87dcc1dd2",
   "metadata": {},
   "source": [
    "# 2. Extrair Features"
   ]
  },
  {
   "cell_type": "markdown",
   "id": "766e98d5-18e7-41c3-a177-85be544f20c4",
   "metadata": {},
   "source": [
    "## 2.1. Testes"
   ]
  },
  {
   "cell_type": "code",
   "execution_count": null,
   "id": "b8d06002-d60b-4ed0-9dd5-b27bb3f0570b",
   "metadata": {},
   "outputs": [],
   "source": [
    "anns = pl.query(pl.Annotation)"
   ]
  },
  {
   "cell_type": "code",
   "execution_count": null,
   "id": "8c414ab8-2c5b-4e03-b7de-01aaf5932c65",
   "metadata": {},
   "outputs": [],
   "source": [
    "a1= anns[0]\n",
    "a1"
   ]
  },
  {
   "cell_type": "code",
   "execution_count": null,
   "id": "9923d4ee-2b97-4fc8-bee0-b76288f091b5",
   "metadata": {},
   "outputs": [],
   "source": [
    "#Extrair \n",
    "print(a1.scan.patient_id)\n",
    "print(a1._nodule_id)\n",
    "# Extrair o id da anotação:\n",
    "print(a1.id)\n",
    "# Extrair o id do scan da anotação\n",
    "print(a1.scan_id)"
   ]
  },
  {
   "cell_type": "code",
   "execution_count": null,
   "id": "979be5af-a8f4-4ca3-9348-af80a0f600cc",
   "metadata": {
    "scrolled": true
   },
   "outputs": [],
   "source": [
    "a1.print_formatted_feature_table()"
   ]
  },
  {
   "cell_type": "code",
   "execution_count": null,
   "id": "86a7e755-3ed4-4be7-9017-5190d4c42e0a",
   "metadata": {},
   "outputs": [],
   "source": [
    "print(a1.subtlety)\n",
    "print(a1.internalStructure)\n",
    "print(a1.spiculation)\n",
    "print(a1.calcification)\n",
    "#etc"
   ]
  },
  {
   "cell_type": "code",
   "execution_count": null,
   "id": "f46b604f-5b7f-4f65-9bd7-70e686b2fc37",
   "metadata": {},
   "outputs": [],
   "source": [
    "print(\"%.2f, %.2f, %.2f\" % (a1.diameter,\n",
    "                            a1.surface_area,\n",
    "                            a1.volume))"
   ]
  },
  {
   "cell_type": "code",
   "execution_count": null,
   "id": "7409f494-adec-45f9-ac99-2a5d4e8c78bf",
   "metadata": {},
   "outputs": [],
   "source": [
    "print(a1.diameter)\n",
    "print(a1.surface_area)\n",
    "print(a1.volume)"
   ]
  },
  {
   "cell_type": "markdown",
   "id": "463f1a93-60c0-44d8-9aad-e9c2d51d1449",
   "metadata": {},
   "source": [
    "## 2.2. Criar um Dataframe"
   ]
  },
  {
   "cell_type": "markdown",
   "id": "b2d239dd-363d-4681-becf-6efca8c4befa",
   "metadata": {},
   "source": [
    "## Testes:"
   ]
  },
  {
   "cell_type": "code",
   "execution_count": null,
   "id": "82d89520-7a09-4040-b9d8-03865388c6e3",
   "metadata": {},
   "outputs": [],
   "source": [
    "df = pd.DataFrame(columns=['Id_Annotation','Id_Scan','Subtlety', 'Internalstructure', 'Calcification','Sphericity','Margin','Lobulation',\n",
    "                           'Spiculation','Texture','Malignancy'])"
   ]
  },
  {
   "cell_type": "code",
   "execution_count": null,
   "id": "7f9fc524-4720-4bdf-84df-ff12a74223ed",
   "metadata": {},
   "outputs": [],
   "source": [
    "df.columns"
   ]
  },
  {
   "cell_type": "code",
   "execution_count": null,
   "id": "ff961d4c-bef4-4a0e-b7ac-401eeb693cd3",
   "metadata": {},
   "outputs": [],
   "source": [
    "df"
   ]
  },
  {
   "cell_type": "code",
   "execution_count": null,
   "id": "fe456a1d-a2ad-4765-9ce7-70cd6a565384",
   "metadata": {},
   "outputs": [],
   "source": [
    "ann = a1\n",
    "row = [ann.id, ann.scan_id ,ann.subtlety,ann.internalStructure,ann.calcification,ann.sphericity,ann.margin,ann.lobulation,\n",
    "           ann.spiculation,ann.texture,ann.malignancy]\n",
    "type(row[0])"
   ]
  },
  {
   "cell_type": "code",
   "execution_count": null,
   "id": "ecdabf02-a236-4480-9cd2-f90fd147b255",
   "metadata": {},
   "outputs": [],
   "source": [
    "df.loc[0] = row\n",
    "df"
   ]
  },
  {
   "cell_type": "code",
   "execution_count": null,
   "id": "3c957c47-a52c-4e01-9a49-c26fb5d54500",
   "metadata": {
    "scrolled": true
   },
   "outputs": [],
   "source": [
    "type(df.loc[0, 'Id_Scan'])"
   ]
  },
  {
   "cell_type": "markdown",
   "id": "9cd6b33f-908a-4743-bc0e-0d58d3ffb2d3",
   "metadata": {},
   "source": [
    "-------------------------------------------------------"
   ]
  },
  {
   "cell_type": "code",
   "execution_count": null,
   "id": "3823033e-83b9-4826-b7aa-201108223024",
   "metadata": {},
   "outputs": [],
   "source": [
    "df"
   ]
  },
  {
   "cell_type": "markdown",
   "id": "84073c85-b186-4667-af3f-f4a23b4b0a86",
   "metadata": {},
   "source": [
    "## Funções:"
   ]
  },
  {
   "cell_type": "markdown",
   "id": "bfb1b917-b9a0-4000-97ba-a5b94b39db56",
   "metadata": {},
   "source": [
    "##### Função que recebe uma anotação e transforma numa row para o dataframe:"
   ]
  },
  {
   "cell_type": "code",
   "execution_count": null,
   "id": "a17655e6-a67c-4ead-921d-aaf53a70df3e",
   "metadata": {},
   "outputs": [],
   "source": [
    "def ann_row(ann):\n",
    "    ids = np.array([ann.scan.patient_id, ann._nodule_id, ann.id, ann.scan_id], dtype = '<U14')\n",
    "    features = ann.feature_vals()\n",
    "    return(ids, features)    "
   ]
  },
  {
   "cell_type": "markdown",
   "id": "0aed33a5-ff88-4415-8997-6662a7ec9471",
   "metadata": {},
   "source": [
    "##### Função que recebe uma lista de anotações e cria um dataframe"
   ]
  },
  {
   "cell_type": "code",
   "execution_count": null,
   "id": "325ec3c7-cf95-49d3-8374-2358911cc0bd",
   "metadata": {},
   "outputs": [],
   "source": [
    "def anns_df(anotacoes):\n",
    "    \n",
    "    #Garantir que estamos a trabalhar com uma lista\n",
    "    if  not isinstance(anotacoes, list):\n",
    "        anotacoes = [anotacoes]\n",
    "    \n",
    "    #Criar 2 dataframes, uma para os ids e outro para as features:\n",
    "    df_id = pd.DataFrame(columns = [\"Patient_id\", \"Nodule_id\", \"Annotation_id\", \"Scan_id\"])\n",
    "    df_feat = pd.DataFrame(columns=['Subtlety', 'Internalstructure', 'Calcification','Sphericity','Margin','Lobulation',\n",
    "                           'Spiculation','Texture','Malignancy'])\n",
    "    \n",
    "    for i, ann in enumerate(anotacoes):\n",
    "        array_id, array_feat = ann_row(ann)\n",
    "        df_id.loc[i] = array_id\n",
    "        df_feat.loc[i] = array_feat\n",
    "\n",
    "    df = pd.concat([df_id, df_feat], axis = 1)\n",
    "    return(df)     "
   ]
  },
  {
   "cell_type": "code",
   "execution_count": null,
   "id": "d8e1bebb-8f1a-48e9-8105-5d4431fecebe",
   "metadata": {},
   "outputs": [],
   "source": [
    "annotations = pl.query(pl.Annotation).all()\n",
    "len(annotations)\n",
    "anotacoes = annotations[:200]\n",
    "data = anns_df(anotacoes)\n",
    "data"
   ]
  },
  {
   "cell_type": "code",
   "execution_count": null,
   "id": "66bce914",
   "metadata": {},
   "outputs": [],
   "source": []
  },
  {
   "cell_type": "code",
   "execution_count": null,
   "id": "e7edeeab",
   "metadata": {},
   "outputs": [],
   "source": []
  }
 ],
 "metadata": {
  "kernelspec": {
   "display_name": "Python 3 (ipykernel)",
   "language": "python",
   "name": "python3"
  },
  "language_info": {
   "codemirror_mode": {
    "name": "ipython",
    "version": 3
   },
   "file_extension": ".py",
   "mimetype": "text/x-python",
   "name": "python",
   "nbconvert_exporter": "python",
   "pygments_lexer": "ipython3",
   "version": "3.11.5"
  }
 },
 "nbformat": 4,
 "nbformat_minor": 5
}
