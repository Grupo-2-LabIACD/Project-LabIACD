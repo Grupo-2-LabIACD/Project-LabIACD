{
 "cells": [
  {
   "cell_type": "markdown",
   "id": "92ca2f94-a462-44ba-9905-24efb95d214b",
   "metadata": {},
   "source": [
    "# Random Forest Classifier "
   ]
  },
  {
   "cell_type": "markdown",
   "id": "4805d4d8-4bd6-4a38-b200-e4b5d6fbd9ca",
   "metadata": {},
   "source": [
    "Random Forest Classifier Steps: <br>\n",
    "- Load Main Dataset <br>\n",
    "- Split in Dataset for training and testing <br>\n",
    "- Build Bootstrapped Dataset <br>\n",
    "- Train Decision Trees on those datasets using diferent groups of features<br>\n",
    "- Get Test Data and for each entry on the table make it go through all the trees and take note of the results<br>\n",
    "- Agregate all the results from the different trees and choose the best value thorugh majority voting<br>\n",
    "            \n"
   ]
  },
  {
   "cell_type": "markdown",
   "id": "1d3dcfe7-5271-41cb-8f14-6ab0d2a56e6f",
   "metadata": {},
   "source": [
    "## Library imports"
   ]
  },
  {
   "cell_type": "code",
   "execution_count": 1,
   "id": "2286cdaa-f4d2-40fd-828d-8a5433ad8e57",
   "metadata": {},
   "outputs": [],
   "source": [
    "import pandas as pd\n",
    "import numpy as np\n",
    "import math\n",
    "import os\n",
    "from sklearn.ensemble import RandomForestClassifier, RandomForestRegressor\n",
    "from sklearn.metrics import accuracy_score, confusion_matrix, precision_score, recall_score, ConfusionMatrixDisplay, explained_variance_score\n",
    "from sklearn.model_selection import RandomizedSearchCV, train_test_split\n",
    "from scipy.stats import randint\n",
    "from matplotlib import pyplot \n",
    "\n",
    "from sklearn.tree import export_graphviz\n",
    "from IPython.display import Image\n",
    "import graphviz\n",
    "\n",
    "\n",
    "#mainpath=\"C:\\\\Users\\\\alexa\\\\Desktop\\\\github\\\\Project-LabIACD\\\\metadata.csv\"\n",
    "pylidcpath=\"C:\\\\Users\\\\alexa\\\\Desktop\\\\Tudo\\\\Aulas\\\\LABS\\\\Project-LabIACD\\\\csv\\\\pylidc_grouped.csv\"\n",
    "pyradiomicsPath=\"C:\\\\Users\\\\alexa\\\\Desktop\\\\Tudo\\\\Aulas\\\\LABS\\\\Project-LabIACD\\\\csv\\\\Dataset_cleared.csv\""
   ]
  },
  {
   "cell_type": "markdown",
   "id": "baf162a7",
   "metadata": {},
   "source": [
    "## Load Pylidc Dataset"
   ]
  },
  {
   "cell_type": "code",
   "execution_count": 63,
   "id": "ec7b0585",
   "metadata": {},
   "outputs": [
    {
     "data": {
      "text/html": [
       "<div>\n",
       "<style scoped>\n",
       "    .dataframe tbody tr th:only-of-type {\n",
       "        vertical-align: middle;\n",
       "    }\n",
       "\n",
       "    .dataframe tbody tr th {\n",
       "        vertical-align: top;\n",
       "    }\n",
       "\n",
       "    .dataframe thead th {\n",
       "        text-align: right;\n",
       "    }\n",
       "</style>\n",
       "<table border=\"1\" class=\"dataframe\">\n",
       "  <thead>\n",
       "    <tr style=\"text-align: right;\">\n",
       "      <th></th>\n",
       "      <th>Subtlety</th>\n",
       "      <th>Internalstructure</th>\n",
       "      <th>Calcification</th>\n",
       "      <th>Sphericity</th>\n",
       "      <th>Margin</th>\n",
       "      <th>Lobulation</th>\n",
       "      <th>Spiculation</th>\n",
       "      <th>Texture</th>\n",
       "      <th>Malignancy</th>\n",
       "      <th>Malignancy_round</th>\n",
       "    </tr>\n",
       "  </thead>\n",
       "  <tbody>\n",
       "    <tr>\n",
       "      <th>2646</th>\n",
       "      <td>4.333333</td>\n",
       "      <td>1.0</td>\n",
       "      <td>6.0</td>\n",
       "      <td>3.666667</td>\n",
       "      <td>2.333333</td>\n",
       "      <td>2.333333</td>\n",
       "      <td>3.0</td>\n",
       "      <td>3.333333</td>\n",
       "      <td>4.0</td>\n",
       "      <td>4</td>\n",
       "    </tr>\n",
       "    <tr>\n",
       "      <th>2647</th>\n",
       "      <td>2.500000</td>\n",
       "      <td>1.0</td>\n",
       "      <td>6.0</td>\n",
       "      <td>4.500000</td>\n",
       "      <td>2.000000</td>\n",
       "      <td>1.000000</td>\n",
       "      <td>1.5</td>\n",
       "      <td>1.000000</td>\n",
       "      <td>3.5</td>\n",
       "      <td>4</td>\n",
       "    </tr>\n",
       "    <tr>\n",
       "      <th>2648</th>\n",
       "      <td>3.000000</td>\n",
       "      <td>1.0</td>\n",
       "      <td>6.0</td>\n",
       "      <td>3.500000</td>\n",
       "      <td>3.500000</td>\n",
       "      <td>1.500000</td>\n",
       "      <td>1.0</td>\n",
       "      <td>5.000000</td>\n",
       "      <td>3.5</td>\n",
       "      <td>4</td>\n",
       "    </tr>\n",
       "    <tr>\n",
       "      <th>2649</th>\n",
       "      <td>5.000000</td>\n",
       "      <td>1.0</td>\n",
       "      <td>6.0</td>\n",
       "      <td>4.000000</td>\n",
       "      <td>5.000000</td>\n",
       "      <td>1.000000</td>\n",
       "      <td>1.0</td>\n",
       "      <td>5.000000</td>\n",
       "      <td>2.0</td>\n",
       "      <td>2</td>\n",
       "    </tr>\n",
       "    <tr>\n",
       "      <th>2650</th>\n",
       "      <td>5.000000</td>\n",
       "      <td>1.0</td>\n",
       "      <td>4.0</td>\n",
       "      <td>5.000000</td>\n",
       "      <td>5.000000</td>\n",
       "      <td>3.000000</td>\n",
       "      <td>3.0</td>\n",
       "      <td>5.000000</td>\n",
       "      <td>2.5</td>\n",
       "      <td>3</td>\n",
       "    </tr>\n",
       "  </tbody>\n",
       "</table>\n",
       "</div>"
      ],
      "text/plain": [
       "      Subtlety  Internalstructure  Calcification  Sphericity    Margin  \\\n",
       "2646  4.333333                1.0            6.0    3.666667  2.333333   \n",
       "2647  2.500000                1.0            6.0    4.500000  2.000000   \n",
       "2648  3.000000                1.0            6.0    3.500000  3.500000   \n",
       "2649  5.000000                1.0            6.0    4.000000  5.000000   \n",
       "2650  5.000000                1.0            4.0    5.000000  5.000000   \n",
       "\n",
       "      Lobulation  Spiculation   Texture  Malignancy  Malignancy_round  \n",
       "2646    2.333333          3.0  3.333333         4.0                 4  \n",
       "2647    1.000000          1.5  1.000000         3.5                 4  \n",
       "2648    1.500000          1.0  5.000000         3.5                 4  \n",
       "2649    1.000000          1.0  5.000000         2.0                 2  \n",
       "2650    3.000000          3.0  5.000000         2.5                 3  "
      ]
     },
     "execution_count": 63,
     "metadata": {},
     "output_type": "execute_result"
    }
   ],
   "source": [
    "main_dataset=pd.read_csv(pylidcpath)\n",
    "main_dataset.tail()\n"
   ]
  },
  {
   "cell_type": "markdown",
   "id": "afc0dbe3",
   "metadata": {},
   "source": [
    "## Spliting Training and Testing Datasets"
   ]
  },
  {
   "cell_type": "markdown",
   "id": "0e310b83",
   "metadata": {},
   "source": [
    "We are firstly going to make the data division based on Pareto´s Law (80% training/20% testing) <br>"
   ]
  },
  {
   "cell_type": "code",
   "execution_count": 64,
   "id": "121d8f12",
   "metadata": {},
   "outputs": [],
   "source": [
    "collumn_name='Malignancy_round'\n",
    "features_collumns=main_dataset.drop(collumn_name,axis=1)\n",
    "features_collumns=features_collumns.drop('Malignancy',axis=1)\n",
    "has_cancer_collumns=main_dataset[collumn_name]\n",
    "\n",
    "features_treino, features_teste, has_cancer_treino, has_cancer_teste=train_test_split(features_collumns,has_cancer_collumns, test_size=0.2)\n",
    "#has_cancer_collumns\n",
    "#features_collumns"
   ]
  },
  {
   "cell_type": "markdown",
   "id": "afda639b",
   "metadata": {},
   "source": [
    "## Random Forest Classifier Pylidc"
   ]
  },
  {
   "cell_type": "markdown",
   "id": "d7abb0fb",
   "metadata": {},
   "source": [
    "Although we say in the index that we have to build the Bootstrapped Dataset the sklearn random forest classifier has the ability to do that for us alowing us to skip a step<br>\n",
    "<br>\n",
    "In this chapter we´ll have some sub-chapters so that we can play around with the random Forest Classifier to try and get the best possible model\n"
   ]
  },
  {
   "cell_type": "markdown",
   "id": "bc7a1df0",
   "metadata": {},
   "source": [
    "### Default Random Forest"
   ]
  },
  {
   "cell_type": "markdown",
   "id": "570b76a5",
   "metadata": {},
   "source": [
    "#### DataFitting"
   ]
  },
  {
   "cell_type": "code",
   "execution_count": 4,
   "id": "88ef9789",
   "metadata": {},
   "outputs": [
    {
     "data": {
      "text/html": [
       "<style>#sk-container-id-1 {color: black;}#sk-container-id-1 pre{padding: 0;}#sk-container-id-1 div.sk-toggleable {background-color: white;}#sk-container-id-1 label.sk-toggleable__label {cursor: pointer;display: block;width: 100%;margin-bottom: 0;padding: 0.3em;box-sizing: border-box;text-align: center;}#sk-container-id-1 label.sk-toggleable__label-arrow:before {content: \"▸\";float: left;margin-right: 0.25em;color: #696969;}#sk-container-id-1 label.sk-toggleable__label-arrow:hover:before {color: black;}#sk-container-id-1 div.sk-estimator:hover label.sk-toggleable__label-arrow:before {color: black;}#sk-container-id-1 div.sk-toggleable__content {max-height: 0;max-width: 0;overflow: hidden;text-align: left;background-color: #f0f8ff;}#sk-container-id-1 div.sk-toggleable__content pre {margin: 0.2em;color: black;border-radius: 0.25em;background-color: #f0f8ff;}#sk-container-id-1 input.sk-toggleable__control:checked~div.sk-toggleable__content {max-height: 200px;max-width: 100%;overflow: auto;}#sk-container-id-1 input.sk-toggleable__control:checked~label.sk-toggleable__label-arrow:before {content: \"▾\";}#sk-container-id-1 div.sk-estimator input.sk-toggleable__control:checked~label.sk-toggleable__label {background-color: #d4ebff;}#sk-container-id-1 div.sk-label input.sk-toggleable__control:checked~label.sk-toggleable__label {background-color: #d4ebff;}#sk-container-id-1 input.sk-hidden--visually {border: 0;clip: rect(1px 1px 1px 1px);clip: rect(1px, 1px, 1px, 1px);height: 1px;margin: -1px;overflow: hidden;padding: 0;position: absolute;width: 1px;}#sk-container-id-1 div.sk-estimator {font-family: monospace;background-color: #f0f8ff;border: 1px dotted black;border-radius: 0.25em;box-sizing: border-box;margin-bottom: 0.5em;}#sk-container-id-1 div.sk-estimator:hover {background-color: #d4ebff;}#sk-container-id-1 div.sk-parallel-item::after {content: \"\";width: 100%;border-bottom: 1px solid gray;flex-grow: 1;}#sk-container-id-1 div.sk-label:hover label.sk-toggleable__label {background-color: #d4ebff;}#sk-container-id-1 div.sk-serial::before {content: \"\";position: absolute;border-left: 1px solid gray;box-sizing: border-box;top: 0;bottom: 0;left: 50%;z-index: 0;}#sk-container-id-1 div.sk-serial {display: flex;flex-direction: column;align-items: center;background-color: white;padding-right: 0.2em;padding-left: 0.2em;position: relative;}#sk-container-id-1 div.sk-item {position: relative;z-index: 1;}#sk-container-id-1 div.sk-parallel {display: flex;align-items: stretch;justify-content: center;background-color: white;position: relative;}#sk-container-id-1 div.sk-item::before, #sk-container-id-1 div.sk-parallel-item::before {content: \"\";position: absolute;border-left: 1px solid gray;box-sizing: border-box;top: 0;bottom: 0;left: 50%;z-index: -1;}#sk-container-id-1 div.sk-parallel-item {display: flex;flex-direction: column;z-index: 1;position: relative;background-color: white;}#sk-container-id-1 div.sk-parallel-item:first-child::after {align-self: flex-end;width: 50%;}#sk-container-id-1 div.sk-parallel-item:last-child::after {align-self: flex-start;width: 50%;}#sk-container-id-1 div.sk-parallel-item:only-child::after {width: 0;}#sk-container-id-1 div.sk-dashed-wrapped {border: 1px dashed gray;margin: 0 0.4em 0.5em 0.4em;box-sizing: border-box;padding-bottom: 0.4em;background-color: white;}#sk-container-id-1 div.sk-label label {font-family: monospace;font-weight: bold;display: inline-block;line-height: 1.2em;}#sk-container-id-1 div.sk-label-container {text-align: center;}#sk-container-id-1 div.sk-container {/* jupyter's `normalize.less` sets `[hidden] { display: none; }` but bootstrap.min.css set `[hidden] { display: none !important; }` so we also need the `!important` here to be able to override the default hidden behavior on the sphinx rendered scikit-learn.org. See: https://github.com/scikit-learn/scikit-learn/issues/21755 */display: inline-block !important;position: relative;}#sk-container-id-1 div.sk-text-repr-fallback {display: none;}</style><div id=\"sk-container-id-1\" class=\"sk-top-container\"><div class=\"sk-text-repr-fallback\"><pre>RandomForestClassifier()</pre><b>In a Jupyter environment, please rerun this cell to show the HTML representation or trust the notebook. <br />On GitHub, the HTML representation is unable to render, please try loading this page with nbviewer.org.</b></div><div class=\"sk-container\" hidden><div class=\"sk-item\"><div class=\"sk-estimator sk-toggleable\"><input class=\"sk-toggleable__control sk-hidden--visually\" id=\"sk-estimator-id-1\" type=\"checkbox\" checked><label for=\"sk-estimator-id-1\" class=\"sk-toggleable__label sk-toggleable__label-arrow\">RandomForestClassifier</label><div class=\"sk-toggleable__content\"><pre>RandomForestClassifier()</pre></div></div></div></div></div>"
      ],
      "text/plain": [
       "RandomForestClassifier()"
      ]
     },
     "execution_count": 4,
     "metadata": {},
     "output_type": "execute_result"
    }
   ],
   "source": [
    "RandomForest = RandomForestClassifier()\n",
    "RandomForest.fit(features_treino,has_cancer_treino)"
   ]
  },
  {
   "cell_type": "markdown",
   "id": "8f14e64c",
   "metadata": {},
   "source": [
    "#### Model Evaluation"
   ]
  },
  {
   "cell_type": "markdown",
   "id": "9bdce928",
   "metadata": {},
   "source": [
    "##### Prediction Part"
   ]
  },
  {
   "cell_type": "code",
   "execution_count": 5,
   "id": "6c1f2f34",
   "metadata": {},
   "outputs": [],
   "source": [
    "has_cancer_prediction=RandomForest.predict(features_teste)"
   ]
  },
  {
   "cell_type": "markdown",
   "id": "20d6bd6b",
   "metadata": {},
   "source": [
    "##### Accuracy Part"
   ]
  },
  {
   "cell_type": "code",
   "execution_count": 6,
   "id": "c89972a7",
   "metadata": {},
   "outputs": [
    {
     "name": "stdout",
     "output_type": "stream",
     "text": [
      "Accuracy = 0.6064030131826742 in a percentage of 100 = 60.64030131826742\n"
     ]
    }
   ],
   "source": [
    "#accuracy= explained_variance_score(has_cancer_teste, has_cancer_prediction)\n",
    "accuracy = accuracy_score(has_cancer_teste, has_cancer_prediction)\n",
    "print(f\"Accuracy = {accuracy} in a percentage of 100 = {accuracy*100}\")"
   ]
  },
  {
   "cell_type": "markdown",
   "id": "60572ec6",
   "metadata": {},
   "source": [
    "### Model Tuning"
   ]
  },
  {
   "cell_type": "markdown",
   "id": "7ffb0781",
   "metadata": {},
   "source": [
    "Now let's see if by changing the parameters we can get a better solution<br>\n",
    "<br>\n",
    "With sklearn we have some comands that help us with this such as RandomizedSearchCV, but let´s first talk about the parameters we'll be messing with:<br>\n",
    "- n_estimators: Represents the amount of Decision Trees in our Forest, we'll try to change the value in increments of 20 to try and find an \"optimal\" value between [50,400]<br>\n",
    "- criterion: criterion in the trees we'll be testing gini vs entropy<br>\n",
    "- max_features: the number of features that each tree will have, according to some studies the best values should be around $\\sqrt{TotalFeatures}$ or log<sub>2</sub>(TotalFeatures)<br>\n",
    "- min_samples_split: that represents the minimum samples to split a node<br>\n",
    "- max_depth: in changing this value we can optimize our model and reduce the risk of overfitting\n",
    "\n",
    "<br>\n"
   ]
  },
  {
   "cell_type": "markdown",
   "id": "65f6f02b",
   "metadata": {},
   "source": [
    "#### Stackable Improvements Assumption"
   ]
  },
  {
   "cell_type": "markdown",
   "id": "50754539",
   "metadata": {},
   "source": [
    "Note that this is only one proposal of a potential model for this problem where we are going to make some assumptions in order to find if those a are true.\n",
    "<br>\n",
    "The first of those is that we'll make the superficial and perhaps stupid assumption that if a parameter improves the accuracy when adjusted by himself that, the improvement is going to stack with the improvement that we get from tuning other parameter by themselfs.<br>\n",
    "<br>\n",
    "By the end we'll see if this assumption holds or not"
   ]
  },
  {
   "cell_type": "markdown",
   "id": "3c990f71",
   "metadata": {},
   "source": [
    "##### Finding the best Tree number"
   ]
  },
  {
   "cell_type": "markdown",
   "id": "dd900104",
   "metadata": {},
   "source": [
    "- For this we'll test the tree numbers in increments of 10 <br>\n",
    "- Our accuracy score for each number of trees will be given by an average of 5 tests <br>\n",
    "- After this we'll save the best value<br>"
   ]
  },
  {
   "cell_type": "code",
   "execution_count": 7,
   "id": "1f2a7445",
   "metadata": {},
   "outputs": [
    {
     "data": {
      "image/png": "[encoded data removed]",
      "text/plain": [
       "<Figure size 640x480 with 1 Axes>"
      ]
     },
     "metadata": {},
     "output_type": "display_data"
    },
    {
     "name": "stdout",
     "output_type": "stream",
     "text": [
      "Best tree value=110 accuracy = 0.6188323917137476\n"
     ]
    }
   ],
   "source": [
    "a=50\n",
    "b=400\n",
    "values=[]\n",
    "treenumber=[]\n",
    "for i in range (a,b,10):\n",
    "    average_accuracy=0\n",
    "\n",
    "    for k in range (5):\n",
    "        RandomForesttree = RandomForestClassifier(n_estimators=i, n_jobs=(-1))\n",
    "        RandomForesttree.fit(features_treino,has_cancer_treino)\n",
    "        has_cancer_predictiontree=RandomForesttree.predict(features_teste)\n",
    "        accuracy = accuracy_score(has_cancer_teste, has_cancer_predictiontree)\n",
    "        average_accuracy+=accuracy\n",
    "    values.append(average_accuracy/5)\n",
    "    treenumber.append(i)\n",
    "\n",
    "pyplot.plot(treenumber,values )\n",
    "pyplot.xlabel('trees')\n",
    "pyplot.ylabel('accuracy') \n",
    "pyplot.title('Correlation between trees and Accuracy')\n",
    "pyplot.show() \n",
    "\n",
    "values=np.array(values)\n",
    "index=np.where(values==np.max(values))\n",
    "besttree=treenumber[index[0][0]]\n",
    "print(f\"Best tree value={besttree} accuracy = {np.max(values)}\")"
   ]
  },
  {
   "cell_type": "markdown",
   "id": "9d060ef0",
   "metadata": {},
   "source": [
    "##### Finding the best criterion"
   ]
  },
  {
   "cell_type": "markdown",
   "id": "ce681425",
   "metadata": {},
   "source": [
    "We'll test three criterion:<br>\n",
    "- Gini<br>\n",
    "- Entropy<br>\n",
    "- Log Loss"
   ]
  },
  {
   "cell_type": "code",
   "execution_count": 8,
   "id": "47d16586",
   "metadata": {},
   "outputs": [],
   "source": [
    "accuracy_gini=0\n",
    "accuracy_entropy=0\n",
    "accuracy_logloss=0\n",
    "for i in range (5):\n",
    "    RandomForestGini = RandomForestClassifier(criterion=\"gini\", n_jobs=(-1))\n",
    "    RandomForestGini.fit(features_treino,has_cancer_treino)\n",
    "    has_cancer_predictionGini=RandomForestGini.predict(features_teste)\n",
    "    accuracy_gini_iter = accuracy_score(has_cancer_teste, has_cancer_predictionGini)\n",
    "    accuracy_gini+=accuracy_gini_iter\n",
    "\n",
    "    RandomForestEntropy = RandomForestClassifier(criterion=\"entropy\", n_jobs=(-1))\n",
    "    RandomForestEntropy.fit(features_treino,has_cancer_treino)\n",
    "    has_cancer_predictionEntropy=RandomForestEntropy.predict(features_teste)\n",
    "    accuracy_entropy_iter = accuracy_score(has_cancer_teste, has_cancer_predictionEntropy)\n",
    "    accuracy_entropy+=accuracy_entropy_iter\n",
    "\n",
    "    RandomForestlogloss = RandomForestClassifier(criterion=\"log_loss\", n_jobs=(-1))\n",
    "    RandomForestlogloss.fit(features_treino,has_cancer_treino)\n",
    "    has_cancer_predictionlogloss=RandomForestlogloss.predict(features_teste)\n",
    "    accuracy_logloss_iter = accuracy_score(has_cancer_teste, has_cancer_predictionlogloss)\n",
    "    accuracy_logloss+=accuracy_logloss_iter\n",
    "\n",
    "accuracy_gini=accuracy_gini/5\n",
    "accuracy_entropy=accuracy_entropy/5\n",
    "accuracy_logloss=accuracy_logloss/5\n",
    "\n",
    "bestcriterionacc=(np.max([accuracy_entropy, accuracy_gini, accuracy_logloss]))\n",
    "if bestcriterionacc==accuracy_gini:\n",
    "    bestcriterionname='gini'\n",
    "if bestcriterionacc==accuracy_entropy:\n",
    "    bestcriterionname='entropy'\n",
    "if bestcriterionacc==accuracy_logloss:\n",
    "    bestcriterionname='log_loss'"
   ]
  },
  {
   "cell_type": "code",
   "execution_count": 9,
   "id": "61c5ecb4",
   "metadata": {},
   "outputs": [
    {
     "name": "stdout",
     "output_type": "stream",
     "text": [
      "Accuracy Gini = 0.6124293785310735 in a percentage of 100 = 61.24293785310735\n",
      "Accuracy Entropy = 0.608286252354049 in a percentage of 100 = 60.8286252354049\n",
      "Accuracy Log Loss = 0.6150659133709981 in a percentage of 100 = 61.50659133709981\n",
      "Best criterion = log_loss with an accuracy of = 0.6150659133709981\n"
     ]
    }
   ],
   "source": [
    "print(f\"Accuracy Gini = {accuracy_gini} in a percentage of 100 = {accuracy_gini*100}\")\n",
    "print(f\"Accuracy Entropy = {accuracy_entropy} in a percentage of 100 = {accuracy_entropy*100}\")\n",
    "print(f\"Accuracy Log Loss = {accuracy_logloss} in a percentage of 100 = {accuracy_logloss*100}\")\n",
    "print(f\"Best criterion = {bestcriterionname} with an accuracy of = {bestcriterionacc}\")"
   ]
  },
  {
   "cell_type": "markdown",
   "id": "3f7f25ea",
   "metadata": {},
   "source": [
    "##### Finding the best minimum samples split"
   ]
  },
  {
   "cell_type": "code",
   "execution_count": 10,
   "id": "62b20462",
   "metadata": {},
   "outputs": [
    {
     "data": {
      "image/png": "[encoded data removed]",
      "text/plain": [
       "<Figure size 640x480 with 1 Axes>"
      ]
     },
     "metadata": {},
     "output_type": "display_data"
    },
    {
     "name": "stdout",
     "output_type": "stream",
     "text": [
      "Best Sample value=33, max accuracy=0.6369114877589455\n"
     ]
    }
   ],
   "source": [
    "lower=2\n",
    "upper=40\n",
    "values=[]\n",
    "samplesnumber=[]\n",
    "for i in range (lower,upper):\n",
    "    average_accuracy=0\n",
    "\n",
    "    for k in range (5):\n",
    "        RandomForestSamples = RandomForestClassifier(min_samples_split=i, n_jobs=(-1))\n",
    "        RandomForestSamples.fit(features_treino,has_cancer_treino)\n",
    "        has_cancer_predictionsamples=RandomForestSamples.predict(features_teste)\n",
    "        accuracy = accuracy_score(has_cancer_teste, has_cancer_predictionsamples)\n",
    "        average_accuracy+=accuracy\n",
    "    values.append(average_accuracy/5)\n",
    "    samplesnumber.append(i)\n",
    "    \n",
    "pyplot.plot(samplesnumber,values )\n",
    "pyplot.xlabel('samples')\n",
    "pyplot.ylabel('accuracy') \n",
    "pyplot.title('Correlation between minimum samples and Accuracy')\n",
    "pyplot.show()\n",
    "\n",
    "\n",
    "values=np.array(values)\n",
    "index=np.where(values==np.max(values))\n",
    "bestsample=samplesnumber[index[0][0]]\n",
    "print(f\"Best Sample value={bestsample}, max accuracy={np.max(values)}\")\n"
   ]
  },
  {
   "cell_type": "markdown",
   "id": "5978c3ab",
   "metadata": {},
   "source": [
    "##### Finding the best Tree deepth"
   ]
  },
  {
   "cell_type": "code",
   "execution_count": 11,
   "id": "3251ec89",
   "metadata": {},
   "outputs": [
    {
     "data": {
      "image/png": "[encoded data removed]",
      "text/plain": [
       "<Figure size 640x480 with 1 Axes>"
      ]
     },
     "metadata": {},
     "output_type": "display_data"
    },
    {
     "name": "stdout",
     "output_type": "stream",
     "text": [
      "Best depth value=7, max accuracy=0.6372881355932203\n"
     ]
    }
   ],
   "source": [
    "lower=2\n",
    "upper=20\n",
    "values=[]\n",
    "depthnumber=[]\n",
    "for i in range (lower,upper):\n",
    "    average_accuracy=0\n",
    "\n",
    "    for k in range (5):\n",
    "        RandomForestdepth = RandomForestClassifier(max_depth=i, n_jobs=(-1))\n",
    "        RandomForestdepth.fit(features_treino,has_cancer_treino)\n",
    "        has_cancer_predictiondepth=RandomForestdepth.predict(features_teste)\n",
    "        accuracy = accuracy_score(has_cancer_teste, has_cancer_predictiondepth)\n",
    "        average_accuracy+=accuracy\n",
    "    values.append(average_accuracy/5)\n",
    "    depthnumber.append(i)\n",
    "\n",
    "\n",
    "\n",
    "pyplot.plot(depthnumber,values )\n",
    "pyplot.xlabel('depth')\n",
    "pyplot.ylabel('accuracy') \n",
    "pyplot.title('Correlation tree depth and Accuracy')\n",
    "pyplot.show()\n",
    "\n",
    "values=np.array(values)\n",
    "index=np.where(values==np.max(values))\n",
    "bestdepthnumber=depthnumber[index[0][0]]\n",
    "print(f\"Best depth value={bestdepthnumber}, max accuracy={np.max(values)}\")"
   ]
  },
  {
   "cell_type": "markdown",
   "id": "4e55cc7e",
   "metadata": {},
   "source": [
    "##### Finding the best Max Features"
   ]
  },
  {
   "cell_type": "markdown",
   "id": "8d9124a3",
   "metadata": {},
   "source": [
    "In this we have two options $\\sqrt{TotalFeatures}$ or log<sub>2</sub>(TotalFeatures), that have been shown by studies to be the best two value.<br> But these two values tend to be very similar unless TotalFeatures is a high number. "
   ]
  },
  {
   "cell_type": "code",
   "execution_count": 12,
   "id": "173022b9",
   "metadata": {},
   "outputs": [
    {
     "name": "stdout",
     "output_type": "stream",
     "text": [
      "Accuracy Sqr= 0.6112994350282486 in a percentage of 100 = 61.12994350282486\n",
      "Accuracy Log= 0.6048964218455744 in a percentage of 100 = 60.48964218455743\n",
      "Difference = 0.006403013182674222\n",
      "Best Max Samples = sqrt with an accuracy of = 0.6112994350282486\n"
     ]
    }
   ],
   "source": [
    "accuracy_sqr=0\n",
    "accuracy_log=0\n",
    "for i in range (5):\n",
    "    RandomForestsqr = RandomForestClassifier(max_features='sqrt', n_jobs=(-1))\n",
    "    RandomForestsqr.fit(features_treino,has_cancer_treino)\n",
    "    has_cancer_predictionsqr=RandomForestsqr.predict(features_teste)\n",
    "    accuracy_sqr_iter = accuracy_score(has_cancer_teste, has_cancer_predictionsqr)\n",
    "    accuracy_sqr+=accuracy_sqr_iter\n",
    "\n",
    "    RandomForestlog = RandomForestClassifier(max_features='log2', n_jobs=(-1))\n",
    "    RandomForestlog.fit(features_treino,has_cancer_treino)\n",
    "    has_cancer_predictionlog=RandomForestlog.predict(features_teste)\n",
    "    accuracy_log_iter = accuracy_score(has_cancer_teste, has_cancer_predictionlog)\n",
    "    accuracy_log+=accuracy_log_iter\n",
    "\n",
    "accuracy_sqr=accuracy_sqr/5\n",
    "accuracy_log=accuracy_log/5\n",
    "\n",
    "best_maxsamples_acc=(np.max([accuracy_sqr, accuracy_log,]))\n",
    "if best_maxsamples_acc==accuracy_sqr:\n",
    "    best_max_samples_name='sqrt'\n",
    "if best_maxsamples_acc==accuracy_log:\n",
    "    best_max_samples_name='log2'\n",
    "\n",
    "print(f\"Accuracy Sqr= {accuracy_sqr} in a percentage of 100 = {accuracy_sqr*100}\")\n",
    "print(f\"Accuracy Log= {accuracy_log} in a percentage of 100 = {accuracy_log*100}\")\n",
    "print(f\"Difference = {abs(accuracy_log-accuracy_sqr)}\")\n",
    "print(f\"Best Max Samples = {best_max_samples_name} with an accuracy of = {best_maxsamples_acc}\")"
   ]
  },
  {
   "cell_type": "markdown",
   "id": "60c61422",
   "metadata": {},
   "source": [
    "##### Model with \"optimal stacking\""
   ]
  },
  {
   "cell_type": "code",
   "execution_count": 32,
   "id": "ae0174da",
   "metadata": {},
   "outputs": [
    {
     "name": "stdout",
     "output_type": "stream",
     "text": [
      "Optimal stacking model accuracy = 0.6100864553314121\n"
     ]
    }
   ],
   "source": [
    "accuracy_optimal=0\n",
    "for i in range(5):\n",
    "    RandomForestoptimal = RandomForestClassifier(n_estimators=besttree, criterion=bestcriterionname, min_samples_split=bestsample, max_features=bestsample, max_depth=bestdepthnumber, n_jobs=(-1))\n",
    "    RandomForestoptimal.fit(features_treino,has_cancer_treino)\n",
    "    has_cancer_predictionoptimal=RandomForestoptimal.predict(features_teste)\n",
    "    accuracy_optimal_iter = accuracy_score(has_cancer_teste, has_cancer_predictionoptimal)\n",
    "    accuracy_optimal+=accuracy_optimal_iter\n",
    "accuracy_optimal=accuracy_optimal/5\n",
    "\n",
    "print (f\"Optimal stacking model accuracy = {accuracy_optimal}\")"
   ]
  },
  {
   "cell_type": "markdown",
   "id": "f0731517",
   "metadata": {},
   "source": [
    "###### Confusion Matrix \"optimal stacking\""
   ]
  },
  {
   "cell_type": "code",
   "execution_count": 33,
   "id": "b4ef3088",
   "metadata": {},
   "outputs": [
    {
     "data": {
      "text/plain": [
       "<sklearn.metrics._plot.confusion_matrix.ConfusionMatrixDisplay at 0x1d6a86cd950>"
      ]
     },
     "execution_count": 33,
     "metadata": {},
     "output_type": "execute_result"
    },
    {
     "data": {
      "image/png": "[encoded data removed]",
      "text/plain": [
       "<Figure size 640x480 with 2 Axes>"
      ]
     },
     "metadata": {},
     "output_type": "display_data"
    }
   ],
   "source": [
    "cm=confusion_matrix(has_cancer_teste, has_cancer_predictionoptimal)\n",
    "ConfusionMatrixDisplay(confusion_matrix=cm).plot()"
   ]
  },
  {
   "cell_type": "markdown",
   "id": "a4d6d697",
   "metadata": {},
   "source": [
    "###### First Tree from \"optimal stacking\" model"
   ]
  },
  {
   "cell_type": "code",
   "execution_count": 34,
   "id": "a2661a8d",
   "metadata": {},
   "outputs": [
    {
     "data": {
      "image/svg+xml": [
       "<?xml version=\"1.0\" encoding=\"UTF-8\" standalone=\"no\"?>\n",
       "<!DOCTYPE svg PUBLIC \"-//W3C//DTD SVG 1.1//EN\"\n",
       " \"http://www.w3.org/Graphics/SVG/1.1/DTD/svg11.dtd\">\n",
       "<!-- Generated by graphviz version 9.0.0 (20230911.1827)\n",
       " -->\n",
       "<!-- Title: Tree Pages: 1 -->\n",
       "<svg width=\"1239pt\" height=\"325pt\"\n",
       " viewBox=\"0.00 0.00 1239.12 324.50\" xmlns=\"http://www.w3.org/2000/svg\" xmlns:xlink=\"http://www.w3.org/1999/xlink\">\n",
       "<g id=\"graph0\" class=\"graph\" transform=\"scale(1 1) rotate(0) translate(4 320.5)\">\n",
       "<title>Tree</title>\n",
       "<polygon fill=\"white\" stroke=\"none\" points=\"-4,4 -4,-320.5 1235.12,-320.5 1235.12,4 -4,4\"/>\n",
       "<!-- 0 -->\n",
       "<g id=\"node1\" class=\"node\">\n",
       "<title>0</title>\n",
       "<polygon fill=\"#e0fbf6\" stroke=\"black\" points=\"729.62,-316.5 443.62,-316.5 443.62,-259 729.62,-259 729.62,-316.5\"/>\n",
       "<text text-anchor=\"middle\" x=\"586.62\" y=\"-299.2\" font-family=\"Helvetica,sans-Serif\" font-size=\"14.00\">Diameter &lt;= 13.511</text>\n",
       "<text text-anchor=\"middle\" x=\"586.62\" y=\"-282.7\" font-family=\"Helvetica,sans-Serif\" font-size=\"14.00\">samples = 100.0%</text>\n",
       "<text text-anchor=\"middle\" x=\"586.62\" y=\"-266.2\" font-family=\"Helvetica,sans-Serif\" font-size=\"14.00\">value = [0.119, 0.295, 0.404, 0.158, 0.024]</text>\n",
       "</g>\n",
       "<!-- 1 -->\n",
       "<g id=\"node2\" class=\"node\">\n",
       "<title>1</title>\n",
       "<polygon fill=\"#defbf5\" stroke=\"black\" points=\"573.5,-223 295.75,-223 295.75,-165.5 573.5,-165.5 573.5,-223\"/>\n",
       "<text text-anchor=\"middle\" x=\"434.62\" y=\"-205.7\" font-family=\"Helvetica,sans-Serif\" font-size=\"14.00\">Calcification &lt;= 4.417</text>\n",
       "<text text-anchor=\"middle\" x=\"434.62\" y=\"-189.2\" font-family=\"Helvetica,sans-Serif\" font-size=\"14.00\">samples = 81.7%</text>\n",
       "<text text-anchor=\"middle\" x=\"434.62\" y=\"-172.7\" font-family=\"Helvetica,sans-Serif\" font-size=\"14.00\">value = [0.142, 0.34, 0.448, 0.069, 0.001]</text>\n",
       "</g>\n",
       "<!-- 0&#45;&gt;1 -->\n",
       "<g id=\"edge1\" class=\"edge\">\n",
       "<title>0&#45;&gt;1</title>\n",
       "<path fill=\"none\" stroke=\"black\" d=\"M539.78,-258.55C524.39,-249.29 507.13,-238.89 491.1,-229.25\"/>\n",
       "<polygon fill=\"black\" stroke=\"black\" points=\"492.98,-226.3 482.61,-224.14 489.37,-232.29 492.98,-226.3\"/>\n",
       "<text text-anchor=\"middle\" x=\"487.34\" y=\"-242.57\" font-family=\"Helvetica,sans-Serif\" font-size=\"14.00\">True</text>\n",
       "</g>\n",
       "<!-- 46 -->\n",
       "<g id=\"node9\" class=\"node\">\n",
       "<title>46</title>\n",
       "<polygon fill=\"#a7a6f3\" stroke=\"black\" points=\"881.62,-223 595.62,-223 595.62,-165.5 881.62,-165.5 881.62,-223\"/>\n",
       "<text text-anchor=\"middle\" x=\"738.62\" y=\"-205.7\" font-family=\"Helvetica,sans-Serif\" font-size=\"14.00\">Lobulation &lt;= 2.125</text>\n",
       "<text text-anchor=\"middle\" x=\"738.62\" y=\"-189.2\" font-family=\"Helvetica,sans-Serif\" font-size=\"14.00\">samples = 18.3%</text>\n",
       "<text text-anchor=\"middle\" x=\"738.62\" y=\"-172.7\" font-family=\"Helvetica,sans-Serif\" font-size=\"14.00\">value = [0.014, 0.093, 0.205, 0.562, 0.126]</text>\n",
       "</g>\n",
       "<!-- 0&#45;&gt;46 -->\n",
       "<g id=\"edge8\" class=\"edge\">\n",
       "<title>0&#45;&gt;46</title>\n",
       "<path fill=\"none\" stroke=\"black\" d=\"M633.47,-258.55C648.86,-249.29 666.12,-238.89 682.15,-229.25\"/>\n",
       "<polygon fill=\"black\" stroke=\"black\" points=\"683.88,-232.29 690.64,-224.14 680.27,-226.3 683.88,-232.29\"/>\n",
       "<text text-anchor=\"middle\" x=\"685.91\" y=\"-242.57\" font-family=\"Helvetica,sans-Serif\" font-size=\"14.00\">False</text>\n",
       "</g>\n",
       "<!-- 2 -->\n",
       "<g id=\"node3\" class=\"node\">\n",
       "<title>2</title>\n",
       "<polygon fill=\"#ea985d\" stroke=\"black\" points=\"273.25,-129.5 0,-129.5 0,-72 273.25,-72 273.25,-129.5\"/>\n",
       "<text text-anchor=\"middle\" x=\"136.62\" y=\"-112.2\" font-family=\"Helvetica,sans-Serif\" font-size=\"14.00\">original_shape_SurfaceArea &lt;= 158.934</text>\n",
       "<text text-anchor=\"middle\" x=\"136.62\" y=\"-95.7\" font-family=\"Helvetica,sans-Serif\" font-size=\"14.00\">samples = 10.6%</text>\n",
       "<text text-anchor=\"middle\" x=\"136.62\" y=\"-79.2\" font-family=\"Helvetica,sans-Serif\" font-size=\"14.00\">value = [0.846, 0.144, 0.01, 0.0, 0.0]</text>\n",
       "</g>\n",
       "<!-- 1&#45;&gt;2 -->\n",
       "<g id=\"edge2\" class=\"edge\">\n",
       "<title>1&#45;&gt;2</title>\n",
       "<path fill=\"none\" stroke=\"black\" d=\"M342.78,-165.05C309.99,-154.98 272.85,-143.58 239.21,-133.25\"/>\n",
       "<polygon fill=\"black\" stroke=\"black\" points=\"240.45,-129.97 229.87,-130.38 238.4,-136.66 240.45,-129.97\"/>\n",
       "</g>\n",
       "<!-- 13 -->\n",
       "<g id=\"node6\" class=\"node\">\n",
       "<title>13</title>\n",
       "<polygon fill=\"#d1f9f2\" stroke=\"black\" points=\"577.62,-129.5 291.62,-129.5 291.62,-72 577.62,-72 577.62,-129.5\"/>\n",
       "<text text-anchor=\"middle\" x=\"434.62\" y=\"-112.2\" font-family=\"Helvetica,sans-Serif\" font-size=\"14.00\">original_shape_SurfaceArea &lt;= 163.217</text>\n",
       "<text text-anchor=\"middle\" x=\"434.62\" y=\"-95.7\" font-family=\"Helvetica,sans-Serif\" font-size=\"14.00\">samples = 71.0%</text>\n",
       "<text text-anchor=\"middle\" x=\"434.62\" y=\"-79.2\" font-family=\"Helvetica,sans-Serif\" font-size=\"14.00\">value = [0.037, 0.369, 0.514, 0.079, 0.001]</text>\n",
       "</g>\n",
       "<!-- 1&#45;&gt;13 -->\n",
       "<g id=\"edge5\" class=\"edge\">\n",
       "<title>1&#45;&gt;13</title>\n",
       "<path fill=\"none\" stroke=\"black\" d=\"M434.62,-165.3C434.62,-157.74 434.62,-149.42 434.62,-141.35\"/>\n",
       "<polygon fill=\"black\" stroke=\"black\" points=\"438.13,-141.36 434.63,-131.36 431.13,-141.36 438.13,-141.36\"/>\n",
       "</g>\n",
       "<!-- 3 -->\n",
       "<g id=\"node4\" class=\"node\">\n",
       "<title>3</title>\n",
       "<polygon fill=\"#c0c0c0\" stroke=\"black\" points=\"127.62,-36 73.62,-36 73.62,0 127.62,0 127.62,-36\"/>\n",
       "<text text-anchor=\"middle\" x=\"100.62\" y=\"-12.95\" font-family=\"Helvetica,sans-Serif\" font-size=\"14.00\">(...)</text>\n",
       "</g>\n",
       "<!-- 2&#45;&gt;3 -->\n",
       "<g id=\"edge3\" class=\"edge\">\n",
       "<title>2&#45;&gt;3</title>\n",
       "<path fill=\"none\" stroke=\"black\" d=\"M124.03,-71.51C120.41,-63.38 116.46,-54.52 112.86,-46.44\"/>\n",
       "<polygon fill=\"black\" stroke=\"black\" points=\"116.11,-45.14 108.84,-37.43 109.72,-47.99 116.11,-45.14\"/>\n",
       "</g>\n",
       "<!-- 10 -->\n",
       "<g id=\"node5\" class=\"node\">\n",
       "<title>10</title>\n",
       "<polygon fill=\"#c0c0c0\" stroke=\"black\" points=\"199.62,-36 145.62,-36 145.62,0 199.62,0 199.62,-36\"/>\n",
       "<text text-anchor=\"middle\" x=\"172.62\" y=\"-12.95\" font-family=\"Helvetica,sans-Serif\" font-size=\"14.00\">(...)</text>\n",
       "</g>\n",
       "<!-- 2&#45;&gt;10 -->\n",
       "<g id=\"edge4\" class=\"edge\">\n",
       "<title>2&#45;&gt;10</title>\n",
       "<path fill=\"none\" stroke=\"black\" d=\"M149.22,-71.51C152.84,-63.38 156.79,-54.52 160.39,-46.44\"/>\n",
       "<polygon fill=\"black\" stroke=\"black\" points=\"163.53,-47.99 164.41,-37.43 157.14,-45.14 163.53,-47.99\"/>\n",
       "</g>\n",
       "<!-- 14 -->\n",
       "<g id=\"node7\" class=\"node\">\n",
       "<title>14</title>\n",
       "<polygon fill=\"#c0c0c0\" stroke=\"black\" points=\"425.62,-36 371.62,-36 371.62,0 425.62,0 425.62,-36\"/>\n",
       "<text text-anchor=\"middle\" x=\"398.62\" y=\"-12.95\" font-family=\"Helvetica,sans-Serif\" font-size=\"14.00\">(...)</text>\n",
       "</g>\n",
       "<!-- 13&#45;&gt;14 -->\n",
       "<g id=\"edge6\" class=\"edge\">\n",
       "<title>13&#45;&gt;14</title>\n",
       "<path fill=\"none\" stroke=\"black\" d=\"M422.03,-71.51C418.41,-63.38 414.46,-54.52 410.86,-46.44\"/>\n",
       "<polygon fill=\"black\" stroke=\"black\" points=\"414.11,-45.14 406.84,-37.43 407.72,-47.99 414.11,-45.14\"/>\n",
       "</g>\n",
       "<!-- 29 -->\n",
       "<g id=\"node8\" class=\"node\">\n",
       "<title>29</title>\n",
       "<polygon fill=\"#c0c0c0\" stroke=\"black\" points=\"497.62,-36 443.62,-36 443.62,0 497.62,0 497.62,-36\"/>\n",
       "<text text-anchor=\"middle\" x=\"470.62\" y=\"-12.95\" font-family=\"Helvetica,sans-Serif\" font-size=\"14.00\">(...)</text>\n",
       "</g>\n",
       "<!-- 13&#45;&gt;29 -->\n",
       "<g id=\"edge7\" class=\"edge\">\n",
       "<title>13&#45;&gt;29</title>\n",
       "<path fill=\"none\" stroke=\"black\" d=\"M447.22,-71.51C450.84,-63.38 454.79,-54.52 458.39,-46.44\"/>\n",
       "<polygon fill=\"black\" stroke=\"black\" points=\"461.53,-47.99 462.41,-37.43 455.14,-45.14 461.53,-47.99\"/>\n",
       "</g>\n",
       "<!-- 47 -->\n",
       "<g id=\"node10\" class=\"node\">\n",
       "<title>47</title>\n",
       "<polygon fill=\"#b4b3f5\" stroke=\"black\" points=\"881.62,-129.5 595.62,-129.5 595.62,-72 881.62,-72 881.62,-129.5\"/>\n",
       "<text text-anchor=\"middle\" x=\"738.62\" y=\"-112.2\" font-family=\"Helvetica,sans-Serif\" font-size=\"14.00\">original_glcm_Imc2 &lt;= 0.969</text>\n",
       "<text text-anchor=\"middle\" x=\"738.62\" y=\"-95.7\" font-family=\"Helvetica,sans-Serif\" font-size=\"14.00\">samples = 9.0%</text>\n",
       "<text text-anchor=\"middle\" x=\"738.62\" y=\"-79.2\" font-family=\"Helvetica,sans-Serif\" font-size=\"14.00\">value = [0.022, 0.156, 0.257, 0.542, 0.022]</text>\n",
       "</g>\n",
       "<!-- 46&#45;&gt;47 -->\n",
       "<g id=\"edge9\" class=\"edge\">\n",
       "<title>46&#45;&gt;47</title>\n",
       "<path fill=\"none\" stroke=\"black\" d=\"M738.62,-165.3C738.62,-157.74 738.62,-149.42 738.62,-141.35\"/>\n",
       "<polygon fill=\"black\" stroke=\"black\" points=\"742.13,-141.36 738.63,-131.36 735.13,-141.36 742.13,-141.36\"/>\n",
       "</g>\n",
       "<!-- 60 -->\n",
       "<g id=\"node13\" class=\"node\">\n",
       "<title>60</title>\n",
       "<polygon fill=\"#a6a5f3\" stroke=\"black\" points=\"1231.12,-129.5 900.12,-129.5 900.12,-72 1231.12,-72 1231.12,-129.5\"/>\n",
       "<text text-anchor=\"middle\" x=\"1065.62\" y=\"-112.2\" font-family=\"Helvetica,sans-Serif\" font-size=\"14.00\">original_firstorder_RootMeanSquared &lt;= 361.851</text>\n",
       "<text text-anchor=\"middle\" x=\"1065.62\" y=\"-95.7\" font-family=\"Helvetica,sans-Serif\" font-size=\"14.00\">samples = 9.4%</text>\n",
       "<text text-anchor=\"middle\" x=\"1065.62\" y=\"-79.2\" font-family=\"Helvetica,sans-Serif\" font-size=\"14.00\">value = [0.006, 0.028, 0.153, 0.582, 0.232]</text>\n",
       "</g>\n",
       "<!-- 46&#45;&gt;60 -->\n",
       "<g id=\"edge12\" class=\"edge\">\n",
       "<title>46&#45;&gt;60</title>\n",
       "<path fill=\"none\" stroke=\"black\" d=\"M839.4,-165.05C875.7,-154.89 916.85,-143.38 954.02,-132.98\"/>\n",
       "<polygon fill=\"black\" stroke=\"black\" points=\"954.75,-136.41 963.44,-130.34 952.87,-129.67 954.75,-136.41\"/>\n",
       "</g>\n",
       "<!-- 48 -->\n",
       "<g id=\"node11\" class=\"node\">\n",
       "<title>48</title>\n",
       "<polygon fill=\"#c0c0c0\" stroke=\"black\" points=\"729.62,-36 675.62,-36 675.62,0 729.62,0 729.62,-36\"/>\n",
       "<text text-anchor=\"middle\" x=\"702.62\" y=\"-12.95\" font-family=\"Helvetica,sans-Serif\" font-size=\"14.00\">(...)</text>\n",
       "</g>\n",
       "<!-- 47&#45;&gt;48 -->\n",
       "<g id=\"edge10\" class=\"edge\">\n",
       "<title>47&#45;&gt;48</title>\n",
       "<path fill=\"none\" stroke=\"black\" d=\"M726.03,-71.51C722.41,-63.38 718.46,-54.52 714.86,-46.44\"/>\n",
       "<polygon fill=\"black\" stroke=\"black\" points=\"718.11,-45.14 710.84,-37.43 711.72,-47.99 718.11,-45.14\"/>\n",
       "</g>\n",
       "<!-- 59 -->\n",
       "<g id=\"node12\" class=\"node\">\n",
       "<title>59</title>\n",
       "<polygon fill=\"#c0c0c0\" stroke=\"black\" points=\"801.62,-36 747.62,-36 747.62,0 801.62,0 801.62,-36\"/>\n",
       "<text text-anchor=\"middle\" x=\"774.62\" y=\"-12.95\" font-family=\"Helvetica,sans-Serif\" font-size=\"14.00\">(...)</text>\n",
       "</g>\n",
       "<!-- 47&#45;&gt;59 -->\n",
       "<g id=\"edge11\" class=\"edge\">\n",
       "<title>47&#45;&gt;59</title>\n",
       "<path fill=\"none\" stroke=\"black\" d=\"M751.22,-71.51C754.84,-63.38 758.79,-54.52 762.39,-46.44\"/>\n",
       "<polygon fill=\"black\" stroke=\"black\" points=\"765.53,-47.99 766.41,-37.43 759.14,-45.14 765.53,-47.99\"/>\n",
       "</g>\n",
       "<!-- 61 -->\n",
       "<g id=\"node14\" class=\"node\">\n",
       "<title>61</title>\n",
       "<polygon fill=\"#c0c0c0\" stroke=\"black\" points=\"1056.62,-36 1002.62,-36 1002.62,0 1056.62,0 1056.62,-36\"/>\n",
       "<text text-anchor=\"middle\" x=\"1029.62\" y=\"-12.95\" font-family=\"Helvetica,sans-Serif\" font-size=\"14.00\">(...)</text>\n",
       "</g>\n",
       "<!-- 60&#45;&gt;61 -->\n",
       "<g id=\"edge13\" class=\"edge\">\n",
       "<title>60&#45;&gt;61</title>\n",
       "<path fill=\"none\" stroke=\"black\" d=\"M1053.03,-71.51C1049.41,-63.38 1045.46,-54.52 1041.86,-46.44\"/>\n",
       "<polygon fill=\"black\" stroke=\"black\" points=\"1045.11,-45.14 1037.84,-37.43 1038.72,-47.99 1045.11,-45.14\"/>\n",
       "</g>\n",
       "<!-- 70 -->\n",
       "<g id=\"node15\" class=\"node\">\n",
       "<title>70</title>\n",
       "<polygon fill=\"#c0c0c0\" stroke=\"black\" points=\"1128.62,-36 1074.62,-36 1074.62,0 1128.62,0 1128.62,-36\"/>\n",
       "<text text-anchor=\"middle\" x=\"1101.62\" y=\"-12.95\" font-family=\"Helvetica,sans-Serif\" font-size=\"14.00\">(...)</text>\n",
       "</g>\n",
       "<!-- 60&#45;&gt;70 -->\n",
       "<g id=\"edge14\" class=\"edge\">\n",
       "<title>60&#45;&gt;70</title>\n",
       "<path fill=\"none\" stroke=\"black\" d=\"M1078.22,-71.51C1081.84,-63.38 1085.79,-54.52 1089.39,-46.44\"/>\n",
       "<polygon fill=\"black\" stroke=\"black\" points=\"1092.53,-47.99 1093.41,-37.43 1086.14,-45.14 1092.53,-47.99\"/>\n",
       "</g>\n",
       "</g>\n",
       "</svg>\n"
      ],
      "text/plain": [
       "<graphviz.sources.Source at 0x1d6fd24bf50>"
      ]
     },
     "metadata": {},
     "output_type": "display_data"
    }
   ],
   "source": [
    "tree = RandomForestoptimal.estimators_[i]\n",
    "dot_data = export_graphviz(tree,\n",
    "                            feature_names=features_treino.columns,  \n",
    "                            filled=True,  \n",
    "                            max_depth=2, \n",
    "                            impurity=False, \n",
    "                            proportion=True)\n",
    "graph = graphviz.Source(dot_data)\n",
    "display(graph)"
   ]
  },
  {
   "cell_type": "markdown",
   "id": "c7c86eee",
   "metadata": {},
   "source": [
    "##### Proposal conclusions"
   ]
  },
  {
   "cell_type": "markdown",
   "id": "d0bde989",
   "metadata": {},
   "source": [
    "Since the accuracy of the model with the stacked optimal parameters is lower than the accuracy of the tuning of some individual parameters we can safelly say that stacking the best parameters isn't a good idea and the \"optimal\" value for a parameter can change depending on the value of other parameters.<br>\n",
    "<br>\n",
    "But we can also say that due to the \"optimal stacking\" model accuracy beeing higher than the default we can also assume that changing the parameters even if with a bad proposal it's better than leaving them with the default values<br>\n",
    "<br>\n",
    "We've also seen that due to the above test beeing done with only 8 features that it limits in various aways the model for exemple the difference between the square root of 8 and the log of base 2 of 8 is 0.2 and beeing that you can't choose 0.2 of a feature the trees had the same exact number of features in both of those tests making the difference 0 wich also doesn't allows us to know the effects of both.<br>\n",
    "<br>\n",
    "Also the low number of features renders usseles the efforts of increasing the amount of trees in the forest, because if it chooses let's say the square root of x, beeing x the total number of features that in this case is 8 there is only about 300 different ways to structure a tree with those 3 features picked at random per tree and of those 300 trees alot of them will be overfit, which explains why in none of the tests runned the best tree number was higher than 220."
   ]
  },
  {
   "cell_type": "markdown",
   "id": "512034ef",
   "metadata": {},
   "source": [
    "#### The computer is Smarter Assumption"
   ]
  },
  {
   "cell_type": "markdown",
   "id": "448c5407",
   "metadata": {},
   "source": [
    "Let's now give the computer ability to test diferent parameters at random to find the best parameters<br>\n",
    "<br>\n",
    "\n"
   ]
  },
  {
   "cell_type": "markdown",
   "id": "7754149a-6562-4a08-947f-e67cb4bf9322",
   "metadata": {},
   "source": [
    "##### Create the Dictionary for the range of values on the parameters"
   ]
  },
  {
   "cell_type": "code",
   "execution_count": 65,
   "id": "ffbf2fc6-4975-4ddf-9c4a-244317aa58ae",
   "metadata": {},
   "outputs": [
    {
     "name": "stdout",
     "output_type": "stream",
     "text": [
      "{'n_estimators': <scipy.stats._distn_infrastructure.rv_discrete_frozen object at 0x000001D6FD28D7D0>, 'max_depth': <scipy.stats._distn_infrastructure.rv_discrete_frozen object at 0x000001D6816E75D0>, 'criterion': ['gini', 'entropy', 'log_loss'], 'min_samples_split': <scipy.stats._distn_infrastructure.rv_discrete_frozen object at 0x000001D6FB015750>, 'max_features': ['sqrt', 'log2']}\n"
     ]
    }
   ],
   "source": [
    "Range = {'n_estimators': randint(50,500), \n",
    "              'max_depth': randint(1,20), \n",
    "              'criterion': ['gini', 'entropy', 'log_loss'], \n",
    "              'min_samples_split': randint(2,50), \n",
    "              'max_features': ['sqrt','log2']\n",
    "              }\n",
    "\n",
    "print(Range)"
   ]
  },
  {
   "cell_type": "markdown",
   "id": "fcb57153",
   "metadata": {},
   "source": [
    "##### Random Search"
   ]
  },
  {
   "cell_type": "code",
   "execution_count": 66,
   "id": "07de9c52",
   "metadata": {},
   "outputs": [],
   "source": [
    "RandomSearch = RandomizedSearchCV(RandomForest, param_distributions = Range, n_iter=5, n_jobs=(-1))\n"
   ]
  },
  {
   "cell_type": "markdown",
   "id": "443724f8",
   "metadata": {},
   "source": [
    "###### Training the Model"
   ]
  },
  {
   "cell_type": "code",
   "execution_count": 67,
   "id": "dc646c00",
   "metadata": {},
   "outputs": [
    {
     "data": {
      "text/html": [
       "<style>#sk-container-id-7 {color: black;}#sk-container-id-7 pre{padding: 0;}#sk-container-id-7 div.sk-toggleable {background-color: white;}#sk-container-id-7 label.sk-toggleable__label {cursor: pointer;display: block;width: 100%;margin-bottom: 0;padding: 0.3em;box-sizing: border-box;text-align: center;}#sk-container-id-7 label.sk-toggleable__label-arrow:before {content: \"▸\";float: left;margin-right: 0.25em;color: #696969;}#sk-container-id-7 label.sk-toggleable__label-arrow:hover:before {color: black;}#sk-container-id-7 div.sk-estimator:hover label.sk-toggleable__label-arrow:before {color: black;}#sk-container-id-7 div.sk-toggleable__content {max-height: 0;max-width: 0;overflow: hidden;text-align: left;background-color: #f0f8ff;}#sk-container-id-7 div.sk-toggleable__content pre {margin: 0.2em;color: black;border-radius: 0.25em;background-color: #f0f8ff;}#sk-container-id-7 input.sk-toggleable__control:checked~div.sk-toggleable__content {max-height: 200px;max-width: 100%;overflow: auto;}#sk-container-id-7 input.sk-toggleable__control:checked~label.sk-toggleable__label-arrow:before {content: \"▾\";}#sk-container-id-7 div.sk-estimator input.sk-toggleable__control:checked~label.sk-toggleable__label {background-color: #d4ebff;}#sk-container-id-7 div.sk-label input.sk-toggleable__control:checked~label.sk-toggleable__label {background-color: #d4ebff;}#sk-container-id-7 input.sk-hidden--visually {border: 0;clip: rect(1px 1px 1px 1px);clip: rect(1px, 1px, 1px, 1px);height: 1px;margin: -1px;overflow: hidden;padding: 0;position: absolute;width: 1px;}#sk-container-id-7 div.sk-estimator {font-family: monospace;background-color: #f0f8ff;border: 1px dotted black;border-radius: 0.25em;box-sizing: border-box;margin-bottom: 0.5em;}#sk-container-id-7 div.sk-estimator:hover {background-color: #d4ebff;}#sk-container-id-7 div.sk-parallel-item::after {content: \"\";width: 100%;border-bottom: 1px solid gray;flex-grow: 1;}#sk-container-id-7 div.sk-label:hover label.sk-toggleable__label {background-color: #d4ebff;}#sk-container-id-7 div.sk-serial::before {content: \"\";position: absolute;border-left: 1px solid gray;box-sizing: border-box;top: 0;bottom: 0;left: 50%;z-index: 0;}#sk-container-id-7 div.sk-serial {display: flex;flex-direction: column;align-items: center;background-color: white;padding-right: 0.2em;padding-left: 0.2em;position: relative;}#sk-container-id-7 div.sk-item {position: relative;z-index: 1;}#sk-container-id-7 div.sk-parallel {display: flex;align-items: stretch;justify-content: center;background-color: white;position: relative;}#sk-container-id-7 div.sk-item::before, #sk-container-id-7 div.sk-parallel-item::before {content: \"\";position: absolute;border-left: 1px solid gray;box-sizing: border-box;top: 0;bottom: 0;left: 50%;z-index: -1;}#sk-container-id-7 div.sk-parallel-item {display: flex;flex-direction: column;z-index: 1;position: relative;background-color: white;}#sk-container-id-7 div.sk-parallel-item:first-child::after {align-self: flex-end;width: 50%;}#sk-container-id-7 div.sk-parallel-item:last-child::after {align-self: flex-start;width: 50%;}#sk-container-id-7 div.sk-parallel-item:only-child::after {width: 0;}#sk-container-id-7 div.sk-dashed-wrapped {border: 1px dashed gray;margin: 0 0.4em 0.5em 0.4em;box-sizing: border-box;padding-bottom: 0.4em;background-color: white;}#sk-container-id-7 div.sk-label label {font-family: monospace;font-weight: bold;display: inline-block;line-height: 1.2em;}#sk-container-id-7 div.sk-label-container {text-align: center;}#sk-container-id-7 div.sk-container {/* jupyter's `normalize.less` sets `[hidden] { display: none; }` but bootstrap.min.css set `[hidden] { display: none !important; }` so we also need the `!important` here to be able to override the default hidden behavior on the sphinx rendered scikit-learn.org. See: https://github.com/scikit-learn/scikit-learn/issues/21755 */display: inline-block !important;position: relative;}#sk-container-id-7 div.sk-text-repr-fallback {display: none;}</style><div id=\"sk-container-id-7\" class=\"sk-top-container\"><div class=\"sk-text-repr-fallback\"><pre>RandomizedSearchCV(estimator=RandomForestClassifier(), n_iter=5, n_jobs=-1,\n",
       "                   param_distributions={&#x27;criterion&#x27;: [&#x27;gini&#x27;, &#x27;entropy&#x27;,\n",
       "                                                      &#x27;log_loss&#x27;],\n",
       "                                        &#x27;max_depth&#x27;: &lt;scipy.stats._distn_infrastructure.rv_discrete_frozen object at 0x000001D6816E75D0&gt;,\n",
       "                                        &#x27;max_features&#x27;: [&#x27;sqrt&#x27;, &#x27;log2&#x27;],\n",
       "                                        &#x27;min_samples_split&#x27;: &lt;scipy.stats._distn_infrastructure.rv_discrete_frozen object at 0x000001D6FB015750&gt;,\n",
       "                                        &#x27;n_estimators&#x27;: &lt;scipy.stats._distn_infrastructure.rv_discrete_frozen object at 0x000001D6FD28D7D0&gt;})</pre><b>In a Jupyter environment, please rerun this cell to show the HTML representation or trust the notebook. <br />On GitHub, the HTML representation is unable to render, please try loading this page with nbviewer.org.</b></div><div class=\"sk-container\" hidden><div class=\"sk-item sk-dashed-wrapped\"><div class=\"sk-label-container\"><div class=\"sk-label sk-toggleable\"><input class=\"sk-toggleable__control sk-hidden--visually\" id=\"sk-estimator-id-17\" type=\"checkbox\" ><label for=\"sk-estimator-id-17\" class=\"sk-toggleable__label sk-toggleable__label-arrow\">RandomizedSearchCV</label><div class=\"sk-toggleable__content\"><pre>RandomizedSearchCV(estimator=RandomForestClassifier(), n_iter=5, n_jobs=-1,\n",
       "                   param_distributions={&#x27;criterion&#x27;: [&#x27;gini&#x27;, &#x27;entropy&#x27;,\n",
       "                                                      &#x27;log_loss&#x27;],\n",
       "                                        &#x27;max_depth&#x27;: &lt;scipy.stats._distn_infrastructure.rv_discrete_frozen object at 0x000001D6816E75D0&gt;,\n",
       "                                        &#x27;max_features&#x27;: [&#x27;sqrt&#x27;, &#x27;log2&#x27;],\n",
       "                                        &#x27;min_samples_split&#x27;: &lt;scipy.stats._distn_infrastructure.rv_discrete_frozen object at 0x000001D6FB015750&gt;,\n",
       "                                        &#x27;n_estimators&#x27;: &lt;scipy.stats._distn_infrastructure.rv_discrete_frozen object at 0x000001D6FD28D7D0&gt;})</pre></div></div></div><div class=\"sk-parallel\"><div class=\"sk-parallel-item\"><div class=\"sk-item\"><div class=\"sk-label-container\"><div class=\"sk-label sk-toggleable\"><input class=\"sk-toggleable__control sk-hidden--visually\" id=\"sk-estimator-id-18\" type=\"checkbox\" ><label for=\"sk-estimator-id-18\" class=\"sk-toggleable__label sk-toggleable__label-arrow\">estimator: RandomForestClassifier</label><div class=\"sk-toggleable__content\"><pre>RandomForestClassifier()</pre></div></div></div><div class=\"sk-serial\"><div class=\"sk-item\"><div class=\"sk-estimator sk-toggleable\"><input class=\"sk-toggleable__control sk-hidden--visually\" id=\"sk-estimator-id-19\" type=\"checkbox\" ><label for=\"sk-estimator-id-19\" class=\"sk-toggleable__label sk-toggleable__label-arrow\">RandomForestClassifier</label><div class=\"sk-toggleable__content\"><pre>RandomForestClassifier()</pre></div></div></div></div></div></div></div></div></div></div>"
      ],
      "text/plain": [
       "RandomizedSearchCV(estimator=RandomForestClassifier(), n_iter=5, n_jobs=-1,\n",
       "                   param_distributions={'criterion': ['gini', 'entropy',\n",
       "                                                      'log_loss'],\n",
       "                                        'max_depth': <scipy.stats._distn_infrastructure.rv_discrete_frozen object at 0x000001D6816E75D0>,\n",
       "                                        'max_features': ['sqrt', 'log2'],\n",
       "                                        'min_samples_split': <scipy.stats._distn_infrastructure.rv_discrete_frozen object at 0x000001D6FB015750>,\n",
       "                                        'n_estimators': <scipy.stats._distn_infrastructure.rv_discrete_frozen object at 0x000001D6FD28D7D0>})"
      ]
     },
     "execution_count": 67,
     "metadata": {},
     "output_type": "execute_result"
    }
   ],
   "source": [
    "RandomSearch.fit(features_treino, has_cancer_treino)"
   ]
  },
  {
   "cell_type": "markdown",
   "id": "319fdf48",
   "metadata": {},
   "source": [
    "###### Best parameters found "
   ]
  },
  {
   "cell_type": "code",
   "execution_count": 68,
   "id": "78a2b248",
   "metadata": {},
   "outputs": [
    {
     "name": "stdout",
     "output_type": "stream",
     "text": [
      "Best hyperparameters: {'criterion': 'log_loss', 'max_depth': 15, 'max_features': 'log2', 'min_samples_split': 17, 'n_estimators': 320}\n"
     ]
    }
   ],
   "source": [
    "Best_Random_Search = RandomSearch.best_estimator_\n",
    "print('Best hyperparameters:',  RandomSearch.best_params_)"
   ]
  },
  {
   "cell_type": "markdown",
   "id": "0ed0a777",
   "metadata": {},
   "source": [
    "###### Accuracy of this model"
   ]
  },
  {
   "cell_type": "code",
   "execution_count": 69,
   "id": "5709bc56",
   "metadata": {},
   "outputs": [
    {
     "name": "stdout",
     "output_type": "stream",
     "text": [
      "0.6591337099811676\n"
     ]
    }
   ],
   "source": [
    "has_cancer_prediction_BestRandomSearch = Best_Random_Search.predict(features_teste)\n",
    "accuracy_BestRandomSearch = accuracy_score(has_cancer_teste, has_cancer_prediction_BestRandomSearch)\n",
    "print(accuracy_BestRandomSearch)"
   ]
  },
  {
   "cell_type": "markdown",
   "id": "fd06aafd",
   "metadata": {},
   "source": [
    "###### Confusion Matrix"
   ]
  },
  {
   "cell_type": "code",
   "execution_count": 70,
   "id": "54de8e62",
   "metadata": {},
   "outputs": [
    {
     "data": {
      "text/plain": [
       "<sklearn.metrics._plot.confusion_matrix.ConfusionMatrixDisplay at 0x1d68173ccd0>"
      ]
     },
     "execution_count": 70,
     "metadata": {},
     "output_type": "execute_result"
    },
    {
     "data": {
      "image/png": "[encoded data removed]",
      "text/plain": [
       "<Figure size 640x480 with 2 Axes>"
      ]
     },
     "metadata": {},
     "output_type": "display_data"
    }
   ],
   "source": [
    "cmrandom=confusion_matrix(has_cancer_teste, has_cancer_prediction_BestRandomSearch)\n",
    "ConfusionMatrixDisplay(confusion_matrix=cmrandom).plot()"
   ]
  },
  {
   "cell_type": "markdown",
   "id": "238ccde0",
   "metadata": {},
   "source": [
    "##### Assumption conclution and findings"
   ]
  },
  {
   "cell_type": "markdown",
   "id": "f3e1347b",
   "metadata": {},
   "source": [
    "Before the conclusion just a little find for our model:<br>\n",
    "In regards to time: Total_time ≈ Number_of_iterations * 0,561 (in the computer that ran the code)<br>\n",
    "<br>\n",
    "This method was in fact better than the previous model, but it still is no where perfect or good, 66% of accuracy although better is still far from good<br>\n",
    "I think that this model still suffers from the same problems as the other that beeing the lack of features that pylidc provides.<br>\n",
    "<br>\n",
    "Also We've found out that more itterations doesn't always correlate to a better outcome due to the randomness of it, you can find sometimes a better model with less iterations if you are just lucky enough.<br>\n",
    "<br>\n",
    "\n"
   ]
  },
  {
   "cell_type": "markdown",
   "id": "e5942496",
   "metadata": {},
   "source": [
    "## Load Pyradiomics Dataset"
   ]
  },
  {
   "cell_type": "code",
   "execution_count": 71,
   "id": "44f200cf",
   "metadata": {},
   "outputs": [
    {
     "data": {
      "text/html": [
       "<div>\n",
       "<style scoped>\n",
       "    .dataframe tbody tr th:only-of-type {\n",
       "        vertical-align: middle;\n",
       "    }\n",
       "\n",
       "    .dataframe tbody tr th {\n",
       "        vertical-align: top;\n",
       "    }\n",
       "\n",
       "    .dataframe thead th {\n",
       "        text-align: right;\n",
       "    }\n",
       "</style>\n",
       "<table border=\"1\" class=\"dataframe\">\n",
       "  <thead>\n",
       "    <tr style=\"text-align: right;\">\n",
       "      <th></th>\n",
       "      <th>original_shape_Flatness</th>\n",
       "      <th>original_shape_LeastAxisLength</th>\n",
       "      <th>original_shape_MajorAxisLength</th>\n",
       "      <th>original_shape_Maximum2DDiameterColumn</th>\n",
       "      <th>original_shape_Maximum2DDiameterRow</th>\n",
       "      <th>original_shape_Maximum2DDiameterSlice</th>\n",
       "      <th>original_shape_Maximum3DDiameter</th>\n",
       "      <th>original_shape_MeshVolume</th>\n",
       "      <th>original_shape_MinorAxisLength</th>\n",
       "      <th>original_shape_Sphericity</th>\n",
       "      <th>...</th>\n",
       "      <th>Volume</th>\n",
       "      <th>Subtlety</th>\n",
       "      <th>Internalstructure</th>\n",
       "      <th>Calcification</th>\n",
       "      <th>Sphericity</th>\n",
       "      <th>Margin</th>\n",
       "      <th>Lobulation</th>\n",
       "      <th>Spiculation</th>\n",
       "      <th>Texture</th>\n",
       "      <th>Malignancy</th>\n",
       "    </tr>\n",
       "  </thead>\n",
       "  <tbody>\n",
       "    <tr>\n",
       "      <th>2646</th>\n",
       "      <td>0.375133</td>\n",
       "      <td>4.534490</td>\n",
       "      <td>12.087678</td>\n",
       "      <td>12.806248</td>\n",
       "      <td>11.401754</td>\n",
       "      <td>13.928388</td>\n",
       "      <td>14.628739</td>\n",
       "      <td>313.083333</td>\n",
       "      <td>9.595771</td>\n",
       "      <td>0.664923</td>\n",
       "      <td>...</td>\n",
       "      <td>140.178680</td>\n",
       "      <td>4.333333</td>\n",
       "      <td>1.0</td>\n",
       "      <td>6.0</td>\n",
       "      <td>3.666667</td>\n",
       "      <td>2.333333</td>\n",
       "      <td>2.333333</td>\n",
       "      <td>3.0</td>\n",
       "      <td>3.333333</td>\n",
       "      <td>4.0</td>\n",
       "    </tr>\n",
       "    <tr>\n",
       "      <th>2647</th>\n",
       "      <td>0.687954</td>\n",
       "      <td>8.589183</td>\n",
       "      <td>12.485120</td>\n",
       "      <td>14.422205</td>\n",
       "      <td>14.317821</td>\n",
       "      <td>12.649111</td>\n",
       "      <td>15.165751</td>\n",
       "      <td>605.541667</td>\n",
       "      <td>9.416961</td>\n",
       "      <td>0.697558</td>\n",
       "      <td>...</td>\n",
       "      <td>182.381630</td>\n",
       "      <td>2.500000</td>\n",
       "      <td>1.0</td>\n",
       "      <td>6.0</td>\n",
       "      <td>4.500000</td>\n",
       "      <td>2.000000</td>\n",
       "      <td>1.000000</td>\n",
       "      <td>1.5</td>\n",
       "      <td>1.000000</td>\n",
       "      <td>4.0</td>\n",
       "    </tr>\n",
       "    <tr>\n",
       "      <th>2648</th>\n",
       "      <td>0.185778</td>\n",
       "      <td>2.586515</td>\n",
       "      <td>13.922612</td>\n",
       "      <td>11.045361</td>\n",
       "      <td>14.866069</td>\n",
       "      <td>12.165525</td>\n",
       "      <td>15.842980</td>\n",
       "      <td>177.541667</td>\n",
       "      <td>7.855304</td>\n",
       "      <td>0.597379</td>\n",
       "      <td>...</td>\n",
       "      <td>127.207670</td>\n",
       "      <td>3.000000</td>\n",
       "      <td>1.0</td>\n",
       "      <td>6.0</td>\n",
       "      <td>3.500000</td>\n",
       "      <td>3.500000</td>\n",
       "      <td>1.500000</td>\n",
       "      <td>1.0</td>\n",
       "      <td>5.000000</td>\n",
       "      <td>4.0</td>\n",
       "    </tr>\n",
       "    <tr>\n",
       "      <th>2649</th>\n",
       "      <td>0.247844</td>\n",
       "      <td>2.471175</td>\n",
       "      <td>9.970706</td>\n",
       "      <td>7.280110</td>\n",
       "      <td>7.211103</td>\n",
       "      <td>7.615773</td>\n",
       "      <td>10.440307</td>\n",
       "      <td>70.041667</td>\n",
       "      <td>4.521458</td>\n",
       "      <td>0.708770</td>\n",
       "      <td>...</td>\n",
       "      <td>81.383582</td>\n",
       "      <td>5.000000</td>\n",
       "      <td>1.0</td>\n",
       "      <td>6.0</td>\n",
       "      <td>4.000000</td>\n",
       "      <td>5.000000</td>\n",
       "      <td>1.000000</td>\n",
       "      <td>1.0</td>\n",
       "      <td>5.000000</td>\n",
       "      <td>2.0</td>\n",
       "    </tr>\n",
       "    <tr>\n",
       "      <th>2650</th>\n",
       "      <td>0.273192</td>\n",
       "      <td>11.674262</td>\n",
       "      <td>42.732887</td>\n",
       "      <td>49.040799</td>\n",
       "      <td>50.219518</td>\n",
       "      <td>46.097722</td>\n",
       "      <td>51.048996</td>\n",
       "      <td>13760.916667</td>\n",
       "      <td>38.858918</td>\n",
       "      <td>0.635278</td>\n",
       "      <td>...</td>\n",
       "      <td>25205.225767</td>\n",
       "      <td>5.000000</td>\n",
       "      <td>1.0</td>\n",
       "      <td>4.0</td>\n",
       "      <td>5.000000</td>\n",
       "      <td>5.000000</td>\n",
       "      <td>3.000000</td>\n",
       "      <td>3.0</td>\n",
       "      <td>5.000000</td>\n",
       "      <td>2.0</td>\n",
       "    </tr>\n",
       "  </tbody>\n",
       "</table>\n",
       "<p>5 rows × 118 columns</p>\n",
       "</div>"
      ],
      "text/plain": [
       "      original_shape_Flatness  original_shape_LeastAxisLength  \\\n",
       "2646                 0.375133                        4.534490   \n",
       "2647                 0.687954                        8.589183   \n",
       "2648                 0.185778                        2.586515   \n",
       "2649                 0.247844                        2.471175   \n",
       "2650                 0.273192                       11.674262   \n",
       "\n",
       "      original_shape_MajorAxisLength  original_shape_Maximum2DDiameterColumn  \\\n",
       "2646                       12.087678                               12.806248   \n",
       "2647                       12.485120                               14.422205   \n",
       "2648                       13.922612                               11.045361   \n",
       "2649                        9.970706                                7.280110   \n",
       "2650                       42.732887                               49.040799   \n",
       "\n",
       "      original_shape_Maximum2DDiameterRow  \\\n",
       "2646                            11.401754   \n",
       "2647                            14.317821   \n",
       "2648                            14.866069   \n",
       "2649                             7.211103   \n",
       "2650                            50.219518   \n",
       "\n",
       "      original_shape_Maximum2DDiameterSlice  original_shape_Maximum3DDiameter  \\\n",
       "2646                              13.928388                         14.628739   \n",
       "2647                              12.649111                         15.165751   \n",
       "2648                              12.165525                         15.842980   \n",
       "2649                               7.615773                         10.440307   \n",
       "2650                              46.097722                         51.048996   \n",
       "\n",
       "      original_shape_MeshVolume  original_shape_MinorAxisLength  \\\n",
       "2646                 313.083333                        9.595771   \n",
       "2647                 605.541667                        9.416961   \n",
       "2648                 177.541667                        7.855304   \n",
       "2649                  70.041667                        4.521458   \n",
       "2650               13760.916667                       38.858918   \n",
       "\n",
       "      original_shape_Sphericity  ...        Volume  Subtlety  \\\n",
       "2646                   0.664923  ...    140.178680  4.333333   \n",
       "2647                   0.697558  ...    182.381630  2.500000   \n",
       "2648                   0.597379  ...    127.207670  3.000000   \n",
       "2649                   0.708770  ...     81.383582  5.000000   \n",
       "2650                   0.635278  ...  25205.225767  5.000000   \n",
       "\n",
       "      Internalstructure  Calcification  Sphericity    Margin  Lobulation  \\\n",
       "2646                1.0            6.0    3.666667  2.333333    2.333333   \n",
       "2647                1.0            6.0    4.500000  2.000000    1.000000   \n",
       "2648                1.0            6.0    3.500000  3.500000    1.500000   \n",
       "2649                1.0            6.0    4.000000  5.000000    1.000000   \n",
       "2650                1.0            4.0    5.000000  5.000000    3.000000   \n",
       "\n",
       "      Spiculation   Texture  Malignancy  \n",
       "2646          3.0  3.333333         4.0  \n",
       "2647          1.5  1.000000         4.0  \n",
       "2648          1.0  5.000000         4.0  \n",
       "2649          1.0  5.000000         2.0  \n",
       "2650          3.0  5.000000         2.0  \n",
       "\n",
       "[5 rows x 118 columns]"
      ]
     },
     "execution_count": 71,
     "metadata": {},
     "output_type": "execute_result"
    }
   ],
   "source": [
    "main_dataset=pd.read_csv(pyradiomicsPath)\n",
    "main_dataset.tail()"
   ]
  },
  {
   "cell_type": "markdown",
   "id": "4e619e08",
   "metadata": {},
   "source": [
    "## Random Forest Classifier Pyradiomics"
   ]
  },
  {
   "cell_type": "markdown",
   "id": "eb010bec",
   "metadata": {},
   "source": [
    "Let's now test the theory that if we had more features it would be better, as we proposed in the Pylidc part of this notebook.<br>\n",
    "With Pyradiomics we were able to extract about 100 features to train our model.<br>"
   ]
  },
  {
   "cell_type": "markdown",
   "id": "7dc3f844",
   "metadata": {},
   "source": [
    "### Data Split 1"
   ]
  },
  {
   "cell_type": "code",
   "execution_count": 72,
   "id": "02ff2132",
   "metadata": {},
   "outputs": [],
   "source": [
    "features_collumns=main_dataset.drop('Malignancy',axis=1)\n",
    "has_cancer_collumns=main_dataset['Malignancy']\n",
    "\n",
    "features_treino, features_teste, has_cancer_treino, has_cancer_teste=train_test_split(features_collumns,has_cancer_collumns, test_size=0.2)"
   ]
  },
  {
   "cell_type": "markdown",
   "id": "069397c5",
   "metadata": {},
   "source": [
    "### Random Forest Pyradiomics 1"
   ]
  },
  {
   "cell_type": "markdown",
   "id": "365fcfed",
   "metadata": {},
   "source": [
    "We will be doing two random forests for pyradiomics<br>\n",
    "The first we will use to get an estimate of the maximum complexity of one tree in a forest for the second data split"
   ]
  },
  {
   "cell_type": "markdown",
   "id": "a0594099",
   "metadata": {},
   "source": [
    "#### Random Search and data fitting"
   ]
  },
  {
   "cell_type": "code",
   "execution_count": 79,
   "id": "d5d29c6d",
   "metadata": {},
   "outputs": [
    {
     "name": "stdout",
     "output_type": "stream",
     "text": [
      "Best hyperparameters: {'criterion': 'gini', 'max_depth': 14, 'max_features': 'log2', 'min_samples_split': 13, 'n_estimators': 194}\n"
     ]
    }
   ],
   "source": [
    "RandomSearch = RandomizedSearchCV(RandomForest, param_distributions = Range, n_iter=5, n_jobs=(-1))\n",
    "RandomSearch.fit(features_treino, has_cancer_treino)\n",
    "Best_Random_Search = RandomSearch.best_estimator_\n",
    "print('Best hyperparameters:',  RandomSearch.best_params_)"
   ]
  },
  {
   "cell_type": "markdown",
   "id": "706b2dd3",
   "metadata": {},
   "source": [
    "#### Accuracy"
   ]
  },
  {
   "cell_type": "code",
   "execution_count": 80,
   "id": "9008d21f",
   "metadata": {},
   "outputs": [
    {
     "name": "stdout",
     "output_type": "stream",
     "text": [
      "0.5725047080979284\n"
     ]
    }
   ],
   "source": [
    "has_cancer_prediction_BestRandomSearch = Best_Random_Search.predict(features_teste)\n",
    "accuracy_BestRandomSearch = accuracy_score(has_cancer_teste, has_cancer_prediction_BestRandomSearch)\n",
    "print(accuracy_BestRandomSearch)"
   ]
  },
  {
   "cell_type": "markdown",
   "id": "b5a19244",
   "metadata": {},
   "source": [
    "#### Confusion Matrix"
   ]
  },
  {
   "cell_type": "code",
   "execution_count": 81,
   "id": "2044cf39",
   "metadata": {},
   "outputs": [
    {
     "data": {
      "text/plain": [
       "<sklearn.metrics._plot.confusion_matrix.ConfusionMatrixDisplay at 0x1d680290ed0>"
      ]
     },
     "execution_count": 81,
     "metadata": {},
     "output_type": "execute_result"
    },
    {
     "data": {
      "image/png": "[encoded data removed]",
      "text/plain": [
       "<Figure size 640x480 with 2 Axes>"
      ]
     },
     "metadata": {},
     "output_type": "display_data"
    }
   ],
   "source": [
    "cmrandom=confusion_matrix(has_cancer_teste, has_cancer_prediction_BestRandomSearch)\n",
    "ConfusionMatrixDisplay(confusion_matrix=cmrandom).plot()"
   ]
  },
  {
   "cell_type": "markdown",
   "id": "84e89537",
   "metadata": {},
   "source": [
    "### Data Split 2"
   ]
  },
  {
   "cell_type": "markdown",
   "id": "8a49e54f",
   "metadata": {},
   "source": [
    "We'll use the \"A scaling law\n",
    "for the validation-set training-set size ratio\" paper by Isabelle Guyon findings to try and optimize our data split or an adaptation of the findings to our case.<br>\n",
    "In the paper it's said that the best split is given by $\\sqrt{}$ ln($\\frac{N}{hmax}$)<br>\n",
    "N beeing the number of families of recognizers in an finite H<br>\n",
    "hmax beeing the largest complexity of those families<br>\n",
    "<br>\n",
    "\n",
    "So for our random forest we are going to do a small adaptation in the hopes that it improves the accuracy:<br>\n",
    "- N is going to be the number of trees in the forest<br>\n",
    "- hmax the complexity of the trees.<br>\n",
    "<br>\n",
    "We'll use the tree from pyradiomics random forest 1 to make the calculations<br>\n"
   ]
  },
  {
   "cell_type": "markdown",
   "id": "641be7d2",
   "metadata": {},
   "source": [
    "#### Setting N"
   ]
  },
  {
   "cell_type": "code",
   "execution_count": 82,
   "id": "87bb8dbb",
   "metadata": {},
   "outputs": [
    {
     "name": "stdout",
     "output_type": "stream",
     "text": [
      "194\n"
     ]
    }
   ],
   "source": [
    "N=RandomSearch.best_params_['n_estimators']\n",
    "print(N)"
   ]
  },
  {
   "cell_type": "markdown",
   "id": "51735d8e",
   "metadata": {},
   "source": [
    "#### Setting hmax"
   ]
  },
  {
   "cell_type": "markdown",
   "id": "fce95db9",
   "metadata": {},
   "source": [
    "The complexity of one tree is determined by bigO(tkd) beeing:<br>\n",
    "- t: number training examples<br>\n",
    "- k: number of features<br>\n",
    "- d: depth of decision tree<br>\n"
   ]
  },
  {
   "cell_type": "code",
   "execution_count": 83,
   "id": "a8adf1b6",
   "metadata": {},
   "outputs": [
    {
     "name": "stdout",
     "output_type": "stream",
     "text": [
      "hmax=866.7156561331917 t=13 k=4.762173934797756 d=14\n"
     ]
    }
   ],
   "source": [
    "t=RandomSearch.best_params_['min_samples_split']\n",
    "if (RandomSearch.best_params_['max_features']=='sqrt'):\n",
    "    k=math.sqrt(117)\n",
    "else:\n",
    "    k=math.log(117)\n",
    "\n",
    "d=RandomSearch.best_params_['max_depth']\n",
    "\n",
    "\n",
    "hmax=t*k*d\n",
    "hmax=hmax\n",
    "print (f\"hmax={hmax} t={t} k={k} d={d}\")"
   ]
  },
  {
   "cell_type": "markdown",
   "id": "5d697fbc",
   "metadata": {},
   "source": [
    "#### Setting $\\sqrt{}$ ln($\\frac{N}{hmax}$)"
   ]
  },
  {
   "cell_type": "code",
   "execution_count": 84,
   "id": "0ef080fb",
   "metadata": {},
   "outputs": [
    {
     "name": "stdout",
     "output_type": "stream",
     "text": [
      "0.22383\n",
      "1.4968684438306044\n",
      "0.47310675328090596\n"
     ]
    }
   ],
   "source": [
    "result=N/hmax*100000\n",
    "result=math.trunc(result)/100000\n",
    "print(result)\n",
    "log=abs(math.log(result))\n",
    "print(log)\n",
    "split=math.sqrt(result)\n",
    "print(split)"
   ]
  },
  {
   "cell_type": "markdown",
   "id": "b494f365",
   "metadata": {},
   "source": [
    "#### Spliting with new split value"
   ]
  },
  {
   "cell_type": "code",
   "execution_count": 85,
   "id": "f5dac521",
   "metadata": {},
   "outputs": [],
   "source": [
    "features_collumns=main_dataset.drop('Malignancy',axis=1)\n",
    "has_cancer_collumns=main_dataset['Malignancy']\n",
    "\n",
    "features_treino, features_teste, has_cancer_treino, has_cancer_teste=train_test_split(features_collumns,has_cancer_collumns, test_size=split)"
   ]
  },
  {
   "cell_type": "markdown",
   "id": "efc295ec",
   "metadata": {},
   "source": [
    "### Random Forest Pyradiomics 2"
   ]
  },
  {
   "cell_type": "markdown",
   "id": "0423001f",
   "metadata": {},
   "source": [
    "#### Random Forest with same hyperparameters"
   ]
  },
  {
   "cell_type": "code",
   "execution_count": 86,
   "id": "46f99bb0",
   "metadata": {},
   "outputs": [
    {
     "data": {
      "text/html": [
       "<style>#sk-container-id-8 {color: black;}#sk-container-id-8 pre{padding: 0;}#sk-container-id-8 div.sk-toggleable {background-color: white;}#sk-container-id-8 label.sk-toggleable__label {cursor: pointer;display: block;width: 100%;margin-bottom: 0;padding: 0.3em;box-sizing: border-box;text-align: center;}#sk-container-id-8 label.sk-toggleable__label-arrow:before {content: \"▸\";float: left;margin-right: 0.25em;color: #696969;}#sk-container-id-8 label.sk-toggleable__label-arrow:hover:before {color: black;}#sk-container-id-8 div.sk-estimator:hover label.sk-toggleable__label-arrow:before {color: black;}#sk-container-id-8 div.sk-toggleable__content {max-height: 0;max-width: 0;overflow: hidden;text-align: left;background-color: #f0f8ff;}#sk-container-id-8 div.sk-toggleable__content pre {margin: 0.2em;color: black;border-radius: 0.25em;background-color: #f0f8ff;}#sk-container-id-8 input.sk-toggleable__control:checked~div.sk-toggleable__content {max-height: 200px;max-width: 100%;overflow: auto;}#sk-container-id-8 input.sk-toggleable__control:checked~label.sk-toggleable__label-arrow:before {content: \"▾\";}#sk-container-id-8 div.sk-estimator input.sk-toggleable__control:checked~label.sk-toggleable__label {background-color: #d4ebff;}#sk-container-id-8 div.sk-label input.sk-toggleable__control:checked~label.sk-toggleable__label {background-color: #d4ebff;}#sk-container-id-8 input.sk-hidden--visually {border: 0;clip: rect(1px 1px 1px 1px);clip: rect(1px, 1px, 1px, 1px);height: 1px;margin: -1px;overflow: hidden;padding: 0;position: absolute;width: 1px;}#sk-container-id-8 div.sk-estimator {font-family: monospace;background-color: #f0f8ff;border: 1px dotted black;border-radius: 0.25em;box-sizing: border-box;margin-bottom: 0.5em;}#sk-container-id-8 div.sk-estimator:hover {background-color: #d4ebff;}#sk-container-id-8 div.sk-parallel-item::after {content: \"\";width: 100%;border-bottom: 1px solid gray;flex-grow: 1;}#sk-container-id-8 div.sk-label:hover label.sk-toggleable__label {background-color: #d4ebff;}#sk-container-id-8 div.sk-serial::before {content: \"\";position: absolute;border-left: 1px solid gray;box-sizing: border-box;top: 0;bottom: 0;left: 50%;z-index: 0;}#sk-container-id-8 div.sk-serial {display: flex;flex-direction: column;align-items: center;background-color: white;padding-right: 0.2em;padding-left: 0.2em;position: relative;}#sk-container-id-8 div.sk-item {position: relative;z-index: 1;}#sk-container-id-8 div.sk-parallel {display: flex;align-items: stretch;justify-content: center;background-color: white;position: relative;}#sk-container-id-8 div.sk-item::before, #sk-container-id-8 div.sk-parallel-item::before {content: \"\";position: absolute;border-left: 1px solid gray;box-sizing: border-box;top: 0;bottom: 0;left: 50%;z-index: -1;}#sk-container-id-8 div.sk-parallel-item {display: flex;flex-direction: column;z-index: 1;position: relative;background-color: white;}#sk-container-id-8 div.sk-parallel-item:first-child::after {align-self: flex-end;width: 50%;}#sk-container-id-8 div.sk-parallel-item:last-child::after {align-self: flex-start;width: 50%;}#sk-container-id-8 div.sk-parallel-item:only-child::after {width: 0;}#sk-container-id-8 div.sk-dashed-wrapped {border: 1px dashed gray;margin: 0 0.4em 0.5em 0.4em;box-sizing: border-box;padding-bottom: 0.4em;background-color: white;}#sk-container-id-8 div.sk-label label {font-family: monospace;font-weight: bold;display: inline-block;line-height: 1.2em;}#sk-container-id-8 div.sk-label-container {text-align: center;}#sk-container-id-8 div.sk-container {/* jupyter's `normalize.less` sets `[hidden] { display: none; }` but bootstrap.min.css set `[hidden] { display: none !important; }` so we also need the `!important` here to be able to override the default hidden behavior on the sphinx rendered scikit-learn.org. See: https://github.com/scikit-learn/scikit-learn/issues/21755 */display: inline-block !important;position: relative;}#sk-container-id-8 div.sk-text-repr-fallback {display: none;}</style><div id=\"sk-container-id-8\" class=\"sk-top-container\"><div class=\"sk-text-repr-fallback\"><pre>RandomizedSearchCV(estimator=RandomForestClassifier(), n_iter=5, n_jobs=-1,\n",
       "                   param_distributions={&#x27;criterion&#x27;: [&#x27;gini&#x27;, &#x27;entropy&#x27;,\n",
       "                                                      &#x27;log_loss&#x27;],\n",
       "                                        &#x27;max_depth&#x27;: &lt;scipy.stats._distn_infrastructure.rv_discrete_frozen object at 0x000001D6816E75D0&gt;,\n",
       "                                        &#x27;max_features&#x27;: [&#x27;sqrt&#x27;, &#x27;log2&#x27;],\n",
       "                                        &#x27;min_samples_split&#x27;: &lt;scipy.stats._distn_infrastructure.rv_discrete_frozen object at 0x000001D6FB015750&gt;,\n",
       "                                        &#x27;n_estimators&#x27;: &lt;scipy.stats._distn_infrastructure.rv_discrete_frozen object at 0x000001D6FD28D7D0&gt;})</pre><b>In a Jupyter environment, please rerun this cell to show the HTML representation or trust the notebook. <br />On GitHub, the HTML representation is unable to render, please try loading this page with nbviewer.org.</b></div><div class=\"sk-container\" hidden><div class=\"sk-item sk-dashed-wrapped\"><div class=\"sk-label-container\"><div class=\"sk-label sk-toggleable\"><input class=\"sk-toggleable__control sk-hidden--visually\" id=\"sk-estimator-id-20\" type=\"checkbox\" ><label for=\"sk-estimator-id-20\" class=\"sk-toggleable__label sk-toggleable__label-arrow\">RandomizedSearchCV</label><div class=\"sk-toggleable__content\"><pre>RandomizedSearchCV(estimator=RandomForestClassifier(), n_iter=5, n_jobs=-1,\n",
       "                   param_distributions={&#x27;criterion&#x27;: [&#x27;gini&#x27;, &#x27;entropy&#x27;,\n",
       "                                                      &#x27;log_loss&#x27;],\n",
       "                                        &#x27;max_depth&#x27;: &lt;scipy.stats._distn_infrastructure.rv_discrete_frozen object at 0x000001D6816E75D0&gt;,\n",
       "                                        &#x27;max_features&#x27;: [&#x27;sqrt&#x27;, &#x27;log2&#x27;],\n",
       "                                        &#x27;min_samples_split&#x27;: &lt;scipy.stats._distn_infrastructure.rv_discrete_frozen object at 0x000001D6FB015750&gt;,\n",
       "                                        &#x27;n_estimators&#x27;: &lt;scipy.stats._distn_infrastructure.rv_discrete_frozen object at 0x000001D6FD28D7D0&gt;})</pre></div></div></div><div class=\"sk-parallel\"><div class=\"sk-parallel-item\"><div class=\"sk-item\"><div class=\"sk-label-container\"><div class=\"sk-label sk-toggleable\"><input class=\"sk-toggleable__control sk-hidden--visually\" id=\"sk-estimator-id-21\" type=\"checkbox\" ><label for=\"sk-estimator-id-21\" class=\"sk-toggleable__label sk-toggleable__label-arrow\">estimator: RandomForestClassifier</label><div class=\"sk-toggleable__content\"><pre>RandomForestClassifier()</pre></div></div></div><div class=\"sk-serial\"><div class=\"sk-item\"><div class=\"sk-estimator sk-toggleable\"><input class=\"sk-toggleable__control sk-hidden--visually\" id=\"sk-estimator-id-22\" type=\"checkbox\" ><label for=\"sk-estimator-id-22\" class=\"sk-toggleable__label sk-toggleable__label-arrow\">RandomForestClassifier</label><div class=\"sk-toggleable__content\"><pre>RandomForestClassifier()</pre></div></div></div></div></div></div></div></div></div></div>"
      ],
      "text/plain": [
       "RandomizedSearchCV(estimator=RandomForestClassifier(), n_iter=5, n_jobs=-1,\n",
       "                   param_distributions={'criterion': ['gini', 'entropy',\n",
       "                                                      'log_loss'],\n",
       "                                        'max_depth': <scipy.stats._distn_infrastructure.rv_discrete_frozen object at 0x000001D6816E75D0>,\n",
       "                                        'max_features': ['sqrt', 'log2'],\n",
       "                                        'min_samples_split': <scipy.stats._distn_infrastructure.rv_discrete_frozen object at 0x000001D6FB015750>,\n",
       "                                        'n_estimators': <scipy.stats._distn_infrastructure.rv_discrete_frozen object at 0x000001D6FD28D7D0>})"
      ]
     },
     "execution_count": 86,
     "metadata": {},
     "output_type": "execute_result"
    }
   ],
   "source": [
    "RandomSearch.fit(features_treino, has_cancer_treino)\n"
   ]
  },
  {
   "cell_type": "markdown",
   "id": "1d08649c",
   "metadata": {},
   "source": [
    "#### Accuracy"
   ]
  },
  {
   "cell_type": "code",
   "execution_count": 87,
   "id": "c003353b",
   "metadata": {},
   "outputs": [
    {
     "name": "stdout",
     "output_type": "stream",
     "text": [
      "0.8414342629482072\n"
     ]
    }
   ],
   "source": [
    "has_cancer_prediction_BestRandomSearch = Best_Random_Search.predict(features_teste)\n",
    "accuracy_BestRandomSearch = accuracy_score(has_cancer_teste, has_cancer_prediction_BestRandomSearch)\n",
    "print(accuracy_BestRandomSearch)"
   ]
  },
  {
   "cell_type": "markdown",
   "id": "0cf3a18f",
   "metadata": {},
   "source": [
    "#### Confusion Matrix"
   ]
  },
  {
   "cell_type": "code",
   "execution_count": 88,
   "id": "d32a81ec",
   "metadata": {},
   "outputs": [
    {
     "data": {
      "text/plain": [
       "<sklearn.metrics._plot.confusion_matrix.ConfusionMatrixDisplay at 0x1d680260210>"
      ]
     },
     "execution_count": 88,
     "metadata": {},
     "output_type": "execute_result"
    },
    {
     "data": {
      "image/png": "[encoded data removed]",
      "text/plain": [
       "<Figure size 640x480 with 2 Axes>"
      ]
     },
     "metadata": {},
     "output_type": "display_data"
    }
   ],
   "source": [
    "cmrandom=confusion_matrix(has_cancer_teste, has_cancer_prediction_BestRandomSearch)\n",
    "ConfusionMatrixDisplay(confusion_matrix=cmrandom).plot()"
   ]
  },
  {
   "cell_type": "markdown",
   "id": "8bf566ec",
   "metadata": {},
   "source": [
    "### Conclusions for pyradiomics data"
   ]
  },
  {
   "cell_type": "markdown",
   "id": "46b6ddb1",
   "metadata": {},
   "source": [
    "In this chapter we explored the accuracy of a Random Search Random Forest model applied to our pyradiomics extracted features and we also experimented with new data splits.<br>\n",
    "We can say that the problem that we thought was holding our model back in the random forest pylidc chapter (the lack of features) was not a real problem, because giving the model more features doesn't always mean better results, because data quality also matters, and with the 117 features we gave the model now that a big part of them were probably irrelevant and ended up only adding to the confusion of our model.<br>\n",
    "So we came to the conclusion that our Pylidc models were all beter than our pyradiomic one but when we adjusted the data split the accuracy of the pyradiomics increased by a lot in most of the runs of the code with some exceptions where it only increased a bit.<br>\n",
    "Other findings that we had were that the number of trees in the forest with this much features tends to be higher that in the pylidc model.<br>\n",
    "<br>\n",
    "In our new data split test we found out that calculating the data split this new way using $\\sqrt{}$ ln($\\frac{N}{hmax}$) improved our accuracy even if by a samll amount in the various runs of the code we did, so we can assume that improving the split is improving data quality."
   ]
  },
  {
   "cell_type": "markdown",
   "id": "283d2bbb-a1ad-4e94-8638-0a8bbcc6e192",
   "metadata": {},
   "source": [
    "## Final Notes"
   ]
  },
  {
   "cell_type": "markdown",
   "metadata": {},
   "source": [
    "We would also like to add that we also tested the random forest with the assumption of if malignancy>3 then its considered cancer and less than 3 is considered non cancer, and with the data spliting method proposed by Isabelle Guyon we reached 0.9993 accuracy. We have decided to discard this because assuming that something thats Moderately Suspicious is in fact cancer is already a reach.<br>\n",
    "In other words it might lead to a higher accuracy in the paper but in reality we think that it would add a inaccuracy to pacient diagnostics<br>\n",
    "Some other notes we took is that the data split by Isabelle Guyon still improved accuracy by 4% from 95% to 99%<br>\n",
    "<br>\n",
    "Due to the discarding of this assumption we didn't include it in this notebook, but all the values and accuracy numbers are still possible to visit in the BinaryRandomForest.ipynb notebook, the notebook doesn't have any conclusions because we discarded it but it still might be worth it to check the values\n"
   ]
  }
 ],
 "metadata": {
  "kernelspec": {
   "display_name": "Python 3 (ipykernel)",
   "language": "python",
   "name": "python3"
  },
  "language_info": {
   "codemirror_mode": {
    "name": "ipython",
    "version": 3
   },
   "file_extension": ".py",
   "mimetype": "text/x-python",
   "name": "python",
   "nbconvert_exporter": "python",
   "pygments_lexer": "ipython3",
   "version": "3.11.5"
  },
  "polyglot_notebook": {
   "kernelInfo": {
    "defaultKernelName": "csharp",
    "items": [
     {
      "aliases": [],
      "name": "csharp"
     }
    ]
   }
  }
 },
 "nbformat": 4,
 "nbformat_minor": 5
}
