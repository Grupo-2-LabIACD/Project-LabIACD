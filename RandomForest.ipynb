{
 "cells": [
  {
   "cell_type": "markdown",
   "id": "92ca2f94-a462-44ba-9905-24efb95d214b",
   "metadata": {},
   "source": [
    "# Random Forest Classifier "
   ]
  },
  {
   "cell_type": "markdown",
   "id": "4805d4d8-4bd6-4a38-b200-e4b5d6fbd9ca",
   "metadata": {},
   "source": [
    "Random Forest Classifier Steps: <br>\n",
    "- Load Main Dataset <br>\n",
    "- Split in Dataset for training and testing <br>\n",
    "- Build Bootstrapped Dataset <br>\n",
    "- Train Decision Trees on those datasets using diferent groups of features<br>\n",
    "- Get Test Data and for each entry on the table make it go through all the trees and take note of the results<br>\n",
    "- Agregate all the results from the different trees and choose the best value thorugh majority voting<br>\n",
    "            \n"
   ]
  },
  {
   "cell_type": "markdown",
   "id": "1d3dcfe7-5271-41cb-8f14-6ab0d2a56e6f",
   "metadata": {},
   "source": [
    "## Library imports"
   ]
  },
  {
   "cell_type": "code",
   "execution_count": 25,
   "id": "2286cdaa-f4d2-40fd-828d-8a5433ad8e57",
   "metadata": {},
   "outputs": [],
   "source": [
    "import pandas as pd\n",
    "import os\n",
    "from sklearn.ensemble import RandomForestClassifier\n",
    "from sklearn.metrics import accuracy_score, confusion_matrix, precision_score, recall_score, classification_report, ConfusionMatrixDisplay\n",
    "from sklearn.model_selection import RandomizedSearchCV, train_test_split\n",
    "from scipy.stats import randint\n",
    "\n",
    "\n",
    "#mainpath=\"C:\\\\Users\\\\alexa\\\\Desktop\\\\github\\\\Project-LabIACD\\\\metadata.csv\"\n",
    "mainpath=\"C:\\\\Users\\\\alexa\\\\Desktop\\\\Tudo\\\\Aulas\\\\LABS\\\\Project-LabIACD\\\\metadata.csv\""
   ]
  },
  {
   "cell_type": "markdown",
   "id": "baf162a7",
   "metadata": {},
   "source": [
    "## Load Main Dataset"
   ]
  },
  {
   "cell_type": "code",
   "execution_count": 26,
   "id": "ec7b0585",
   "metadata": {},
   "outputs": [
    {
     "data": {
      "text/html": [
       "<div>\n",
       "<style scoped>\n",
       "    .dataframe tbody tr th:only-of-type {\n",
       "        vertical-align: middle;\n",
       "    }\n",
       "\n",
       "    .dataframe tbody tr th {\n",
       "        vertical-align: top;\n",
       "    }\n",
       "\n",
       "    .dataframe thead th {\n",
       "        text-align: right;\n",
       "    }\n",
       "</style>\n",
       "<table border=\"1\" class=\"dataframe\">\n",
       "  <thead>\n",
       "    <tr style=\"text-align: right;\">\n",
       "      <th></th>\n",
       "      <th>Subject ID</th>\n",
       "      <th>Study UID</th>\n",
       "      <th>Study Description</th>\n",
       "      <th>Study Date</th>\n",
       "      <th>Series ID</th>\n",
       "      <th>Series Description</th>\n",
       "      <th>Number of images</th>\n",
       "      <th>File Size (Bytes)</th>\n",
       "      <th>Collection Name</th>\n",
       "      <th>Modality</th>\n",
       "      <th>Manufacturer</th>\n",
       "    </tr>\n",
       "  </thead>\n",
       "  <tbody>\n",
       "    <tr>\n",
       "      <th>1303</th>\n",
       "      <td>LIDC-IDRI-0030</td>\n",
       "      <td>1.3.6.1.4.1.14519.5.2.1.6279.6001.573428694448...</td>\n",
       "      <td>NaN</td>\n",
       "      <td>2000-01-01 00:00:00.0</td>\n",
       "      <td>1.3.6.1.4.1.14519.5.2.1.6279.6001.986011151772...</td>\n",
       "      <td>NaN</td>\n",
       "      <td>119</td>\n",
       "      <td>62645518</td>\n",
       "      <td>LIDC-IDRI</td>\n",
       "      <td>CT</td>\n",
       "      <td>GE MEDICAL SYSTEMS</td>\n",
       "    </tr>\n",
       "    <tr>\n",
       "      <th>1304</th>\n",
       "      <td>LIDC-IDRI-0121</td>\n",
       "      <td>1.3.6.1.4.1.14519.5.2.1.6279.6001.985098410443...</td>\n",
       "      <td>NaN</td>\n",
       "      <td>2000-01-01 00:00:00.0</td>\n",
       "      <td>1.3.6.1.4.1.14519.5.2.1.6279.6001.987704869630...</td>\n",
       "      <td>NaN</td>\n",
       "      <td>1</td>\n",
       "      <td>13228740</td>\n",
       "      <td>LIDC-IDRI</td>\n",
       "      <td>CR</td>\n",
       "      <td>Philips Medical Systems</td>\n",
       "    </tr>\n",
       "    <tr>\n",
       "      <th>1305</th>\n",
       "      <td>LIDC-IDRI-0974</td>\n",
       "      <td>1.3.6.1.4.1.14519.5.2.1.6279.6001.214565862082...</td>\n",
       "      <td>NaN</td>\n",
       "      <td>2000-01-01 00:00:00.0</td>\n",
       "      <td>1.3.6.1.4.1.14519.5.2.1.6279.6001.991510467496...</td>\n",
       "      <td>NaN</td>\n",
       "      <td>101</td>\n",
       "      <td>53158868</td>\n",
       "      <td>LIDC-IDRI</td>\n",
       "      <td>CT</td>\n",
       "      <td>SIEMENS</td>\n",
       "    </tr>\n",
       "    <tr>\n",
       "      <th>1306</th>\n",
       "      <td>LIDC-IDRI-0473</td>\n",
       "      <td>1.3.6.1.4.1.14519.5.2.1.6279.6001.210105060472...</td>\n",
       "      <td>CT CHEST O CONTR</td>\n",
       "      <td>2000-01-01 00:00:00.0</td>\n",
       "      <td>1.3.6.1.4.1.14519.5.2.1.6279.6001.994459772950...</td>\n",
       "      <td>NaN</td>\n",
       "      <td>291</td>\n",
       "      <td>153155158</td>\n",
       "      <td>LIDC-IDRI</td>\n",
       "      <td>CT</td>\n",
       "      <td>GE MEDICAL SYSTEMS</td>\n",
       "    </tr>\n",
       "    <tr>\n",
       "      <th>1307</th>\n",
       "      <td>LIDC-IDRI-0493</td>\n",
       "      <td>1.3.6.1.4.1.14519.5.2.1.6279.6001.333362756208...</td>\n",
       "      <td>CHEST</td>\n",
       "      <td>2000-01-01 00:00:00.0</td>\n",
       "      <td>1.3.6.1.4.1.14519.5.2.1.6279.6001.997611074084...</td>\n",
       "      <td>NaN</td>\n",
       "      <td>285</td>\n",
       "      <td>150013636</td>\n",
       "      <td>LIDC-IDRI</td>\n",
       "      <td>CT</td>\n",
       "      <td>GE MEDICAL SYSTEMS</td>\n",
       "    </tr>\n",
       "  </tbody>\n",
       "</table>\n",
       "</div>"
      ],
      "text/plain": [
       "          Subject ID                                          Study UID  \\\n",
       "1303  LIDC-IDRI-0030  1.3.6.1.4.1.14519.5.2.1.6279.6001.573428694448...   \n",
       "1304  LIDC-IDRI-0121  1.3.6.1.4.1.14519.5.2.1.6279.6001.985098410443...   \n",
       "1305  LIDC-IDRI-0974  1.3.6.1.4.1.14519.5.2.1.6279.6001.214565862082...   \n",
       "1306  LIDC-IDRI-0473  1.3.6.1.4.1.14519.5.2.1.6279.6001.210105060472...   \n",
       "1307  LIDC-IDRI-0493  1.3.6.1.4.1.14519.5.2.1.6279.6001.333362756208...   \n",
       "\n",
       "     Study Description             Study Date  \\\n",
       "1303               NaN  2000-01-01 00:00:00.0   \n",
       "1304               NaN  2000-01-01 00:00:00.0   \n",
       "1305               NaN  2000-01-01 00:00:00.0   \n",
       "1306  CT CHEST O CONTR  2000-01-01 00:00:00.0   \n",
       "1307             CHEST  2000-01-01 00:00:00.0   \n",
       "\n",
       "                                              Series ID Series Description  \\\n",
       "1303  1.3.6.1.4.1.14519.5.2.1.6279.6001.986011151772...                NaN   \n",
       "1304  1.3.6.1.4.1.14519.5.2.1.6279.6001.987704869630...                NaN   \n",
       "1305  1.3.6.1.4.1.14519.5.2.1.6279.6001.991510467496...                NaN   \n",
       "1306  1.3.6.1.4.1.14519.5.2.1.6279.6001.994459772950...                NaN   \n",
       "1307  1.3.6.1.4.1.14519.5.2.1.6279.6001.997611074084...                NaN   \n",
       "\n",
       "      Number of images  File Size (Bytes) Collection Name Modality  \\\n",
       "1303               119           62645518       LIDC-IDRI       CT   \n",
       "1304                 1           13228740       LIDC-IDRI       CR   \n",
       "1305               101           53158868       LIDC-IDRI       CT   \n",
       "1306               291          153155158       LIDC-IDRI       CT   \n",
       "1307               285          150013636       LIDC-IDRI       CT   \n",
       "\n",
       "                 Manufacturer  \n",
       "1303       GE MEDICAL SYSTEMS  \n",
       "1304  Philips Medical Systems  \n",
       "1305                  SIEMENS  \n",
       "1306       GE MEDICAL SYSTEMS  \n",
       "1307       GE MEDICAL SYSTEMS  "
      ]
     },
     "execution_count": 26,
     "metadata": {},
     "output_type": "execute_result"
    }
   ],
   "source": [
    "main_dataset=pd.read_csv(mainpath)\n",
    "main_dataset.tail()\n"
   ]
  },
  {
   "cell_type": "markdown",
   "id": "afc0dbe3",
   "metadata": {},
   "source": [
    "## Spliting Training and Testing Datasets"
   ]
  },
  {
   "cell_type": "markdown",
   "id": "0e310b83",
   "metadata": {},
   "source": [
    "We are firstly going to make the data division based on Pareto´s Law (80%/20%) <br>\n",
    "And Later maybe try the division acording to the paper \"A scaling law\n",
    "for the validation-set training-set size ratio\" by Isabelle Guyon"
   ]
  },
  {
   "cell_type": "code",
   "execution_count": 27,
   "id": "121d8f12",
   "metadata": {},
   "outputs": [
    {
     "name": "stdout",
     "output_type": "stream",
     "text": [
      "divisao\n"
     ]
    }
   ],
   "source": [
    "collumn_name='Manufacturer'\n",
    "features_collumns=main_dataset.drop(collumn_name,axis=1)\n",
    "has_cancer_collumns=main_dataset[collumn_name]\n",
    "\n",
    "features_treino, features_teste, has_cancer_treino, has_cancer_teste=train_test_split(features_collumns,has_cancer_collumns, test_size=0.2)"
   ]
  },
  {
   "cell_type": "markdown",
   "id": "afda639b",
   "metadata": {},
   "source": [
    "## Random Forest Classifier"
   ]
  },
  {
   "cell_type": "markdown",
   "id": "d7abb0fb",
   "metadata": {},
   "source": [
    "Although we say in the index that we have to build the Bootstrapped Dataset the sklearn random forest classifier has the ability to do that for us alowing us to skip a step<br>\n",
    "<br>\n",
    "In this chapter we´ll have some sub-chapters so that we can play around with the random Forest Classifier to try and get the best possible model\n"
   ]
  },
  {
   "cell_type": "markdown",
   "id": "bc7a1df0",
   "metadata": {},
   "source": []
  }
 ],
 "metadata": {
  "kernelspec": {
   "display_name": "Python 3",
   "language": "python",
   "name": "python3"
  },
  "language_info": {
   "codemirror_mode": {
    "name": "ipython",
    "version": 3
   },
   "file_extension": ".py",
   "mimetype": "text/x-python",
   "name": "python",
   "nbconvert_exporter": "python",
   "pygments_lexer": "ipython3",
   "version": "3.11.6"
  },
  "polyglot_notebook": {
   "kernelInfo": {
    "defaultKernelName": "csharp",
    "items": [
     {
      "aliases": [],
      "name": "csharp"
     }
    ]
   }
  }
 },
 "nbformat": 4,
 "nbformat_minor": 5
}
