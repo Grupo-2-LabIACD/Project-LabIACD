{
 "cells": [
  {
   "cell_type": "markdown",
   "id": "92ca2f94-a462-44ba-9905-24efb95d214b",
   "metadata": {},
   "source": [
    "# Random Forest Classifier "
   ]
  },
  {
   "cell_type": "markdown",
   "id": "4805d4d8-4bd6-4a38-b200-e4b5d6fbd9ca",
   "metadata": {},
   "source": [
    "Random Forest Classifier Steps: <br>\n",
    "- Build Bootstrapped Dataset <br>\n",
    "- Train Decision Trees on those datasets using diferent groups of features<br>\n",
    "- Get Test Data and for each entry on the table make it go through all the trees and take note of the results<br>\n",
    "- Agregate all the results from the different trees and choose the best value thorugh majority voting<br>\n",
    "            \n"
   ]
  },
  {
   "cell_type": "markdown",
   "id": "6a71e634-6332-4cd6-842a-515e975e2e32",
   "metadata": {},
   "source": [
    "## Build Bootstrapped Dataset"
   ]
  },
  {
   "cell_type": "markdown",
   "id": "1d3dcfe7-5271-41cb-8f14-6ab0d2a56e6f",
   "metadata": {},
   "source": [
    "### Library imports"
   ]
  },
  {
   "cell_type": "code",
   "execution_count": 3,
   "id": "2286cdaa-f4d2-40fd-828d-8a5433ad8e57",
   "metadata": {},
   "outputs": [],
   "source": [
    "import pandas\n",
    "import sklearn\n",
    "import os\n"
   ]
  },
  {
   "cell_type": "markdown",
   "id": "baf162a7",
   "metadata": {},
   "source": [
    "### Load Main Dataset"
   ]
  },
  {
   "cell_type": "code",
   "execution_count": null,
   "id": "ec7b0585",
   "metadata": {},
   "outputs": [],
   "source": []
  }
 ],
 "metadata": {
  "kernelspec": {
   "display_name": "Python 3 (ipykernel)",
   "language": "python",
   "name": "python3"
  },
  "language_info": {
   "codemirror_mode": {
    "name": "ipython",
    "version": 3
   },
   "file_extension": ".py",
   "mimetype": "text/x-python",
   "name": "python",
   "nbconvert_exporter": "python",
   "pygments_lexer": "ipython3",
   "version": "3.11.5"
  }
 },
 "nbformat": 4,
 "nbformat_minor": 5
}
