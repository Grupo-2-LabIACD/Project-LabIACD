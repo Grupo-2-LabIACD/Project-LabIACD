{
 "cells": [
  {
   "cell_type": "markdown",
   "id": "92ca2f94-a462-44ba-9905-24efb95d214b",
   "metadata": {},
   "source": [
    "# Random Forest Classifier "
   ]
  },
  {
   "cell_type": "markdown",
   "id": "4805d4d8-4bd6-4a38-b200-e4b5d6fbd9ca",
   "metadata": {},
   "source": [
    "Random Forest Classifier Steps: <br>\n",
    "- Load Main Dataset <br>\n",
    "- Split in Dataset for training and testing <br>\n",
    "- Build Bootstrapped Dataset <br>\n",
    "- Train Decision Trees on those datasets using diferent groups of features<br>\n",
    "- Get Test Data and for each entry on the table make it go through all the trees and take note of the results<br>\n",
    "- Agregate all the results from the different trees and choose the best value thorugh majority voting<br>\n",
    "            \n"
   ]
  },
  {
   "cell_type": "markdown",
   "id": "1d3dcfe7-5271-41cb-8f14-6ab0d2a56e6f",
   "metadata": {},
   "source": [
    "## Library imports"
   ]
  },
  {
   "cell_type": "code",
   "execution_count": 1,
   "id": "2286cdaa-f4d2-40fd-828d-8a5433ad8e57",
   "metadata": {},
   "outputs": [],
   "source": [
    "import pandas as pd\n",
    "import numpy as np\n",
    "import os\n",
    "from sklearn.ensemble import RandomForestClassifier, RandomForestRegressor\n",
    "from sklearn.metrics import accuracy_score, confusion_matrix, precision_score, recall_score, ConfusionMatrixDisplay, explained_variance_score\n",
    "from sklearn.model_selection import RandomizedSearchCV, train_test_split\n",
    "from scipy.stats import randint\n",
    "from matplotlib import pyplot \n",
    "\n",
    "from sklearn.tree import export_graphviz\n",
    "from IPython.display import Image\n",
    "import graphviz\n",
    "\n",
    "\n",
    "#mainpath=\"C:\\\\Users\\\\alexa\\\\Desktop\\\\github\\\\Project-LabIACD\\\\metadata.csv\"\n",
    "mainpath=\"C:\\\\Users\\\\alexa\\\\Desktop\\\\Tudo\\\\Aulas\\\\LABS\\\\Project-LabIACD\\\\pylidc_grouped.csv\""
   ]
  },
  {
   "cell_type": "markdown",
   "id": "baf162a7",
   "metadata": {},
   "source": [
    "## Load Main Dataset"
   ]
  },
  {
   "cell_type": "code",
   "execution_count": 2,
   "id": "ec7b0585",
   "metadata": {},
   "outputs": [
    {
     "data": {
      "text/html": [
       "<div>\n",
       "<style scoped>\n",
       "    .dataframe tbody tr th:only-of-type {\n",
       "        vertical-align: middle;\n",
       "    }\n",
       "\n",
       "    .dataframe tbody tr th {\n",
       "        vertical-align: top;\n",
       "    }\n",
       "\n",
       "    .dataframe thead th {\n",
       "        text-align: right;\n",
       "    }\n",
       "</style>\n",
       "<table border=\"1\" class=\"dataframe\">\n",
       "  <thead>\n",
       "    <tr style=\"text-align: right;\">\n",
       "      <th></th>\n",
       "      <th>Subtlety</th>\n",
       "      <th>Internalstructure</th>\n",
       "      <th>Calcification</th>\n",
       "      <th>Sphericity</th>\n",
       "      <th>Margin</th>\n",
       "      <th>Lobulation</th>\n",
       "      <th>Spiculation</th>\n",
       "      <th>Texture</th>\n",
       "      <th>Malignancy</th>\n",
       "      <th>Malignancy_round</th>\n",
       "    </tr>\n",
       "  </thead>\n",
       "  <tbody>\n",
       "    <tr>\n",
       "      <th>2646</th>\n",
       "      <td>4.333333</td>\n",
       "      <td>1.0</td>\n",
       "      <td>6.0</td>\n",
       "      <td>3.666667</td>\n",
       "      <td>2.333333</td>\n",
       "      <td>2.333333</td>\n",
       "      <td>3.0</td>\n",
       "      <td>3.333333</td>\n",
       "      <td>4.0</td>\n",
       "      <td>4</td>\n",
       "    </tr>\n",
       "    <tr>\n",
       "      <th>2647</th>\n",
       "      <td>2.500000</td>\n",
       "      <td>1.0</td>\n",
       "      <td>6.0</td>\n",
       "      <td>4.500000</td>\n",
       "      <td>2.000000</td>\n",
       "      <td>1.000000</td>\n",
       "      <td>1.5</td>\n",
       "      <td>1.000000</td>\n",
       "      <td>3.5</td>\n",
       "      <td>4</td>\n",
       "    </tr>\n",
       "    <tr>\n",
       "      <th>2648</th>\n",
       "      <td>3.000000</td>\n",
       "      <td>1.0</td>\n",
       "      <td>6.0</td>\n",
       "      <td>3.500000</td>\n",
       "      <td>3.500000</td>\n",
       "      <td>1.500000</td>\n",
       "      <td>1.0</td>\n",
       "      <td>5.000000</td>\n",
       "      <td>3.5</td>\n",
       "      <td>4</td>\n",
       "    </tr>\n",
       "    <tr>\n",
       "      <th>2649</th>\n",
       "      <td>5.000000</td>\n",
       "      <td>1.0</td>\n",
       "      <td>6.0</td>\n",
       "      <td>4.000000</td>\n",
       "      <td>5.000000</td>\n",
       "      <td>1.000000</td>\n",
       "      <td>1.0</td>\n",
       "      <td>5.000000</td>\n",
       "      <td>2.0</td>\n",
       "      <td>2</td>\n",
       "    </tr>\n",
       "    <tr>\n",
       "      <th>2650</th>\n",
       "      <td>5.000000</td>\n",
       "      <td>1.0</td>\n",
       "      <td>4.0</td>\n",
       "      <td>5.000000</td>\n",
       "      <td>5.000000</td>\n",
       "      <td>3.000000</td>\n",
       "      <td>3.0</td>\n",
       "      <td>5.000000</td>\n",
       "      <td>2.5</td>\n",
       "      <td>3</td>\n",
       "    </tr>\n",
       "  </tbody>\n",
       "</table>\n",
       "</div>"
      ],
      "text/plain": [
       "      Subtlety  Internalstructure  Calcification  Sphericity    Margin  \\\n",
       "2646  4.333333                1.0            6.0    3.666667  2.333333   \n",
       "2647  2.500000                1.0            6.0    4.500000  2.000000   \n",
       "2648  3.000000                1.0            6.0    3.500000  3.500000   \n",
       "2649  5.000000                1.0            6.0    4.000000  5.000000   \n",
       "2650  5.000000                1.0            4.0    5.000000  5.000000   \n",
       "\n",
       "      Lobulation  Spiculation   Texture  Malignancy  Malignancy_round  \n",
       "2646    2.333333          3.0  3.333333         4.0                 4  \n",
       "2647    1.000000          1.5  1.000000         3.5                 4  \n",
       "2648    1.500000          1.0  5.000000         3.5                 4  \n",
       "2649    1.000000          1.0  5.000000         2.0                 2  \n",
       "2650    3.000000          3.0  5.000000         2.5                 3  "
      ]
     },
     "execution_count": 2,
     "metadata": {},
     "output_type": "execute_result"
    }
   ],
   "source": [
    "main_dataset=pd.read_csv(mainpath)\n",
    "main_dataset.tail()\n"
   ]
  },
  {
   "cell_type": "markdown",
   "id": "afc0dbe3",
   "metadata": {},
   "source": [
    "## Spliting Training and Testing Datasets"
   ]
  },
  {
   "cell_type": "markdown",
   "id": "0e310b83",
   "metadata": {},
   "source": [
    "We are firstly going to make the data division based on Pareto´s Law (80% training/20% testing) <br>\n",
    "And Later maybe try the division acording to the paper \"A scaling law\n",
    "for the validation-set training-set size ratio\" by Isabelle Guyon"
   ]
  },
  {
   "cell_type": "code",
   "execution_count": 3,
   "id": "121d8f12",
   "metadata": {},
   "outputs": [],
   "source": [
    "collumn_name='Malignancy_round'\n",
    "features_collumns=main_dataset.drop(collumn_name,axis=1)\n",
    "features_collumns=features_collumns.drop('Malignancy',axis=1)\n",
    "has_cancer_collumns=main_dataset[collumn_name]\n",
    "\n",
    "features_treino, features_teste, has_cancer_treino, has_cancer_teste=train_test_split(features_collumns,has_cancer_collumns, test_size=0.2)\n",
    "#has_cancer_collumns\n",
    "#features_collumns"
   ]
  },
  {
   "cell_type": "markdown",
   "id": "afda639b",
   "metadata": {},
   "source": [
    "## Random Forest Classifier"
   ]
  },
  {
   "cell_type": "markdown",
   "id": "d7abb0fb",
   "metadata": {},
   "source": [
    "Although we say in the index that we have to build the Bootstrapped Dataset the sklearn random forest classifier has the ability to do that for us alowing us to skip a step<br>\n",
    "<br>\n",
    "In this chapter we´ll have some sub-chapters so that we can play around with the random Forest Classifier to try and get the best possible model\n"
   ]
  },
  {
   "cell_type": "markdown",
   "id": "bc7a1df0",
   "metadata": {
    "jp-MarkdownHeadingCollapsed": true
   },
   "source": [
    "### Default Random Forest"
   ]
  },
  {
   "cell_type": "markdown",
   "id": "570b76a5",
   "metadata": {},
   "source": [
    "#### DataFitting"
   ]
  },
  {
   "cell_type": "code",
   "execution_count": 4,
   "id": "88ef9789",
   "metadata": {},
   "outputs": [
    {
     "data": {
      "text/html": [
       "<style>#sk-container-id-1 {color: black;}#sk-container-id-1 pre{padding: 0;}#sk-container-id-1 div.sk-toggleable {background-color: white;}#sk-container-id-1 label.sk-toggleable__label {cursor: pointer;display: block;width: 100%;margin-bottom: 0;padding: 0.3em;box-sizing: border-box;text-align: center;}#sk-container-id-1 label.sk-toggleable__label-arrow:before {content: \"▸\";float: left;margin-right: 0.25em;color: #696969;}#sk-container-id-1 label.sk-toggleable__label-arrow:hover:before {color: black;}#sk-container-id-1 div.sk-estimator:hover label.sk-toggleable__label-arrow:before {color: black;}#sk-container-id-1 div.sk-toggleable__content {max-height: 0;max-width: 0;overflow: hidden;text-align: left;background-color: #f0f8ff;}#sk-container-id-1 div.sk-toggleable__content pre {margin: 0.2em;color: black;border-radius: 0.25em;background-color: #f0f8ff;}#sk-container-id-1 input.sk-toggleable__control:checked~div.sk-toggleable__content {max-height: 200px;max-width: 100%;overflow: auto;}#sk-container-id-1 input.sk-toggleable__control:checked~label.sk-toggleable__label-arrow:before {content: \"▾\";}#sk-container-id-1 div.sk-estimator input.sk-toggleable__control:checked~label.sk-toggleable__label {background-color: #d4ebff;}#sk-container-id-1 div.sk-label input.sk-toggleable__control:checked~label.sk-toggleable__label {background-color: #d4ebff;}#sk-container-id-1 input.sk-hidden--visually {border: 0;clip: rect(1px 1px 1px 1px);clip: rect(1px, 1px, 1px, 1px);height: 1px;margin: -1px;overflow: hidden;padding: 0;position: absolute;width: 1px;}#sk-container-id-1 div.sk-estimator {font-family: monospace;background-color: #f0f8ff;border: 1px dotted black;border-radius: 0.25em;box-sizing: border-box;margin-bottom: 0.5em;}#sk-container-id-1 div.sk-estimator:hover {background-color: #d4ebff;}#sk-container-id-1 div.sk-parallel-item::after {content: \"\";width: 100%;border-bottom: 1px solid gray;flex-grow: 1;}#sk-container-id-1 div.sk-label:hover label.sk-toggleable__label {background-color: #d4ebff;}#sk-container-id-1 div.sk-serial::before {content: \"\";position: absolute;border-left: 1px solid gray;box-sizing: border-box;top: 0;bottom: 0;left: 50%;z-index: 0;}#sk-container-id-1 div.sk-serial {display: flex;flex-direction: column;align-items: center;background-color: white;padding-right: 0.2em;padding-left: 0.2em;position: relative;}#sk-container-id-1 div.sk-item {position: relative;z-index: 1;}#sk-container-id-1 div.sk-parallel {display: flex;align-items: stretch;justify-content: center;background-color: white;position: relative;}#sk-container-id-1 div.sk-item::before, #sk-container-id-1 div.sk-parallel-item::before {content: \"\";position: absolute;border-left: 1px solid gray;box-sizing: border-box;top: 0;bottom: 0;left: 50%;z-index: -1;}#sk-container-id-1 div.sk-parallel-item {display: flex;flex-direction: column;z-index: 1;position: relative;background-color: white;}#sk-container-id-1 div.sk-parallel-item:first-child::after {align-self: flex-end;width: 50%;}#sk-container-id-1 div.sk-parallel-item:last-child::after {align-self: flex-start;width: 50%;}#sk-container-id-1 div.sk-parallel-item:only-child::after {width: 0;}#sk-container-id-1 div.sk-dashed-wrapped {border: 1px dashed gray;margin: 0 0.4em 0.5em 0.4em;box-sizing: border-box;padding-bottom: 0.4em;background-color: white;}#sk-container-id-1 div.sk-label label {font-family: monospace;font-weight: bold;display: inline-block;line-height: 1.2em;}#sk-container-id-1 div.sk-label-container {text-align: center;}#sk-container-id-1 div.sk-container {/* jupyter's `normalize.less` sets `[hidden] { display: none; }` but bootstrap.min.css set `[hidden] { display: none !important; }` so we also need the `!important` here to be able to override the default hidden behavior on the sphinx rendered scikit-learn.org. See: https://github.com/scikit-learn/scikit-learn/issues/21755 */display: inline-block !important;position: relative;}#sk-container-id-1 div.sk-text-repr-fallback {display: none;}</style><div id=\"sk-container-id-1\" class=\"sk-top-container\"><div class=\"sk-text-repr-fallback\"><pre>RandomForestClassifier()</pre><b>In a Jupyter environment, please rerun this cell to show the HTML representation or trust the notebook. <br />On GitHub, the HTML representation is unable to render, please try loading this page with nbviewer.org.</b></div><div class=\"sk-container\" hidden><div class=\"sk-item\"><div class=\"sk-estimator sk-toggleable\"><input class=\"sk-toggleable__control sk-hidden--visually\" id=\"sk-estimator-id-1\" type=\"checkbox\" checked><label for=\"sk-estimator-id-1\" class=\"sk-toggleable__label sk-toggleable__label-arrow\">RandomForestClassifier</label><div class=\"sk-toggleable__content\"><pre>RandomForestClassifier()</pre></div></div></div></div></div>"
      ],
      "text/plain": [
       "RandomForestClassifier()"
      ]
     },
     "execution_count": 4,
     "metadata": {},
     "output_type": "execute_result"
    }
   ],
   "source": [
    "#RandomForest = RandomForestRegressor()\n",
    "RandomForest = RandomForestClassifier()\n",
    "RandomForest.fit(features_treino,has_cancer_treino)"
   ]
  },
  {
   "cell_type": "markdown",
   "id": "8f14e64c",
   "metadata": {},
   "source": [
    "#### Model Evaluation"
   ]
  },
  {
   "cell_type": "markdown",
   "id": "9bdce928",
   "metadata": {},
   "source": [
    "##### Prediction Part"
   ]
  },
  {
   "cell_type": "code",
   "execution_count": 5,
   "id": "6c1f2f34",
   "metadata": {},
   "outputs": [],
   "source": [
    "has_cancer_prediction=RandomForest.predict(features_teste)"
   ]
  },
  {
   "cell_type": "markdown",
   "id": "20d6bd6b",
   "metadata": {},
   "source": [
    "##### Accuracy Part"
   ]
  },
  {
   "cell_type": "code",
   "execution_count": 6,
   "id": "c89972a7",
   "metadata": {},
   "outputs": [
    {
     "name": "stdout",
     "output_type": "stream",
     "text": [
      "Accuracy = 0.6440677966101694 in a percentage of 100 = 64.40677966101694\n"
     ]
    }
   ],
   "source": [
    "#accuracy= explained_variance_score(has_cancer_teste, has_cancer_prediction)\n",
    "accuracy = accuracy_score(has_cancer_teste, has_cancer_prediction)\n",
    "print(f\"Accuracy = {accuracy} in a percentage of 100 = {accuracy*100}\")"
   ]
  },
  {
   "cell_type": "markdown",
   "id": "60572ec6",
   "metadata": {},
   "source": [
    "### Model Tuning"
   ]
  },
  {
   "cell_type": "markdown",
   "id": "7ffb0781",
   "metadata": {},
   "source": [
    "Now let's see if by changing the parameters we can get a better solution<br>\n",
    "<br>\n",
    "With sklearn we have some comands that help us with this such as RandomizedSearchCV, but let´s first talk about the parameters we'll be messing with:<br>\n",
    "- n_estimators: Represents the amount of Decision Trees in our Forest, we'll try to change the value in increments of 20 to try and find an \"optimal\" value between [50,400]<br>\n",
    "- criterion: criterion in the trees we'll be testing gini vs entropy<br>\n",
    "- max_features: the number of features that each tree will have, according to some studies the best values should be around $\\sqrt{TotalFeatures}$ or log<sub>2</sub>(TotalFeatures)<br>\n",
    "- min_samples_split: that represents the minimum samples to split a node<br>\n",
    "- max_depth: in changing this value we can optimize our model and reduce the risk of overfitting\n",
    "\n",
    "<br>\n"
   ]
  },
  {
   "cell_type": "markdown",
   "id": "65f6f02b",
   "metadata": {},
   "source": [
    "#### Stackable Improvements Assumption"
   ]
  },
  {
   "cell_type": "markdown",
   "id": "50754539",
   "metadata": {},
   "source": [
    "Note that this is only one proposal of a potential model for this problem where we are going to make some assumptions in order to find if those a are true.\n",
    "<br>\n",
    "The first of those is that we'll make the superficial and perhaps stupid assumption that if a parameter improves the accuracy when adjusted by himself that, the improvement is going to stack with the improvement that we get from tuning other parameter by themselfs.<br>\n",
    "<br>\n",
    "By the end we'll see if this assumption holds or not"
   ]
  },
  {
   "cell_type": "markdown",
   "id": "3c990f71",
   "metadata": {},
   "source": [
    "##### Finding the best Tree number"
   ]
  },
  {
   "cell_type": "markdown",
   "id": "dd900104",
   "metadata": {},
   "source": [
    "- For this we'll test the tree numbers in increments of 10 <br>\n",
    "- Our accuracy score for each number of trees will be given by an average of 5 tests <br>\n",
    "- After this we'll save the best value<br>"
   ]
  },
  {
   "cell_type": "code",
   "execution_count": 7,
   "id": "1f2a7445",
   "metadata": {},
   "outputs": [
    {
     "data": {
      "image/png": "[encoded data removed]",
      "text/plain": [
       "<Figure size 640x480 with 1 Axes>"
      ]
     },
     "metadata": {},
     "output_type": "display_data"
    },
    {
     "name": "stdout",
     "output_type": "stream",
     "text": [
      "Best tree value=300 accuracy = 0.6531073446327683\n"
     ]
    }
   ],
   "source": [
    "a=50\n",
    "b=400\n",
    "values=[]\n",
    "treenumber=[]\n",
    "for i in range (a,b,10):\n",
    "    average_accuracy=0\n",
    "\n",
    "    for k in range (5):\n",
    "        RandomForesttree = RandomForestClassifier(n_estimators=i, n_jobs=(-1))\n",
    "        RandomForesttree.fit(features_treino,has_cancer_treino)\n",
    "        has_cancer_prediction=RandomForesttree.predict(features_teste)\n",
    "        accuracy = accuracy_score(has_cancer_teste, has_cancer_prediction)\n",
    "        average_accuracy+=accuracy\n",
    "    values.append(average_accuracy/5)\n",
    "    treenumber.append(i)\n",
    "\n",
    "pyplot.plot(treenumber,values )\n",
    "pyplot.xlabel('trees')\n",
    "pyplot.ylabel('accuracy') \n",
    "pyplot.title('Correlation between trees and Accuracy')\n",
    "pyplot.show() \n",
    "\n",
    "values=np.array(values)\n",
    "index=np.where(values==np.max(values))\n",
    "besttree=treenumber[index[0][0]]\n",
    "print(f\"Best tree value={besttree} accuracy = {np.max(values)}\")"
   ]
  },
  {
   "cell_type": "markdown",
   "id": "9d060ef0",
   "metadata": {},
   "source": [
    "##### Finding the best criterion"
   ]
  },
  {
   "cell_type": "markdown",
   "id": "ce681425",
   "metadata": {},
   "source": [
    "We'll test three criterion:<br>\n",
    "- Gini<br>\n",
    "- Entropy<br>\n",
    "- Log Loss"
   ]
  },
  {
   "cell_type": "code",
   "execution_count": 8,
   "id": "47d16586",
   "metadata": {},
   "outputs": [],
   "source": [
    "accuracy_gini=0\n",
    "accuracy_entropy=0\n",
    "accuracy_logloss=0\n",
    "for i in range (5):\n",
    "    RandomForestGini = RandomForestClassifier(criterion=\"gini\", n_jobs=(-1))\n",
    "    RandomForestGini.fit(features_treino,has_cancer_treino)\n",
    "    has_cancer_predictionGini=RandomForestGini.predict(features_teste)\n",
    "    accuracy_gini_iter = accuracy_score(has_cancer_teste, has_cancer_predictionGini)\n",
    "    accuracy_gini+=accuracy_gini_iter\n",
    "\n",
    "    RandomForestEntropy = RandomForestClassifier(criterion=\"entropy\", n_jobs=(-1))\n",
    "    RandomForestEntropy.fit(features_treino,has_cancer_treino)\n",
    "    has_cancer_predictionEntropy=RandomForestEntropy.predict(features_teste)\n",
    "    accuracy_entropy_iter = accuracy_score(has_cancer_teste, has_cancer_predictionEntropy)\n",
    "    accuracy_entropy+=accuracy_entropy_iter\n",
    "\n",
    "    RandomForestlogloss = RandomForestClassifier(criterion=\"log_loss\", n_jobs=(-1))\n",
    "    RandomForestlogloss.fit(features_treino,has_cancer_treino)\n",
    "    has_cancer_predictionlogloss=RandomForestlogloss.predict(features_teste)\n",
    "    accuracy_logloss_iter = accuracy_score(has_cancer_teste, has_cancer_predictionlogloss)\n",
    "    accuracy_logloss+=accuracy_logloss_iter\n",
    "\n",
    "accuracy_gini=accuracy_gini/5\n",
    "accuracy_entropy=accuracy_entropy/5\n",
    "accuracy_logloss=accuracy_logloss/5\n",
    "\n",
    "bestcriterionacc=(np.max([accuracy_entropy, accuracy_gini, accuracy_logloss]))\n",
    "if bestcriterionacc==accuracy_gini:\n",
    "    bestcriterionname='gini'\n",
    "if bestcriterionacc==accuracy_entropy:\n",
    "    bestcriterionname='entropy'\n",
    "if bestcriterionacc==accuracy_logloss:\n",
    "    bestcriterionname='log_loss'"
   ]
  },
  {
   "cell_type": "code",
   "execution_count": 9,
   "id": "61c5ecb4",
   "metadata": {},
   "outputs": [
    {
     "name": "stdout",
     "output_type": "stream",
     "text": [
      "Accuracy Gini = 0.6440677966101694 in a percentage of 100 = 64.40677966101694\n",
      "Accuracy Entropy = 0.6440677966101694 in a percentage of 100 = 64.40677966101694\n",
      "Accuracy Log Loss = 0.6440677966101694 in a percentage of 100 = 64.40677966101694\n",
      "Best criterion = log_loss with an accuracy of = 0.6440677966101694\n"
     ]
    }
   ],
   "source": [
    "print(f\"Accuracy Gini = {accuracy_gini} in a percentage of 100 = {accuracy_gini*100}\")\n",
    "print(f\"Accuracy Entropy = {accuracy_entropy} in a percentage of 100 = {accuracy_entropy*100}\")\n",
    "print(f\"Accuracy Log Loss = {accuracy_logloss} in a percentage of 100 = {accuracy_logloss*100}\")\n",
    "print(f\"Best criterion = {bestcriterionname} with an accuracy of = {bestcriterionacc}\")"
   ]
  },
  {
   "cell_type": "markdown",
   "id": "3f7f25ea",
   "metadata": {},
   "source": [
    "##### Finding the best minimum samples split"
   ]
  },
  {
   "cell_type": "code",
   "execution_count": 19,
   "id": "62b20462",
   "metadata": {},
   "outputs": [
    {
     "data": {
      "image/png": "[encoded data removed]",
      "text/plain": [
       "<Figure size 640x480 with 1 Axes>"
      ]
     },
     "metadata": {},
     "output_type": "display_data"
    },
    {
     "name": "stdout",
     "output_type": "stream",
     "text": [
      "Best Sample value=10, max accuracy=0.6632768361581921\n"
     ]
    }
   ],
   "source": [
    "lower=2\n",
    "upper=40\n",
    "values=[]\n",
    "samplesnumber=[]\n",
    "for i in range (lower,upper):\n",
    "    average_accuracy=0\n",
    "\n",
    "    for k in range (5):\n",
    "        RandomForestSamples = RandomForestClassifier(min_samples_split=i, n_jobs=(-1))\n",
    "        RandomForestSamples.fit(features_treino,has_cancer_treino)\n",
    "        has_cancer_prediction=RandomForestSamples.predict(features_teste)\n",
    "        accuracy = accuracy_score(has_cancer_teste, has_cancer_prediction)\n",
    "        average_accuracy+=accuracy\n",
    "    values.append(average_accuracy/5)\n",
    "    samplesnumber.append(i)\n",
    "    \n",
    "pyplot.plot(samplesnumber,values )\n",
    "pyplot.xlabel('samples')\n",
    "pyplot.ylabel('accuracy') \n",
    "pyplot.title('Correlation between minimum samples and Accuracy')\n",
    "pyplot.show()\n",
    "\n",
    "\n",
    "values=np.array(values)\n",
    "index=np.where(values==np.max(values))\n",
    "bestsample=samplesnumber[index[0][0]]\n",
    "print(f\"Best Sample value={bestsample}, max accuracy={np.max(values)}\")\n"
   ]
  },
  {
   "cell_type": "markdown",
   "id": "5978c3ab",
   "metadata": {},
   "source": [
    "##### Finding the best Tree deepth"
   ]
  },
  {
   "cell_type": "code",
   "execution_count": 20,
   "id": "3251ec89",
   "metadata": {},
   "outputs": [
    {
     "data": {
      "image/png": "[encoded data removed]",
      "text/plain": [
       "<Figure size 640x480 with 1 Axes>"
      ]
     },
     "metadata": {},
     "output_type": "display_data"
    },
    {
     "name": "stdout",
     "output_type": "stream",
     "text": [
      "Best depth value=15, max accuracy=0.6516007532956685\n"
     ]
    }
   ],
   "source": [
    "lower=2\n",
    "upper=20\n",
    "values=[]\n",
    "depthnumber=[]\n",
    "for i in range (lower,upper):\n",
    "    average_accuracy=0\n",
    "\n",
    "    for k in range (5):\n",
    "        RandomForestdepth = RandomForestClassifier(max_depth=i, n_jobs=(-1))\n",
    "        RandomForestdepth.fit(features_treino,has_cancer_treino)\n",
    "        has_cancer_prediction=RandomForestdepth.predict(features_teste)\n",
    "        accuracy = accuracy_score(has_cancer_teste, has_cancer_prediction)\n",
    "        average_accuracy+=accuracy\n",
    "    values.append(average_accuracy/5)\n",
    "    depthnumber.append(i)\n",
    "\n",
    "\n",
    "\n",
    "pyplot.plot(depthnumber,values )\n",
    "pyplot.xlabel('depth')\n",
    "pyplot.ylabel('accuracy') \n",
    "pyplot.title('Correlation tree depth and Accuracy')\n",
    "pyplot.show()\n",
    "\n",
    "values=np.array(values)\n",
    "index=np.where(values==np.max(values))\n",
    "bestdepthnumber=depthnumber[index[0][0]]\n",
    "print(f\"Best depth value={bestdepthnumber}, max accuracy={np.max(values)}\")"
   ]
  },
  {
   "cell_type": "markdown",
   "id": "4e55cc7e",
   "metadata": {},
   "source": [
    "##### Finding the best Max Features"
   ]
  },
  {
   "cell_type": "markdown",
   "id": "8d9124a3",
   "metadata": {},
   "source": [
    "In this we have two options $\\sqrt{TotalFeatures}$ or log<sub>2</sub>(TotalFeatures), that have been shown by studies to be the best two value.<br> But these two values tend to be very similar unless TotalFeatures is a high number. "
   ]
  },
  {
   "cell_type": "code",
   "execution_count": 12,
   "id": "173022b9",
   "metadata": {},
   "outputs": [
    {
     "name": "stdout",
     "output_type": "stream",
     "text": [
      "Accuracy Sqr= 0.6572504708097928 in a percentage of 100 = 65.72504708097928\n",
      "Accuracy Log= 0.6572504708097928 in a percentage of 100 = 65.72504708097928\n",
      "Difference = 0.0\n",
      "Best Max Samples = log2 with an accuracy of = 0.6572504708097928\n"
     ]
    }
   ],
   "source": [
    "accuracy_sqr=0\n",
    "accuracy_log=0\n",
    "for i in range (5):\n",
    "    RandomForestsqr = RandomForestClassifier(max_features='sqrt', n_jobs=(-1))\n",
    "    RandomForestsqr.fit(features_treino,has_cancer_treino)\n",
    "    has_cancer_predictionsqr=RandomForestsqr.predict(features_teste)\n",
    "    accuracy_sqr_iter = accuracy_score(has_cancer_teste, has_cancer_predictionsqr)\n",
    "    accuracy_sqr+=accuracy_sqr_iter\n",
    "\n",
    "    RandomForestlog = RandomForestClassifier(max_features='log2', n_jobs=(-1))\n",
    "    RandomForestlog.fit(features_treino,has_cancer_treino)\n",
    "    has_cancer_predictionlog=RandomForestlog.predict(features_teste)\n",
    "    accuracy_log_iter = accuracy_score(has_cancer_teste, has_cancer_predictionlog)\n",
    "    accuracy_log+=accuracy_log_iter\n",
    "\n",
    "accuracy_sqr=accuracy_sqr/5\n",
    "accuracy_log=accuracy_log/5\n",
    "\n",
    "best_maxsamples_acc=(np.max([accuracy_sqr, accuracy_log,]))\n",
    "if best_maxsamples_acc==accuracy_sqr:\n",
    "    best_max_samples_name='sqrt'\n",
    "if best_maxsamples_acc==accuracy_log:\n",
    "    best_max_samples_name='log2'\n",
    "\n",
    "print(f\"Accuracy Sqr= {accuracy_sqr} in a percentage of 100 = {accuracy_sqr*100}\")\n",
    "print(f\"Accuracy Log= {accuracy_log} in a percentage of 100 = {accuracy_log*100}\")\n",
    "print(f\"Difference = {abs(accuracy_log-accuracy_sqr)}\")\n",
    "print(f\"Best Max Samples = {best_max_samples_name} with an accuracy of = {best_maxsamples_acc}\")"
   ]
  },
  {
   "cell_type": "markdown",
   "id": "60c61422",
   "metadata": {},
   "source": [
    "##### Model with \"optimal stacking\""
   ]
  },
  {
   "cell_type": "code",
   "execution_count": 13,
   "id": "ae0174da",
   "metadata": {},
   "outputs": [
    {
     "name": "stdout",
     "output_type": "stream",
     "text": [
      "Optimal stacking model accuracy = 0.6572504708097928\n"
     ]
    }
   ],
   "source": [
    "accuracy_optimal=0\n",
    "for i in range(5):\n",
    "    RandomForestoptimal = RandomForestClassifier(n_estimators=besttree, criterion=bestcriterionname, min_samples_split=bestsample, max_features=bestsample, max_depth=bestdepthnumber, n_jobs=(-1))\n",
    "    RandomForestoptimal.fit(features_treino,has_cancer_treino)\n",
    "    has_cancer_predictionoptimal=RandomForestoptimal.predict(features_teste)\n",
    "    accuracy_optimal_iter = accuracy_score(has_cancer_teste, has_cancer_predictionoptimal)\n",
    "    accuracy_optimal+=accuracy_optimal_iter\n",
    "accuracy_optimal=accuracy_optimal/5\n",
    "\n",
    "print (f\"Optimal stacking model accuracy = {accuracy_optimal}\")"
   ]
  },
  {
   "cell_type": "markdown",
   "id": "f0731517",
   "metadata": {},
   "source": [
    "###### Confusion Matrix \"optimal stacking\""
   ]
  },
  {
   "cell_type": "code",
   "execution_count": 14,
   "id": "b4ef3088",
   "metadata": {},
   "outputs": [
    {
     "data": {
      "text/plain": [
       "<sklearn.metrics._plot.confusion_matrix.ConfusionMatrixDisplay at 0x20818f4c190>"
      ]
     },
     "execution_count": 14,
     "metadata": {},
     "output_type": "execute_result"
    },
    {
     "data": {
      "image/png": "[encoded data removed]",
      "text/plain": [
       "<Figure size 640x480 with 2 Axes>"
      ]
     },
     "metadata": {},
     "output_type": "display_data"
    }
   ],
   "source": [
    "cm=confusion_matrix(has_cancer_teste, has_cancer_predictionoptimal)\n",
    "ConfusionMatrixDisplay(confusion_matrix=cm).plot()"
   ]
  },
  {
   "cell_type": "markdown",
   "id": "a4d6d697",
   "metadata": {},
   "source": [
    "###### Tree from \"optimal stacking\" model"
   ]
  },
  {
   "cell_type": "code",
   "execution_count": 15,
   "id": "a2661a8d",
   "metadata": {},
   "outputs": [
    {
     "data": {
      "image/svg+xml": [
       "<?xml version=\"1.0\" encoding=\"UTF-8\" standalone=\"no\"?>\n",
       "<!DOCTYPE svg PUBLIC \"-//W3C//DTD SVG 1.1//EN\"\n",
       " \"http://www.w3.org/Graphics/SVG/1.1/DTD/svg11.dtd\">\n",
       "<!-- Generated by graphviz version 9.0.0 (20230911.1827)\n",
       " -->\n",
       "<!-- Title: Tree Pages: 1 -->\n",
       "<svg width=\"1128pt\" height=\"325pt\"\n",
       " viewBox=\"0.00 0.00 1127.50 324.50\" xmlns=\"http://www.w3.org/2000/svg\" xmlns:xlink=\"http://www.w3.org/1999/xlink\">\n",
       "<g id=\"graph0\" class=\"graph\" transform=\"scale(1 1) rotate(0) translate(4 320.5)\">\n",
       "<title>Tree</title>\n",
       "<polygon fill=\"white\" stroke=\"none\" points=\"-4,4 -4,-320.5 1123.5,-320.5 1123.5,4 -4,4\"/>\n",
       "<!-- 0 -->\n",
       "<g id=\"node1\" class=\"node\">\n",
       "<title>0</title>\n",
       "<polygon fill=\"#b9f6eb\" stroke=\"black\" points=\"673.5,-316.5 387.5,-316.5 387.5,-259 673.5,-259 673.5,-316.5\"/>\n",
       "<text text-anchor=\"middle\" x=\"530.5\" y=\"-299.2\" font-family=\"Helvetica,sans-Serif\" font-size=\"14.00\">Calcification &lt;= 4.583</text>\n",
       "<text text-anchor=\"middle\" x=\"530.5\" y=\"-282.7\" font-family=\"Helvetica,sans-Serif\" font-size=\"14.00\">samples = 100.0%</text>\n",
       "<text text-anchor=\"middle\" x=\"530.5\" y=\"-266.2\" font-family=\"Helvetica,sans-Serif\" font-size=\"14.00\">value = [0.107, 0.207, 0.485, 0.155, 0.046]</text>\n",
       "</g>\n",
       "<!-- 1 -->\n",
       "<g id=\"node2\" class=\"node\">\n",
       "<title>1</title>\n",
       "<polygon fill=\"#eca470\" stroke=\"black\" points=\"513,-223 260,-223 260,-165.5 513,-165.5 513,-223\"/>\n",
       "<text text-anchor=\"middle\" x=\"386.5\" y=\"-205.7\" font-family=\"Helvetica,sans-Serif\" font-size=\"14.00\">Calcification &lt;= 3.708</text>\n",
       "<text text-anchor=\"middle\" x=\"386.5\" y=\"-189.2\" font-family=\"Helvetica,sans-Serif\" font-size=\"14.00\">samples = 10.7%</text>\n",
       "<text text-anchor=\"middle\" x=\"386.5\" y=\"-172.7\" font-family=\"Helvetica,sans-Serif\" font-size=\"14.00\">value = [0.773, 0.188, 0.039, 0.0, 0.0]</text>\n",
       "</g>\n",
       "<!-- 0&#45;&gt;1 -->\n",
       "<g id=\"edge1\" class=\"edge\">\n",
       "<title>0&#45;&gt;1</title>\n",
       "<path fill=\"none\" stroke=\"black\" d=\"M486.12,-258.55C471.48,-249.24 455.03,-238.8 439.79,-229.11\"/>\n",
       "<polygon fill=\"black\" stroke=\"black\" points=\"442.08,-226.42 431.76,-224.01 438.33,-232.33 442.08,-226.42\"/>\n",
       "<text text-anchor=\"middle\" x=\"435.93\" y=\"-242.55\" font-family=\"Helvetica,sans-Serif\" font-size=\"14.00\">True</text>\n",
       "</g>\n",
       "<!-- 40 -->\n",
       "<g id=\"node9\" class=\"node\">\n",
       "<title>40</title>\n",
       "<polygon fill=\"#acf4e7\" stroke=\"black\" points=\"817.5,-223 531.5,-223 531.5,-165.5 817.5,-165.5 817.5,-223\"/>\n",
       "<text text-anchor=\"middle\" x=\"674.5\" y=\"-205.7\" font-family=\"Helvetica,sans-Serif\" font-size=\"14.00\">Subtlety &lt;= 4.125</text>\n",
       "<text text-anchor=\"middle\" x=\"674.5\" y=\"-189.2\" font-family=\"Helvetica,sans-Serif\" font-size=\"14.00\">samples = 89.3%</text>\n",
       "<text text-anchor=\"middle\" x=\"674.5\" y=\"-172.7\" font-family=\"Helvetica,sans-Serif\" font-size=\"14.00\">value = [0.026, 0.209, 0.539, 0.174, 0.052]</text>\n",
       "</g>\n",
       "<!-- 0&#45;&gt;40 -->\n",
       "<g id=\"edge8\" class=\"edge\">\n",
       "<title>0&#45;&gt;40</title>\n",
       "<path fill=\"none\" stroke=\"black\" d=\"M574.88,-258.55C589.52,-249.24 605.97,-238.8 621.21,-229.11\"/>\n",
       "<polygon fill=\"black\" stroke=\"black\" points=\"622.67,-232.33 629.24,-224.01 618.92,-226.42 622.67,-232.33\"/>\n",
       "<text text-anchor=\"middle\" x=\"625.07\" y=\"-242.55\" font-family=\"Helvetica,sans-Serif\" font-size=\"14.00\">False</text>\n",
       "</g>\n",
       "<!-- 2 -->\n",
       "<g id=\"node3\" class=\"node\">\n",
       "<title>2</title>\n",
       "<polygon fill=\"#e78b49\" stroke=\"black\" points=\"253,-129.5 0,-129.5 0,-72 253,-72 253,-129.5\"/>\n",
       "<text text-anchor=\"middle\" x=\"126.5\" y=\"-112.2\" font-family=\"Helvetica,sans-Serif\" font-size=\"14.00\">Sphericity &lt;= 4.125</text>\n",
       "<text text-anchor=\"middle\" x=\"126.5\" y=\"-95.7\" font-family=\"Helvetica,sans-Serif\" font-size=\"14.00\">samples = 7.4%</text>\n",
       "<text text-anchor=\"middle\" x=\"126.5\" y=\"-79.2\" font-family=\"Helvetica,sans-Serif\" font-size=\"14.00\">value = [0.925, 0.056, 0.019, 0.0, 0.0]</text>\n",
       "</g>\n",
       "<!-- 1&#45;&gt;2 -->\n",
       "<g id=\"edge2\" class=\"edge\">\n",
       "<title>1&#45;&gt;2</title>\n",
       "<path fill=\"none\" stroke=\"black\" d=\"M306.37,-165.05C278.06,-155.09 246.04,-143.82 216.94,-133.58\"/>\n",
       "<polygon fill=\"black\" stroke=\"black\" points=\"218.39,-130.38 207.79,-130.36 216.06,-136.98 218.39,-130.38\"/>\n",
       "</g>\n",
       "<!-- 21 -->\n",
       "<g id=\"node6\" class=\"node\">\n",
       "<title>21</title>\n",
       "<polygon fill=\"#ebfbe1\" stroke=\"black\" points=\"507.75,-129.5 271.25,-129.5 271.25,-72 507.75,-72 507.75,-129.5\"/>\n",
       "<text text-anchor=\"middle\" x=\"389.5\" y=\"-112.2\" font-family=\"Helvetica,sans-Serif\" font-size=\"14.00\">Texture &lt;= 4.833</text>\n",
       "<text text-anchor=\"middle\" x=\"389.5\" y=\"-95.7\" font-family=\"Helvetica,sans-Serif\" font-size=\"14.00\">samples = 3.3%</text>\n",
       "<text text-anchor=\"middle\" x=\"389.5\" y=\"-79.2\" font-family=\"Helvetica,sans-Serif\" font-size=\"14.00\">value = [0.412, 0.5, 0.088, 0.0, 0.0]</text>\n",
       "</g>\n",
       "<!-- 1&#45;&gt;21 -->\n",
       "<g id=\"edge5\" class=\"edge\">\n",
       "<title>1&#45;&gt;21</title>\n",
       "<path fill=\"none\" stroke=\"black\" d=\"M387.42,-165.3C387.67,-157.66 387.94,-149.23 388.21,-141.07\"/>\n",
       "<polygon fill=\"black\" stroke=\"black\" points=\"391.7,-141.47 388.53,-131.36 384.7,-141.24 391.7,-141.47\"/>\n",
       "</g>\n",
       "<!-- 3 -->\n",
       "<g id=\"node4\" class=\"node\">\n",
       "<title>3</title>\n",
       "<polygon fill=\"#c0c0c0\" stroke=\"black\" points=\"117.5,-36 63.5,-36 63.5,0 117.5,0 117.5,-36\"/>\n",
       "<text text-anchor=\"middle\" x=\"90.5\" y=\"-12.95\" font-family=\"Helvetica,sans-Serif\" font-size=\"14.00\">(...)</text>\n",
       "</g>\n",
       "<!-- 2&#45;&gt;3 -->\n",
       "<g id=\"edge3\" class=\"edge\">\n",
       "<title>2&#45;&gt;3</title>\n",
       "<path fill=\"none\" stroke=\"black\" d=\"M113.91,-71.51C110.28,-63.38 106.34,-54.52 102.74,-46.44\"/>\n",
       "<polygon fill=\"black\" stroke=\"black\" points=\"105.98,-45.14 98.72,-37.43 99.59,-47.99 105.98,-45.14\"/>\n",
       "</g>\n",
       "<!-- 20 -->\n",
       "<g id=\"node5\" class=\"node\">\n",
       "<title>20</title>\n",
       "<polygon fill=\"#c0c0c0\" stroke=\"black\" points=\"189.5,-36 135.5,-36 135.5,0 189.5,0 189.5,-36\"/>\n",
       "<text text-anchor=\"middle\" x=\"162.5\" y=\"-12.95\" font-family=\"Helvetica,sans-Serif\" font-size=\"14.00\">(...)</text>\n",
       "</g>\n",
       "<!-- 2&#45;&gt;20 -->\n",
       "<g id=\"edge4\" class=\"edge\">\n",
       "<title>2&#45;&gt;20</title>\n",
       "<path fill=\"none\" stroke=\"black\" d=\"M139.09,-71.51C142.72,-63.38 146.66,-54.52 150.26,-46.44\"/>\n",
       "<polygon fill=\"black\" stroke=\"black\" points=\"153.41,-47.99 154.28,-37.43 147.02,-45.14 153.41,-47.99\"/>\n",
       "</g>\n",
       "<!-- 22 -->\n",
       "<g id=\"node7\" class=\"node\">\n",
       "<title>22</title>\n",
       "<polygon fill=\"#c0c0c0\" stroke=\"black\" points=\"380.5,-36 326.5,-36 326.5,0 380.5,0 380.5,-36\"/>\n",
       "<text text-anchor=\"middle\" x=\"353.5\" y=\"-12.95\" font-family=\"Helvetica,sans-Serif\" font-size=\"14.00\">(...)</text>\n",
       "</g>\n",
       "<!-- 21&#45;&gt;22 -->\n",
       "<g id=\"edge6\" class=\"edge\">\n",
       "<title>21&#45;&gt;22</title>\n",
       "<path fill=\"none\" stroke=\"black\" d=\"M376.91,-71.51C373.28,-63.38 369.34,-54.52 365.74,-46.44\"/>\n",
       "<polygon fill=\"black\" stroke=\"black\" points=\"368.98,-45.14 361.72,-37.43 362.59,-47.99 368.98,-45.14\"/>\n",
       "</g>\n",
       "<!-- 23 -->\n",
       "<g id=\"node8\" class=\"node\">\n",
       "<title>23</title>\n",
       "<polygon fill=\"#c0c0c0\" stroke=\"black\" points=\"452.5,-36 398.5,-36 398.5,0 452.5,0 452.5,-36\"/>\n",
       "<text text-anchor=\"middle\" x=\"425.5\" y=\"-12.95\" font-family=\"Helvetica,sans-Serif\" font-size=\"14.00\">(...)</text>\n",
       "</g>\n",
       "<!-- 21&#45;&gt;23 -->\n",
       "<g id=\"edge7\" class=\"edge\">\n",
       "<title>21&#45;&gt;23</title>\n",
       "<path fill=\"none\" stroke=\"black\" d=\"M402.09,-71.51C405.72,-63.38 409.66,-54.52 413.26,-46.44\"/>\n",
       "<polygon fill=\"black\" stroke=\"black\" points=\"416.41,-47.99 417.28,-37.43 410.02,-45.14 416.41,-47.99\"/>\n",
       "</g>\n",
       "<!-- 41 -->\n",
       "<g id=\"node10\" class=\"node\">\n",
       "<title>41</title>\n",
       "<polygon fill=\"#a4f3e4\" stroke=\"black\" points=\"815.5,-129.5 529.5,-129.5 529.5,-72 815.5,-72 815.5,-129.5\"/>\n",
       "<text text-anchor=\"middle\" x=\"672.5\" y=\"-112.2\" font-family=\"Helvetica,sans-Serif\" font-size=\"14.00\">Sphericity &lt;= 4.875</text>\n",
       "<text text-anchor=\"middle\" x=\"672.5\" y=\"-95.7\" font-family=\"Helvetica,sans-Serif\" font-size=\"14.00\">samples = 60.0%</text>\n",
       "<text text-anchor=\"middle\" x=\"672.5\" y=\"-79.2\" font-family=\"Helvetica,sans-Serif\" font-size=\"14.00\">value = [0.034, 0.271, 0.607, 0.086, 0.002]</text>\n",
       "</g>\n",
       "<!-- 40&#45;&gt;41 -->\n",
       "<g id=\"edge9\" class=\"edge\">\n",
       "<title>40&#45;&gt;41</title>\n",
       "<path fill=\"none\" stroke=\"black\" d=\"M673.89,-165.3C673.72,-157.74 673.54,-149.42 673.37,-141.35\"/>\n",
       "<polygon fill=\"black\" stroke=\"black\" points=\"676.86,-141.28 673.15,-131.36 669.87,-141.43 676.86,-141.28\"/>\n",
       "</g>\n",
       "<!-- 280 -->\n",
       "<g id=\"node13\" class=\"node\">\n",
       "<title>280</title>\n",
       "<polygon fill=\"#eefdfa\" stroke=\"black\" points=\"1119.5,-129.5 833.5,-129.5 833.5,-72 1119.5,-72 1119.5,-129.5\"/>\n",
       "<text text-anchor=\"middle\" x=\"976.5\" y=\"-112.2\" font-family=\"Helvetica,sans-Serif\" font-size=\"14.00\">Lobulation &lt;= 2.292</text>\n",
       "<text text-anchor=\"middle\" x=\"976.5\" y=\"-95.7\" font-family=\"Helvetica,sans-Serif\" font-size=\"14.00\">samples = 29.3%</text>\n",
       "<text text-anchor=\"middle\" x=\"976.5\" y=\"-79.2\" font-family=\"Helvetica,sans-Serif\" font-size=\"14.00\">value = [0.009, 0.087, 0.405, 0.348, 0.151]</text>\n",
       "</g>\n",
       "<!-- 40&#45;&gt;280 -->\n",
       "<g id=\"edge12\" class=\"edge\">\n",
       "<title>40&#45;&gt;280</title>\n",
       "<path fill=\"none\" stroke=\"black\" d=\"M767.57,-165.05C800.81,-154.98 838.45,-143.58 872.54,-133.25\"/>\n",
       "<polygon fill=\"black\" stroke=\"black\" points=\"873.47,-136.62 882.02,-130.37 871.44,-129.92 873.47,-136.62\"/>\n",
       "</g>\n",
       "<!-- 42 -->\n",
       "<g id=\"node11\" class=\"node\">\n",
       "<title>42</title>\n",
       "<polygon fill=\"#c0c0c0\" stroke=\"black\" points=\"663.5,-36 609.5,-36 609.5,0 663.5,0 663.5,-36\"/>\n",
       "<text text-anchor=\"middle\" x=\"636.5\" y=\"-12.95\" font-family=\"Helvetica,sans-Serif\" font-size=\"14.00\">(...)</text>\n",
       "</g>\n",
       "<!-- 41&#45;&gt;42 -->\n",
       "<g id=\"edge10\" class=\"edge\">\n",
       "<title>41&#45;&gt;42</title>\n",
       "<path fill=\"none\" stroke=\"black\" d=\"M659.91,-71.51C656.28,-63.38 652.34,-54.52 648.74,-46.44\"/>\n",
       "<polygon fill=\"black\" stroke=\"black\" points=\"651.98,-45.14 644.72,-37.43 645.59,-47.99 651.98,-45.14\"/>\n",
       "</g>\n",
       "<!-- 253 -->\n",
       "<g id=\"node12\" class=\"node\">\n",
       "<title>253</title>\n",
       "<polygon fill=\"#c0c0c0\" stroke=\"black\" points=\"735.5,-36 681.5,-36 681.5,0 735.5,0 735.5,-36\"/>\n",
       "<text text-anchor=\"middle\" x=\"708.5\" y=\"-12.95\" font-family=\"Helvetica,sans-Serif\" font-size=\"14.00\">(...)</text>\n",
       "</g>\n",
       "<!-- 41&#45;&gt;253 -->\n",
       "<g id=\"edge11\" class=\"edge\">\n",
       "<title>41&#45;&gt;253</title>\n",
       "<path fill=\"none\" stroke=\"black\" d=\"M685.09,-71.51C688.72,-63.38 692.66,-54.52 696.26,-46.44\"/>\n",
       "<polygon fill=\"black\" stroke=\"black\" points=\"699.41,-47.99 700.28,-37.43 693.02,-45.14 699.41,-47.99\"/>\n",
       "</g>\n",
       "<!-- 281 -->\n",
       "<g id=\"node14\" class=\"node\">\n",
       "<title>281</title>\n",
       "<polygon fill=\"#c0c0c0\" stroke=\"black\" points=\"967.5,-36 913.5,-36 913.5,0 967.5,0 967.5,-36\"/>\n",
       "<text text-anchor=\"middle\" x=\"940.5\" y=\"-12.95\" font-family=\"Helvetica,sans-Serif\" font-size=\"14.00\">(...)</text>\n",
       "</g>\n",
       "<!-- 280&#45;&gt;281 -->\n",
       "<g id=\"edge13\" class=\"edge\">\n",
       "<title>280&#45;&gt;281</title>\n",
       "<path fill=\"none\" stroke=\"black\" d=\"M963.91,-71.51C960.28,-63.38 956.34,-54.52 952.74,-46.44\"/>\n",
       "<polygon fill=\"black\" stroke=\"black\" points=\"955.98,-45.14 948.72,-37.43 949.59,-47.99 955.98,-45.14\"/>\n",
       "</g>\n",
       "<!-- 378 -->\n",
       "<g id=\"node15\" class=\"node\">\n",
       "<title>378</title>\n",
       "<polygon fill=\"#c0c0c0\" stroke=\"black\" points=\"1039.5,-36 985.5,-36 985.5,0 1039.5,0 1039.5,-36\"/>\n",
       "<text text-anchor=\"middle\" x=\"1012.5\" y=\"-12.95\" font-family=\"Helvetica,sans-Serif\" font-size=\"14.00\">(...)</text>\n",
       "</g>\n",
       "<!-- 280&#45;&gt;378 -->\n",
       "<g id=\"edge14\" class=\"edge\">\n",
       "<title>280&#45;&gt;378</title>\n",
       "<path fill=\"none\" stroke=\"black\" d=\"M989.09,-71.51C992.72,-63.38 996.66,-54.52 1000.26,-46.44\"/>\n",
       "<polygon fill=\"black\" stroke=\"black\" points=\"1003.41,-47.99 1004.28,-37.43 997.02,-45.14 1003.41,-47.99\"/>\n",
       "</g>\n",
       "</g>\n",
       "</svg>\n"
      ],
      "text/plain": [
       "<graphviz.sources.Source at 0x2081a3b7b90>"
      ]
     },
     "metadata": {},
     "output_type": "display_data"
    }
   ],
   "source": [
    "tree = RandomForestoptimal.estimators_[i]\n",
    "dot_data = export_graphviz(tree,\n",
    "                            feature_names=features_treino.columns,  \n",
    "                            filled=True,  \n",
    "                            max_depth=2, \n",
    "                            impurity=False, \n",
    "                            proportion=True)\n",
    "graph = graphviz.Source(dot_data)\n",
    "display(graph)"
   ]
  },
  {
   "cell_type": "markdown",
   "id": "c7c86eee",
   "metadata": {},
   "source": [
    "##### Proposal conclusions"
   ]
  },
  {
   "cell_type": "markdown",
   "id": "d0bde989",
   "metadata": {},
   "source": [
    "Since the accuracy of the model with the stacked optimal parameters is lower than the accuracy of the tuning of some individual parameters we can safelly say that stacking the best parameters isn't a good idea and the \"optimal\" value for a parameter can change depending on the value of other parameters.<br>\n",
    "We've also seen that due to the above test beeing done with only 8 features that it limits in various aways the model for exemple the difference between the square root of 8 and the log of base 2 of 8 is 0.2 and beeing that you can't choose 0.2 of a feature the trees had the same exact number of features in both of those tests making the difference 0 wich also doesn't allows us to know the effects of both.<br>\n",
    "Also the low number of features renders usseles the efforts of increasing the amount of trees in the forest, because if it chooses let's say the square root of x, beeing x the total number of features that in this case is 8 there is only about 300 different ways to structure a tree with those 3 features picked at random per tree."
   ]
  },
  {
   "cell_type": "markdown",
   "id": "512034ef",
   "metadata": {},
   "source": [
    "#### The computer is Smarter Assumption"
   ]
  },
  {
   "cell_type": "markdown",
   "id": "448c5407",
   "metadata": {},
   "source": [
    "Let's now give the computer ability to test diferent parameters at random to find the best parameters<br>\n"
   ]
  },
  {
   "cell_type": "markdown",
   "id": "7754149a-6562-4a08-947f-e67cb4bf9322",
   "metadata": {},
   "source": [
    "##### Create the Random Forest"
   ]
  },
  {
   "cell_type": "code",
   "execution_count": null,
   "id": "ffbf2fc6-4975-4ddf-9c4a-244317aa58ae",
   "metadata": {},
   "outputs": [],
   "source": [
    "RandomForest = RandomForestClassifier(min_samples_split=i, n_jobs=(-1))\n",
    "RandomForest.fit(features_treino,has_cancer_treino)"
   ]
  }
 ],
 "metadata": {
  "kernelspec": {
   "display_name": "Python 3 (ipykernel)",
   "language": "python",
   "name": "python3"
  },
  "language_info": {
   "codemirror_mode": {
    "name": "ipython",
    "version": 3
   },
   "file_extension": ".py",
   "mimetype": "text/x-python",
   "name": "python",
   "nbconvert_exporter": "python",
   "pygments_lexer": "ipython3",
   "version": "3.11.5"
  },
  "polyglot_notebook": {
   "kernelInfo": {
    "defaultKernelName": "csharp",
    "items": [
     {
      "aliases": [],
      "name": "csharp"
     }
    ]
   }
  }
 },
 "nbformat": 4,
 "nbformat_minor": 5
}
