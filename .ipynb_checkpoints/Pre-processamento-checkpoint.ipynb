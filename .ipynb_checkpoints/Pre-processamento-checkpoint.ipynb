{
 "cells": [
  {
   "cell_type": "code",
   "execution_count": 1,
   "id": "e5350252",
   "metadata": {},
   "outputs": [],
   "source": [
    "%matplotlib inline\n",
    "\n",
    "import numpy as np # linear algebra\n",
    "import pandas as pd # data processing, CSV file I/O (e.g. pd.read_csv)\n",
    "import pydicom\n",
    "import os\n",
    "import scipy.ndimage\n",
    "import matplotlib.pyplot as plt\n",
    "\n",
    "from skimage import measure, morphology\n",
    "from mpl_toolkits.mplot3d.art3d import Poly3DCollection\n"
   ]
  },
  {
   "cell_type": "code",
   "execution_count": 2,
   "id": "62225f20",
   "metadata": {},
   "outputs": [],
   "source": [
    "import pylidc as pl\n",
    "import os\n",
    "\n",
    "from pylidc.utils import consensus\n",
    "from pylidc.utils import volume_viewer\n",
    "\n",
    "import matplotlib.cm as cm\n",
    "import matplotlib.animation as manim\n",
    "\n",
    "from skimage.measure import find_contours\n",
    "\n",
    "from sqlalchemy import func"
   ]
  },
  {
   "cell_type": "markdown",
   "id": "e8f339bf",
   "metadata": {},
   "source": [
    "# 1. Carregar e Explorar Data"
   ]
  },
  {
   "cell_type": "code",
   "execution_count": 3,
   "id": "71f98767",
   "metadata": {},
   "outputs": [
    {
     "ename": "FileNotFoundError",
     "evalue": "[Errno 2] No such file or directory: 'metadata.csv'",
     "output_type": "error",
     "traceback": [
      "\u001b[1;31m---------------------------------------------------------------------------\u001b[0m",
      "\u001b[1;31mFileNotFoundError\u001b[0m                         Traceback (most recent call last)",
      "Cell \u001b[1;32mIn[3], line 2\u001b[0m\n\u001b[0;32m      1\u001b[0m \u001b[38;5;66;03m#Carregar o ficheiro metadata que contém os diretórios de cada imagem\u001b[39;00m\n\u001b[1;32m----> 2\u001b[0m metadata \u001b[38;5;241m=\u001b[39m pd\u001b[38;5;241m.\u001b[39mread_csv(\u001b[38;5;124m'\u001b[39m\u001b[38;5;124mmetadata.csv\u001b[39m\u001b[38;5;124m'\u001b[39m)\n\u001b[0;32m      3\u001b[0m metadata\u001b[38;5;241m.\u001b[39mhead()\n",
      "File \u001b[1;32m~\\anaconda3\\Lib\\site-packages\\pandas\\io\\parsers\\readers.py:912\u001b[0m, in \u001b[0;36mread_csv\u001b[1;34m(filepath_or_buffer, sep, delimiter, header, names, index_col, usecols, dtype, engine, converters, true_values, false_values, skipinitialspace, skiprows, skipfooter, nrows, na_values, keep_default_na, na_filter, verbose, skip_blank_lines, parse_dates, infer_datetime_format, keep_date_col, date_parser, date_format, dayfirst, cache_dates, iterator, chunksize, compression, thousands, decimal, lineterminator, quotechar, quoting, doublequote, escapechar, comment, encoding, encoding_errors, dialect, on_bad_lines, delim_whitespace, low_memory, memory_map, float_precision, storage_options, dtype_backend)\u001b[0m\n\u001b[0;32m    899\u001b[0m kwds_defaults \u001b[38;5;241m=\u001b[39m _refine_defaults_read(\n\u001b[0;32m    900\u001b[0m     dialect,\n\u001b[0;32m    901\u001b[0m     delimiter,\n\u001b[1;32m   (...)\u001b[0m\n\u001b[0;32m    908\u001b[0m     dtype_backend\u001b[38;5;241m=\u001b[39mdtype_backend,\n\u001b[0;32m    909\u001b[0m )\n\u001b[0;32m    910\u001b[0m kwds\u001b[38;5;241m.\u001b[39mupdate(kwds_defaults)\n\u001b[1;32m--> 912\u001b[0m \u001b[38;5;28;01mreturn\u001b[39;00m _read(filepath_or_buffer, kwds)\n",
      "File \u001b[1;32m~\\anaconda3\\Lib\\site-packages\\pandas\\io\\parsers\\readers.py:577\u001b[0m, in \u001b[0;36m_read\u001b[1;34m(filepath_or_buffer, kwds)\u001b[0m\n\u001b[0;32m    574\u001b[0m _validate_names(kwds\u001b[38;5;241m.\u001b[39mget(\u001b[38;5;124m\"\u001b[39m\u001b[38;5;124mnames\u001b[39m\u001b[38;5;124m\"\u001b[39m, \u001b[38;5;28;01mNone\u001b[39;00m))\n\u001b[0;32m    576\u001b[0m \u001b[38;5;66;03m# Create the parser.\u001b[39;00m\n\u001b[1;32m--> 577\u001b[0m parser \u001b[38;5;241m=\u001b[39m TextFileReader(filepath_or_buffer, \u001b[38;5;241m*\u001b[39m\u001b[38;5;241m*\u001b[39mkwds)\n\u001b[0;32m    579\u001b[0m \u001b[38;5;28;01mif\u001b[39;00m chunksize \u001b[38;5;129;01mor\u001b[39;00m iterator:\n\u001b[0;32m    580\u001b[0m     \u001b[38;5;28;01mreturn\u001b[39;00m parser\n",
      "File \u001b[1;32m~\\anaconda3\\Lib\\site-packages\\pandas\\io\\parsers\\readers.py:1407\u001b[0m, in \u001b[0;36mTextFileReader.__init__\u001b[1;34m(self, f, engine, **kwds)\u001b[0m\n\u001b[0;32m   1404\u001b[0m     \u001b[38;5;28mself\u001b[39m\u001b[38;5;241m.\u001b[39moptions[\u001b[38;5;124m\"\u001b[39m\u001b[38;5;124mhas_index_names\u001b[39m\u001b[38;5;124m\"\u001b[39m] \u001b[38;5;241m=\u001b[39m kwds[\u001b[38;5;124m\"\u001b[39m\u001b[38;5;124mhas_index_names\u001b[39m\u001b[38;5;124m\"\u001b[39m]\n\u001b[0;32m   1406\u001b[0m \u001b[38;5;28mself\u001b[39m\u001b[38;5;241m.\u001b[39mhandles: IOHandles \u001b[38;5;241m|\u001b[39m \u001b[38;5;28;01mNone\u001b[39;00m \u001b[38;5;241m=\u001b[39m \u001b[38;5;28;01mNone\u001b[39;00m\n\u001b[1;32m-> 1407\u001b[0m \u001b[38;5;28mself\u001b[39m\u001b[38;5;241m.\u001b[39m_engine \u001b[38;5;241m=\u001b[39m \u001b[38;5;28mself\u001b[39m\u001b[38;5;241m.\u001b[39m_make_engine(f, \u001b[38;5;28mself\u001b[39m\u001b[38;5;241m.\u001b[39mengine)\n",
      "File \u001b[1;32m~\\anaconda3\\Lib\\site-packages\\pandas\\io\\parsers\\readers.py:1661\u001b[0m, in \u001b[0;36mTextFileReader._make_engine\u001b[1;34m(self, f, engine)\u001b[0m\n\u001b[0;32m   1659\u001b[0m     \u001b[38;5;28;01mif\u001b[39;00m \u001b[38;5;124m\"\u001b[39m\u001b[38;5;124mb\u001b[39m\u001b[38;5;124m\"\u001b[39m \u001b[38;5;129;01mnot\u001b[39;00m \u001b[38;5;129;01min\u001b[39;00m mode:\n\u001b[0;32m   1660\u001b[0m         mode \u001b[38;5;241m+\u001b[39m\u001b[38;5;241m=\u001b[39m \u001b[38;5;124m\"\u001b[39m\u001b[38;5;124mb\u001b[39m\u001b[38;5;124m\"\u001b[39m\n\u001b[1;32m-> 1661\u001b[0m \u001b[38;5;28mself\u001b[39m\u001b[38;5;241m.\u001b[39mhandles \u001b[38;5;241m=\u001b[39m get_handle(\n\u001b[0;32m   1662\u001b[0m     f,\n\u001b[0;32m   1663\u001b[0m     mode,\n\u001b[0;32m   1664\u001b[0m     encoding\u001b[38;5;241m=\u001b[39m\u001b[38;5;28mself\u001b[39m\u001b[38;5;241m.\u001b[39moptions\u001b[38;5;241m.\u001b[39mget(\u001b[38;5;124m\"\u001b[39m\u001b[38;5;124mencoding\u001b[39m\u001b[38;5;124m\"\u001b[39m, \u001b[38;5;28;01mNone\u001b[39;00m),\n\u001b[0;32m   1665\u001b[0m     compression\u001b[38;5;241m=\u001b[39m\u001b[38;5;28mself\u001b[39m\u001b[38;5;241m.\u001b[39moptions\u001b[38;5;241m.\u001b[39mget(\u001b[38;5;124m\"\u001b[39m\u001b[38;5;124mcompression\u001b[39m\u001b[38;5;124m\"\u001b[39m, \u001b[38;5;28;01mNone\u001b[39;00m),\n\u001b[0;32m   1666\u001b[0m     memory_map\u001b[38;5;241m=\u001b[39m\u001b[38;5;28mself\u001b[39m\u001b[38;5;241m.\u001b[39moptions\u001b[38;5;241m.\u001b[39mget(\u001b[38;5;124m\"\u001b[39m\u001b[38;5;124mmemory_map\u001b[39m\u001b[38;5;124m\"\u001b[39m, \u001b[38;5;28;01mFalse\u001b[39;00m),\n\u001b[0;32m   1667\u001b[0m     is_text\u001b[38;5;241m=\u001b[39mis_text,\n\u001b[0;32m   1668\u001b[0m     errors\u001b[38;5;241m=\u001b[39m\u001b[38;5;28mself\u001b[39m\u001b[38;5;241m.\u001b[39moptions\u001b[38;5;241m.\u001b[39mget(\u001b[38;5;124m\"\u001b[39m\u001b[38;5;124mencoding_errors\u001b[39m\u001b[38;5;124m\"\u001b[39m, \u001b[38;5;124m\"\u001b[39m\u001b[38;5;124mstrict\u001b[39m\u001b[38;5;124m\"\u001b[39m),\n\u001b[0;32m   1669\u001b[0m     storage_options\u001b[38;5;241m=\u001b[39m\u001b[38;5;28mself\u001b[39m\u001b[38;5;241m.\u001b[39moptions\u001b[38;5;241m.\u001b[39mget(\u001b[38;5;124m\"\u001b[39m\u001b[38;5;124mstorage_options\u001b[39m\u001b[38;5;124m\"\u001b[39m, \u001b[38;5;28;01mNone\u001b[39;00m),\n\u001b[0;32m   1670\u001b[0m )\n\u001b[0;32m   1671\u001b[0m \u001b[38;5;28;01massert\u001b[39;00m \u001b[38;5;28mself\u001b[39m\u001b[38;5;241m.\u001b[39mhandles \u001b[38;5;129;01mis\u001b[39;00m \u001b[38;5;129;01mnot\u001b[39;00m \u001b[38;5;28;01mNone\u001b[39;00m\n\u001b[0;32m   1672\u001b[0m f \u001b[38;5;241m=\u001b[39m \u001b[38;5;28mself\u001b[39m\u001b[38;5;241m.\u001b[39mhandles\u001b[38;5;241m.\u001b[39mhandle\n",
      "File \u001b[1;32m~\\anaconda3\\Lib\\site-packages\\pandas\\io\\common.py:859\u001b[0m, in \u001b[0;36mget_handle\u001b[1;34m(path_or_buf, mode, encoding, compression, memory_map, is_text, errors, storage_options)\u001b[0m\n\u001b[0;32m    854\u001b[0m \u001b[38;5;28;01melif\u001b[39;00m \u001b[38;5;28misinstance\u001b[39m(handle, \u001b[38;5;28mstr\u001b[39m):\n\u001b[0;32m    855\u001b[0m     \u001b[38;5;66;03m# Check whether the filename is to be opened in binary mode.\u001b[39;00m\n\u001b[0;32m    856\u001b[0m     \u001b[38;5;66;03m# Binary mode does not support 'encoding' and 'newline'.\u001b[39;00m\n\u001b[0;32m    857\u001b[0m     \u001b[38;5;28;01mif\u001b[39;00m ioargs\u001b[38;5;241m.\u001b[39mencoding \u001b[38;5;129;01mand\u001b[39;00m \u001b[38;5;124m\"\u001b[39m\u001b[38;5;124mb\u001b[39m\u001b[38;5;124m\"\u001b[39m \u001b[38;5;129;01mnot\u001b[39;00m \u001b[38;5;129;01min\u001b[39;00m ioargs\u001b[38;5;241m.\u001b[39mmode:\n\u001b[0;32m    858\u001b[0m         \u001b[38;5;66;03m# Encoding\u001b[39;00m\n\u001b[1;32m--> 859\u001b[0m         handle \u001b[38;5;241m=\u001b[39m \u001b[38;5;28mopen\u001b[39m(\n\u001b[0;32m    860\u001b[0m             handle,\n\u001b[0;32m    861\u001b[0m             ioargs\u001b[38;5;241m.\u001b[39mmode,\n\u001b[0;32m    862\u001b[0m             encoding\u001b[38;5;241m=\u001b[39mioargs\u001b[38;5;241m.\u001b[39mencoding,\n\u001b[0;32m    863\u001b[0m             errors\u001b[38;5;241m=\u001b[39merrors,\n\u001b[0;32m    864\u001b[0m             newline\u001b[38;5;241m=\u001b[39m\u001b[38;5;124m\"\u001b[39m\u001b[38;5;124m\"\u001b[39m,\n\u001b[0;32m    865\u001b[0m         )\n\u001b[0;32m    866\u001b[0m     \u001b[38;5;28;01melse\u001b[39;00m:\n\u001b[0;32m    867\u001b[0m         \u001b[38;5;66;03m# Binary mode\u001b[39;00m\n\u001b[0;32m    868\u001b[0m         handle \u001b[38;5;241m=\u001b[39m \u001b[38;5;28mopen\u001b[39m(handle, ioargs\u001b[38;5;241m.\u001b[39mmode)\n",
      "\u001b[1;31mFileNotFoundError\u001b[0m: [Errno 2] No such file or directory: 'metadata.csv'"
     ]
    }
   ],
   "source": [
    "#Carregar o ficheiro metadata que contém os diretórios de cada imagem\n",
    "metadata = pd.read_csv('metadata.csv')\n",
    "metadata.head()"
   ]
  },
  {
   "cell_type": "code",
   "execution_count": null,
   "id": "94e522e0",
   "metadata": {},
   "outputs": [],
   "source": [
    "rows = len(metadata)\n",
    "rows"
   ]
  },
  {
   "cell_type": "code",
   "execution_count": null,
   "id": "0bc7a486",
   "metadata": {},
   "outputs": [],
   "source": [
    "dir = metadata.loc[0]['File Location']\n",
    "dir"
   ]
  },
  {
   "cell_type": "code",
   "execution_count": null,
   "id": "a32a4dd9",
   "metadata": {},
   "outputs": [],
   "source": [
    "#Abrir imagem com pydicom\n",
    "CT_folder = os.path.join(dir)\n",
    "\n",
    "ds = pydicom.read_file(os.path.join(CT_folder, '1-1.dcm'))\n",
    "ds"
   ]
  },
  {
   "cell_type": "code",
   "execution_count": null,
   "id": "d7fe1444",
   "metadata": {},
   "outputs": [],
   "source": [
    "#Pixel data\n",
    "image = ds.pixel_array\n",
    "image.shape"
   ]
  },
  {
   "cell_type": "code",
   "execution_count": 4,
   "id": "2ea88e7b",
   "metadata": {},
   "outputs": [
    {
     "ename": "NameError",
     "evalue": "name 'ds' is not defined",
     "output_type": "error",
     "traceback": [
      "\u001b[1;31m---------------------------------------------------------------------------\u001b[0m",
      "\u001b[1;31mNameError\u001b[0m                                 Traceback (most recent call last)",
      "Cell \u001b[1;32mIn[4], line 2\u001b[0m\n\u001b[0;32m      1\u001b[0m \u001b[38;5;66;03m#Note that the image is a 2D array. Typically the pixel values are stored in a scaled format so we should adjust them:\u001b[39;00m\n\u001b[1;32m----> 2\u001b[0m image \u001b[38;5;241m=\u001b[39m ds\u001b[38;5;241m.\u001b[39mRescaleSlope \u001b[38;5;241m*\u001b[39m image \u001b[38;5;241m+\u001b[39m ds\u001b[38;5;241m.\u001b[39mRescaleIntercept\n\u001b[0;32m      3\u001b[0m \u001b[38;5;66;03m#Assim, a imagem fica em Housefield units outra vez\u001b[39;00m\n\u001b[0;32m      5\u001b[0m plt\u001b[38;5;241m.\u001b[39mpcolormesh(image, cmap\u001b[38;5;241m=\u001b[39m\u001b[38;5;124m'\u001b[39m\u001b[38;5;124mGreys_r\u001b[39m\u001b[38;5;124m'\u001b[39m)\n",
      "\u001b[1;31mNameError\u001b[0m: name 'ds' is not defined"
     ]
    }
   ],
   "source": [
    "#Note that the image is a 2D array. Typically the pixel values are stored in a scaled format so we should adjust them:\n",
    "image = ds.RescaleSlope * image + ds.RescaleIntercept\n",
    "#Assim, a imagem fica em Housefield units outra vez\n",
    "\n",
    "plt.pcolormesh(image, cmap='Greys_r')\n",
    "plt.colorbar(label='HU')\n",
    "plt.axis('off')\n",
    "plt.show()"
   ]
  },
  {
   "cell_type": "markdown",
   "id": "c50e0fe0",
   "metadata": {},
   "source": [
    "# 1.1. Pylidc"
   ]
  },
  {
   "cell_type": "code",
   "execution_count": 5,
   "id": "570c063c",
   "metadata": {},
   "outputs": [
    {
     "name": "stdout",
     "output_type": "stream",
     "text": [
      "Scan(id=1,patient_id=LIDC-IDRI-0078)\n",
      "1018\n"
     ]
    }
   ],
   "source": [
    "scans = pl.query(pl.Scan).all()\n",
    "print(scans[0])\n",
    "print(len(scans))"
   ]
  },
  {
   "cell_type": "code",
   "execution_count": 6,
   "id": "b8f0aec7-6284-4815-95e8-1ba407282a6d",
   "metadata": {},
   "outputs": [
    {
     "name": "stdout",
     "output_type": "stream",
     "text": [
      "LIDC-IDRI-0078 0.65 3.0 3.0\n"
     ]
    }
   ],
   "source": [
    "print(scans[0].patient_id,\n",
    "      scans[0].pixel_spacing,\n",
    "      scans[0].slice_thickness,\n",
    "      scans[0].slice_spacing)"
   ]
  },
  {
   "cell_type": "code",
   "execution_count": 7,
   "id": "2e943169-68ca-42b0-8fed-7212ce455e6d",
   "metadata": {},
   "outputs": [
    {
     "name": "stdout",
     "output_type": "stream",
     "text": [
      "13\n"
     ]
    }
   ],
   "source": [
    "print(len(scans[0].annotations))"
   ]
  },
  {
   "cell_type": "code",
   "execution_count": 8,
   "id": "5009edb4",
   "metadata": {},
   "outputs": [
    {
     "data": {
      "text/plain": [
       "[Annotation(id=1,scan_id=1),\n",
       " Annotation(id=2,scan_id=1),\n",
       " Annotation(id=3,scan_id=1),\n",
       " Annotation(id=4,scan_id=1),\n",
       " Annotation(id=5,scan_id=1),\n",
       " Annotation(id=6,scan_id=1),\n",
       " Annotation(id=7,scan_id=1),\n",
       " Annotation(id=8,scan_id=1),\n",
       " Annotation(id=9,scan_id=1),\n",
       " Annotation(id=10,scan_id=1),\n",
       " Annotation(id=11,scan_id=1),\n",
       " Annotation(id=12,scan_id=1),\n",
       " Annotation(id=13,scan_id=1)]"
      ]
     },
     "execution_count": 8,
     "metadata": {},
     "output_type": "execute_result"
    }
   ],
   "source": [
    "scans[0].annotations"
   ]
  },
  {
   "cell_type": "code",
   "execution_count": 9,
   "id": "02fe9926-7df7-44de-a8bd-bef056307cfe",
   "metadata": {},
   "outputs": [
    {
     "ename": "AttributeError",
     "evalue": "module 'numpy' has no attribute 'int'.\n`np.int` was a deprecated alias for the builtin `int`. To avoid this error in existing code, use `int` by itself. Doing this will not modify any behavior and is safe. When replacing `np.int`, you may wish to use e.g. `np.int64` or `np.int32` to specify the precision. If you wish to review your current use, check the release note link for additional information.\nThe aliases was originally deprecated in NumPy 1.20; for more details and guidance see the original release note at:\n    https://numpy.org/devdocs/release/1.20.0-notes.html#deprecations",
     "output_type": "error",
     "traceback": [
      "\u001b[1;31m---------------------------------------------------------------------------\u001b[0m",
      "\u001b[1;31mAttributeError\u001b[0m                            Traceback (most recent call last)",
      "Cell \u001b[1;32mIn[9], line 1\u001b[0m\n\u001b[1;32m----> 1\u001b[0m nods \u001b[38;5;241m=\u001b[39m scans[\u001b[38;5;241m0\u001b[39m]\u001b[38;5;241m.\u001b[39mcluster_annotations()\n\u001b[0;32m      3\u001b[0m \u001b[38;5;28mprint\u001b[39m(\u001b[38;5;124m\"\u001b[39m\u001b[38;5;132;01m%s\u001b[39;00m\u001b[38;5;124m has \u001b[39m\u001b[38;5;132;01m%d\u001b[39;00m\u001b[38;5;124m nodules.\u001b[39m\u001b[38;5;124m\"\u001b[39m \u001b[38;5;241m%\u001b[39m (scans[\u001b[38;5;241m0\u001b[39m], \u001b[38;5;28mlen\u001b[39m(nods)))\n\u001b[0;32m      5\u001b[0m \u001b[38;5;28;01mfor\u001b[39;00m i,nod \u001b[38;5;129;01min\u001b[39;00m \u001b[38;5;28menumerate\u001b[39m(nods):\n",
      "File \u001b[1;32m~\\anaconda3\\Lib\\site-packages\\pylidc\\Scan.py:439\u001b[0m, in \u001b[0;36mScan.cluster_annotations\u001b[1;34m(self, metric, tol, factor, min_tol, return_distance_matrix, verbose)\u001b[0m\n\u001b[0;32m    437\u001b[0m \u001b[38;5;28;01mfor\u001b[39;00m i \u001b[38;5;129;01min\u001b[39;00m \u001b[38;5;28mrange\u001b[39m(N):\n\u001b[0;32m    438\u001b[0m     \u001b[38;5;28;01mfor\u001b[39;00m j \u001b[38;5;129;01min\u001b[39;00m \u001b[38;5;28mrange\u001b[39m(i\u001b[38;5;241m+\u001b[39m\u001b[38;5;241m1\u001b[39m,N):\n\u001b[1;32m--> 439\u001b[0m         D[i,j] \u001b[38;5;241m=\u001b[39m D[j,i] \u001b[38;5;241m=\u001b[39m metric(\u001b[38;5;28mself\u001b[39m\u001b[38;5;241m.\u001b[39mannotations[i],\n\u001b[0;32m    440\u001b[0m                                  \u001b[38;5;28mself\u001b[39m\u001b[38;5;241m.\u001b[39mannotations[j])\n\u001b[0;32m    442\u001b[0m adjacency \u001b[38;5;241m=\u001b[39m D \u001b[38;5;241m<\u001b[39m\u001b[38;5;241m=\u001b[39m tol\n\u001b[0;32m    443\u001b[0m nnods, cids \u001b[38;5;241m=\u001b[39m connected_components(adjacency, directed\u001b[38;5;241m=\u001b[39m\u001b[38;5;28;01mFalse\u001b[39;00m)\n",
      "File \u001b[1;32m~\\anaconda3\\Lib\\site-packages\\pylidc\\annotation_distance_metrics.py:27\u001b[0m, in \u001b[0;36m<lambda>\u001b[1;34m(a, b)\u001b[0m\n\u001b[0;32m     24\u001b[0m     \u001b[38;5;28;01melse\u001b[39;00m:\n\u001b[0;32m     25\u001b[0m         \u001b[38;5;28;01mraise\u001b[39;00m \u001b[38;5;167;01mValueError\u001b[39;00m(\u001b[38;5;124m'\u001b[39m\u001b[38;5;124minvalid `which` value.\u001b[39m\u001b[38;5;124m'\u001b[39m)\n\u001b[1;32m---> 27\u001b[0m metrics[\u001b[38;5;124m'\u001b[39m\u001b[38;5;124mmin\u001b[39m\u001b[38;5;124m'\u001b[39m] \u001b[38;5;241m=\u001b[39m \u001b[38;5;28;01mlambda\u001b[39;00m a,b: pairdist(a,b,\u001b[38;5;124m'\u001b[39m\u001b[38;5;124mmin\u001b[39m\u001b[38;5;124m'\u001b[39m)\n\u001b[0;32m     28\u001b[0m metrics[\u001b[38;5;124m'\u001b[39m\u001b[38;5;124mmax\u001b[39m\u001b[38;5;124m'\u001b[39m] \u001b[38;5;241m=\u001b[39m \u001b[38;5;28;01mlambda\u001b[39;00m a,b: pairdist(a,b,\u001b[38;5;124m'\u001b[39m\u001b[38;5;124mmax\u001b[39m\u001b[38;5;124m'\u001b[39m)\n\u001b[0;32m     29\u001b[0m metrics[\u001b[38;5;124m'\u001b[39m\u001b[38;5;124mavg\u001b[39m\u001b[38;5;124m'\u001b[39m] \u001b[38;5;241m=\u001b[39m \u001b[38;5;28;01mlambda\u001b[39;00m a,b: pairdist(a,b,\u001b[38;5;124m'\u001b[39m\u001b[38;5;124mavg\u001b[39m\u001b[38;5;124m'\u001b[39m)\n",
      "File \u001b[1;32m~\\anaconda3\\Lib\\site-packages\\pylidc\\annotation_distance_metrics.py:15\u001b[0m, in \u001b[0;36mpairdist\u001b[1;34m(ann1, ann2, which)\u001b[0m\n\u001b[0;32m      6\u001b[0m \u001b[38;5;28;01mdef\u001b[39;00m \u001b[38;5;21mpairdist\u001b[39m(ann1, ann2, which):\n\u001b[0;32m      7\u001b[0m \u001b[38;5;250m    \u001b[39m\u001b[38;5;124;03m\"\"\"\u001b[39;00m\n\u001b[0;32m      8\u001b[0m \u001b[38;5;124;03m    Compute the pairwise euclidean distance between \u001b[39;00m\n\u001b[0;32m      9\u001b[0m \u001b[38;5;124;03m    the contour boundary points, and return the \u001b[39;00m\n\u001b[1;32m   (...)\u001b[0m\n\u001b[0;32m     13\u001b[0m \u001b[38;5;124;03m        One of 'min', 'max', or 'avg'.\u001b[39;00m\n\u001b[0;32m     14\u001b[0m \u001b[38;5;124;03m    \"\"\"\u001b[39;00m\n\u001b[1;32m---> 15\u001b[0m     dists \u001b[38;5;241m=\u001b[39m cdist(ann1\u001b[38;5;241m.\u001b[39mcontours_matrix,\n\u001b[0;32m     16\u001b[0m                   ann2\u001b[38;5;241m.\u001b[39mcontours_matrix)\n\u001b[0;32m     18\u001b[0m     \u001b[38;5;28;01mif\u001b[39;00m   which \u001b[38;5;241m==\u001b[39m \u001b[38;5;124m'\u001b[39m\u001b[38;5;124mmin\u001b[39m\u001b[38;5;124m'\u001b[39m:\n\u001b[0;32m     19\u001b[0m         \u001b[38;5;28;01mreturn\u001b[39;00m dists\u001b[38;5;241m.\u001b[39mmin()\n",
      "File \u001b[1;32m~\\anaconda3\\Lib\\site-packages\\pylidc\\Annotation.py:968\u001b[0m, in \u001b[0;36mAnnotation.contours_matrix\u001b[1;34m(self)\u001b[0m\n\u001b[0;32m    963\u001b[0m \u001b[38;5;129m@property\u001b[39m\n\u001b[0;32m    964\u001b[0m \u001b[38;5;28;01mdef\u001b[39;00m \u001b[38;5;21mcontours_matrix\u001b[39m(\u001b[38;5;28mself\u001b[39m):\n\u001b[0;32m    965\u001b[0m \u001b[38;5;250m    \u001b[39m\u001b[38;5;124;03m\"\"\"\u001b[39;00m\n\u001b[0;32m    966\u001b[0m \u001b[38;5;124;03m    All the contour index values a 3D numpy array.\u001b[39;00m\n\u001b[0;32m    967\u001b[0m \u001b[38;5;124;03m    \"\"\"\u001b[39;00m\n\u001b[1;32m--> 968\u001b[0m     \u001b[38;5;28;01mreturn\u001b[39;00m np\u001b[38;5;241m.\u001b[39mvstack([c\u001b[38;5;241m.\u001b[39mto_matrix(include_k\u001b[38;5;241m=\u001b[39m\u001b[38;5;28;01mTrue\u001b[39;00m)\n\u001b[0;32m    969\u001b[0m                             \u001b[38;5;28;01mfor\u001b[39;00m c \u001b[38;5;129;01min\u001b[39;00m \u001b[38;5;28msorted\u001b[39m(\u001b[38;5;28mself\u001b[39m\u001b[38;5;241m.\u001b[39mcontours,\n\u001b[0;32m    970\u001b[0m                                     key\u001b[38;5;241m=\u001b[39m\u001b[38;5;28;01mlambda\u001b[39;00m c: c\u001b[38;5;241m.\u001b[39mimage_z_position)])\n",
      "File \u001b[1;32m~\\anaconda3\\Lib\\site-packages\\pylidc\\Annotation.py:968\u001b[0m, in \u001b[0;36m<listcomp>\u001b[1;34m(.0)\u001b[0m\n\u001b[0;32m    963\u001b[0m \u001b[38;5;129m@property\u001b[39m\n\u001b[0;32m    964\u001b[0m \u001b[38;5;28;01mdef\u001b[39;00m \u001b[38;5;21mcontours_matrix\u001b[39m(\u001b[38;5;28mself\u001b[39m):\n\u001b[0;32m    965\u001b[0m \u001b[38;5;250m    \u001b[39m\u001b[38;5;124;03m\"\"\"\u001b[39;00m\n\u001b[0;32m    966\u001b[0m \u001b[38;5;124;03m    All the contour index values a 3D numpy array.\u001b[39;00m\n\u001b[0;32m    967\u001b[0m \u001b[38;5;124;03m    \"\"\"\u001b[39;00m\n\u001b[1;32m--> 968\u001b[0m     \u001b[38;5;28;01mreturn\u001b[39;00m np\u001b[38;5;241m.\u001b[39mvstack([c\u001b[38;5;241m.\u001b[39mto_matrix(include_k\u001b[38;5;241m=\u001b[39m\u001b[38;5;28;01mTrue\u001b[39;00m)\n\u001b[0;32m    969\u001b[0m                             \u001b[38;5;28;01mfor\u001b[39;00m c \u001b[38;5;129;01min\u001b[39;00m \u001b[38;5;28msorted\u001b[39m(\u001b[38;5;28mself\u001b[39m\u001b[38;5;241m.\u001b[39mcontours,\n\u001b[0;32m    970\u001b[0m                                     key\u001b[38;5;241m=\u001b[39m\u001b[38;5;28;01mlambda\u001b[39;00m c: c\u001b[38;5;241m.\u001b[39mimage_z_position)])\n",
      "File \u001b[1;32m~\\anaconda3\\Lib\\site-packages\\pylidc\\Contour.py:111\u001b[0m, in \u001b[0;36mContour.to_matrix\u001b[1;34m(self, include_k)\u001b[0m\n\u001b[0;32m    109\u001b[0m k  \u001b[38;5;241m=\u001b[39m np\u001b[38;5;241m.\u001b[39mones(ij\u001b[38;5;241m.\u001b[39mshape[\u001b[38;5;241m0\u001b[39m])\u001b[38;5;241m*\u001b[39m\u001b[38;5;28mself\u001b[39m\u001b[38;5;241m.\u001b[39mimage_k_position\n\u001b[0;32m    110\u001b[0m zs \u001b[38;5;241m=\u001b[39m \u001b[38;5;28mself\u001b[39m\u001b[38;5;241m.\u001b[39mannotation\u001b[38;5;241m.\u001b[39mcontour_slice_zvals\n\u001b[1;32m--> 111\u001b[0m \u001b[38;5;28;01mreturn\u001b[39;00m np\u001b[38;5;241m.\u001b[39mc_[ij, k]\u001b[38;5;241m.\u001b[39mastype(np\u001b[38;5;241m.\u001b[39mint)\n",
      "File \u001b[1;32m~\\anaconda3\\Lib\\site-packages\\numpy\\__init__.py:305\u001b[0m, in \u001b[0;36m__getattr__\u001b[1;34m(attr)\u001b[0m\n\u001b[0;32m    300\u001b[0m     warnings\u001b[38;5;241m.\u001b[39mwarn(\n\u001b[0;32m    301\u001b[0m         \u001b[38;5;124mf\u001b[39m\u001b[38;5;124m\"\u001b[39m\u001b[38;5;124mIn the future `np.\u001b[39m\u001b[38;5;132;01m{\u001b[39;00mattr\u001b[38;5;132;01m}\u001b[39;00m\u001b[38;5;124m` will be defined as the \u001b[39m\u001b[38;5;124m\"\u001b[39m\n\u001b[0;32m    302\u001b[0m         \u001b[38;5;124m\"\u001b[39m\u001b[38;5;124mcorresponding NumPy scalar.\u001b[39m\u001b[38;5;124m\"\u001b[39m, \u001b[38;5;167;01mFutureWarning\u001b[39;00m, stacklevel\u001b[38;5;241m=\u001b[39m\u001b[38;5;241m2\u001b[39m)\n\u001b[0;32m    304\u001b[0m \u001b[38;5;28;01mif\u001b[39;00m attr \u001b[38;5;129;01min\u001b[39;00m __former_attrs__:\n\u001b[1;32m--> 305\u001b[0m     \u001b[38;5;28;01mraise\u001b[39;00m \u001b[38;5;167;01mAttributeError\u001b[39;00m(__former_attrs__[attr])\n\u001b[0;32m    307\u001b[0m \u001b[38;5;66;03m# Importing Tester requires importing all of UnitTest which is not a\u001b[39;00m\n\u001b[0;32m    308\u001b[0m \u001b[38;5;66;03m# cheap import Since it is mainly used in test suits, we lazy import it\u001b[39;00m\n\u001b[0;32m    309\u001b[0m \u001b[38;5;66;03m# here to save on the order of 10 ms of import time for most users\u001b[39;00m\n\u001b[0;32m    310\u001b[0m \u001b[38;5;66;03m#\u001b[39;00m\n\u001b[0;32m    311\u001b[0m \u001b[38;5;66;03m# The previous way Tester was imported also had a side effect of adding\u001b[39;00m\n\u001b[0;32m    312\u001b[0m \u001b[38;5;66;03m# the full `numpy.testing` namespace\u001b[39;00m\n\u001b[0;32m    313\u001b[0m \u001b[38;5;28;01mif\u001b[39;00m attr \u001b[38;5;241m==\u001b[39m \u001b[38;5;124m'\u001b[39m\u001b[38;5;124mtesting\u001b[39m\u001b[38;5;124m'\u001b[39m:\n",
      "\u001b[1;31mAttributeError\u001b[0m: module 'numpy' has no attribute 'int'.\n`np.int` was a deprecated alias for the builtin `int`. To avoid this error in existing code, use `int` by itself. Doing this will not modify any behavior and is safe. When replacing `np.int`, you may wish to use e.g. `np.int64` or `np.int32` to specify the precision. If you wish to review your current use, check the release note link for additional information.\nThe aliases was originally deprecated in NumPy 1.20; for more details and guidance see the original release note at:\n    https://numpy.org/devdocs/release/1.20.0-notes.html#deprecations"
     ]
    }
   ],
   "source": [
    "nods = scans[0].cluster_annotations()\n",
    "\n",
    "print(\"%s has %d nodules.\" % (scans[0], len(nods)))\n",
    "\n",
    "for i,nod in enumerate(nods):\n",
    "    print(\"Nodule %d has %d annotations.\" % (i+1, len(nods[i])))"
   ]
  },
  {
   "cell_type": "code",
   "execution_count": 10,
   "id": "3b81161f",
   "metadata": {},
   "outputs": [
    {
     "name": "stdout",
     "output_type": "stream",
     "text": [
      "Loading dicom files ... This may take a moment.\n"
     ]
    },
    {
     "name": "stderr",
     "output_type": "stream",
     "text": [
      "C:\\Users\\alexa\\anaconda3\\Lib\\site-packages\\pylidc\\Scan.py:67: UserWarning: Could not find `dicom` configuration section or  `path` configuration option under that section.A template config file will be written to C:\\Users\\alexa\\pylidc.conf.\n",
      "  warnings.warn(msg.format(conf_file))\n"
     ]
    },
    {
     "ename": "RuntimeError",
     "evalue": "Could not establish path to dicom files. Have you specified the `path` option in the configuration file C:\\Users\\alexa\\pylidc.conf?",
     "output_type": "error",
     "traceback": [
      "\u001b[1;31m---------------------------------------------------------------------------\u001b[0m",
      "\u001b[1;31mRuntimeError\u001b[0m                              Traceback (most recent call last)",
      "Cell \u001b[1;32mIn[10], line 2\u001b[0m\n\u001b[0;32m      1\u001b[0m ann \u001b[38;5;241m=\u001b[39m pl\u001b[38;5;241m.\u001b[39mquery(pl\u001b[38;5;241m.\u001b[39mAnnotation)\u001b[38;5;241m.\u001b[39mfirst()\n\u001b[1;32m----> 2\u001b[0m ann\u001b[38;5;241m.\u001b[39mvisualize_in_scan()\n",
      "File \u001b[1;32m~\\anaconda3\\Lib\\site-packages\\pylidc\\Annotation.py:808\u001b[0m, in \u001b[0;36mAnnotation.visualize_in_scan\u001b[1;34m(self, verbose)\u001b[0m\n\u001b[0;32m    792\u001b[0m \u001b[38;5;28;01mdef\u001b[39;00m \u001b[38;5;21mvisualize_in_scan\u001b[39m(\u001b[38;5;28mself\u001b[39m, verbose\u001b[38;5;241m=\u001b[39m\u001b[38;5;28;01mTrue\u001b[39;00m):\n\u001b[0;32m    793\u001b[0m \u001b[38;5;250m    \u001b[39m\u001b[38;5;124;03m\"\"\"\u001b[39;00m\n\u001b[0;32m    794\u001b[0m \u001b[38;5;124;03m    Engage an interactive visualization of the slices of the scan \u001b[39;00m\n\u001b[0;32m    795\u001b[0m \u001b[38;5;124;03m    along with scan and annotation information.\u001b[39;00m\n\u001b[1;32m   (...)\u001b[0m\n\u001b[0;32m    806\u001b[0m \u001b[38;5;124;03m        Turn the image loading statement on/off.\u001b[39;00m\n\u001b[0;32m    807\u001b[0m \u001b[38;5;124;03m    \"\"\"\u001b[39;00m\n\u001b[1;32m--> 808\u001b[0m     images \u001b[38;5;241m=\u001b[39m \u001b[38;5;28mself\u001b[39m\u001b[38;5;241m.\u001b[39mscan\u001b[38;5;241m.\u001b[39mload_all_dicom_images(verbose)\n\u001b[0;32m    810\u001b[0m     \u001b[38;5;66;03m# Preload contours and sort them by z pos.\u001b[39;00m\n\u001b[0;32m    811\u001b[0m     contours \u001b[38;5;241m=\u001b[39m \u001b[38;5;28msorted\u001b[39m(\u001b[38;5;28mself\u001b[39m\u001b[38;5;241m.\u001b[39mcontours, key\u001b[38;5;241m=\u001b[39m\u001b[38;5;28;01mlambda\u001b[39;00m c: c\u001b[38;5;241m.\u001b[39mimage_z_position)\n",
      "File \u001b[1;32m~\\anaconda3\\Lib\\site-packages\\pylidc\\Scan.py:288\u001b[0m, in \u001b[0;36mScan.load_all_dicom_images\u001b[1;34m(self, verbose)\u001b[0m\n\u001b[0;32m    261\u001b[0m \u001b[38;5;250m\u001b[39m\u001b[38;5;124;03m\"\"\"\u001b[39;00m\n\u001b[0;32m    262\u001b[0m \u001b[38;5;124;03mLoad all the DICOM images assocated with this scan and return as list.\u001b[39;00m\n\u001b[0;32m    263\u001b[0m \n\u001b[1;32m   (...)\u001b[0m\n\u001b[0;32m    284\u001b[0m \n\u001b[0;32m    285\u001b[0m \u001b[38;5;124;03m\"\"\"\u001b[39;00m\n\u001b[0;32m    286\u001b[0m \u001b[38;5;28;01mif\u001b[39;00m verbose: \u001b[38;5;28mprint\u001b[39m(\u001b[38;5;124m\"\u001b[39m\u001b[38;5;124mLoading dicom files ... This may take a moment.\u001b[39m\u001b[38;5;124m\"\u001b[39m)\n\u001b[1;32m--> 288\u001b[0m path \u001b[38;5;241m=\u001b[39m \u001b[38;5;28mself\u001b[39m\u001b[38;5;241m.\u001b[39mget_path_to_dicom_files()\n\u001b[0;32m    289\u001b[0m fnames \u001b[38;5;241m=\u001b[39m [fname \u001b[38;5;28;01mfor\u001b[39;00m fname \u001b[38;5;129;01min\u001b[39;00m os\u001b[38;5;241m.\u001b[39mlistdir(path)\n\u001b[0;32m    290\u001b[0m                     \u001b[38;5;28;01mif\u001b[39;00m fname\u001b[38;5;241m.\u001b[39mendswith(\u001b[38;5;124m'\u001b[39m\u001b[38;5;124m.dcm\u001b[39m\u001b[38;5;124m'\u001b[39m) \u001b[38;5;129;01mand\u001b[39;00m \u001b[38;5;129;01mnot\u001b[39;00m fname\u001b[38;5;241m.\u001b[39mstartswith(\u001b[38;5;124m\"\u001b[39m\u001b[38;5;124m.\u001b[39m\u001b[38;5;124m\"\u001b[39m)]\n\u001b[0;32m    291\u001b[0m images \u001b[38;5;241m=\u001b[39m []\n",
      "File \u001b[1;32m~\\anaconda3\\Lib\\site-packages\\pylidc\\Scan.py:215\u001b[0m, in \u001b[0;36mScan.get_path_to_dicom_files\u001b[1;34m(self)\u001b[0m\n\u001b[0;32m    211\u001b[0m \u001b[38;5;28;01mif\u001b[39;00m \u001b[38;5;129;01mnot\u001b[39;00m os\u001b[38;5;241m.\u001b[39mpath\u001b[38;5;241m.\u001b[39mexists(dicompath):\n\u001b[0;32m    212\u001b[0m     msg \u001b[38;5;241m=\u001b[39m (\u001b[38;5;124m\"\u001b[39m\u001b[38;5;124mCould not establish path to dicom files. Have you \u001b[39m\u001b[38;5;124m\"\u001b[39m\n\u001b[0;32m    213\u001b[0m            \u001b[38;5;124m\"\u001b[39m\u001b[38;5;124mspecified the `path` option in the configuration \u001b[39m\u001b[38;5;124m\"\u001b[39m\n\u001b[0;32m    214\u001b[0m            \u001b[38;5;124m\"\u001b[39m\u001b[38;5;124mfile \u001b[39m\u001b[38;5;132;01m{}\u001b[39;00m\u001b[38;5;124m?\u001b[39m\u001b[38;5;124m\"\u001b[39m)\n\u001b[1;32m--> 215\u001b[0m     \u001b[38;5;28;01mraise\u001b[39;00m \u001b[38;5;167;01mRuntimeError\u001b[39;00m(msg\u001b[38;5;241m.\u001b[39mformat(_get_config_file()))\n\u001b[0;32m    217\u001b[0m base \u001b[38;5;241m=\u001b[39m os\u001b[38;5;241m.\u001b[39mpath\u001b[38;5;241m.\u001b[39mjoin(dicompath, \u001b[38;5;28mself\u001b[39m\u001b[38;5;241m.\u001b[39mpatient_id)\n\u001b[0;32m    219\u001b[0m \u001b[38;5;28;01mif\u001b[39;00m \u001b[38;5;129;01mnot\u001b[39;00m os\u001b[38;5;241m.\u001b[39mpath\u001b[38;5;241m.\u001b[39mexists(base):\n",
      "\u001b[1;31mRuntimeError\u001b[0m: Could not establish path to dicom files. Have you specified the `path` option in the configuration file C:\\Users\\alexa\\pylidc.conf?"
     ]
    }
   ],
   "source": [
    "ann = pl.query(pl.Annotation).first()\n",
    "ann.visualize_in_scan()"
   ]
  },
  {
   "cell_type": "code",
   "execution_count": 11,
   "id": "873c0721-93e9-42c2-a220-801978d2cd8f",
   "metadata": {},
   "outputs": [
    {
     "ename": "AttributeError",
     "evalue": "module 'matplotlib.cm' has no attribute 'cmap_d'",
     "output_type": "error",
     "traceback": [
      "\u001b[1;31m---------------------------------------------------------------------------\u001b[0m",
      "\u001b[1;31mAttributeError\u001b[0m                            Traceback (most recent call last)",
      "Cell \u001b[1;32mIn[11], line 1\u001b[0m\n\u001b[1;32m----> 1\u001b[0m ann\u001b[38;5;241m.\u001b[39mvisualize_in_3d(edgecolor\u001b[38;5;241m=\u001b[39m\u001b[38;5;124m'\u001b[39m\u001b[38;5;124mgreen\u001b[39m\u001b[38;5;124m'\u001b[39m, cmap\u001b[38;5;241m=\u001b[39m\u001b[38;5;124m'\u001b[39m\u001b[38;5;124mautumn\u001b[39m\u001b[38;5;124m'\u001b[39m)\n",
      "File \u001b[1;32m~\\anaconda3\\Lib\\site-packages\\pylidc\\Annotation.py:745\u001b[0m, in \u001b[0;36mAnnotation.visualize_in_3d\u001b[1;34m(self, edgecolor, cmap, step, figsize, backend)\u001b[0m\n\u001b[0;32m    742\u001b[0m     \u001b[38;5;28;01mraise\u001b[39;00m \u001b[38;5;167;01mValueError\u001b[39;00m(\u001b[38;5;124m\"\u001b[39m\u001b[38;5;124mbackend should be in \u001b[39m\u001b[38;5;132;01m%s\u001b[39;00m\u001b[38;5;124m.\u001b[39m\u001b[38;5;124m\"\u001b[39m \u001b[38;5;241m%\u001b[39m viz3dbackends)\n\u001b[0;32m    744\u001b[0m \u001b[38;5;28;01mif\u001b[39;00m backend \u001b[38;5;241m==\u001b[39m \u001b[38;5;124m'\u001b[39m\u001b[38;5;124mmatplotlib\u001b[39m\u001b[38;5;124m'\u001b[39m:\n\u001b[1;32m--> 745\u001b[0m     \u001b[38;5;28;01mif\u001b[39;00m cmap \u001b[38;5;129;01mnot\u001b[39;00m \u001b[38;5;129;01min\u001b[39;00m plt\u001b[38;5;241m.\u001b[39mcm\u001b[38;5;241m.\u001b[39mcmap_d\u001b[38;5;241m.\u001b[39mkeys():\n\u001b[0;32m    746\u001b[0m         \u001b[38;5;28;01mraise\u001b[39;00m \u001b[38;5;167;01mValueError\u001b[39;00m(\u001b[38;5;124m\"\u001b[39m\u001b[38;5;124mInvalid `cmap`. See `plt.cm.cmap_d.keys()`.\u001b[39m\u001b[38;5;124m\"\u001b[39m)\n\u001b[0;32m    748\u001b[0m \u001b[38;5;66;03m# Pad to cap the ends for masks that hit the edge.\u001b[39;00m\n",
      "\u001b[1;31mAttributeError\u001b[0m: module 'matplotlib.cm' has no attribute 'cmap_d'"
     ]
    }
   ],
   "source": [
    "ann.visualize_in_3d(edgecolor='green', cmap='autumn')"
   ]
  },
  {
   "cell_type": "code",
   "execution_count": 12,
   "id": "589a6d3b-77ee-4e99-8877-022aab473cf8",
   "metadata": {},
   "outputs": [
    {
     "ename": "NameError",
     "evalue": "name 'nods' is not defined",
     "output_type": "error",
     "traceback": [
      "\u001b[1;31m---------------------------------------------------------------------------\u001b[0m",
      "\u001b[1;31mNameError\u001b[0m                                 Traceback (most recent call last)",
      "Cell \u001b[1;32mIn[12], line 1\u001b[0m\n\u001b[1;32m----> 1\u001b[0m scans[\u001b[38;5;241m0\u001b[39m]\u001b[38;5;241m.\u001b[39mvisualize(annotation_groups\u001b[38;5;241m=\u001b[39mnods)\n",
      "\u001b[1;31mNameError\u001b[0m: name 'nods' is not defined"
     ]
    }
   ],
   "source": [
    "scans[0].visualize(annotation_groups=nods)"
   ]
  },
  {
   "cell_type": "code",
   "execution_count": 13,
   "id": "2f67e759",
   "metadata": {},
   "outputs": [
    {
     "name": "stdout",
     "output_type": "stream",
     "text": [
      "Feature              Meaning                    # \n",
      "-                    -                          - \n",
      "Subtlety           | Obvious                  | 5 \n",
      "Internalstructure  | Soft Tissue              | 1 \n",
      "Calcification      | Absent                   | 6 \n",
      "Sphericity         | Ovoid                    | 3 \n",
      "Margin             | Near Sharp               | 4 \n",
      "Lobulation         | No Lobulation            | 1 \n",
      "Spiculation        | No Spiculation           | 1 \n",
      "Texture            | Solid                    | 5 \n",
      "Malignancy         | Indeterminate            | 3 \n"
     ]
    }
   ],
   "source": [
    "ann.print_formatted_feature_table()"
   ]
  },
  {
   "cell_type": "code",
   "execution_count": 14,
   "id": "90779969",
   "metadata": {},
   "outputs": [
    {
     "data": {
      "text/plain": [
       "array([5, 1, 6, 3, 4, 1, 1, 5, 3])"
      ]
     },
     "execution_count": 14,
     "metadata": {},
     "output_type": "execute_result"
    }
   ],
   "source": [
    "ann.feature_vals(return_str=False)"
   ]
  },
  {
   "cell_type": "code",
   "execution_count": 15,
   "id": "2f3a1fca-17a6-475b-9888-4b69007cbba7",
   "metadata": {},
   "outputs": [
    {
     "data": {
      "text/plain": [
       "9"
      ]
     },
     "execution_count": 15,
     "metadata": {},
     "output_type": "execute_result"
    }
   ],
   "source": [
    "len(ann.feature_vals(return_str=False))"
   ]
  },
  {
   "cell_type": "code",
   "execution_count": 16,
   "id": "1f7274f4",
   "metadata": {},
   "outputs": [
    {
     "ename": "AttributeError",
     "evalue": "module 'numpy' has no attribute 'int'.\n`np.int` was a deprecated alias for the builtin `int`. To avoid this error in existing code, use `int` by itself. Doing this will not modify any behavior and is safe. When replacing `np.int`, you may wish to use e.g. `np.int64` or `np.int32` to specify the precision. If you wish to review your current use, check the release note link for additional information.\nThe aliases was originally deprecated in NumPy 1.20; for more details and guidance see the original release note at:\n    https://numpy.org/devdocs/release/1.20.0-notes.html#deprecations",
     "output_type": "error",
     "traceback": [
      "\u001b[1;31m---------------------------------------------------------------------------\u001b[0m",
      "\u001b[1;31mAttributeError\u001b[0m                            Traceback (most recent call last)",
      "Cell \u001b[1;32mIn[16], line 1\u001b[0m\n\u001b[1;32m----> 1\u001b[0m \u001b[38;5;28mprint\u001b[39m(\u001b[38;5;124m\"\u001b[39m\u001b[38;5;132;01m%.2f\u001b[39;00m\u001b[38;5;124m, \u001b[39m\u001b[38;5;132;01m%.2f\u001b[39;00m\u001b[38;5;124m, \u001b[39m\u001b[38;5;132;01m%.2f\u001b[39;00m\u001b[38;5;124m\"\u001b[39m \u001b[38;5;241m%\u001b[39m (ann\u001b[38;5;241m.\u001b[39mdiameter,ann\u001b[38;5;241m.\u001b[39msurface_area,ann\u001b[38;5;241m.\u001b[39mvolume))\n",
      "File \u001b[1;32m~\\anaconda3\\Lib\\site-packages\\pylidc\\Annotation.py:612\u001b[0m, in \u001b[0;36mAnnotation.diameter\u001b[1;34m(self)\u001b[0m\n\u001b[0;32m    610\u001b[0m i,j,k \u001b[38;5;241m=\u001b[39m \u001b[38;5;241m0\u001b[39m,\u001b[38;5;241m0\u001b[39m,\u001b[38;5;241m1\u001b[39m \u001b[38;5;66;03m# placeholders for max indices\u001b[39;00m\n\u001b[0;32m    611\u001b[0m \u001b[38;5;28;01mfor\u001b[39;00m c,contour \u001b[38;5;129;01min\u001b[39;00m \u001b[38;5;28menumerate\u001b[39m(\u001b[38;5;28mself\u001b[39m\u001b[38;5;241m.\u001b[39mcontours):\n\u001b[1;32m--> 612\u001b[0m     contour_array \u001b[38;5;241m=\u001b[39m contour\u001b[38;5;241m.\u001b[39mto_matrix()[:,:\u001b[38;5;241m2\u001b[39m]\u001b[38;5;241m*\u001b[39m\u001b[38;5;28mself\u001b[39m\u001b[38;5;241m.\u001b[39mscan\u001b[38;5;241m.\u001b[39mpixel_spacing\n\u001b[0;32m    614\u001b[0m     \u001b[38;5;66;03m# There's some edge cases where the contour consists only of \u001b[39;00m\n\u001b[0;32m    615\u001b[0m     \u001b[38;5;66;03m# a single point, which we must ignore.\u001b[39;00m\n\u001b[0;32m    616\u001b[0m     \u001b[38;5;28;01mif\u001b[39;00m contour_array\u001b[38;5;241m.\u001b[39mshape[\u001b[38;5;241m0\u001b[39m]\u001b[38;5;241m==\u001b[39m\u001b[38;5;241m1\u001b[39m: \u001b[38;5;28;01mcontinue\u001b[39;00m\n",
      "File \u001b[1;32m~\\anaconda3\\Lib\\site-packages\\pylidc\\Contour.py:111\u001b[0m, in \u001b[0;36mContour.to_matrix\u001b[1;34m(self, include_k)\u001b[0m\n\u001b[0;32m    109\u001b[0m k  \u001b[38;5;241m=\u001b[39m np\u001b[38;5;241m.\u001b[39mones(ij\u001b[38;5;241m.\u001b[39mshape[\u001b[38;5;241m0\u001b[39m])\u001b[38;5;241m*\u001b[39m\u001b[38;5;28mself\u001b[39m\u001b[38;5;241m.\u001b[39mimage_k_position\n\u001b[0;32m    110\u001b[0m zs \u001b[38;5;241m=\u001b[39m \u001b[38;5;28mself\u001b[39m\u001b[38;5;241m.\u001b[39mannotation\u001b[38;5;241m.\u001b[39mcontour_slice_zvals\n\u001b[1;32m--> 111\u001b[0m \u001b[38;5;28;01mreturn\u001b[39;00m np\u001b[38;5;241m.\u001b[39mc_[ij, k]\u001b[38;5;241m.\u001b[39mastype(np\u001b[38;5;241m.\u001b[39mint)\n",
      "File \u001b[1;32m~\\anaconda3\\Lib\\site-packages\\numpy\\__init__.py:305\u001b[0m, in \u001b[0;36m__getattr__\u001b[1;34m(attr)\u001b[0m\n\u001b[0;32m    300\u001b[0m     warnings\u001b[38;5;241m.\u001b[39mwarn(\n\u001b[0;32m    301\u001b[0m         \u001b[38;5;124mf\u001b[39m\u001b[38;5;124m\"\u001b[39m\u001b[38;5;124mIn the future `np.\u001b[39m\u001b[38;5;132;01m{\u001b[39;00mattr\u001b[38;5;132;01m}\u001b[39;00m\u001b[38;5;124m` will be defined as the \u001b[39m\u001b[38;5;124m\"\u001b[39m\n\u001b[0;32m    302\u001b[0m         \u001b[38;5;124m\"\u001b[39m\u001b[38;5;124mcorresponding NumPy scalar.\u001b[39m\u001b[38;5;124m\"\u001b[39m, \u001b[38;5;167;01mFutureWarning\u001b[39;00m, stacklevel\u001b[38;5;241m=\u001b[39m\u001b[38;5;241m2\u001b[39m)\n\u001b[0;32m    304\u001b[0m \u001b[38;5;28;01mif\u001b[39;00m attr \u001b[38;5;129;01min\u001b[39;00m __former_attrs__:\n\u001b[1;32m--> 305\u001b[0m     \u001b[38;5;28;01mraise\u001b[39;00m \u001b[38;5;167;01mAttributeError\u001b[39;00m(__former_attrs__[attr])\n\u001b[0;32m    307\u001b[0m \u001b[38;5;66;03m# Importing Tester requires importing all of UnitTest which is not a\u001b[39;00m\n\u001b[0;32m    308\u001b[0m \u001b[38;5;66;03m# cheap import Since it is mainly used in test suits, we lazy import it\u001b[39;00m\n\u001b[0;32m    309\u001b[0m \u001b[38;5;66;03m# here to save on the order of 10 ms of import time for most users\u001b[39;00m\n\u001b[0;32m    310\u001b[0m \u001b[38;5;66;03m#\u001b[39;00m\n\u001b[0;32m    311\u001b[0m \u001b[38;5;66;03m# The previous way Tester was imported also had a side effect of adding\u001b[39;00m\n\u001b[0;32m    312\u001b[0m \u001b[38;5;66;03m# the full `numpy.testing` namespace\u001b[39;00m\n\u001b[0;32m    313\u001b[0m \u001b[38;5;28;01mif\u001b[39;00m attr \u001b[38;5;241m==\u001b[39m \u001b[38;5;124m'\u001b[39m\u001b[38;5;124mtesting\u001b[39m\u001b[38;5;124m'\u001b[39m:\n",
      "\u001b[1;31mAttributeError\u001b[0m: module 'numpy' has no attribute 'int'.\n`np.int` was a deprecated alias for the builtin `int`. To avoid this error in existing code, use `int` by itself. Doing this will not modify any behavior and is safe. When replacing `np.int`, you may wish to use e.g. `np.int64` or `np.int32` to specify the precision. If you wish to review your current use, check the release note link for additional information.\nThe aliases was originally deprecated in NumPy 1.20; for more details and guidance see the original release note at:\n    https://numpy.org/devdocs/release/1.20.0-notes.html#deprecations"
     ]
    }
   ],
   "source": [
    "print(\"%.2f, %.2f, %.2f\" % (ann.diameter,ann.surface_area,ann.volume))"
   ]
  },
  {
   "cell_type": "code",
   "execution_count": 17,
   "id": "05546300-cafa-4b5b-90d1-008bd418b7e8",
   "metadata": {},
   "outputs": [
    {
     "ename": "AttributeError",
     "evalue": "module 'numpy' has no attribute 'int'.\n`np.int` was a deprecated alias for the builtin `int`. To avoid this error in existing code, use `int` by itself. Doing this will not modify any behavior and is safe. When replacing `np.int`, you may wish to use e.g. `np.int64` or `np.int32` to specify the precision. If you wish to review your current use, check the release note link for additional information.\nThe aliases was originally deprecated in NumPy 1.20; for more details and guidance see the original release note at:\n    https://numpy.org/devdocs/release/1.20.0-notes.html#deprecations",
     "output_type": "error",
     "traceback": [
      "\u001b[1;31m---------------------------------------------------------------------------\u001b[0m",
      "\u001b[1;31mAttributeError\u001b[0m                            Traceback (most recent call last)",
      "Cell \u001b[1;32mIn[17], line 2\u001b[0m\n\u001b[0;32m      1\u001b[0m \u001b[38;5;66;03m# Centróide\u001b[39;00m\n\u001b[1;32m----> 2\u001b[0m i,j,k \u001b[38;5;241m=\u001b[39m ann\u001b[38;5;241m.\u001b[39mcentroid\n\u001b[0;32m      4\u001b[0m vol \u001b[38;5;241m=\u001b[39m ann\u001b[38;5;241m.\u001b[39mscan\u001b[38;5;241m.\u001b[39mto_volume()\n\u001b[0;32m      6\u001b[0m plt\u001b[38;5;241m.\u001b[39mimshow(vol[:,:,\u001b[38;5;28mint\u001b[39m(k)], cmap\u001b[38;5;241m=\u001b[39mplt\u001b[38;5;241m.\u001b[39mcm\u001b[38;5;241m.\u001b[39mgray)\n",
      "File \u001b[1;32m~\\anaconda3\\Lib\\site-packages\\pylidc\\Annotation.py:593\u001b[0m, in \u001b[0;36mAnnotation.centroid\u001b[1;34m(self)\u001b[0m\n\u001b[0;32m    564\u001b[0m \u001b[38;5;129m@property\u001b[39m\n\u001b[0;32m    565\u001b[0m \u001b[38;5;28;01mdef\u001b[39;00m \u001b[38;5;21mcentroid\u001b[39m(\u001b[38;5;28mself\u001b[39m):\n\u001b[0;32m    566\u001b[0m \u001b[38;5;250m    \u001b[39m\u001b[38;5;124;03m\"\"\"\u001b[39;00m\n\u001b[0;32m    567\u001b[0m \u001b[38;5;124;03m    The center of mass of the nodule as determined by its \u001b[39;00m\n\u001b[0;32m    568\u001b[0m \u001b[38;5;124;03m    radiologist-drawn contours.\u001b[39;00m\n\u001b[1;32m   (...)\u001b[0m\n\u001b[0;32m    591\u001b[0m \u001b[38;5;124;03m        for coordinate axis `i`.\u001b[39;00m\n\u001b[0;32m    592\u001b[0m \u001b[38;5;124;03m    \"\"\"\u001b[39;00m\n\u001b[1;32m--> 593\u001b[0m     \u001b[38;5;28;01mreturn\u001b[39;00m \u001b[38;5;28mself\u001b[39m\u001b[38;5;241m.\u001b[39mcontours_matrix\u001b[38;5;241m.\u001b[39mmean(axis\u001b[38;5;241m=\u001b[39m\u001b[38;5;241m0\u001b[39m)\n",
      "File \u001b[1;32m~\\anaconda3\\Lib\\site-packages\\pylidc\\Annotation.py:968\u001b[0m, in \u001b[0;36mAnnotation.contours_matrix\u001b[1;34m(self)\u001b[0m\n\u001b[0;32m    963\u001b[0m \u001b[38;5;129m@property\u001b[39m\n\u001b[0;32m    964\u001b[0m \u001b[38;5;28;01mdef\u001b[39;00m \u001b[38;5;21mcontours_matrix\u001b[39m(\u001b[38;5;28mself\u001b[39m):\n\u001b[0;32m    965\u001b[0m \u001b[38;5;250m    \u001b[39m\u001b[38;5;124;03m\"\"\"\u001b[39;00m\n\u001b[0;32m    966\u001b[0m \u001b[38;5;124;03m    All the contour index values a 3D numpy array.\u001b[39;00m\n\u001b[0;32m    967\u001b[0m \u001b[38;5;124;03m    \"\"\"\u001b[39;00m\n\u001b[1;32m--> 968\u001b[0m     \u001b[38;5;28;01mreturn\u001b[39;00m np\u001b[38;5;241m.\u001b[39mvstack([c\u001b[38;5;241m.\u001b[39mto_matrix(include_k\u001b[38;5;241m=\u001b[39m\u001b[38;5;28;01mTrue\u001b[39;00m)\n\u001b[0;32m    969\u001b[0m                             \u001b[38;5;28;01mfor\u001b[39;00m c \u001b[38;5;129;01min\u001b[39;00m \u001b[38;5;28msorted\u001b[39m(\u001b[38;5;28mself\u001b[39m\u001b[38;5;241m.\u001b[39mcontours,\n\u001b[0;32m    970\u001b[0m                                     key\u001b[38;5;241m=\u001b[39m\u001b[38;5;28;01mlambda\u001b[39;00m c: c\u001b[38;5;241m.\u001b[39mimage_z_position)])\n",
      "File \u001b[1;32m~\\anaconda3\\Lib\\site-packages\\pylidc\\Annotation.py:968\u001b[0m, in \u001b[0;36m<listcomp>\u001b[1;34m(.0)\u001b[0m\n\u001b[0;32m    963\u001b[0m \u001b[38;5;129m@property\u001b[39m\n\u001b[0;32m    964\u001b[0m \u001b[38;5;28;01mdef\u001b[39;00m \u001b[38;5;21mcontours_matrix\u001b[39m(\u001b[38;5;28mself\u001b[39m):\n\u001b[0;32m    965\u001b[0m \u001b[38;5;250m    \u001b[39m\u001b[38;5;124;03m\"\"\"\u001b[39;00m\n\u001b[0;32m    966\u001b[0m \u001b[38;5;124;03m    All the contour index values a 3D numpy array.\u001b[39;00m\n\u001b[0;32m    967\u001b[0m \u001b[38;5;124;03m    \"\"\"\u001b[39;00m\n\u001b[1;32m--> 968\u001b[0m     \u001b[38;5;28;01mreturn\u001b[39;00m np\u001b[38;5;241m.\u001b[39mvstack([c\u001b[38;5;241m.\u001b[39mto_matrix(include_k\u001b[38;5;241m=\u001b[39m\u001b[38;5;28;01mTrue\u001b[39;00m)\n\u001b[0;32m    969\u001b[0m                             \u001b[38;5;28;01mfor\u001b[39;00m c \u001b[38;5;129;01min\u001b[39;00m \u001b[38;5;28msorted\u001b[39m(\u001b[38;5;28mself\u001b[39m\u001b[38;5;241m.\u001b[39mcontours,\n\u001b[0;32m    970\u001b[0m                                     key\u001b[38;5;241m=\u001b[39m\u001b[38;5;28;01mlambda\u001b[39;00m c: c\u001b[38;5;241m.\u001b[39mimage_z_position)])\n",
      "File \u001b[1;32m~\\anaconda3\\Lib\\site-packages\\pylidc\\Contour.py:111\u001b[0m, in \u001b[0;36mContour.to_matrix\u001b[1;34m(self, include_k)\u001b[0m\n\u001b[0;32m    109\u001b[0m k  \u001b[38;5;241m=\u001b[39m np\u001b[38;5;241m.\u001b[39mones(ij\u001b[38;5;241m.\u001b[39mshape[\u001b[38;5;241m0\u001b[39m])\u001b[38;5;241m*\u001b[39m\u001b[38;5;28mself\u001b[39m\u001b[38;5;241m.\u001b[39mimage_k_position\n\u001b[0;32m    110\u001b[0m zs \u001b[38;5;241m=\u001b[39m \u001b[38;5;28mself\u001b[39m\u001b[38;5;241m.\u001b[39mannotation\u001b[38;5;241m.\u001b[39mcontour_slice_zvals\n\u001b[1;32m--> 111\u001b[0m \u001b[38;5;28;01mreturn\u001b[39;00m np\u001b[38;5;241m.\u001b[39mc_[ij, k]\u001b[38;5;241m.\u001b[39mastype(np\u001b[38;5;241m.\u001b[39mint)\n",
      "File \u001b[1;32m~\\anaconda3\\Lib\\site-packages\\numpy\\__init__.py:305\u001b[0m, in \u001b[0;36m__getattr__\u001b[1;34m(attr)\u001b[0m\n\u001b[0;32m    300\u001b[0m     warnings\u001b[38;5;241m.\u001b[39mwarn(\n\u001b[0;32m    301\u001b[0m         \u001b[38;5;124mf\u001b[39m\u001b[38;5;124m\"\u001b[39m\u001b[38;5;124mIn the future `np.\u001b[39m\u001b[38;5;132;01m{\u001b[39;00mattr\u001b[38;5;132;01m}\u001b[39;00m\u001b[38;5;124m` will be defined as the \u001b[39m\u001b[38;5;124m\"\u001b[39m\n\u001b[0;32m    302\u001b[0m         \u001b[38;5;124m\"\u001b[39m\u001b[38;5;124mcorresponding NumPy scalar.\u001b[39m\u001b[38;5;124m\"\u001b[39m, \u001b[38;5;167;01mFutureWarning\u001b[39;00m, stacklevel\u001b[38;5;241m=\u001b[39m\u001b[38;5;241m2\u001b[39m)\n\u001b[0;32m    304\u001b[0m \u001b[38;5;28;01mif\u001b[39;00m attr \u001b[38;5;129;01min\u001b[39;00m __former_attrs__:\n\u001b[1;32m--> 305\u001b[0m     \u001b[38;5;28;01mraise\u001b[39;00m \u001b[38;5;167;01mAttributeError\u001b[39;00m(__former_attrs__[attr])\n\u001b[0;32m    307\u001b[0m \u001b[38;5;66;03m# Importing Tester requires importing all of UnitTest which is not a\u001b[39;00m\n\u001b[0;32m    308\u001b[0m \u001b[38;5;66;03m# cheap import Since it is mainly used in test suits, we lazy import it\u001b[39;00m\n\u001b[0;32m    309\u001b[0m \u001b[38;5;66;03m# here to save on the order of 10 ms of import time for most users\u001b[39;00m\n\u001b[0;32m    310\u001b[0m \u001b[38;5;66;03m#\u001b[39;00m\n\u001b[0;32m    311\u001b[0m \u001b[38;5;66;03m# The previous way Tester was imported also had a side effect of adding\u001b[39;00m\n\u001b[0;32m    312\u001b[0m \u001b[38;5;66;03m# the full `numpy.testing` namespace\u001b[39;00m\n\u001b[0;32m    313\u001b[0m \u001b[38;5;28;01mif\u001b[39;00m attr \u001b[38;5;241m==\u001b[39m \u001b[38;5;124m'\u001b[39m\u001b[38;5;124mtesting\u001b[39m\u001b[38;5;124m'\u001b[39m:\n",
      "\u001b[1;31mAttributeError\u001b[0m: module 'numpy' has no attribute 'int'.\n`np.int` was a deprecated alias for the builtin `int`. To avoid this error in existing code, use `int` by itself. Doing this will not modify any behavior and is safe. When replacing `np.int`, you may wish to use e.g. `np.int64` or `np.int32` to specify the precision. If you wish to review your current use, check the release note link for additional information.\nThe aliases was originally deprecated in NumPy 1.20; for more details and guidance see the original release note at:\n    https://numpy.org/devdocs/release/1.20.0-notes.html#deprecations"
     ]
    }
   ],
   "source": [
    "# Centróide\n",
    "i,j,k = ann.centroid\n",
    "\n",
    "vol = ann.scan.to_volume()\n",
    "\n",
    "plt.imshow(vol[:,:,int(k)], cmap=plt.cm.gray)\n",
    "plt.plot(j, i, '.r', label=\"Nodule centroid\")\n",
    "plt.legend()\n",
    "plt.show()"
   ]
  },
  {
   "cell_type": "code",
   "execution_count": 18,
   "id": "c4a5e6e8-9d8d-4d51-9eb3-1d53bae4dcb4",
   "metadata": {},
   "outputs": [
    {
     "ename": "AttributeError",
     "evalue": "module 'numpy' has no attribute 'int'.\n`np.int` was a deprecated alias for the builtin `int`. To avoid this error in existing code, use `int` by itself. Doing this will not modify any behavior and is safe. When replacing `np.int`, you may wish to use e.g. `np.int64` or `np.int32` to specify the precision. If you wish to review your current use, check the release note link for additional information.\nThe aliases was originally deprecated in NumPy 1.20; for more details and guidance see the original release note at:\n    https://numpy.org/devdocs/release/1.20.0-notes.html#deprecations",
     "output_type": "error",
     "traceback": [
      "\u001b[1;31m---------------------------------------------------------------------------\u001b[0m",
      "\u001b[1;31mAttributeError\u001b[0m                            Traceback (most recent call last)",
      "Cell \u001b[1;32mIn[18], line 5\u001b[0m\n\u001b[0;32m      1\u001b[0m \u001b[38;5;66;03m# uniform_cubic_resample\u001b[39;00m\n\u001b[0;32m      2\u001b[0m \u001b[38;5;66;03m# resampled volumes will have uniform side length of 70mm and\u001b[39;00m\n\u001b[0;32m      3\u001b[0m \u001b[38;5;66;03m# uniform voxel spacing of 1mm.\u001b[39;00m\n\u001b[0;32m      4\u001b[0m n \u001b[38;5;241m=\u001b[39m \u001b[38;5;241m70\u001b[39m\n\u001b[1;32m----> 5\u001b[0m vol,mask \u001b[38;5;241m=\u001b[39m ann\u001b[38;5;241m.\u001b[39muniform_cubic_resample(n)\n\u001b[0;32m      7\u001b[0m \u001b[38;5;66;03m# Setup the plot.\u001b[39;00m\n\u001b[0;32m      8\u001b[0m img \u001b[38;5;241m=\u001b[39m plt\u001b[38;5;241m.\u001b[39mimshow(np\u001b[38;5;241m.\u001b[39mzeros((n\u001b[38;5;241m+\u001b[39m\u001b[38;5;241m1\u001b[39m, n\u001b[38;5;241m+\u001b[39m\u001b[38;5;241m1\u001b[39m)),\n\u001b[0;32m      9\u001b[0m                  vmin\u001b[38;5;241m=\u001b[39mvol\u001b[38;5;241m.\u001b[39mmin(), vmax\u001b[38;5;241m=\u001b[39mvol\u001b[38;5;241m.\u001b[39mmax(),\n\u001b[0;32m     10\u001b[0m                  cmap\u001b[38;5;241m=\u001b[39mplt\u001b[38;5;241m.\u001b[39mcm\u001b[38;5;241m.\u001b[39mgray)\n",
      "File \u001b[1;32m~\\anaconda3\\Lib\\site-packages\\pylidc\\Annotation.py:1211\u001b[0m, in \u001b[0;36mAnnotation.uniform_cubic_resample\u001b[1;34m(self, side_length, resample_vol, irp_pts, return_irp_pts, resample_img, verbose)\u001b[0m\n\u001b[0;32m   1127\u001b[0m \u001b[38;5;28;01mdef\u001b[39;00m \u001b[38;5;21muniform_cubic_resample\u001b[39m(\u001b[38;5;28mself\u001b[39m, side_length\u001b[38;5;241m=\u001b[39m\u001b[38;5;28;01mNone\u001b[39;00m, resample_vol\u001b[38;5;241m=\u001b[39m\u001b[38;5;28;01mTrue\u001b[39;00m,\n\u001b[0;32m   1128\u001b[0m                            irp_pts\u001b[38;5;241m=\u001b[39m\u001b[38;5;28;01mNone\u001b[39;00m, return_irp_pts\u001b[38;5;241m=\u001b[39m\u001b[38;5;28;01mFalse\u001b[39;00m,\n\u001b[0;32m   1129\u001b[0m                            resample_img\u001b[38;5;241m=\u001b[39m\u001b[38;5;28;01mTrue\u001b[39;00m, verbose\u001b[38;5;241m=\u001b[39m\u001b[38;5;28;01mTrue\u001b[39;00m):\n\u001b[0;32m   1130\u001b[0m \u001b[38;5;250m    \u001b[39m\u001b[38;5;124;03m\"\"\"\u001b[39;00m\n\u001b[0;32m   1131\u001b[0m \u001b[38;5;124;03m    Get the CT value volume and respective boolean mask volume. The \u001b[39;00m\n\u001b[0;32m   1132\u001b[0m \u001b[38;5;124;03m    volumes are interpolated and resampled to have uniform spacing of 1mm\u001b[39;00m\n\u001b[1;32m   (...)\u001b[0m\n\u001b[0;32m   1209\u001b[0m \n\u001b[0;32m   1210\u001b[0m \u001b[38;5;124;03m    \"\"\"\u001b[39;00m\n\u001b[1;32m-> 1211\u001b[0m     bbox  \u001b[38;5;241m=\u001b[39m \u001b[38;5;28mself\u001b[39m\u001b[38;5;241m.\u001b[39mbbox_matrix()\n\u001b[0;32m   1212\u001b[0m     bboxd \u001b[38;5;241m=\u001b[39m \u001b[38;5;28mself\u001b[39m\u001b[38;5;241m.\u001b[39mbbox_dims()\n\u001b[0;32m   1213\u001b[0m     rij   \u001b[38;5;241m=\u001b[39m \u001b[38;5;28mself\u001b[39m\u001b[38;5;241m.\u001b[39mscan\u001b[38;5;241m.\u001b[39mpixel_spacing\n",
      "File \u001b[1;32m~\\anaconda3\\Lib\\site-packages\\pylidc\\Annotation.py:561\u001b[0m, in \u001b[0;36mAnnotation.bbox_matrix\u001b[1;34m(self, pad)\u001b[0m\n\u001b[0;32m    520\u001b[0m \u001b[38;5;28;01mdef\u001b[39;00m \u001b[38;5;21mbbox_matrix\u001b[39m(\u001b[38;5;28mself\u001b[39m, pad\u001b[38;5;241m=\u001b[39m\u001b[38;5;28;01mNone\u001b[39;00m):\n\u001b[0;32m    521\u001b[0m \u001b[38;5;250m    \u001b[39m\u001b[38;5;124;03m\"\"\"\u001b[39;00m\n\u001b[0;32m    522\u001b[0m \u001b[38;5;124;03m    The `bbox` function returns a tuple of slices to be used to index\u001b[39;00m\n\u001b[0;32m    523\u001b[0m \u001b[38;5;124;03m    into an image volume. On the other hand, `bbox_array` returns\u001b[39;00m\n\u001b[1;32m   (...)\u001b[0m\n\u001b[0;32m    559\u001b[0m \u001b[38;5;124;03m        # => True\u001b[39;00m\n\u001b[0;32m    560\u001b[0m \u001b[38;5;124;03m    \"\"\"\u001b[39;00m\n\u001b[1;32m--> 561\u001b[0m     \u001b[38;5;28;01mreturn\u001b[39;00m np\u001b[38;5;241m.\u001b[39marray([[sl\u001b[38;5;241m.\u001b[39mstart, sl\u001b[38;5;241m.\u001b[39mstop\u001b[38;5;241m-\u001b[39m\u001b[38;5;241m1\u001b[39m] \u001b[38;5;28;01mfor\u001b[39;00m sl \u001b[38;5;129;01min\u001b[39;00m \u001b[38;5;28mself\u001b[39m\u001b[38;5;241m.\u001b[39mbbox(pad\u001b[38;5;241m=\u001b[39mpad)])\n",
      "File \u001b[1;32m~\\anaconda3\\Lib\\site-packages\\pylidc\\Annotation.py:430\u001b[0m, in \u001b[0;36mAnnotation.bbox\u001b[1;34m(self, pad)\u001b[0m\n\u001b[0;32m    427\u001b[0m \u001b[38;5;66;03m# The index limits for the scan.\u001b[39;00m\n\u001b[0;32m    428\u001b[0m limits \u001b[38;5;241m=\u001b[39m [(\u001b[38;5;241m0\u001b[39m,\u001b[38;5;241m511\u001b[39m), (\u001b[38;5;241m0\u001b[39m,\u001b[38;5;241m511\u001b[39m), (\u001b[38;5;241m0\u001b[39m,\u001b[38;5;28mself\u001b[39m\u001b[38;5;241m.\u001b[39mscan\u001b[38;5;241m.\u001b[39mslice_zvals\u001b[38;5;241m.\u001b[39mshape[\u001b[38;5;241m0\u001b[39m]\u001b[38;5;241m-\u001b[39m\u001b[38;5;241m1\u001b[39m)]\n\u001b[1;32m--> 430\u001b[0m cmatrix \u001b[38;5;241m=\u001b[39m \u001b[38;5;28mself\u001b[39m\u001b[38;5;241m.\u001b[39mcontours_matrix\n\u001b[0;32m    431\u001b[0m imin,jmin,kmin \u001b[38;5;241m=\u001b[39m cmatrix\u001b[38;5;241m.\u001b[39mmin(axis\u001b[38;5;241m=\u001b[39m\u001b[38;5;241m0\u001b[39m)\n\u001b[0;32m    432\u001b[0m imax,jmax,kmax \u001b[38;5;241m=\u001b[39m cmatrix\u001b[38;5;241m.\u001b[39mmax(axis\u001b[38;5;241m=\u001b[39m\u001b[38;5;241m0\u001b[39m)\n",
      "File \u001b[1;32m~\\anaconda3\\Lib\\site-packages\\pylidc\\Annotation.py:968\u001b[0m, in \u001b[0;36mAnnotation.contours_matrix\u001b[1;34m(self)\u001b[0m\n\u001b[0;32m    963\u001b[0m \u001b[38;5;129m@property\u001b[39m\n\u001b[0;32m    964\u001b[0m \u001b[38;5;28;01mdef\u001b[39;00m \u001b[38;5;21mcontours_matrix\u001b[39m(\u001b[38;5;28mself\u001b[39m):\n\u001b[0;32m    965\u001b[0m \u001b[38;5;250m    \u001b[39m\u001b[38;5;124;03m\"\"\"\u001b[39;00m\n\u001b[0;32m    966\u001b[0m \u001b[38;5;124;03m    All the contour index values a 3D numpy array.\u001b[39;00m\n\u001b[0;32m    967\u001b[0m \u001b[38;5;124;03m    \"\"\"\u001b[39;00m\n\u001b[1;32m--> 968\u001b[0m     \u001b[38;5;28;01mreturn\u001b[39;00m np\u001b[38;5;241m.\u001b[39mvstack([c\u001b[38;5;241m.\u001b[39mto_matrix(include_k\u001b[38;5;241m=\u001b[39m\u001b[38;5;28;01mTrue\u001b[39;00m)\n\u001b[0;32m    969\u001b[0m                             \u001b[38;5;28;01mfor\u001b[39;00m c \u001b[38;5;129;01min\u001b[39;00m \u001b[38;5;28msorted\u001b[39m(\u001b[38;5;28mself\u001b[39m\u001b[38;5;241m.\u001b[39mcontours,\n\u001b[0;32m    970\u001b[0m                                     key\u001b[38;5;241m=\u001b[39m\u001b[38;5;28;01mlambda\u001b[39;00m c: c\u001b[38;5;241m.\u001b[39mimage_z_position)])\n",
      "File \u001b[1;32m~\\anaconda3\\Lib\\site-packages\\pylidc\\Annotation.py:968\u001b[0m, in \u001b[0;36m<listcomp>\u001b[1;34m(.0)\u001b[0m\n\u001b[0;32m    963\u001b[0m \u001b[38;5;129m@property\u001b[39m\n\u001b[0;32m    964\u001b[0m \u001b[38;5;28;01mdef\u001b[39;00m \u001b[38;5;21mcontours_matrix\u001b[39m(\u001b[38;5;28mself\u001b[39m):\n\u001b[0;32m    965\u001b[0m \u001b[38;5;250m    \u001b[39m\u001b[38;5;124;03m\"\"\"\u001b[39;00m\n\u001b[0;32m    966\u001b[0m \u001b[38;5;124;03m    All the contour index values a 3D numpy array.\u001b[39;00m\n\u001b[0;32m    967\u001b[0m \u001b[38;5;124;03m    \"\"\"\u001b[39;00m\n\u001b[1;32m--> 968\u001b[0m     \u001b[38;5;28;01mreturn\u001b[39;00m np\u001b[38;5;241m.\u001b[39mvstack([c\u001b[38;5;241m.\u001b[39mto_matrix(include_k\u001b[38;5;241m=\u001b[39m\u001b[38;5;28;01mTrue\u001b[39;00m)\n\u001b[0;32m    969\u001b[0m                             \u001b[38;5;28;01mfor\u001b[39;00m c \u001b[38;5;129;01min\u001b[39;00m \u001b[38;5;28msorted\u001b[39m(\u001b[38;5;28mself\u001b[39m\u001b[38;5;241m.\u001b[39mcontours,\n\u001b[0;32m    970\u001b[0m                                     key\u001b[38;5;241m=\u001b[39m\u001b[38;5;28;01mlambda\u001b[39;00m c: c\u001b[38;5;241m.\u001b[39mimage_z_position)])\n",
      "File \u001b[1;32m~\\anaconda3\\Lib\\site-packages\\pylidc\\Contour.py:111\u001b[0m, in \u001b[0;36mContour.to_matrix\u001b[1;34m(self, include_k)\u001b[0m\n\u001b[0;32m    109\u001b[0m k  \u001b[38;5;241m=\u001b[39m np\u001b[38;5;241m.\u001b[39mones(ij\u001b[38;5;241m.\u001b[39mshape[\u001b[38;5;241m0\u001b[39m])\u001b[38;5;241m*\u001b[39m\u001b[38;5;28mself\u001b[39m\u001b[38;5;241m.\u001b[39mimage_k_position\n\u001b[0;32m    110\u001b[0m zs \u001b[38;5;241m=\u001b[39m \u001b[38;5;28mself\u001b[39m\u001b[38;5;241m.\u001b[39mannotation\u001b[38;5;241m.\u001b[39mcontour_slice_zvals\n\u001b[1;32m--> 111\u001b[0m \u001b[38;5;28;01mreturn\u001b[39;00m np\u001b[38;5;241m.\u001b[39mc_[ij, k]\u001b[38;5;241m.\u001b[39mastype(np\u001b[38;5;241m.\u001b[39mint)\n",
      "File \u001b[1;32m~\\anaconda3\\Lib\\site-packages\\numpy\\__init__.py:305\u001b[0m, in \u001b[0;36m__getattr__\u001b[1;34m(attr)\u001b[0m\n\u001b[0;32m    300\u001b[0m     warnings\u001b[38;5;241m.\u001b[39mwarn(\n\u001b[0;32m    301\u001b[0m         \u001b[38;5;124mf\u001b[39m\u001b[38;5;124m\"\u001b[39m\u001b[38;5;124mIn the future `np.\u001b[39m\u001b[38;5;132;01m{\u001b[39;00mattr\u001b[38;5;132;01m}\u001b[39;00m\u001b[38;5;124m` will be defined as the \u001b[39m\u001b[38;5;124m\"\u001b[39m\n\u001b[0;32m    302\u001b[0m         \u001b[38;5;124m\"\u001b[39m\u001b[38;5;124mcorresponding NumPy scalar.\u001b[39m\u001b[38;5;124m\"\u001b[39m, \u001b[38;5;167;01mFutureWarning\u001b[39;00m, stacklevel\u001b[38;5;241m=\u001b[39m\u001b[38;5;241m2\u001b[39m)\n\u001b[0;32m    304\u001b[0m \u001b[38;5;28;01mif\u001b[39;00m attr \u001b[38;5;129;01min\u001b[39;00m __former_attrs__:\n\u001b[1;32m--> 305\u001b[0m     \u001b[38;5;28;01mraise\u001b[39;00m \u001b[38;5;167;01mAttributeError\u001b[39;00m(__former_attrs__[attr])\n\u001b[0;32m    307\u001b[0m \u001b[38;5;66;03m# Importing Tester requires importing all of UnitTest which is not a\u001b[39;00m\n\u001b[0;32m    308\u001b[0m \u001b[38;5;66;03m# cheap import Since it is mainly used in test suits, we lazy import it\u001b[39;00m\n\u001b[0;32m    309\u001b[0m \u001b[38;5;66;03m# here to save on the order of 10 ms of import time for most users\u001b[39;00m\n\u001b[0;32m    310\u001b[0m \u001b[38;5;66;03m#\u001b[39;00m\n\u001b[0;32m    311\u001b[0m \u001b[38;5;66;03m# The previous way Tester was imported also had a side effect of adding\u001b[39;00m\n\u001b[0;32m    312\u001b[0m \u001b[38;5;66;03m# the full `numpy.testing` namespace\u001b[39;00m\n\u001b[0;32m    313\u001b[0m \u001b[38;5;28;01mif\u001b[39;00m attr \u001b[38;5;241m==\u001b[39m \u001b[38;5;124m'\u001b[39m\u001b[38;5;124mtesting\u001b[39m\u001b[38;5;124m'\u001b[39m:\n",
      "\u001b[1;31mAttributeError\u001b[0m: module 'numpy' has no attribute 'int'.\n`np.int` was a deprecated alias for the builtin `int`. To avoid this error in existing code, use `int` by itself. Doing this will not modify any behavior and is safe. When replacing `np.int`, you may wish to use e.g. `np.int64` or `np.int32` to specify the precision. If you wish to review your current use, check the release note link for additional information.\nThe aliases was originally deprecated in NumPy 1.20; for more details and guidance see the original release note at:\n    https://numpy.org/devdocs/release/1.20.0-notes.html#deprecations"
     ]
    }
   ],
   "source": [
    "# uniform_cubic_resample\n",
    "# resampled volumes will have uniform side length of 70mm and\n",
    "# uniform voxel spacing of 1mm.\n",
    "n = 70\n",
    "vol,mask = ann.uniform_cubic_resample(n)\n",
    "\n",
    "# Setup the plot.\n",
    "img = plt.imshow(np.zeros((n+1, n+1)),\n",
    "                 vmin=vol.min(), vmax=vol.max(),\n",
    "                 cmap=plt.cm.gray)\n",
    "\n",
    "\n",
    "# View all the resampled image volume slices.\n",
    "for i in range(n+1):\n",
    "    img.set_data(vol[:,:,i] * (mask[:,:,i]*0.6+0.2))\n",
    "\n",
    "    plt.title(\"%02d / %02d\" % (i+1, n))\n",
    "    plt.pause(0.1)\n"
   ]
  },
  {
   "cell_type": "code",
   "execution_count": 19,
   "id": "4d487fc0-627e-4ec8-b435-079c4de9164f",
   "metadata": {},
   "outputs": [
    {
     "name": "stdout",
     "output_type": "stream",
     "text": [
      "Loading dicom files ... This may take a moment.\n"
     ]
    },
    {
     "ename": "RuntimeError",
     "evalue": "Could not establish path to dicom files. Have you specified the `path` option in the configuration file C:\\Users\\alexa\\pylidc.conf?",
     "output_type": "error",
     "traceback": [
      "\u001b[1;31m---------------------------------------------------------------------------\u001b[0m",
      "\u001b[1;31mRuntimeError\u001b[0m                              Traceback (most recent call last)",
      "Cell \u001b[1;32mIn[19], line 2\u001b[0m\n\u001b[0;32m      1\u001b[0m \u001b[38;5;66;03m#Plotting a contour on top of the image volume\u001b[39;00m\n\u001b[1;32m----> 2\u001b[0m vol \u001b[38;5;241m=\u001b[39m ann\u001b[38;5;241m.\u001b[39mscan\u001b[38;5;241m.\u001b[39mto_volume()\n\u001b[0;32m      3\u001b[0m con \u001b[38;5;241m=\u001b[39m ann\u001b[38;5;241m.\u001b[39mcontours[\u001b[38;5;241m3\u001b[39m]\n\u001b[0;32m      5\u001b[0m k \u001b[38;5;241m=\u001b[39m con\u001b[38;5;241m.\u001b[39mimage_k_position\n",
      "File \u001b[1;32m~\\anaconda3\\Lib\\site-packages\\pylidc\\Scan.py:642\u001b[0m, in \u001b[0;36mScan.to_volume\u001b[1;34m(self, verbose)\u001b[0m\n\u001b[0;32m    638\u001b[0m \u001b[38;5;28;01mdef\u001b[39;00m \u001b[38;5;21mto_volume\u001b[39m(\u001b[38;5;28mself\u001b[39m, verbose\u001b[38;5;241m=\u001b[39m\u001b[38;5;28;01mTrue\u001b[39;00m):\n\u001b[0;32m    639\u001b[0m \u001b[38;5;250m    \u001b[39m\u001b[38;5;124;03m\"\"\"\u001b[39;00m\n\u001b[0;32m    640\u001b[0m \u001b[38;5;124;03m    Return the scan as a 3D numpy array volume.\u001b[39;00m\n\u001b[0;32m    641\u001b[0m \u001b[38;5;124;03m    \"\"\"\u001b[39;00m\n\u001b[1;32m--> 642\u001b[0m     images \u001b[38;5;241m=\u001b[39m \u001b[38;5;28mself\u001b[39m\u001b[38;5;241m.\u001b[39mload_all_dicom_images(verbose\u001b[38;5;241m=\u001b[39mverbose)\n\u001b[0;32m    644\u001b[0m     volume \u001b[38;5;241m=\u001b[39m np\u001b[38;5;241m.\u001b[39mstack(\n\u001b[0;32m    645\u001b[0m         [\n\u001b[0;32m    646\u001b[0m             x\u001b[38;5;241m.\u001b[39mpixel_array \u001b[38;5;241m*\u001b[39m x\u001b[38;5;241m.\u001b[39mRescaleSlope \u001b[38;5;241m+\u001b[39m x\u001b[38;5;241m.\u001b[39mRescaleIntercept\n\u001b[1;32m   (...)\u001b[0m\n\u001b[0;32m    649\u001b[0m         axis\u001b[38;5;241m=\u001b[39m\u001b[38;5;241m-\u001b[39m\u001b[38;5;241m1\u001b[39m,\n\u001b[0;32m    650\u001b[0m     )\u001b[38;5;241m.\u001b[39mastype(np\u001b[38;5;241m.\u001b[39mint16)\n\u001b[0;32m    651\u001b[0m     \u001b[38;5;28;01mreturn\u001b[39;00m volume\n",
      "File \u001b[1;32m~\\anaconda3\\Lib\\site-packages\\pylidc\\Scan.py:288\u001b[0m, in \u001b[0;36mScan.load_all_dicom_images\u001b[1;34m(self, verbose)\u001b[0m\n\u001b[0;32m    261\u001b[0m \u001b[38;5;250m\u001b[39m\u001b[38;5;124;03m\"\"\"\u001b[39;00m\n\u001b[0;32m    262\u001b[0m \u001b[38;5;124;03mLoad all the DICOM images assocated with this scan and return as list.\u001b[39;00m\n\u001b[0;32m    263\u001b[0m \n\u001b[1;32m   (...)\u001b[0m\n\u001b[0;32m    284\u001b[0m \n\u001b[0;32m    285\u001b[0m \u001b[38;5;124;03m\"\"\"\u001b[39;00m\n\u001b[0;32m    286\u001b[0m \u001b[38;5;28;01mif\u001b[39;00m verbose: \u001b[38;5;28mprint\u001b[39m(\u001b[38;5;124m\"\u001b[39m\u001b[38;5;124mLoading dicom files ... This may take a moment.\u001b[39m\u001b[38;5;124m\"\u001b[39m)\n\u001b[1;32m--> 288\u001b[0m path \u001b[38;5;241m=\u001b[39m \u001b[38;5;28mself\u001b[39m\u001b[38;5;241m.\u001b[39mget_path_to_dicom_files()\n\u001b[0;32m    289\u001b[0m fnames \u001b[38;5;241m=\u001b[39m [fname \u001b[38;5;28;01mfor\u001b[39;00m fname \u001b[38;5;129;01min\u001b[39;00m os\u001b[38;5;241m.\u001b[39mlistdir(path)\n\u001b[0;32m    290\u001b[0m                     \u001b[38;5;28;01mif\u001b[39;00m fname\u001b[38;5;241m.\u001b[39mendswith(\u001b[38;5;124m'\u001b[39m\u001b[38;5;124m.dcm\u001b[39m\u001b[38;5;124m'\u001b[39m) \u001b[38;5;129;01mand\u001b[39;00m \u001b[38;5;129;01mnot\u001b[39;00m fname\u001b[38;5;241m.\u001b[39mstartswith(\u001b[38;5;124m\"\u001b[39m\u001b[38;5;124m.\u001b[39m\u001b[38;5;124m\"\u001b[39m)]\n\u001b[0;32m    291\u001b[0m images \u001b[38;5;241m=\u001b[39m []\n",
      "File \u001b[1;32m~\\anaconda3\\Lib\\site-packages\\pylidc\\Scan.py:215\u001b[0m, in \u001b[0;36mScan.get_path_to_dicom_files\u001b[1;34m(self)\u001b[0m\n\u001b[0;32m    211\u001b[0m \u001b[38;5;28;01mif\u001b[39;00m \u001b[38;5;129;01mnot\u001b[39;00m os\u001b[38;5;241m.\u001b[39mpath\u001b[38;5;241m.\u001b[39mexists(dicompath):\n\u001b[0;32m    212\u001b[0m     msg \u001b[38;5;241m=\u001b[39m (\u001b[38;5;124m\"\u001b[39m\u001b[38;5;124mCould not establish path to dicom files. Have you \u001b[39m\u001b[38;5;124m\"\u001b[39m\n\u001b[0;32m    213\u001b[0m            \u001b[38;5;124m\"\u001b[39m\u001b[38;5;124mspecified the `path` option in the configuration \u001b[39m\u001b[38;5;124m\"\u001b[39m\n\u001b[0;32m    214\u001b[0m            \u001b[38;5;124m\"\u001b[39m\u001b[38;5;124mfile \u001b[39m\u001b[38;5;132;01m{}\u001b[39;00m\u001b[38;5;124m?\u001b[39m\u001b[38;5;124m\"\u001b[39m)\n\u001b[1;32m--> 215\u001b[0m     \u001b[38;5;28;01mraise\u001b[39;00m \u001b[38;5;167;01mRuntimeError\u001b[39;00m(msg\u001b[38;5;241m.\u001b[39mformat(_get_config_file()))\n\u001b[0;32m    217\u001b[0m base \u001b[38;5;241m=\u001b[39m os\u001b[38;5;241m.\u001b[39mpath\u001b[38;5;241m.\u001b[39mjoin(dicompath, \u001b[38;5;28mself\u001b[39m\u001b[38;5;241m.\u001b[39mpatient_id)\n\u001b[0;32m    219\u001b[0m \u001b[38;5;28;01mif\u001b[39;00m \u001b[38;5;129;01mnot\u001b[39;00m os\u001b[38;5;241m.\u001b[39mpath\u001b[38;5;241m.\u001b[39mexists(base):\n",
      "\u001b[1;31mRuntimeError\u001b[0m: Could not establish path to dicom files. Have you specified the `path` option in the configuration file C:\\Users\\alexa\\pylidc.conf?"
     ]
    }
   ],
   "source": [
    "#Plotting a contour on top of the image volume\n",
    "vol = ann.scan.to_volume()\n",
    "con = ann.contours[3]\n",
    "\n",
    "k = con.image_k_position\n",
    "ii,jj = ann.contours[3].to_matrix(include_k=False).T\n",
    "\n",
    "plt.imshow(vol[:,:,46], cmap=plt.cm.gray)\n",
    "plt.plot(jj, ii, '-r', lw=1, label=\"Nodule Boundary\")\n",
    "plt.legend()\n",
    "plt.show()"
   ]
  },
  {
   "cell_type": "code",
   "execution_count": 20,
   "id": "0f0afe2c-055c-4576-97ee-a568b5b9da2a",
   "metadata": {},
   "outputs": [
    {
     "name": "stdout",
     "output_type": "stream",
     "text": [
      "Loading dicom files ... This may take a moment.\n"
     ]
    },
    {
     "ename": "RuntimeError",
     "evalue": "Could not establish path to dicom files. Have you specified the `path` option in the configuration file C:\\Users\\alexa\\pylidc.conf?",
     "output_type": "error",
     "traceback": [
      "\u001b[1;31m---------------------------------------------------------------------------\u001b[0m",
      "\u001b[1;31mRuntimeError\u001b[0m                              Traceback (most recent call last)",
      "Cell \u001b[1;32mIn[20], line 1\u001b[0m\n\u001b[1;32m----> 1\u001b[0m vol \u001b[38;5;241m=\u001b[39m ann\u001b[38;5;241m.\u001b[39mscan\u001b[38;5;241m.\u001b[39mto_volume()\n\u001b[0;32m      3\u001b[0m padding \u001b[38;5;241m=\u001b[39m \u001b[38;5;241m70.0\u001b[39m\n\u001b[0;32m      5\u001b[0m mask \u001b[38;5;241m=\u001b[39m ann\u001b[38;5;241m.\u001b[39mboolean_mask(pad\u001b[38;5;241m=\u001b[39mpadding)\n",
      "File \u001b[1;32m~\\anaconda3\\Lib\\site-packages\\pylidc\\Scan.py:642\u001b[0m, in \u001b[0;36mScan.to_volume\u001b[1;34m(self, verbose)\u001b[0m\n\u001b[0;32m    638\u001b[0m \u001b[38;5;28;01mdef\u001b[39;00m \u001b[38;5;21mto_volume\u001b[39m(\u001b[38;5;28mself\u001b[39m, verbose\u001b[38;5;241m=\u001b[39m\u001b[38;5;28;01mTrue\u001b[39;00m):\n\u001b[0;32m    639\u001b[0m \u001b[38;5;250m    \u001b[39m\u001b[38;5;124;03m\"\"\"\u001b[39;00m\n\u001b[0;32m    640\u001b[0m \u001b[38;5;124;03m    Return the scan as a 3D numpy array volume.\u001b[39;00m\n\u001b[0;32m    641\u001b[0m \u001b[38;5;124;03m    \"\"\"\u001b[39;00m\n\u001b[1;32m--> 642\u001b[0m     images \u001b[38;5;241m=\u001b[39m \u001b[38;5;28mself\u001b[39m\u001b[38;5;241m.\u001b[39mload_all_dicom_images(verbose\u001b[38;5;241m=\u001b[39mverbose)\n\u001b[0;32m    644\u001b[0m     volume \u001b[38;5;241m=\u001b[39m np\u001b[38;5;241m.\u001b[39mstack(\n\u001b[0;32m    645\u001b[0m         [\n\u001b[0;32m    646\u001b[0m             x\u001b[38;5;241m.\u001b[39mpixel_array \u001b[38;5;241m*\u001b[39m x\u001b[38;5;241m.\u001b[39mRescaleSlope \u001b[38;5;241m+\u001b[39m x\u001b[38;5;241m.\u001b[39mRescaleIntercept\n\u001b[1;32m   (...)\u001b[0m\n\u001b[0;32m    649\u001b[0m         axis\u001b[38;5;241m=\u001b[39m\u001b[38;5;241m-\u001b[39m\u001b[38;5;241m1\u001b[39m,\n\u001b[0;32m    650\u001b[0m     )\u001b[38;5;241m.\u001b[39mastype(np\u001b[38;5;241m.\u001b[39mint16)\n\u001b[0;32m    651\u001b[0m     \u001b[38;5;28;01mreturn\u001b[39;00m volume\n",
      "File \u001b[1;32m~\\anaconda3\\Lib\\site-packages\\pylidc\\Scan.py:288\u001b[0m, in \u001b[0;36mScan.load_all_dicom_images\u001b[1;34m(self, verbose)\u001b[0m\n\u001b[0;32m    261\u001b[0m \u001b[38;5;250m\u001b[39m\u001b[38;5;124;03m\"\"\"\u001b[39;00m\n\u001b[0;32m    262\u001b[0m \u001b[38;5;124;03mLoad all the DICOM images assocated with this scan and return as list.\u001b[39;00m\n\u001b[0;32m    263\u001b[0m \n\u001b[1;32m   (...)\u001b[0m\n\u001b[0;32m    284\u001b[0m \n\u001b[0;32m    285\u001b[0m \u001b[38;5;124;03m\"\"\"\u001b[39;00m\n\u001b[0;32m    286\u001b[0m \u001b[38;5;28;01mif\u001b[39;00m verbose: \u001b[38;5;28mprint\u001b[39m(\u001b[38;5;124m\"\u001b[39m\u001b[38;5;124mLoading dicom files ... This may take a moment.\u001b[39m\u001b[38;5;124m\"\u001b[39m)\n\u001b[1;32m--> 288\u001b[0m path \u001b[38;5;241m=\u001b[39m \u001b[38;5;28mself\u001b[39m\u001b[38;5;241m.\u001b[39mget_path_to_dicom_files()\n\u001b[0;32m    289\u001b[0m fnames \u001b[38;5;241m=\u001b[39m [fname \u001b[38;5;28;01mfor\u001b[39;00m fname \u001b[38;5;129;01min\u001b[39;00m os\u001b[38;5;241m.\u001b[39mlistdir(path)\n\u001b[0;32m    290\u001b[0m                     \u001b[38;5;28;01mif\u001b[39;00m fname\u001b[38;5;241m.\u001b[39mendswith(\u001b[38;5;124m'\u001b[39m\u001b[38;5;124m.dcm\u001b[39m\u001b[38;5;124m'\u001b[39m) \u001b[38;5;129;01mand\u001b[39;00m \u001b[38;5;129;01mnot\u001b[39;00m fname\u001b[38;5;241m.\u001b[39mstartswith(\u001b[38;5;124m\"\u001b[39m\u001b[38;5;124m.\u001b[39m\u001b[38;5;124m\"\u001b[39m)]\n\u001b[0;32m    291\u001b[0m images \u001b[38;5;241m=\u001b[39m []\n",
      "File \u001b[1;32m~\\anaconda3\\Lib\\site-packages\\pylidc\\Scan.py:215\u001b[0m, in \u001b[0;36mScan.get_path_to_dicom_files\u001b[1;34m(self)\u001b[0m\n\u001b[0;32m    211\u001b[0m \u001b[38;5;28;01mif\u001b[39;00m \u001b[38;5;129;01mnot\u001b[39;00m os\u001b[38;5;241m.\u001b[39mpath\u001b[38;5;241m.\u001b[39mexists(dicompath):\n\u001b[0;32m    212\u001b[0m     msg \u001b[38;5;241m=\u001b[39m (\u001b[38;5;124m\"\u001b[39m\u001b[38;5;124mCould not establish path to dicom files. Have you \u001b[39m\u001b[38;5;124m\"\u001b[39m\n\u001b[0;32m    213\u001b[0m            \u001b[38;5;124m\"\u001b[39m\u001b[38;5;124mspecified the `path` option in the configuration \u001b[39m\u001b[38;5;124m\"\u001b[39m\n\u001b[0;32m    214\u001b[0m            \u001b[38;5;124m\"\u001b[39m\u001b[38;5;124mfile \u001b[39m\u001b[38;5;132;01m{}\u001b[39;00m\u001b[38;5;124m?\u001b[39m\u001b[38;5;124m\"\u001b[39m)\n\u001b[1;32m--> 215\u001b[0m     \u001b[38;5;28;01mraise\u001b[39;00m \u001b[38;5;167;01mRuntimeError\u001b[39;00m(msg\u001b[38;5;241m.\u001b[39mformat(_get_config_file()))\n\u001b[0;32m    217\u001b[0m base \u001b[38;5;241m=\u001b[39m os\u001b[38;5;241m.\u001b[39mpath\u001b[38;5;241m.\u001b[39mjoin(dicompath, \u001b[38;5;28mself\u001b[39m\u001b[38;5;241m.\u001b[39mpatient_id)\n\u001b[0;32m    219\u001b[0m \u001b[38;5;28;01mif\u001b[39;00m \u001b[38;5;129;01mnot\u001b[39;00m os\u001b[38;5;241m.\u001b[39mpath\u001b[38;5;241m.\u001b[39mexists(base):\n",
      "\u001b[1;31mRuntimeError\u001b[0m: Could not establish path to dicom files. Have you specified the `path` option in the configuration file C:\\Users\\alexa\\pylidc.conf?"
     ]
    }
   ],
   "source": [
    "vol = ann.scan.to_volume()\n",
    "\n",
    "padding = 70.0\n",
    "\n",
    "mask = ann.boolean_mask(pad=padding)\n",
    "bbox = ann.bbox(pad=padding)\n",
    "\n",
    "volume_viewer(vol[bbox], mask, ls='-', lw=2, c='r')"
   ]
  },
  {
   "cell_type": "markdown",
   "id": "1e5bdeea-5e73-434f-aa6d-2ea87dcc1dd2",
   "metadata": {},
   "source": [
    "# 2. Extrair Features"
   ]
  },
  {
   "cell_type": "markdown",
   "id": "766e98d5-18e7-41c3-a177-85be544f20c4",
   "metadata": {},
   "source": [
    "## 2.1. Testes"
   ]
  },
  {
   "cell_type": "code",
   "execution_count": 21,
   "id": "b8d06002-d60b-4ed0-9dd5-b27bb3f0570b",
   "metadata": {},
   "outputs": [],
   "source": [
    "anns = pl.query(pl.Annotation)"
   ]
  },
  {
   "cell_type": "code",
   "execution_count": 22,
   "id": "8c414ab8-2c5b-4e03-b7de-01aaf5932c65",
   "metadata": {},
   "outputs": [
    {
     "data": {
      "text/plain": [
       "Annotation(id=1,scan_id=1)"
      ]
     },
     "execution_count": 22,
     "metadata": {},
     "output_type": "execute_result"
    }
   ],
   "source": [
    "a1= anns[0]\n",
    "a1"
   ]
  },
  {
   "cell_type": "code",
   "execution_count": 23,
   "id": "9923d4ee-2b97-4fc8-bee0-b76288f091b5",
   "metadata": {},
   "outputs": [
    {
     "name": "stdout",
     "output_type": "stream",
     "text": [
      "LIDC-IDRI-0078\n",
      "3\n",
      "1\n",
      "1\n"
     ]
    }
   ],
   "source": [
    "#Extrair \n",
    "print(a1.scan.patient_id)\n",
    "print(a1._nodule_id)\n",
    "# Extrair o id da anotação:\n",
    "print(a1.id)\n",
    "# Extrair o id do scan da anotação\n",
    "print(a1.scan_id)"
   ]
  },
  {
   "cell_type": "code",
   "execution_count": 24,
   "id": "979be5af-a8f4-4ca3-9348-af80a0f600cc",
   "metadata": {
    "scrolled": true
   },
   "outputs": [
    {
     "name": "stdout",
     "output_type": "stream",
     "text": [
      "Feature              Meaning                    # \n",
      "-                    -                          - \n",
      "Subtlety           | Obvious                  | 5 \n",
      "Internalstructure  | Soft Tissue              | 1 \n",
      "Calcification      | Absent                   | 6 \n",
      "Sphericity         | Ovoid                    | 3 \n",
      "Margin             | Near Sharp               | 4 \n",
      "Lobulation         | No Lobulation            | 1 \n",
      "Spiculation        | No Spiculation           | 1 \n",
      "Texture            | Solid                    | 5 \n",
      "Malignancy         | Indeterminate            | 3 \n"
     ]
    }
   ],
   "source": [
    "a1.print_formatted_feature_table()"
   ]
  },
  {
   "cell_type": "code",
   "execution_count": 25,
   "id": "86a7e755-3ed4-4be7-9017-5190d4c42e0a",
   "metadata": {},
   "outputs": [
    {
     "name": "stdout",
     "output_type": "stream",
     "text": [
      "5\n",
      "1\n",
      "1\n",
      "6\n"
     ]
    }
   ],
   "source": [
    "print(a1.subtlety)\n",
    "print(a1.internalStructure)\n",
    "print(a1.spiculation)\n",
    "print(a1.calcification)\n",
    "#etc"
   ]
  },
  {
   "cell_type": "code",
   "execution_count": 26,
   "id": "f46b604f-5b7f-4f65-9bd7-70e686b2fc37",
   "metadata": {},
   "outputs": [
    {
     "ename": "AttributeError",
     "evalue": "module 'numpy' has no attribute 'int'.\n`np.int` was a deprecated alias for the builtin `int`. To avoid this error in existing code, use `int` by itself. Doing this will not modify any behavior and is safe. When replacing `np.int`, you may wish to use e.g. `np.int64` or `np.int32` to specify the precision. If you wish to review your current use, check the release note link for additional information.\nThe aliases was originally deprecated in NumPy 1.20; for more details and guidance see the original release note at:\n    https://numpy.org/devdocs/release/1.20.0-notes.html#deprecations",
     "output_type": "error",
     "traceback": [
      "\u001b[1;31m---------------------------------------------------------------------------\u001b[0m",
      "\u001b[1;31mAttributeError\u001b[0m                            Traceback (most recent call last)",
      "Cell \u001b[1;32mIn[26], line 1\u001b[0m\n\u001b[1;32m----> 1\u001b[0m \u001b[38;5;28mprint\u001b[39m(\u001b[38;5;124m\"\u001b[39m\u001b[38;5;132;01m%.2f\u001b[39;00m\u001b[38;5;124m, \u001b[39m\u001b[38;5;132;01m%.2f\u001b[39;00m\u001b[38;5;124m, \u001b[39m\u001b[38;5;132;01m%.2f\u001b[39;00m\u001b[38;5;124m\"\u001b[39m \u001b[38;5;241m%\u001b[39m (a1\u001b[38;5;241m.\u001b[39mdiameter,\n\u001b[0;32m      2\u001b[0m                             a1\u001b[38;5;241m.\u001b[39msurface_area,\n\u001b[0;32m      3\u001b[0m                             a1\u001b[38;5;241m.\u001b[39mvolume))\n",
      "File \u001b[1;32m~\\anaconda3\\Lib\\site-packages\\pylidc\\Annotation.py:612\u001b[0m, in \u001b[0;36mAnnotation.diameter\u001b[1;34m(self)\u001b[0m\n\u001b[0;32m    610\u001b[0m i,j,k \u001b[38;5;241m=\u001b[39m \u001b[38;5;241m0\u001b[39m,\u001b[38;5;241m0\u001b[39m,\u001b[38;5;241m1\u001b[39m \u001b[38;5;66;03m# placeholders for max indices\u001b[39;00m\n\u001b[0;32m    611\u001b[0m \u001b[38;5;28;01mfor\u001b[39;00m c,contour \u001b[38;5;129;01min\u001b[39;00m \u001b[38;5;28menumerate\u001b[39m(\u001b[38;5;28mself\u001b[39m\u001b[38;5;241m.\u001b[39mcontours):\n\u001b[1;32m--> 612\u001b[0m     contour_array \u001b[38;5;241m=\u001b[39m contour\u001b[38;5;241m.\u001b[39mto_matrix()[:,:\u001b[38;5;241m2\u001b[39m]\u001b[38;5;241m*\u001b[39m\u001b[38;5;28mself\u001b[39m\u001b[38;5;241m.\u001b[39mscan\u001b[38;5;241m.\u001b[39mpixel_spacing\n\u001b[0;32m    614\u001b[0m     \u001b[38;5;66;03m# There's some edge cases where the contour consists only of \u001b[39;00m\n\u001b[0;32m    615\u001b[0m     \u001b[38;5;66;03m# a single point, which we must ignore.\u001b[39;00m\n\u001b[0;32m    616\u001b[0m     \u001b[38;5;28;01mif\u001b[39;00m contour_array\u001b[38;5;241m.\u001b[39mshape[\u001b[38;5;241m0\u001b[39m]\u001b[38;5;241m==\u001b[39m\u001b[38;5;241m1\u001b[39m: \u001b[38;5;28;01mcontinue\u001b[39;00m\n",
      "File \u001b[1;32m~\\anaconda3\\Lib\\site-packages\\pylidc\\Contour.py:111\u001b[0m, in \u001b[0;36mContour.to_matrix\u001b[1;34m(self, include_k)\u001b[0m\n\u001b[0;32m    109\u001b[0m k  \u001b[38;5;241m=\u001b[39m np\u001b[38;5;241m.\u001b[39mones(ij\u001b[38;5;241m.\u001b[39mshape[\u001b[38;5;241m0\u001b[39m])\u001b[38;5;241m*\u001b[39m\u001b[38;5;28mself\u001b[39m\u001b[38;5;241m.\u001b[39mimage_k_position\n\u001b[0;32m    110\u001b[0m zs \u001b[38;5;241m=\u001b[39m \u001b[38;5;28mself\u001b[39m\u001b[38;5;241m.\u001b[39mannotation\u001b[38;5;241m.\u001b[39mcontour_slice_zvals\n\u001b[1;32m--> 111\u001b[0m \u001b[38;5;28;01mreturn\u001b[39;00m np\u001b[38;5;241m.\u001b[39mc_[ij, k]\u001b[38;5;241m.\u001b[39mastype(np\u001b[38;5;241m.\u001b[39mint)\n",
      "File \u001b[1;32m~\\anaconda3\\Lib\\site-packages\\numpy\\__init__.py:305\u001b[0m, in \u001b[0;36m__getattr__\u001b[1;34m(attr)\u001b[0m\n\u001b[0;32m    300\u001b[0m     warnings\u001b[38;5;241m.\u001b[39mwarn(\n\u001b[0;32m    301\u001b[0m         \u001b[38;5;124mf\u001b[39m\u001b[38;5;124m\"\u001b[39m\u001b[38;5;124mIn the future `np.\u001b[39m\u001b[38;5;132;01m{\u001b[39;00mattr\u001b[38;5;132;01m}\u001b[39;00m\u001b[38;5;124m` will be defined as the \u001b[39m\u001b[38;5;124m\"\u001b[39m\n\u001b[0;32m    302\u001b[0m         \u001b[38;5;124m\"\u001b[39m\u001b[38;5;124mcorresponding NumPy scalar.\u001b[39m\u001b[38;5;124m\"\u001b[39m, \u001b[38;5;167;01mFutureWarning\u001b[39;00m, stacklevel\u001b[38;5;241m=\u001b[39m\u001b[38;5;241m2\u001b[39m)\n\u001b[0;32m    304\u001b[0m \u001b[38;5;28;01mif\u001b[39;00m attr \u001b[38;5;129;01min\u001b[39;00m __former_attrs__:\n\u001b[1;32m--> 305\u001b[0m     \u001b[38;5;28;01mraise\u001b[39;00m \u001b[38;5;167;01mAttributeError\u001b[39;00m(__former_attrs__[attr])\n\u001b[0;32m    307\u001b[0m \u001b[38;5;66;03m# Importing Tester requires importing all of UnitTest which is not a\u001b[39;00m\n\u001b[0;32m    308\u001b[0m \u001b[38;5;66;03m# cheap import Since it is mainly used in test suits, we lazy import it\u001b[39;00m\n\u001b[0;32m    309\u001b[0m \u001b[38;5;66;03m# here to save on the order of 10 ms of import time for most users\u001b[39;00m\n\u001b[0;32m    310\u001b[0m \u001b[38;5;66;03m#\u001b[39;00m\n\u001b[0;32m    311\u001b[0m \u001b[38;5;66;03m# The previous way Tester was imported also had a side effect of adding\u001b[39;00m\n\u001b[0;32m    312\u001b[0m \u001b[38;5;66;03m# the full `numpy.testing` namespace\u001b[39;00m\n\u001b[0;32m    313\u001b[0m \u001b[38;5;28;01mif\u001b[39;00m attr \u001b[38;5;241m==\u001b[39m \u001b[38;5;124m'\u001b[39m\u001b[38;5;124mtesting\u001b[39m\u001b[38;5;124m'\u001b[39m:\n",
      "\u001b[1;31mAttributeError\u001b[0m: module 'numpy' has no attribute 'int'.\n`np.int` was a deprecated alias for the builtin `int`. To avoid this error in existing code, use `int` by itself. Doing this will not modify any behavior and is safe. When replacing `np.int`, you may wish to use e.g. `np.int64` or `np.int32` to specify the precision. If you wish to review your current use, check the release note link for additional information.\nThe aliases was originally deprecated in NumPy 1.20; for more details and guidance see the original release note at:\n    https://numpy.org/devdocs/release/1.20.0-notes.html#deprecations"
     ]
    }
   ],
   "source": [
    "print(\"%.2f, %.2f, %.2f\" % (a1.diameter,\n",
    "                            a1.surface_area,\n",
    "                            a1.volume))"
   ]
  },
  {
   "cell_type": "code",
   "execution_count": 27,
   "id": "7409f494-adec-45f9-ac99-2a5d4e8c78bf",
   "metadata": {},
   "outputs": [
    {
     "ename": "AttributeError",
     "evalue": "module 'numpy' has no attribute 'int'.\n`np.int` was a deprecated alias for the builtin `int`. To avoid this error in existing code, use `int` by itself. Doing this will not modify any behavior and is safe. When replacing `np.int`, you may wish to use e.g. `np.int64` or `np.int32` to specify the precision. If you wish to review your current use, check the release note link for additional information.\nThe aliases was originally deprecated in NumPy 1.20; for more details and guidance see the original release note at:\n    https://numpy.org/devdocs/release/1.20.0-notes.html#deprecations",
     "output_type": "error",
     "traceback": [
      "\u001b[1;31m---------------------------------------------------------------------------\u001b[0m",
      "\u001b[1;31mAttributeError\u001b[0m                            Traceback (most recent call last)",
      "Cell \u001b[1;32mIn[27], line 1\u001b[0m\n\u001b[1;32m----> 1\u001b[0m \u001b[38;5;28mprint\u001b[39m(a1\u001b[38;5;241m.\u001b[39mdiameter)\n\u001b[0;32m      2\u001b[0m \u001b[38;5;28mprint\u001b[39m(a1\u001b[38;5;241m.\u001b[39msurface_area)\n\u001b[0;32m      3\u001b[0m \u001b[38;5;28mprint\u001b[39m(a1\u001b[38;5;241m.\u001b[39mvolume)\n",
      "File \u001b[1;32m~\\anaconda3\\Lib\\site-packages\\pylidc\\Annotation.py:612\u001b[0m, in \u001b[0;36mAnnotation.diameter\u001b[1;34m(self)\u001b[0m\n\u001b[0;32m    610\u001b[0m i,j,k \u001b[38;5;241m=\u001b[39m \u001b[38;5;241m0\u001b[39m,\u001b[38;5;241m0\u001b[39m,\u001b[38;5;241m1\u001b[39m \u001b[38;5;66;03m# placeholders for max indices\u001b[39;00m\n\u001b[0;32m    611\u001b[0m \u001b[38;5;28;01mfor\u001b[39;00m c,contour \u001b[38;5;129;01min\u001b[39;00m \u001b[38;5;28menumerate\u001b[39m(\u001b[38;5;28mself\u001b[39m\u001b[38;5;241m.\u001b[39mcontours):\n\u001b[1;32m--> 612\u001b[0m     contour_array \u001b[38;5;241m=\u001b[39m contour\u001b[38;5;241m.\u001b[39mto_matrix()[:,:\u001b[38;5;241m2\u001b[39m]\u001b[38;5;241m*\u001b[39m\u001b[38;5;28mself\u001b[39m\u001b[38;5;241m.\u001b[39mscan\u001b[38;5;241m.\u001b[39mpixel_spacing\n\u001b[0;32m    614\u001b[0m     \u001b[38;5;66;03m# There's some edge cases where the contour consists only of \u001b[39;00m\n\u001b[0;32m    615\u001b[0m     \u001b[38;5;66;03m# a single point, which we must ignore.\u001b[39;00m\n\u001b[0;32m    616\u001b[0m     \u001b[38;5;28;01mif\u001b[39;00m contour_array\u001b[38;5;241m.\u001b[39mshape[\u001b[38;5;241m0\u001b[39m]\u001b[38;5;241m==\u001b[39m\u001b[38;5;241m1\u001b[39m: \u001b[38;5;28;01mcontinue\u001b[39;00m\n",
      "File \u001b[1;32m~\\anaconda3\\Lib\\site-packages\\pylidc\\Contour.py:111\u001b[0m, in \u001b[0;36mContour.to_matrix\u001b[1;34m(self, include_k)\u001b[0m\n\u001b[0;32m    109\u001b[0m k  \u001b[38;5;241m=\u001b[39m np\u001b[38;5;241m.\u001b[39mones(ij\u001b[38;5;241m.\u001b[39mshape[\u001b[38;5;241m0\u001b[39m])\u001b[38;5;241m*\u001b[39m\u001b[38;5;28mself\u001b[39m\u001b[38;5;241m.\u001b[39mimage_k_position\n\u001b[0;32m    110\u001b[0m zs \u001b[38;5;241m=\u001b[39m \u001b[38;5;28mself\u001b[39m\u001b[38;5;241m.\u001b[39mannotation\u001b[38;5;241m.\u001b[39mcontour_slice_zvals\n\u001b[1;32m--> 111\u001b[0m \u001b[38;5;28;01mreturn\u001b[39;00m np\u001b[38;5;241m.\u001b[39mc_[ij, k]\u001b[38;5;241m.\u001b[39mastype(np\u001b[38;5;241m.\u001b[39mint)\n",
      "File \u001b[1;32m~\\anaconda3\\Lib\\site-packages\\numpy\\__init__.py:305\u001b[0m, in \u001b[0;36m__getattr__\u001b[1;34m(attr)\u001b[0m\n\u001b[0;32m    300\u001b[0m     warnings\u001b[38;5;241m.\u001b[39mwarn(\n\u001b[0;32m    301\u001b[0m         \u001b[38;5;124mf\u001b[39m\u001b[38;5;124m\"\u001b[39m\u001b[38;5;124mIn the future `np.\u001b[39m\u001b[38;5;132;01m{\u001b[39;00mattr\u001b[38;5;132;01m}\u001b[39;00m\u001b[38;5;124m` will be defined as the \u001b[39m\u001b[38;5;124m\"\u001b[39m\n\u001b[0;32m    302\u001b[0m         \u001b[38;5;124m\"\u001b[39m\u001b[38;5;124mcorresponding NumPy scalar.\u001b[39m\u001b[38;5;124m\"\u001b[39m, \u001b[38;5;167;01mFutureWarning\u001b[39;00m, stacklevel\u001b[38;5;241m=\u001b[39m\u001b[38;5;241m2\u001b[39m)\n\u001b[0;32m    304\u001b[0m \u001b[38;5;28;01mif\u001b[39;00m attr \u001b[38;5;129;01min\u001b[39;00m __former_attrs__:\n\u001b[1;32m--> 305\u001b[0m     \u001b[38;5;28;01mraise\u001b[39;00m \u001b[38;5;167;01mAttributeError\u001b[39;00m(__former_attrs__[attr])\n\u001b[0;32m    307\u001b[0m \u001b[38;5;66;03m# Importing Tester requires importing all of UnitTest which is not a\u001b[39;00m\n\u001b[0;32m    308\u001b[0m \u001b[38;5;66;03m# cheap import Since it is mainly used in test suits, we lazy import it\u001b[39;00m\n\u001b[0;32m    309\u001b[0m \u001b[38;5;66;03m# here to save on the order of 10 ms of import time for most users\u001b[39;00m\n\u001b[0;32m    310\u001b[0m \u001b[38;5;66;03m#\u001b[39;00m\n\u001b[0;32m    311\u001b[0m \u001b[38;5;66;03m# The previous way Tester was imported also had a side effect of adding\u001b[39;00m\n\u001b[0;32m    312\u001b[0m \u001b[38;5;66;03m# the full `numpy.testing` namespace\u001b[39;00m\n\u001b[0;32m    313\u001b[0m \u001b[38;5;28;01mif\u001b[39;00m attr \u001b[38;5;241m==\u001b[39m \u001b[38;5;124m'\u001b[39m\u001b[38;5;124mtesting\u001b[39m\u001b[38;5;124m'\u001b[39m:\n",
      "\u001b[1;31mAttributeError\u001b[0m: module 'numpy' has no attribute 'int'.\n`np.int` was a deprecated alias for the builtin `int`. To avoid this error in existing code, use `int` by itself. Doing this will not modify any behavior and is safe. When replacing `np.int`, you may wish to use e.g. `np.int64` or `np.int32` to specify the precision. If you wish to review your current use, check the release note link for additional information.\nThe aliases was originally deprecated in NumPy 1.20; for more details and guidance see the original release note at:\n    https://numpy.org/devdocs/release/1.20.0-notes.html#deprecations"
     ]
    }
   ],
   "source": [
    "print(a1.diameter)\n",
    "print(a1.surface_area)\n",
    "print(a1.volume)"
   ]
  },
  {
   "cell_type": "markdown",
   "id": "463f1a93-60c0-44d8-9aad-e9c2d51d1449",
   "metadata": {},
   "source": [
    "## 2.2. Criar um Dataframe"
   ]
  },
  {
   "cell_type": "markdown",
   "id": "b2d239dd-363d-4681-becf-6efca8c4befa",
   "metadata": {},
   "source": [
    "## Testes:"
   ]
  },
  {
   "cell_type": "code",
   "execution_count": 28,
   "id": "82d89520-7a09-4040-b9d8-03865388c6e3",
   "metadata": {},
   "outputs": [],
   "source": [
    "df = pd.DataFrame(columns=['Id_Annotation','Id_Scan','Subtlety', 'Internalstructure', 'Calcification','Sphericity','Margin','Lobulation',\n",
    "                           'Spiculation','Texture','Malignancy'])"
   ]
  },
  {
   "cell_type": "code",
   "execution_count": 29,
   "id": "7f9fc524-4720-4bdf-84df-ff12a74223ed",
   "metadata": {},
   "outputs": [
    {
     "data": {
      "text/plain": [
       "Index(['Id_Annotation', 'Id_Scan', 'Subtlety', 'Internalstructure',\n",
       "       'Calcification', 'Sphericity', 'Margin', 'Lobulation', 'Spiculation',\n",
       "       'Texture', 'Malignancy'],\n",
       "      dtype='object')"
      ]
     },
     "execution_count": 29,
     "metadata": {},
     "output_type": "execute_result"
    }
   ],
   "source": [
    "df.columns"
   ]
  },
  {
   "cell_type": "code",
   "execution_count": 30,
   "id": "ff961d4c-bef4-4a0e-b7ac-401eeb693cd3",
   "metadata": {},
   "outputs": [
    {
     "data": {
      "text/html": [
       "<div>\n",
       "<style scoped>\n",
       "    .dataframe tbody tr th:only-of-type {\n",
       "        vertical-align: middle;\n",
       "    }\n",
       "\n",
       "    .dataframe tbody tr th {\n",
       "        vertical-align: top;\n",
       "    }\n",
       "\n",
       "    .dataframe thead th {\n",
       "        text-align: right;\n",
       "    }\n",
       "</style>\n",
       "<table border=\"1\" class=\"dataframe\">\n",
       "  <thead>\n",
       "    <tr style=\"text-align: right;\">\n",
       "      <th></th>\n",
       "      <th>Id_Annotation</th>\n",
       "      <th>Id_Scan</th>\n",
       "      <th>Subtlety</th>\n",
       "      <th>Internalstructure</th>\n",
       "      <th>Calcification</th>\n",
       "      <th>Sphericity</th>\n",
       "      <th>Margin</th>\n",
       "      <th>Lobulation</th>\n",
       "      <th>Spiculation</th>\n",
       "      <th>Texture</th>\n",
       "      <th>Malignancy</th>\n",
       "    </tr>\n",
       "  </thead>\n",
       "  <tbody>\n",
       "  </tbody>\n",
       "</table>\n",
       "</div>"
      ],
      "text/plain": [
       "Empty DataFrame\n",
       "Columns: [Id_Annotation, Id_Scan, Subtlety, Internalstructure, Calcification, Sphericity, Margin, Lobulation, Spiculation, Texture, Malignancy]\n",
       "Index: []"
      ]
     },
     "execution_count": 30,
     "metadata": {},
     "output_type": "execute_result"
    }
   ],
   "source": [
    "df"
   ]
  },
  {
   "cell_type": "code",
   "execution_count": 31,
   "id": "fe456a1d-a2ad-4765-9ce7-70cd6a565384",
   "metadata": {},
   "outputs": [
    {
     "data": {
      "text/plain": [
       "int"
      ]
     },
     "execution_count": 31,
     "metadata": {},
     "output_type": "execute_result"
    }
   ],
   "source": [
    "ann = a1\n",
    "row = [ann.id, ann.scan_id ,ann.subtlety,ann.internalStructure,ann.calcification,ann.sphericity,ann.margin,ann.lobulation,\n",
    "           ann.spiculation,ann.texture,ann.malignancy]\n",
    "type(row[0])"
   ]
  },
  {
   "cell_type": "code",
   "execution_count": 32,
   "id": "ecdabf02-a236-4480-9cd2-f90fd147b255",
   "metadata": {},
   "outputs": [
    {
     "data": {
      "text/html": [
       "<div>\n",
       "<style scoped>\n",
       "    .dataframe tbody tr th:only-of-type {\n",
       "        vertical-align: middle;\n",
       "    }\n",
       "\n",
       "    .dataframe tbody tr th {\n",
       "        vertical-align: top;\n",
       "    }\n",
       "\n",
       "    .dataframe thead th {\n",
       "        text-align: right;\n",
       "    }\n",
       "</style>\n",
       "<table border=\"1\" class=\"dataframe\">\n",
       "  <thead>\n",
       "    <tr style=\"text-align: right;\">\n",
       "      <th></th>\n",
       "      <th>Id_Annotation</th>\n",
       "      <th>Id_Scan</th>\n",
       "      <th>Subtlety</th>\n",
       "      <th>Internalstructure</th>\n",
       "      <th>Calcification</th>\n",
       "      <th>Sphericity</th>\n",
       "      <th>Margin</th>\n",
       "      <th>Lobulation</th>\n",
       "      <th>Spiculation</th>\n",
       "      <th>Texture</th>\n",
       "      <th>Malignancy</th>\n",
       "    </tr>\n",
       "  </thead>\n",
       "  <tbody>\n",
       "    <tr>\n",
       "      <th>0</th>\n",
       "      <td>1</td>\n",
       "      <td>1</td>\n",
       "      <td>5</td>\n",
       "      <td>1</td>\n",
       "      <td>6</td>\n",
       "      <td>3</td>\n",
       "      <td>4</td>\n",
       "      <td>1</td>\n",
       "      <td>1</td>\n",
       "      <td>5</td>\n",
       "      <td>3</td>\n",
       "    </tr>\n",
       "  </tbody>\n",
       "</table>\n",
       "</div>"
      ],
      "text/plain": [
       "   Id_Annotation  Id_Scan  Subtlety  Internalstructure  Calcification  \\\n",
       "0              1        1         5                  1              6   \n",
       "\n",
       "   Sphericity  Margin  Lobulation  Spiculation  Texture  Malignancy  \n",
       "0           3       4           1            1        5           3  "
      ]
     },
     "execution_count": 32,
     "metadata": {},
     "output_type": "execute_result"
    }
   ],
   "source": [
    "df.loc[0] = row\n",
    "df"
   ]
  },
  {
   "cell_type": "code",
   "execution_count": 33,
   "id": "3c957c47-a52c-4e01-9a49-c26fb5d54500",
   "metadata": {
    "scrolled": true
   },
   "outputs": [
    {
     "data": {
      "text/plain": [
       "numpy.int64"
      ]
     },
     "execution_count": 33,
     "metadata": {},
     "output_type": "execute_result"
    }
   ],
   "source": [
    "type(df.loc[0, 'Id_Scan'])"
   ]
  },
  {
   "cell_type": "markdown",
   "id": "9cd6b33f-908a-4743-bc0e-0d58d3ffb2d3",
   "metadata": {},
   "source": [
    "-------------------------------------------------------"
   ]
  },
  {
   "cell_type": "code",
   "execution_count": 34,
   "id": "3823033e-83b9-4826-b7aa-201108223024",
   "metadata": {},
   "outputs": [
    {
     "data": {
      "text/html": [
       "<div>\n",
       "<style scoped>\n",
       "    .dataframe tbody tr th:only-of-type {\n",
       "        vertical-align: middle;\n",
       "    }\n",
       "\n",
       "    .dataframe tbody tr th {\n",
       "        vertical-align: top;\n",
       "    }\n",
       "\n",
       "    .dataframe thead th {\n",
       "        text-align: right;\n",
       "    }\n",
       "</style>\n",
       "<table border=\"1\" class=\"dataframe\">\n",
       "  <thead>\n",
       "    <tr style=\"text-align: right;\">\n",
       "      <th></th>\n",
       "      <th>Id_Annotation</th>\n",
       "      <th>Id_Scan</th>\n",
       "      <th>Subtlety</th>\n",
       "      <th>Internalstructure</th>\n",
       "      <th>Calcification</th>\n",
       "      <th>Sphericity</th>\n",
       "      <th>Margin</th>\n",
       "      <th>Lobulation</th>\n",
       "      <th>Spiculation</th>\n",
       "      <th>Texture</th>\n",
       "      <th>Malignancy</th>\n",
       "    </tr>\n",
       "  </thead>\n",
       "  <tbody>\n",
       "    <tr>\n",
       "      <th>0</th>\n",
       "      <td>1</td>\n",
       "      <td>1</td>\n",
       "      <td>5</td>\n",
       "      <td>1</td>\n",
       "      <td>6</td>\n",
       "      <td>3</td>\n",
       "      <td>4</td>\n",
       "      <td>1</td>\n",
       "      <td>1</td>\n",
       "      <td>5</td>\n",
       "      <td>3</td>\n",
       "    </tr>\n",
       "  </tbody>\n",
       "</table>\n",
       "</div>"
      ],
      "text/plain": [
       "   Id_Annotation  Id_Scan  Subtlety  Internalstructure  Calcification  \\\n",
       "0              1        1         5                  1              6   \n",
       "\n",
       "   Sphericity  Margin  Lobulation  Spiculation  Texture  Malignancy  \n",
       "0           3       4           1            1        5           3  "
      ]
     },
     "execution_count": 34,
     "metadata": {},
     "output_type": "execute_result"
    }
   ],
   "source": [
    "df"
   ]
  },
  {
   "cell_type": "markdown",
   "id": "84073c85-b186-4667-af3f-f4a23b4b0a86",
   "metadata": {},
   "source": [
    "## Funções:"
   ]
  },
  {
   "cell_type": "markdown",
   "id": "bfb1b917-b9a0-4000-97ba-a5b94b39db56",
   "metadata": {},
   "source": [
    "##### Função que recebe uma anotação e transforma numa row para o dataframe:"
   ]
  },
  {
   "cell_type": "code",
   "execution_count": 35,
   "id": "a17655e6-a67c-4ead-921d-aaf53a70df3e",
   "metadata": {},
   "outputs": [],
   "source": [
    "def ann_row(ann):\n",
    "    ids = np.array([ann.scan.patient_id, ann._nodule_id, ann.id, ann.scan_id], dtype = '<U14')\n",
    "    features = ann.feature_vals()\n",
    "    return(ids, features)    "
   ]
  },
  {
   "cell_type": "markdown",
   "id": "0aed33a5-ff88-4415-8997-6662a7ec9471",
   "metadata": {},
   "source": [
    "##### Função que recebe uma lista de anotações e cria um dataframe"
   ]
  },
  {
   "cell_type": "code",
   "execution_count": 36,
   "id": "325ec3c7-cf95-49d3-8374-2358911cc0bd",
   "metadata": {},
   "outputs": [],
   "source": [
    "def anns_df(anotacoes):\n",
    "    \n",
    "    #Garantir que estamos a trabalhar com uma lista\n",
    "    if  not isinstance(anotacoes, list):\n",
    "        anotacoes = [anotacoes]\n",
    "    \n",
    "    #Criar 2 dataframes, uma para os ids e outro para as features:\n",
    "    df_id = pd.DataFrame(columns = [\"Patient_id\", \"Nodule_id\", \"Annotation_id\", \"Scan_id\"])\n",
    "    df_feat = pd.DataFrame(columns=['Subtlety', 'Internalstructure', 'Calcification','Sphericity','Margin','Lobulation',\n",
    "                           'Spiculation','Texture','Malignancy'])\n",
    "    \n",
    "    for i, ann in enumerate(anotacoes):\n",
    "        array_id, array_feat = ann_row(ann)\n",
    "        df_id.loc[i] = array_id\n",
    "        df_feat.loc[i] = array_feat\n",
    "\n",
    "    df = pd.concat([df_id, df_feat], axis = 1)\n",
    "    return(df)     "
   ]
  },
  {
   "cell_type": "code",
   "execution_count": 37,
   "id": "d8e1bebb-8f1a-48e9-8105-5d4431fecebe",
   "metadata": {},
   "outputs": [
    {
     "data": {
      "text/html": [
       "<div>\n",
       "<style scoped>\n",
       "    .dataframe tbody tr th:only-of-type {\n",
       "        vertical-align: middle;\n",
       "    }\n",
       "\n",
       "    .dataframe tbody tr th {\n",
       "        vertical-align: top;\n",
       "    }\n",
       "\n",
       "    .dataframe thead th {\n",
       "        text-align: right;\n",
       "    }\n",
       "</style>\n",
       "<table border=\"1\" class=\"dataframe\">\n",
       "  <thead>\n",
       "    <tr style=\"text-align: right;\">\n",
       "      <th></th>\n",
       "      <th>Patient_id</th>\n",
       "      <th>Nodule_id</th>\n",
       "      <th>Annotation_id</th>\n",
       "      <th>Scan_id</th>\n",
       "      <th>Subtlety</th>\n",
       "      <th>Internalstructure</th>\n",
       "      <th>Calcification</th>\n",
       "      <th>Sphericity</th>\n",
       "      <th>Margin</th>\n",
       "      <th>Lobulation</th>\n",
       "      <th>Spiculation</th>\n",
       "      <th>Texture</th>\n",
       "      <th>Malignancy</th>\n",
       "    </tr>\n",
       "  </thead>\n",
       "  <tbody>\n",
       "    <tr>\n",
       "      <th>0</th>\n",
       "      <td>LIDC-IDRI-0078</td>\n",
       "      <td>3</td>\n",
       "      <td>1</td>\n",
       "      <td>1</td>\n",
       "      <td>5</td>\n",
       "      <td>1</td>\n",
       "      <td>6</td>\n",
       "      <td>3</td>\n",
       "      <td>4</td>\n",
       "      <td>1</td>\n",
       "      <td>1</td>\n",
       "      <td>5</td>\n",
       "      <td>3</td>\n",
       "    </tr>\n",
       "    <tr>\n",
       "      <th>1</th>\n",
       "      <td>LIDC-IDRI-0078</td>\n",
       "      <td>4</td>\n",
       "      <td>2</td>\n",
       "      <td>1</td>\n",
       "      <td>4</td>\n",
       "      <td>1</td>\n",
       "      <td>6</td>\n",
       "      <td>4</td>\n",
       "      <td>4</td>\n",
       "      <td>1</td>\n",
       "      <td>2</td>\n",
       "      <td>5</td>\n",
       "      <td>3</td>\n",
       "    </tr>\n",
       "    <tr>\n",
       "      <th>2</th>\n",
       "      <td>LIDC-IDRI-0078</td>\n",
       "      <td>6</td>\n",
       "      <td>3</td>\n",
       "      <td>1</td>\n",
       "      <td>5</td>\n",
       "      <td>1</td>\n",
       "      <td>4</td>\n",
       "      <td>3</td>\n",
       "      <td>5</td>\n",
       "      <td>2</td>\n",
       "      <td>3</td>\n",
       "      <td>5</td>\n",
       "      <td>4</td>\n",
       "    </tr>\n",
       "    <tr>\n",
       "      <th>3</th>\n",
       "      <td>LIDC-IDRI-0078</td>\n",
       "      <td>12321</td>\n",
       "      <td>4</td>\n",
       "      <td>1</td>\n",
       "      <td>5</td>\n",
       "      <td>1</td>\n",
       "      <td>6</td>\n",
       "      <td>4</td>\n",
       "      <td>2</td>\n",
       "      <td>4</td>\n",
       "      <td>1</td>\n",
       "      <td>5</td>\n",
       "      <td>5</td>\n",
       "    </tr>\n",
       "    <tr>\n",
       "      <th>4</th>\n",
       "      <td>LIDC-IDRI-0078</td>\n",
       "      <td>12325</td>\n",
       "      <td>5</td>\n",
       "      <td>1</td>\n",
       "      <td>4</td>\n",
       "      <td>1</td>\n",
       "      <td>6</td>\n",
       "      <td>4</td>\n",
       "      <td>2</td>\n",
       "      <td>3</td>\n",
       "      <td>1</td>\n",
       "      <td>4</td>\n",
       "      <td>4</td>\n",
       "    </tr>\n",
       "    <tr>\n",
       "      <th>...</th>\n",
       "      <td>...</td>\n",
       "      <td>...</td>\n",
       "      <td>...</td>\n",
       "      <td>...</td>\n",
       "      <td>...</td>\n",
       "      <td>...</td>\n",
       "      <td>...</td>\n",
       "      <td>...</td>\n",
       "      <td>...</td>\n",
       "      <td>...</td>\n",
       "      <td>...</td>\n",
       "      <td>...</td>\n",
       "      <td>...</td>\n",
       "    </tr>\n",
       "    <tr>\n",
       "      <th>195</th>\n",
       "      <td>LIDC-IDRI-0012</td>\n",
       "      <td>9</td>\n",
       "      <td>196</td>\n",
       "      <td>23</td>\n",
       "      <td>3</td>\n",
       "      <td>1</td>\n",
       "      <td>6</td>\n",
       "      <td>5</td>\n",
       "      <td>5</td>\n",
       "      <td>1</td>\n",
       "      <td>1</td>\n",
       "      <td>5</td>\n",
       "      <td>2</td>\n",
       "    </tr>\n",
       "    <tr>\n",
       "      <th>196</th>\n",
       "      <td>LIDC-IDRI-0012</td>\n",
       "      <td>10</td>\n",
       "      <td>197</td>\n",
       "      <td>23</td>\n",
       "      <td>3</td>\n",
       "      <td>1</td>\n",
       "      <td>6</td>\n",
       "      <td>5</td>\n",
       "      <td>5</td>\n",
       "      <td>1</td>\n",
       "      <td>1</td>\n",
       "      <td>5</td>\n",
       "      <td>2</td>\n",
       "    </tr>\n",
       "    <tr>\n",
       "      <th>197</th>\n",
       "      <td>LIDC-IDRI-0012</td>\n",
       "      <td>13</td>\n",
       "      <td>198</td>\n",
       "      <td>23</td>\n",
       "      <td>3</td>\n",
       "      <td>1</td>\n",
       "      <td>6</td>\n",
       "      <td>5</td>\n",
       "      <td>5</td>\n",
       "      <td>1</td>\n",
       "      <td>1</td>\n",
       "      <td>5</td>\n",
       "      <td>2</td>\n",
       "    </tr>\n",
       "    <tr>\n",
       "      <th>198</th>\n",
       "      <td>LIDC-IDRI-0012</td>\n",
       "      <td>14</td>\n",
       "      <td>199</td>\n",
       "      <td>23</td>\n",
       "      <td>3</td>\n",
       "      <td>1</td>\n",
       "      <td>6</td>\n",
       "      <td>5</td>\n",
       "      <td>5</td>\n",
       "      <td>1</td>\n",
       "      <td>1</td>\n",
       "      <td>5</td>\n",
       "      <td>2</td>\n",
       "    </tr>\n",
       "    <tr>\n",
       "      <th>199</th>\n",
       "      <td>LIDC-IDRI-0012</td>\n",
       "      <td>15</td>\n",
       "      <td>200</td>\n",
       "      <td>23</td>\n",
       "      <td>3</td>\n",
       "      <td>1</td>\n",
       "      <td>6</td>\n",
       "      <td>5</td>\n",
       "      <td>5</td>\n",
       "      <td>1</td>\n",
       "      <td>1</td>\n",
       "      <td>5</td>\n",
       "      <td>2</td>\n",
       "    </tr>\n",
       "  </tbody>\n",
       "</table>\n",
       "<p>200 rows × 13 columns</p>\n",
       "</div>"
      ],
      "text/plain": [
       "         Patient_id Nodule_id Annotation_id Scan_id  Subtlety  \\\n",
       "0    LIDC-IDRI-0078         3             1       1         5   \n",
       "1    LIDC-IDRI-0078         4             2       1         4   \n",
       "2    LIDC-IDRI-0078         6             3       1         5   \n",
       "3    LIDC-IDRI-0078     12321             4       1         5   \n",
       "4    LIDC-IDRI-0078     12325             5       1         4   \n",
       "..              ...       ...           ...     ...       ...   \n",
       "195  LIDC-IDRI-0012         9           196      23         3   \n",
       "196  LIDC-IDRI-0012        10           197      23         3   \n",
       "197  LIDC-IDRI-0012        13           198      23         3   \n",
       "198  LIDC-IDRI-0012        14           199      23         3   \n",
       "199  LIDC-IDRI-0012        15           200      23         3   \n",
       "\n",
       "     Internalstructure  Calcification  Sphericity  Margin  Lobulation  \\\n",
       "0                    1              6           3       4           1   \n",
       "1                    1              6           4       4           1   \n",
       "2                    1              4           3       5           2   \n",
       "3                    1              6           4       2           4   \n",
       "4                    1              6           4       2           3   \n",
       "..                 ...            ...         ...     ...         ...   \n",
       "195                  1              6           5       5           1   \n",
       "196                  1              6           5       5           1   \n",
       "197                  1              6           5       5           1   \n",
       "198                  1              6           5       5           1   \n",
       "199                  1              6           5       5           1   \n",
       "\n",
       "     Spiculation  Texture  Malignancy  \n",
       "0              1        5           3  \n",
       "1              2        5           3  \n",
       "2              3        5           4  \n",
       "3              1        5           5  \n",
       "4              1        4           4  \n",
       "..           ...      ...         ...  \n",
       "195            1        5           2  \n",
       "196            1        5           2  \n",
       "197            1        5           2  \n",
       "198            1        5           2  \n",
       "199            1        5           2  \n",
       "\n",
       "[200 rows x 13 columns]"
      ]
     },
     "execution_count": 37,
     "metadata": {},
     "output_type": "execute_result"
    }
   ],
   "source": [
    "annotations = pl.query(pl.Annotation).all()\n",
    "len(annotations)\n",
    "anotacoes = annotations[:200]\n",
    "data = anns_df(anotacoes)\n",
    "data"
   ]
  },
  {
   "cell_type": "code",
   "execution_count": null,
   "id": "44f1ef4e",
   "metadata": {},
   "outputs": [],
   "source": []
  },
  {
   "cell_type": "code",
   "execution_count": null,
   "id": "775812c6",
   "metadata": {},
   "outputs": [],
   "source": []
  }
 ],
 "metadata": {
  "kernelspec": {
   "display_name": "Python 3 (ipykernel)",
   "language": "python",
   "name": "python3"
  },
  "language_info": {
   "codemirror_mode": {
    "name": "ipython",
    "version": 3
   },
   "file_extension": ".py",
   "mimetype": "text/x-python",
   "name": "python",
   "nbconvert_exporter": "python",
   "pygments_lexer": "ipython3",
   "version": "3.11.5"
  }
 },
 "nbformat": 4,
 "nbformat_minor": 5
}
