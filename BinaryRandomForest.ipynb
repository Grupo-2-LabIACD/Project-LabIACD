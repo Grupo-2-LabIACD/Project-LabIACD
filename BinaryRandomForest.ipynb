{
 "cells": [
  {
   "cell_type": "markdown",
   "id": "92ca2f94-a462-44ba-9905-24efb95d214b",
   "metadata": {},
   "source": [
    "# Binary Random Forest Classifier "
   ]
  },
  {
   "cell_type": "markdown",
   "id": "4805d4d8-4bd6-4a38-b200-e4b5d6fbd9ca",
   "metadata": {},
   "source": [
    "Random Forest Classifier Steps: <br>\n",
    "- Load Main Dataset <br>\n",
    "- Split in Dataset for training and testing <br>\n",
    "- Build Bootstrapped Dataset <br>\n",
    "- Train Decision Trees on those datasets using diferent groups of features<br>\n",
    "- Get Test Data and for each entry on the table make it go through all the trees and take note of the results<br>\n",
    "- Agregate all the results from the different trees and choose the best value thorugh majority voting<br>\n",
    "            \n"
   ]
  },
  {
   "cell_type": "markdown",
   "id": "1d3dcfe7-5271-41cb-8f14-6ab0d2a56e6f",
   "metadata": {},
   "source": [
    "## Library imports"
   ]
  },
  {
   "cell_type": "code",
   "execution_count": null,
   "id": "2286cdaa-f4d2-40fd-828d-8a5433ad8e57",
   "metadata": {},
   "outputs": [],
   "source": [
    "import pandas as pd\n",
    "import numpy as np\n",
    "import math\n",
    "import os\n",
    "from sklearn.ensemble import RandomForestClassifier, RandomForestRegressor\n",
    "from sklearn.metrics import accuracy_score, confusion_matrix, precision_score, recall_score, ConfusionMatrixDisplay, explained_variance_score\n",
    "from sklearn.model_selection import RandomizedSearchCV, train_test_split\n",
    "from scipy.stats import randint\n",
    "from matplotlib import pyplot \n",
    "\n",
    "from sklearn.tree import export_graphviz\n",
    "from IPython.display import Image\n",
    "import graphviz\n",
    "\n",
    "\n",
    "#mainpath=\"C:\\\\Users\\\\alexa\\\\Desktop\\\\github\\\\Project-LabIACD\\\\metadata.csv\"\n",
    "pylidcpath=\"C:\\\\Users\\\\alexa\\\\Desktop\\\\Tudo\\\\Aulas\\\\LABS\\\\Project-LabIACD\\\\csv\\\\pylidc_grouped.csv\"\n",
    "pyradiomicsPath=\"C:\\\\Users\\\\alexa\\\\Desktop\\\\Tudo\\\\Aulas\\\\LABS\\\\Project-LabIACD\\\\csv\\\\Dataset_cleared.csv\""
   ]
  },
  {
   "cell_type": "markdown",
   "id": "baf162a7",
   "metadata": {},
   "source": [
    "## Load Pylidc Dataset"
   ]
  },
  {
   "cell_type": "code",
   "execution_count": 25,
   "id": "ec7b0585",
   "metadata": {},
   "outputs": [
    {
     "data": {
      "text/html": [
       "<div>\n",
       "<style scoped>\n",
       "    .dataframe tbody tr th:only-of-type {\n",
       "        vertical-align: middle;\n",
       "    }\n",
       "\n",
       "    .dataframe tbody tr th {\n",
       "        vertical-align: top;\n",
       "    }\n",
       "\n",
       "    .dataframe thead th {\n",
       "        text-align: right;\n",
       "    }\n",
       "</style>\n",
       "<table border=\"1\" class=\"dataframe\">\n",
       "  <thead>\n",
       "    <tr style=\"text-align: right;\">\n",
       "      <th></th>\n",
       "      <th>Subtlety</th>\n",
       "      <th>Internalstructure</th>\n",
       "      <th>Calcification</th>\n",
       "      <th>Sphericity</th>\n",
       "      <th>Margin</th>\n",
       "      <th>Lobulation</th>\n",
       "      <th>Spiculation</th>\n",
       "      <th>Texture</th>\n",
       "      <th>Malignancy</th>\n",
       "      <th>Malignancy_round</th>\n",
       "    </tr>\n",
       "  </thead>\n",
       "  <tbody>\n",
       "    <tr>\n",
       "      <th>2646</th>\n",
       "      <td>4.333333</td>\n",
       "      <td>1.0</td>\n",
       "      <td>6.0</td>\n",
       "      <td>3.666667</td>\n",
       "      <td>2.333333</td>\n",
       "      <td>2.333333</td>\n",
       "      <td>3.0</td>\n",
       "      <td>3.333333</td>\n",
       "      <td>4.0</td>\n",
       "      <td>4</td>\n",
       "    </tr>\n",
       "    <tr>\n",
       "      <th>2647</th>\n",
       "      <td>2.500000</td>\n",
       "      <td>1.0</td>\n",
       "      <td>6.0</td>\n",
       "      <td>4.500000</td>\n",
       "      <td>2.000000</td>\n",
       "      <td>1.000000</td>\n",
       "      <td>1.5</td>\n",
       "      <td>1.000000</td>\n",
       "      <td>3.5</td>\n",
       "      <td>4</td>\n",
       "    </tr>\n",
       "    <tr>\n",
       "      <th>2648</th>\n",
       "      <td>3.000000</td>\n",
       "      <td>1.0</td>\n",
       "      <td>6.0</td>\n",
       "      <td>3.500000</td>\n",
       "      <td>3.500000</td>\n",
       "      <td>1.500000</td>\n",
       "      <td>1.0</td>\n",
       "      <td>5.000000</td>\n",
       "      <td>3.5</td>\n",
       "      <td>4</td>\n",
       "    </tr>\n",
       "    <tr>\n",
       "      <th>2649</th>\n",
       "      <td>5.000000</td>\n",
       "      <td>1.0</td>\n",
       "      <td>6.0</td>\n",
       "      <td>4.000000</td>\n",
       "      <td>5.000000</td>\n",
       "      <td>1.000000</td>\n",
       "      <td>1.0</td>\n",
       "      <td>5.000000</td>\n",
       "      <td>2.0</td>\n",
       "      <td>2</td>\n",
       "    </tr>\n",
       "    <tr>\n",
       "      <th>2650</th>\n",
       "      <td>5.000000</td>\n",
       "      <td>1.0</td>\n",
       "      <td>4.0</td>\n",
       "      <td>5.000000</td>\n",
       "      <td>5.000000</td>\n",
       "      <td>3.000000</td>\n",
       "      <td>3.0</td>\n",
       "      <td>5.000000</td>\n",
       "      <td>2.5</td>\n",
       "      <td>3</td>\n",
       "    </tr>\n",
       "  </tbody>\n",
       "</table>\n",
       "</div>"
      ],
      "text/plain": [
       "      Subtlety  Internalstructure  Calcification  Sphericity    Margin  \\\n",
       "2646  4.333333                1.0            6.0    3.666667  2.333333   \n",
       "2647  2.500000                1.0            6.0    4.500000  2.000000   \n",
       "2648  3.000000                1.0            6.0    3.500000  3.500000   \n",
       "2649  5.000000                1.0            6.0    4.000000  5.000000   \n",
       "2650  5.000000                1.0            4.0    5.000000  5.000000   \n",
       "\n",
       "      Lobulation  Spiculation   Texture  Malignancy  Malignancy_round  \n",
       "2646    2.333333          3.0  3.333333         4.0                 4  \n",
       "2647    1.000000          1.5  1.000000         3.5                 4  \n",
       "2648    1.500000          1.0  5.000000         3.5                 4  \n",
       "2649    1.000000          1.0  5.000000         2.0                 2  \n",
       "2650    3.000000          3.0  5.000000         2.5                 3  "
      ]
     },
     "execution_count": 25,
     "metadata": {},
     "output_type": "execute_result"
    }
   ],
   "source": [
    "main_dataset=pd.read_csv(pylidcpath)\n",
    "main_dataset.tail()\n"
   ]
  },
  {
   "cell_type": "markdown",
   "id": "afc0dbe3",
   "metadata": {},
   "source": [
    "## Spliting Training and Testing Datasets"
   ]
  },
  {
   "cell_type": "markdown",
   "id": "0e310b83",
   "metadata": {},
   "source": [
    "We are firstly going to make the data division based on Pareto´s Law (80% training/20% testing) <br>"
   ]
  },
  {
   "cell_type": "code",
   "execution_count": 26,
   "id": "121d8f12",
   "metadata": {},
   "outputs": [
    {
     "data": {
      "text/plain": [
       "0       1\n",
       "1       1\n",
       "2       0\n",
       "3       1\n",
       "4       0\n",
       "       ..\n",
       "2646    1\n",
       "2647    1\n",
       "2648    1\n",
       "2649    0\n",
       "2650    0\n",
       "Name: Malignancy_round, Length: 2651, dtype: int64"
      ]
     },
     "execution_count": 26,
     "metadata": {},
     "output_type": "execute_result"
    }
   ],
   "source": [
    "collumn_name='Malignancy_round'\n",
    "features_collumns=main_dataset.drop(collumn_name,axis=1)\n",
    "features_collumns=features_collumns.drop('Malignancy',axis=1)\n",
    "binary=main_dataset[collumn_name].values\n",
    "for i in range(len(binary)):\n",
    "    if binary[i]>3:\n",
    "        binary[i]=1\n",
    "    else:\n",
    "        binary[i]=0\n",
    "main_dataset[collumn_name]=binary\n",
    "has_cancer_collumns=main_dataset[collumn_name]\n",
    "features_treino, features_teste, has_cancer_treino, has_cancer_teste=train_test_split(features_collumns,has_cancer_collumns, test_size=0.2)\n",
    "#has_cancer_collumns\n",
    "#features_collumns"
   ]
  },
  {
   "cell_type": "markdown",
   "id": "afda639b",
   "metadata": {},
   "source": [
    "## Random Forest Classifier Pylidc"
   ]
  },
  {
   "cell_type": "markdown",
   "id": "d7abb0fb",
   "metadata": {},
   "source": [
    "Although we say in the index that we have to build the Bootstrapped Dataset the sklearn random forest classifier has the ability to do that for us alowing us to skip a step<br>\n",
    "<br>\n",
    "In this chapter we´ll have some sub-chapters so that we can play around with the random Forest Classifier to try and get the best possible model\n"
   ]
  },
  {
   "cell_type": "markdown",
   "id": "bc7a1df0",
   "metadata": {},
   "source": [
    "### Default Random Forest"
   ]
  },
  {
   "cell_type": "markdown",
   "id": "570b76a5",
   "metadata": {},
   "source": [
    "#### DataFitting"
   ]
  },
  {
   "cell_type": "code",
   "execution_count": 27,
   "id": "88ef9789",
   "metadata": {},
   "outputs": [
    {
     "data": {
      "text/html": [
       "<style>#sk-container-id-1 {color: black;}#sk-container-id-1 pre{padding: 0;}#sk-container-id-1 div.sk-toggleable {background-color: white;}#sk-container-id-1 label.sk-toggleable__label {cursor: pointer;display: block;width: 100%;margin-bottom: 0;padding: 0.3em;box-sizing: border-box;text-align: center;}#sk-container-id-1 label.sk-toggleable__label-arrow:before {content: \"▸\";float: left;margin-right: 0.25em;color: #696969;}#sk-container-id-1 label.sk-toggleable__label-arrow:hover:before {color: black;}#sk-container-id-1 div.sk-estimator:hover label.sk-toggleable__label-arrow:before {color: black;}#sk-container-id-1 div.sk-toggleable__content {max-height: 0;max-width: 0;overflow: hidden;text-align: left;background-color: #f0f8ff;}#sk-container-id-1 div.sk-toggleable__content pre {margin: 0.2em;color: black;border-radius: 0.25em;background-color: #f0f8ff;}#sk-container-id-1 input.sk-toggleable__control:checked~div.sk-toggleable__content {max-height: 200px;max-width: 100%;overflow: auto;}#sk-container-id-1 input.sk-toggleable__control:checked~label.sk-toggleable__label-arrow:before {content: \"▾\";}#sk-container-id-1 div.sk-estimator input.sk-toggleable__control:checked~label.sk-toggleable__label {background-color: #d4ebff;}#sk-container-id-1 div.sk-label input.sk-toggleable__control:checked~label.sk-toggleable__label {background-color: #d4ebff;}#sk-container-id-1 input.sk-hidden--visually {border: 0;clip: rect(1px 1px 1px 1px);clip: rect(1px, 1px, 1px, 1px);height: 1px;margin: -1px;overflow: hidden;padding: 0;position: absolute;width: 1px;}#sk-container-id-1 div.sk-estimator {font-family: monospace;background-color: #f0f8ff;border: 1px dotted black;border-radius: 0.25em;box-sizing: border-box;margin-bottom: 0.5em;}#sk-container-id-1 div.sk-estimator:hover {background-color: #d4ebff;}#sk-container-id-1 div.sk-parallel-item::after {content: \"\";width: 100%;border-bottom: 1px solid gray;flex-grow: 1;}#sk-container-id-1 div.sk-label:hover label.sk-toggleable__label {background-color: #d4ebff;}#sk-container-id-1 div.sk-serial::before {content: \"\";position: absolute;border-left: 1px solid gray;box-sizing: border-box;top: 0;bottom: 0;left: 50%;z-index: 0;}#sk-container-id-1 div.sk-serial {display: flex;flex-direction: column;align-items: center;background-color: white;padding-right: 0.2em;padding-left: 0.2em;position: relative;}#sk-container-id-1 div.sk-item {position: relative;z-index: 1;}#sk-container-id-1 div.sk-parallel {display: flex;align-items: stretch;justify-content: center;background-color: white;position: relative;}#sk-container-id-1 div.sk-item::before, #sk-container-id-1 div.sk-parallel-item::before {content: \"\";position: absolute;border-left: 1px solid gray;box-sizing: border-box;top: 0;bottom: 0;left: 50%;z-index: -1;}#sk-container-id-1 div.sk-parallel-item {display: flex;flex-direction: column;z-index: 1;position: relative;background-color: white;}#sk-container-id-1 div.sk-parallel-item:first-child::after {align-self: flex-end;width: 50%;}#sk-container-id-1 div.sk-parallel-item:last-child::after {align-self: flex-start;width: 50%;}#sk-container-id-1 div.sk-parallel-item:only-child::after {width: 0;}#sk-container-id-1 div.sk-dashed-wrapped {border: 1px dashed gray;margin: 0 0.4em 0.5em 0.4em;box-sizing: border-box;padding-bottom: 0.4em;background-color: white;}#sk-container-id-1 div.sk-label label {font-family: monospace;font-weight: bold;display: inline-block;line-height: 1.2em;}#sk-container-id-1 div.sk-label-container {text-align: center;}#sk-container-id-1 div.sk-container {/* jupyter's `normalize.less` sets `[hidden] { display: none; }` but bootstrap.min.css set `[hidden] { display: none !important; }` so we also need the `!important` here to be able to override the default hidden behavior on the sphinx rendered scikit-learn.org. See: https://github.com/scikit-learn/scikit-learn/issues/21755 */display: inline-block !important;position: relative;}#sk-container-id-1 div.sk-text-repr-fallback {display: none;}</style><div id=\"sk-container-id-1\" class=\"sk-top-container\"><div class=\"sk-text-repr-fallback\"><pre>RandomForestClassifier()</pre><b>In a Jupyter environment, please rerun this cell to show the HTML representation or trust the notebook. <br />On GitHub, the HTML representation is unable to render, please try loading this page with nbviewer.org.</b></div><div class=\"sk-container\" hidden><div class=\"sk-item\"><div class=\"sk-estimator sk-toggleable\"><input class=\"sk-toggleable__control sk-hidden--visually\" id=\"sk-estimator-id-1\" type=\"checkbox\" checked><label for=\"sk-estimator-id-1\" class=\"sk-toggleable__label sk-toggleable__label-arrow\">RandomForestClassifier</label><div class=\"sk-toggleable__content\"><pre>RandomForestClassifier()</pre></div></div></div></div></div>"
      ],
      "text/plain": [
       "RandomForestClassifier()"
      ]
     },
     "execution_count": 27,
     "metadata": {},
     "output_type": "execute_result"
    }
   ],
   "source": [
    "RandomForest = RandomForestClassifier()\n",
    "RandomForest.fit(features_treino,has_cancer_treino)"
   ]
  },
  {
   "cell_type": "markdown",
   "id": "8f14e64c",
   "metadata": {},
   "source": [
    "#### Model Evaluation"
   ]
  },
  {
   "cell_type": "markdown",
   "id": "9bdce928",
   "metadata": {},
   "source": [
    "##### Prediction Part"
   ]
  },
  {
   "cell_type": "code",
   "execution_count": 28,
   "id": "6c1f2f34",
   "metadata": {},
   "outputs": [],
   "source": [
    "has_cancer_prediction=RandomForest.predict(features_teste)"
   ]
  },
  {
   "cell_type": "markdown",
   "id": "20d6bd6b",
   "metadata": {},
   "source": [
    "##### Accuracy Part"
   ]
  },
  {
   "cell_type": "code",
   "execution_count": 29,
   "id": "c89972a7",
   "metadata": {},
   "outputs": [
    {
     "name": "stdout",
     "output_type": "stream",
     "text": [
      "Accuracy = 0.9077212806026366 in a percentage of 100 = 90.77212806026365\n"
     ]
    }
   ],
   "source": [
    "#accuracy= explained_variance_score(has_cancer_teste, has_cancer_prediction)\n",
    "accuracy = accuracy_score(has_cancer_teste, has_cancer_prediction)\n",
    "print(f\"Accuracy = {accuracy} in a percentage of 100 = {accuracy*100}\")"
   ]
  },
  {
   "cell_type": "markdown",
   "id": "60572ec6",
   "metadata": {},
   "source": [
    "### Model Tuning"
   ]
  },
  {
   "cell_type": "markdown",
   "id": "7ffb0781",
   "metadata": {},
   "source": [
    "Now let's see if by changing the parameters we can get a better solution<br>\n",
    "<br>\n",
    "With sklearn we have some comands that help us with this such as RandomizedSearchCV, but let´s first talk about the parameters we'll be messing with:<br>\n",
    "- n_estimators: Represents the amount of Decision Trees in our Forest, we'll try to change the value in increments of 20 to try and find an \"optimal\" value between [50,400]<br>\n",
    "- criterion: criterion in the trees we'll be testing gini vs entropy<br>\n",
    "- max_features: the number of features that each tree will have, according to some studies the best values should be around $\\sqrt{TotalFeatures}$ or log<sub>2</sub>(TotalFeatures)<br>\n",
    "- min_samples_split: that represents the minimum samples to split a node<br>\n",
    "- max_depth: in changing this value we can optimize our model and reduce the risk of overfitting\n",
    "\n",
    "<br>\n"
   ]
  },
  {
   "cell_type": "markdown",
   "id": "65f6f02b",
   "metadata": {},
   "source": [
    "#### Stackable Improvements Assumption"
   ]
  },
  {
   "cell_type": "markdown",
   "id": "50754539",
   "metadata": {},
   "source": [
    "Note that this is only one proposal of a potential model for this problem where we are going to make some assumptions in order to find if those a are true.\n",
    "<br>\n",
    "The first of those is that we'll make the superficial and perhaps stupid assumption that if a parameter improves the accuracy when adjusted by himself that, the improvement is going to stack with the improvement that we get from tuning other parameter by themselfs.<br>\n",
    "<br>\n",
    "By the end we'll see if this assumption holds or not"
   ]
  },
  {
   "cell_type": "markdown",
   "id": "3c990f71",
   "metadata": {},
   "source": [
    "##### Finding the best Tree number"
   ]
  },
  {
   "cell_type": "markdown",
   "id": "dd900104",
   "metadata": {},
   "source": [
    "- For this we'll test the tree numbers in increments of 10 <br>\n",
    "- Our accuracy score for each number of trees will be given by an average of 5 tests <br>\n",
    "- After this we'll save the best value<br>"
   ]
  },
  {
   "cell_type": "code",
   "execution_count": 31,
   "id": "1f2a7445",
   "metadata": {},
   "outputs": [
    {
     "data": {
      "image/png": "[encoded data removed]",
      "text/plain": [
       "<Figure size 640x480 with 1 Axes>"
      ]
     },
     "metadata": {},
     "output_type": "display_data"
    },
    {
     "name": "stdout",
     "output_type": "stream",
     "text": [
      "Best tree value=300 accuracy = 0.894915254237288\n"
     ]
    }
   ],
   "source": [
    "a=50\n",
    "b=400\n",
    "values=[]\n",
    "treenumber=[]\n",
    "for i in range (a,b,10):\n",
    "    average_accuracy=0\n",
    "\n",
    "    for k in range (5):\n",
    "        RandomForesttree = RandomForestClassifier(n_estimators=i, n_jobs=(-1))\n",
    "        RandomForesttree.fit(features_treino,has_cancer_treino)\n",
    "        has_cancer_predictiontree=RandomForesttree.predict(features_teste)\n",
    "        accuracy = accuracy_score(has_cancer_teste, has_cancer_predictiontree)\n",
    "        average_accuracy+=accuracy\n",
    "    values.append(average_accuracy/5)\n",
    "    treenumber.append(i)\n",
    "\n",
    "pyplot.plot(treenumber,values )\n",
    "pyplot.xlabel('trees')\n",
    "pyplot.ylabel('accuracy') \n",
    "pyplot.title('Correlation between trees and Accuracy')\n",
    "pyplot.show() \n",
    "\n",
    "values=np.array(values)\n",
    "index=np.where(values==np.max(values))\n",
    "besttree=treenumber[index[0][0]]\n",
    "print(f\"Best tree value={besttree} accuracy = {np.max(values)}\")"
   ]
  },
  {
   "cell_type": "markdown",
   "id": "9d060ef0",
   "metadata": {},
   "source": [
    "##### Finding the best criterion"
   ]
  },
  {
   "cell_type": "markdown",
   "id": "ce681425",
   "metadata": {},
   "source": [
    "We'll test three criterion:<br>\n",
    "- Gini<br>\n",
    "- Entropy<br>\n",
    "- Log Loss"
   ]
  },
  {
   "cell_type": "code",
   "execution_count": 32,
   "id": "47d16586",
   "metadata": {},
   "outputs": [],
   "source": [
    "accuracy_gini=0\n",
    "accuracy_entropy=0\n",
    "accuracy_logloss=0\n",
    "for i in range (5):\n",
    "    RandomForestGini = RandomForestClassifier(criterion=\"gini\", n_jobs=(-1))\n",
    "    RandomForestGini.fit(features_treino,has_cancer_treino)\n",
    "    has_cancer_predictionGini=RandomForestGini.predict(features_teste)\n",
    "    accuracy_gini_iter = accuracy_score(has_cancer_teste, has_cancer_predictionGini)\n",
    "    accuracy_gini+=accuracy_gini_iter\n",
    "\n",
    "    RandomForestEntropy = RandomForestClassifier(criterion=\"entropy\", n_jobs=(-1))\n",
    "    RandomForestEntropy.fit(features_treino,has_cancer_treino)\n",
    "    has_cancer_predictionEntropy=RandomForestEntropy.predict(features_teste)\n",
    "    accuracy_entropy_iter = accuracy_score(has_cancer_teste, has_cancer_predictionEntropy)\n",
    "    accuracy_entropy+=accuracy_entropy_iter\n",
    "\n",
    "    RandomForestlogloss = RandomForestClassifier(criterion=\"log_loss\", n_jobs=(-1))\n",
    "    RandomForestlogloss.fit(features_treino,has_cancer_treino)\n",
    "    has_cancer_predictionlogloss=RandomForestlogloss.predict(features_teste)\n",
    "    accuracy_logloss_iter = accuracy_score(has_cancer_teste, has_cancer_predictionlogloss)\n",
    "    accuracy_logloss+=accuracy_logloss_iter\n",
    "\n",
    "accuracy_gini=accuracy_gini/5\n",
    "accuracy_entropy=accuracy_entropy/5\n",
    "accuracy_logloss=accuracy_logloss/5\n",
    "\n",
    "bestcriterionacc=(np.max([accuracy_entropy, accuracy_gini, accuracy_logloss]))\n",
    "if bestcriterionacc==accuracy_gini:\n",
    "    bestcriterionname='gini'\n",
    "if bestcriterionacc==accuracy_entropy:\n",
    "    bestcriterionname='entropy'\n",
    "if bestcriterionacc==accuracy_logloss:\n",
    "    bestcriterionname='log_loss'"
   ]
  },
  {
   "cell_type": "code",
   "execution_count": 33,
   "id": "61c5ecb4",
   "metadata": {},
   "outputs": [
    {
     "name": "stdout",
     "output_type": "stream",
     "text": [
      "Accuracy Gini = 0.8922787193973635 in a percentage of 100 = 89.22787193973635\n",
      "Accuracy Entropy = 0.8911487758945386 in a percentage of 100 = 89.11487758945385\n",
      "Accuracy Log Loss = 0.8915254237288135 in a percentage of 100 = 89.15254237288136\n",
      "Best criterion = gini with an accuracy of = 0.8922787193973635\n"
     ]
    }
   ],
   "source": [
    "print(f\"Accuracy Gini = {accuracy_gini} in a percentage of 100 = {accuracy_gini*100}\")\n",
    "print(f\"Accuracy Entropy = {accuracy_entropy} in a percentage of 100 = {accuracy_entropy*100}\")\n",
    "print(f\"Accuracy Log Loss = {accuracy_logloss} in a percentage of 100 = {accuracy_logloss*100}\")\n",
    "print(f\"Best criterion = {bestcriterionname} with an accuracy of = {bestcriterionacc}\")"
   ]
  },
  {
   "cell_type": "markdown",
   "id": "3f7f25ea",
   "metadata": {},
   "source": [
    "##### Finding the best minimum samples split"
   ]
  },
  {
   "cell_type": "code",
   "execution_count": 34,
   "id": "62b20462",
   "metadata": {},
   "outputs": [
    {
     "data": {
      "image/png": "[encoded data removed]",
      "text/plain": [
       "<Figure size 640x480 with 1 Axes>"
      ]
     },
     "metadata": {},
     "output_type": "display_data"
    },
    {
     "name": "stdout",
     "output_type": "stream",
     "text": [
      "Best Sample value=6, max accuracy=0.9005649717514125\n"
     ]
    }
   ],
   "source": [
    "lower=2\n",
    "upper=40\n",
    "values=[]\n",
    "samplesnumber=[]\n",
    "for i in range (lower,upper):\n",
    "    average_accuracy=0\n",
    "\n",
    "    for k in range (5):\n",
    "        RandomForestSamples = RandomForestClassifier(min_samples_split=i, n_jobs=(-1))\n",
    "        RandomForestSamples.fit(features_treino,has_cancer_treino)\n",
    "        has_cancer_predictionsamples=RandomForestSamples.predict(features_teste)\n",
    "        accuracy = accuracy_score(has_cancer_teste, has_cancer_predictionsamples)\n",
    "        average_accuracy+=accuracy\n",
    "    values.append(average_accuracy/5)\n",
    "    samplesnumber.append(i)\n",
    "    \n",
    "pyplot.plot(samplesnumber,values )\n",
    "pyplot.xlabel('samples')\n",
    "pyplot.ylabel('accuracy') \n",
    "pyplot.title('Correlation between minimum samples and Accuracy')\n",
    "pyplot.show()\n",
    "\n",
    "\n",
    "values=np.array(values)\n",
    "index=np.where(values==np.max(values))\n",
    "bestsample=samplesnumber[index[0][0]]\n",
    "print(f\"Best Sample value={bestsample}, max accuracy={np.max(values)}\")\n"
   ]
  },
  {
   "cell_type": "markdown",
   "id": "5978c3ab",
   "metadata": {},
   "source": [
    "##### Finding the best Tree deepth"
   ]
  },
  {
   "cell_type": "code",
   "execution_count": 35,
   "id": "3251ec89",
   "metadata": {},
   "outputs": [
    {
     "data": {
      "image/png": "[encoded data removed]",
      "text/plain": [
       "<Figure size 640x480 with 1 Axes>"
      ]
     },
     "metadata": {},
     "output_type": "display_data"
    },
    {
     "name": "stdout",
     "output_type": "stream",
     "text": [
      "Best depth value=13, max accuracy=0.8971751412429378\n"
     ]
    }
   ],
   "source": [
    "lower=2\n",
    "upper=20\n",
    "values=[]\n",
    "depthnumber=[]\n",
    "for i in range (lower,upper):\n",
    "    average_accuracy=0\n",
    "\n",
    "    for k in range (5):\n",
    "        RandomForestdepth = RandomForestClassifier(max_depth=i, n_jobs=(-1))\n",
    "        RandomForestdepth.fit(features_treino,has_cancer_treino)\n",
    "        has_cancer_predictiondepth=RandomForestdepth.predict(features_teste)\n",
    "        accuracy = accuracy_score(has_cancer_teste, has_cancer_predictiondepth)\n",
    "        average_accuracy+=accuracy\n",
    "    values.append(average_accuracy/5)\n",
    "    depthnumber.append(i)\n",
    "\n",
    "\n",
    "\n",
    "pyplot.plot(depthnumber,values )\n",
    "pyplot.xlabel('depth')\n",
    "pyplot.ylabel('accuracy') \n",
    "pyplot.title('Correlation tree depth and Accuracy')\n",
    "pyplot.show()\n",
    "\n",
    "values=np.array(values)\n",
    "index=np.where(values==np.max(values))\n",
    "bestdepthnumber=depthnumber[index[0][0]]\n",
    "print(f\"Best depth value={bestdepthnumber}, max accuracy={np.max(values)}\")"
   ]
  },
  {
   "cell_type": "markdown",
   "id": "4e55cc7e",
   "metadata": {},
   "source": [
    "##### Finding the best Max Features"
   ]
  },
  {
   "cell_type": "markdown",
   "id": "8d9124a3",
   "metadata": {},
   "source": [
    "In this we have two options $\\sqrt{TotalFeatures}$ or log<sub>2</sub>(TotalFeatures), that have been shown by studies to be the best two value.<br> But these two values tend to be very similar unless TotalFeatures is a high number. "
   ]
  },
  {
   "cell_type": "code",
   "execution_count": 37,
   "id": "173022b9",
   "metadata": {},
   "outputs": [
    {
     "name": "stdout",
     "output_type": "stream",
     "text": [
      "Accuracy Sqr= 0.8934086629001883 in a percentage of 100 = 89.34086629001882\n",
      "Accuracy Log= 0.8941619585687383 in a percentage of 100 = 89.41619585687383\n",
      "Difference = 0.0007532956685499803\n",
      "Best Max Samples = log2 with an accuracy of = 0.8941619585687383\n"
     ]
    }
   ],
   "source": [
    "accuracy_sqr=0\n",
    "accuracy_log=0\n",
    "for i in range (5):\n",
    "    RandomForestsqr = RandomForestClassifier(max_features='sqrt', n_jobs=(-1))\n",
    "    RandomForestsqr.fit(features_treino,has_cancer_treino)\n",
    "    has_cancer_predictionsqr=RandomForestsqr.predict(features_teste)\n",
    "    accuracy_sqr_iter = accuracy_score(has_cancer_teste, has_cancer_predictionsqr)\n",
    "    accuracy_sqr+=accuracy_sqr_iter\n",
    "\n",
    "    RandomForestlog = RandomForestClassifier(max_features='log2', n_jobs=(-1))\n",
    "    RandomForestlog.fit(features_treino,has_cancer_treino)\n",
    "    has_cancer_predictionlog=RandomForestlog.predict(features_teste)\n",
    "    accuracy_log_iter = accuracy_score(has_cancer_teste, has_cancer_predictionlog)\n",
    "    accuracy_log+=accuracy_log_iter\n",
    "\n",
    "accuracy_sqr=accuracy_sqr/5\n",
    "accuracy_log=accuracy_log/5\n",
    "\n",
    "best_maxsamples_acc=(np.max([accuracy_sqr, accuracy_log,]))\n",
    "if best_maxsamples_acc==accuracy_sqr:\n",
    "    best_max_samples_name='sqrt'\n",
    "if best_maxsamples_acc==accuracy_log:\n",
    "    best_max_samples_name='log2'\n",
    "\n",
    "print(f\"Accuracy Sqr= {accuracy_sqr} in a percentage of 100 = {accuracy_sqr*100}\")\n",
    "print(f\"Accuracy Log= {accuracy_log} in a percentage of 100 = {accuracy_log*100}\")\n",
    "print(f\"Difference = {abs(accuracy_log-accuracy_sqr)}\")\n",
    "print(f\"Best Max Samples = {best_max_samples_name} with an accuracy of = {best_maxsamples_acc}\")"
   ]
  },
  {
   "cell_type": "markdown",
   "id": "60c61422",
   "metadata": {},
   "source": [
    "##### Model with \"optimal stacking\""
   ]
  },
  {
   "cell_type": "code",
   "execution_count": 38,
   "id": "ae0174da",
   "metadata": {},
   "outputs": [
    {
     "name": "stdout",
     "output_type": "stream",
     "text": [
      "Optimal stacking model accuracy = 0.9013182674199622\n"
     ]
    }
   ],
   "source": [
    "accuracy_optimal=0\n",
    "for i in range(5):\n",
    "    RandomForestoptimal = RandomForestClassifier(n_estimators=besttree, criterion=bestcriterionname, min_samples_split=bestsample, max_features=bestsample, max_depth=bestdepthnumber, n_jobs=(-1))\n",
    "    RandomForestoptimal.fit(features_treino,has_cancer_treino)\n",
    "    has_cancer_predictionoptimal=RandomForestoptimal.predict(features_teste)\n",
    "    accuracy_optimal_iter = accuracy_score(has_cancer_teste, has_cancer_predictionoptimal)\n",
    "    accuracy_optimal+=accuracy_optimal_iter\n",
    "accuracy_optimal=accuracy_optimal/5\n",
    "\n",
    "print (f\"Optimal stacking model accuracy = {accuracy_optimal}\")"
   ]
  },
  {
   "cell_type": "markdown",
   "id": "f0731517",
   "metadata": {},
   "source": [
    "###### Confusion Matrix \"optimal stacking\""
   ]
  },
  {
   "cell_type": "code",
   "execution_count": 39,
   "id": "b4ef3088",
   "metadata": {},
   "outputs": [
    {
     "data": {
      "text/plain": [
       "<sklearn.metrics._plot.confusion_matrix.ConfusionMatrixDisplay at 0x2139e978590>"
      ]
     },
     "execution_count": 39,
     "metadata": {},
     "output_type": "execute_result"
    },
    {
     "data": {
      "image/png": "[encoded data removed]",
      "text/plain": [
       "<Figure size 640x480 with 2 Axes>"
      ]
     },
     "metadata": {},
     "output_type": "display_data"
    }
   ],
   "source": [
    "cm=confusion_matrix(has_cancer_teste, has_cancer_predictionoptimal)\n",
    "ConfusionMatrixDisplay(confusion_matrix=cm).plot()"
   ]
  },
  {
   "cell_type": "markdown",
   "id": "a4d6d697",
   "metadata": {},
   "source": [
    "###### First Tree from \"optimal stacking\" model"
   ]
  },
  {
   "cell_type": "code",
   "execution_count": 40,
   "id": "a2661a8d",
   "metadata": {},
   "outputs": [
    {
     "data": {
      "image/svg+xml": [
       "<?xml version=\"1.0\" encoding=\"UTF-8\" standalone=\"no\"?>\n",
       "<!DOCTYPE svg PUBLIC \"-//W3C//DTD SVG 1.1//EN\"\n",
       " \"http://www.w3.org/Graphics/SVG/1.1/DTD/svg11.dtd\">\n",
       "<!-- Generated by graphviz version 9.0.0 (20230911.1827)\n",
       " -->\n",
       "<!-- Title: Tree Pages: 1 -->\n",
       "<svg width=\"674pt\" height=\"325pt\"\n",
       " viewBox=\"0.00 0.00 674.25 324.50\" xmlns=\"http://www.w3.org/2000/svg\" xmlns:xlink=\"http://www.w3.org/1999/xlink\">\n",
       "<g id=\"graph0\" class=\"graph\" transform=\"scale(1 1) rotate(0) translate(4 320.5)\">\n",
       "<title>Tree</title>\n",
       "<polygon fill=\"white\" stroke=\"none\" points=\"-4,4 -4,-320.5 670.25,-320.5 670.25,4 -4,4\"/>\n",
       "<!-- 0 -->\n",
       "<g id=\"node1\" class=\"node\">\n",
       "<title>0</title>\n",
       "<polygon fill=\"#eb9d65\" stroke=\"black\" points=\"403.62,-316.5 261.62,-316.5 261.62,-259 403.62,-259 403.62,-316.5\"/>\n",
       "<text text-anchor=\"middle\" x=\"332.62\" y=\"-299.2\" font-family=\"Helvetica,sans-Serif\" font-size=\"14.00\">Lobulation &lt;= 2.208</text>\n",
       "<text text-anchor=\"middle\" x=\"332.62\" y=\"-282.7\" font-family=\"Helvetica,sans-Serif\" font-size=\"14.00\">samples = 100.0%</text>\n",
       "<text text-anchor=\"middle\" x=\"332.62\" y=\"-266.2\" font-family=\"Helvetica,sans-Serif\" font-size=\"14.00\">value = [0.82, 0.18]</text>\n",
       "</g>\n",
       "<!-- 1 -->\n",
       "<g id=\"node2\" class=\"node\">\n",
       "<title>1</title>\n",
       "<polygon fill=\"#e88e4d\" stroke=\"black\" points=\"324.25,-223 171,-223 171,-165.5 324.25,-165.5 324.25,-223\"/>\n",
       "<text text-anchor=\"middle\" x=\"247.62\" y=\"-205.7\" font-family=\"Helvetica,sans-Serif\" font-size=\"14.00\">Subtlety &lt;= 4.125</text>\n",
       "<text text-anchor=\"middle\" x=\"247.62\" y=\"-189.2\" font-family=\"Helvetica,sans-Serif\" font-size=\"14.00\">samples = 81.4%</text>\n",
       "<text text-anchor=\"middle\" x=\"247.62\" y=\"-172.7\" font-family=\"Helvetica,sans-Serif\" font-size=\"14.00\">value = [0.907, 0.093]</text>\n",
       "</g>\n",
       "<!-- 0&#45;&gt;1 -->\n",
       "<g id=\"edge1\" class=\"edge\">\n",
       "<title>0&#45;&gt;1</title>\n",
       "<path fill=\"none\" stroke=\"black\" d=\"M306.66,-258.8C298.74,-250.28 289.92,-240.78 281.56,-231.77\"/>\n",
       "<polygon fill=\"black\" stroke=\"black\" points=\"284.12,-229.4 274.75,-224.45 279,-234.16 284.12,-229.4\"/>\n",
       "<text text-anchor=\"middle\" x=\"272.8\" y=\"-243.28\" font-family=\"Helvetica,sans-Serif\" font-size=\"14.00\">True</text>\n",
       "</g>\n",
       "<!-- 206 -->\n",
       "<g id=\"node9\" class=\"node\">\n",
       "<title>206</title>\n",
       "<polygon fill=\"#e4f1fb\" stroke=\"black\" points=\"495.25,-223 342,-223 342,-165.5 495.25,-165.5 495.25,-223\"/>\n",
       "<text text-anchor=\"middle\" x=\"418.62\" y=\"-205.7\" font-family=\"Helvetica,sans-Serif\" font-size=\"14.00\">Spiculation &lt;= 1.417</text>\n",
       "<text text-anchor=\"middle\" x=\"418.62\" y=\"-189.2\" font-family=\"Helvetica,sans-Serif\" font-size=\"14.00\">samples = 18.6%</text>\n",
       "<text text-anchor=\"middle\" x=\"418.62\" y=\"-172.7\" font-family=\"Helvetica,sans-Serif\" font-size=\"14.00\">value = [0.463, 0.537]</text>\n",
       "</g>\n",
       "<!-- 0&#45;&gt;206 -->\n",
       "<g id=\"edge8\" class=\"edge\">\n",
       "<title>0&#45;&gt;206</title>\n",
       "<path fill=\"none\" stroke=\"black\" d=\"M358.9,-258.8C366.99,-250.19 376.02,-240.58 384.56,-231.5\"/>\n",
       "<polygon fill=\"black\" stroke=\"black\" points=\"386.88,-234.13 391.18,-224.45 381.78,-229.34 386.88,-234.13\"/>\n",
       "<text text-anchor=\"middle\" x=\"392.99\" y=\"-243.28\" font-family=\"Helvetica,sans-Serif\" font-size=\"14.00\">False</text>\n",
       "</g>\n",
       "<!-- 2 -->\n",
       "<g id=\"node3\" class=\"node\">\n",
       "<title>2</title>\n",
       "<polygon fill=\"#e68844\" stroke=\"black\" points=\"153.25,-129.5 0,-129.5 0,-72 153.25,-72 153.25,-129.5\"/>\n",
       "<text text-anchor=\"middle\" x=\"76.62\" y=\"-112.2\" font-family=\"Helvetica,sans-Serif\" font-size=\"14.00\">Margin &lt;= 1.875</text>\n",
       "<text text-anchor=\"middle\" x=\"76.62\" y=\"-95.7\" font-family=\"Helvetica,sans-Serif\" font-size=\"14.00\">samples = 55.3%</text>\n",
       "<text text-anchor=\"middle\" x=\"76.62\" y=\"-79.2\" font-family=\"Helvetica,sans-Serif\" font-size=\"14.00\">value = [0.947, 0.053]</text>\n",
       "</g>\n",
       "<!-- 1&#45;&gt;2 -->\n",
       "<g id=\"edge2\" class=\"edge\">\n",
       "<title>1&#45;&gt;2</title>\n",
       "<path fill=\"none\" stroke=\"black\" d=\"M194.92,-165.05C177.29,-155.61 157.46,-145 139.15,-135.2\"/>\n",
       "<polygon fill=\"black\" stroke=\"black\" points=\"140.95,-132.2 130.49,-130.57 137.65,-138.37 140.95,-132.2\"/>\n",
       "</g>\n",
       "<!-- 113 -->\n",
       "<g id=\"node6\" class=\"node\">\n",
       "<title>113</title>\n",
       "<polygon fill=\"#eb9c64\" stroke=\"black\" points=\"324.25,-129.5 171,-129.5 171,-72 324.25,-72 324.25,-129.5\"/>\n",
       "<text text-anchor=\"middle\" x=\"247.62\" y=\"-112.2\" font-family=\"Helvetica,sans-Serif\" font-size=\"14.00\">Lobulation &lt;= 1.417</text>\n",
       "<text text-anchor=\"middle\" x=\"247.62\" y=\"-95.7\" font-family=\"Helvetica,sans-Serif\" font-size=\"14.00\">samples = 26.1%</text>\n",
       "<text text-anchor=\"middle\" x=\"247.62\" y=\"-79.2\" font-family=\"Helvetica,sans-Serif\" font-size=\"14.00\">value = [0.823, 0.177]</text>\n",
       "</g>\n",
       "<!-- 1&#45;&gt;113 -->\n",
       "<g id=\"edge5\" class=\"edge\">\n",
       "<title>1&#45;&gt;113</title>\n",
       "<path fill=\"none\" stroke=\"black\" d=\"M247.62,-165.3C247.62,-157.74 247.62,-149.42 247.62,-141.35\"/>\n",
       "<polygon fill=\"black\" stroke=\"black\" points=\"251.13,-141.36 247.63,-131.36 244.13,-141.36 251.13,-141.36\"/>\n",
       "</g>\n",
       "<!-- 3 -->\n",
       "<g id=\"node4\" class=\"node\">\n",
       "<title>3</title>\n",
       "<polygon fill=\"#c0c0c0\" stroke=\"black\" points=\"78.62,-36 24.62,-36 24.62,0 78.62,0 78.62,-36\"/>\n",
       "<text text-anchor=\"middle\" x=\"51.62\" y=\"-12.95\" font-family=\"Helvetica,sans-Serif\" font-size=\"14.00\">(...)</text>\n",
       "</g>\n",
       "<!-- 2&#45;&gt;3 -->\n",
       "<g id=\"edge3\" class=\"edge\">\n",
       "<title>2&#45;&gt;3</title>\n",
       "<path fill=\"none\" stroke=\"black\" d=\"M67.88,-71.51C65.42,-63.56 62.75,-54.93 60.29,-47\"/>\n",
       "<polygon fill=\"black\" stroke=\"black\" points=\"63.65,-46.01 57.35,-37.49 56.96,-48.08 63.65,-46.01\"/>\n",
       "</g>\n",
       "<!-- 22 -->\n",
       "<g id=\"node5\" class=\"node\">\n",
       "<title>22</title>\n",
       "<polygon fill=\"#c0c0c0\" stroke=\"black\" points=\"150.62,-36 96.62,-36 96.62,0 150.62,0 150.62,-36\"/>\n",
       "<text text-anchor=\"middle\" x=\"123.62\" y=\"-12.95\" font-family=\"Helvetica,sans-Serif\" font-size=\"14.00\">(...)</text>\n",
       "</g>\n",
       "<!-- 2&#45;&gt;22 -->\n",
       "<g id=\"edge4\" class=\"edge\">\n",
       "<title>2&#45;&gt;22</title>\n",
       "<path fill=\"none\" stroke=\"black\" d=\"M93.06,-71.51C97.9,-63.19 103.18,-54.12 107.97,-45.89\"/>\n",
       "<polygon fill=\"black\" stroke=\"black\" points=\"110.94,-47.76 112.94,-37.35 104.89,-44.23 110.94,-47.76\"/>\n",
       "</g>\n",
       "<!-- 114 -->\n",
       "<g id=\"node7\" class=\"node\">\n",
       "<title>114</title>\n",
       "<polygon fill=\"#c0c0c0\" stroke=\"black\" points=\"233.62,-36 179.62,-36 179.62,0 233.62,0 233.62,-36\"/>\n",
       "<text text-anchor=\"middle\" x=\"206.62\" y=\"-12.95\" font-family=\"Helvetica,sans-Serif\" font-size=\"14.00\">(...)</text>\n",
       "</g>\n",
       "<!-- 113&#45;&gt;114 -->\n",
       "<g id=\"edge6\" class=\"edge\">\n",
       "<title>113&#45;&gt;114</title>\n",
       "<path fill=\"none\" stroke=\"black\" d=\"M233.29,-71.51C229.11,-63.29 224.56,-54.32 220.42,-46.17\"/>\n",
       "<polygon fill=\"black\" stroke=\"black\" points=\"223.61,-44.73 215.96,-37.39 217.37,-47.9 223.61,-44.73\"/>\n",
       "</g>\n",
       "<!-- 159 -->\n",
       "<g id=\"node8\" class=\"node\">\n",
       "<title>159</title>\n",
       "<polygon fill=\"#c0c0c0\" stroke=\"black\" points=\"305.62,-36 251.62,-36 251.62,0 305.62,0 305.62,-36\"/>\n",
       "<text text-anchor=\"middle\" x=\"278.62\" y=\"-12.95\" font-family=\"Helvetica,sans-Serif\" font-size=\"14.00\">(...)</text>\n",
       "</g>\n",
       "<!-- 113&#45;&gt;159 -->\n",
       "<g id=\"edge7\" class=\"edge\">\n",
       "<title>113&#45;&gt;159</title>\n",
       "<path fill=\"none\" stroke=\"black\" d=\"M258.47,-71.51C261.55,-63.47 264.91,-54.73 267.98,-46.72\"/>\n",
       "<polygon fill=\"black\" stroke=\"black\" points=\"271.22,-48.05 271.54,-37.46 264.69,-45.54 271.22,-48.05\"/>\n",
       "</g>\n",
       "<!-- 207 -->\n",
       "<g id=\"node10\" class=\"node\">\n",
       "<title>207</title>\n",
       "<polygon fill=\"#e99457\" stroke=\"black\" points=\"495.25,-129.5 342,-129.5 342,-72 495.25,-72 495.25,-129.5\"/>\n",
       "<text text-anchor=\"middle\" x=\"418.62\" y=\"-112.2\" font-family=\"Helvetica,sans-Serif\" font-size=\"14.00\">Subtlety &lt;= 4.125</text>\n",
       "<text text-anchor=\"middle\" x=\"418.62\" y=\"-95.7\" font-family=\"Helvetica,sans-Serif\" font-size=\"14.00\">samples = 3.0%</text>\n",
       "<text text-anchor=\"middle\" x=\"418.62\" y=\"-79.2\" font-family=\"Helvetica,sans-Serif\" font-size=\"14.00\">value = [0.868, 0.132]</text>\n",
       "</g>\n",
       "<!-- 206&#45;&gt;207 -->\n",
       "<g id=\"edge9\" class=\"edge\">\n",
       "<title>206&#45;&gt;207</title>\n",
       "<path fill=\"none\" stroke=\"black\" d=\"M418.62,-165.3C418.62,-157.74 418.62,-149.42 418.62,-141.35\"/>\n",
       "<polygon fill=\"black\" stroke=\"black\" points=\"422.13,-141.36 418.63,-131.36 415.13,-141.36 422.13,-141.36\"/>\n",
       "</g>\n",
       "<!-- 220 -->\n",
       "<g id=\"node13\" class=\"node\">\n",
       "<title>220</title>\n",
       "<polygon fill=\"#b4daf5\" stroke=\"black\" points=\"666.25,-129.5 513,-129.5 513,-72 666.25,-72 666.25,-129.5\"/>\n",
       "<text text-anchor=\"middle\" x=\"589.62\" y=\"-112.2\" font-family=\"Helvetica,sans-Serif\" font-size=\"14.00\">Subtlety &lt;= 4.125</text>\n",
       "<text text-anchor=\"middle\" x=\"589.62\" y=\"-95.7\" font-family=\"Helvetica,sans-Serif\" font-size=\"14.00\">samples = 15.6%</text>\n",
       "<text text-anchor=\"middle\" x=\"589.62\" y=\"-79.2\" font-family=\"Helvetica,sans-Serif\" font-size=\"14.00\">value = [0.384, 0.616]</text>\n",
       "</g>\n",
       "<!-- 206&#45;&gt;220 -->\n",
       "<g id=\"edge12\" class=\"edge\">\n",
       "<title>206&#45;&gt;220</title>\n",
       "<path fill=\"none\" stroke=\"black\" d=\"M471.33,-165.05C488.96,-155.61 508.79,-145 527.1,-135.2\"/>\n",
       "<polygon fill=\"black\" stroke=\"black\" points=\"528.6,-138.37 535.76,-130.57 525.3,-132.2 528.6,-138.37\"/>\n",
       "</g>\n",
       "<!-- 208 -->\n",
       "<g id=\"node11\" class=\"node\">\n",
       "<title>208</title>\n",
       "<polygon fill=\"#c0c0c0\" stroke=\"black\" points=\"399.62,-36 345.62,-36 345.62,0 399.62,0 399.62,-36\"/>\n",
       "<text text-anchor=\"middle\" x=\"372.62\" y=\"-12.95\" font-family=\"Helvetica,sans-Serif\" font-size=\"14.00\">(...)</text>\n",
       "</g>\n",
       "<!-- 207&#45;&gt;208 -->\n",
       "<g id=\"edge10\" class=\"edge\">\n",
       "<title>207&#45;&gt;208</title>\n",
       "<path fill=\"none\" stroke=\"black\" d=\"M402.54,-71.51C397.8,-63.19 392.63,-54.12 387.95,-45.89\"/>\n",
       "<polygon fill=\"black\" stroke=\"black\" points=\"391.07,-44.32 383.08,-37.36 384.99,-47.78 391.07,-44.32\"/>\n",
       "</g>\n",
       "<!-- 213 -->\n",
       "<g id=\"node12\" class=\"node\">\n",
       "<title>213</title>\n",
       "<polygon fill=\"#c0c0c0\" stroke=\"black\" points=\"471.62,-36 417.62,-36 417.62,0 471.62,0 471.62,-36\"/>\n",
       "<text text-anchor=\"middle\" x=\"444.62\" y=\"-12.95\" font-family=\"Helvetica,sans-Serif\" font-size=\"14.00\">(...)</text>\n",
       "</g>\n",
       "<!-- 207&#45;&gt;213 -->\n",
       "<g id=\"edge11\" class=\"edge\">\n",
       "<title>207&#45;&gt;213</title>\n",
       "<path fill=\"none\" stroke=\"black\" d=\"M427.72,-71.51C430.28,-63.56 433.06,-54.93 435.61,-47\"/>\n",
       "<polygon fill=\"black\" stroke=\"black\" points=\"438.94,-48.08 438.67,-37.49 432.28,-45.93 438.94,-48.08\"/>\n",
       "</g>\n",
       "<!-- 221 -->\n",
       "<g id=\"node14\" class=\"node\">\n",
       "<title>221</title>\n",
       "<polygon fill=\"#c0c0c0\" stroke=\"black\" points=\"580.62,-36 526.62,-36 526.62,0 580.62,0 580.62,-36\"/>\n",
       "<text text-anchor=\"middle\" x=\"553.62\" y=\"-12.95\" font-family=\"Helvetica,sans-Serif\" font-size=\"14.00\">(...)</text>\n",
       "</g>\n",
       "<!-- 220&#45;&gt;221 -->\n",
       "<g id=\"edge13\" class=\"edge\">\n",
       "<title>220&#45;&gt;221</title>\n",
       "<path fill=\"none\" stroke=\"black\" d=\"M577.03,-71.51C573.41,-63.38 569.46,-54.52 565.86,-46.44\"/>\n",
       "<polygon fill=\"black\" stroke=\"black\" points=\"569.11,-45.14 561.84,-37.43 562.72,-47.99 569.11,-45.14\"/>\n",
       "</g>\n",
       "<!-- 248 -->\n",
       "<g id=\"node15\" class=\"node\">\n",
       "<title>248</title>\n",
       "<polygon fill=\"#c0c0c0\" stroke=\"black\" points=\"652.62,-36 598.62,-36 598.62,0 652.62,0 652.62,-36\"/>\n",
       "<text text-anchor=\"middle\" x=\"625.62\" y=\"-12.95\" font-family=\"Helvetica,sans-Serif\" font-size=\"14.00\">(...)</text>\n",
       "</g>\n",
       "<!-- 220&#45;&gt;248 -->\n",
       "<g id=\"edge14\" class=\"edge\">\n",
       "<title>220&#45;&gt;248</title>\n",
       "<path fill=\"none\" stroke=\"black\" d=\"M602.22,-71.51C605.84,-63.38 609.79,-54.52 613.39,-46.44\"/>\n",
       "<polygon fill=\"black\" stroke=\"black\" points=\"616.53,-47.99 617.41,-37.43 610.14,-45.14 616.53,-47.99\"/>\n",
       "</g>\n",
       "</g>\n",
       "</svg>\n"
      ],
      "text/plain": [
       "<graphviz.sources.Source at 0x213a0f82a90>"
      ]
     },
     "metadata": {},
     "output_type": "display_data"
    }
   ],
   "source": [
    "tree = RandomForestoptimal.estimators_[i]\n",
    "dot_data = export_graphviz(tree,\n",
    "                            feature_names=features_treino.columns,  \n",
    "                            filled=True,  \n",
    "                            max_depth=2, \n",
    "                            impurity=False, \n",
    "                            proportion=True)\n",
    "graph = graphviz.Source(dot_data)\n",
    "display(graph)"
   ]
  },
  {
   "cell_type": "markdown",
   "id": "512034ef",
   "metadata": {},
   "source": [
    "#### The computer is Smarter Assumption"
   ]
  },
  {
   "cell_type": "markdown",
   "id": "448c5407",
   "metadata": {},
   "source": [
    "Let's now give the computer ability to test diferent parameters at random to find the best parameters<br>\n",
    "<br>\n",
    "\n"
   ]
  },
  {
   "cell_type": "markdown",
   "id": "7754149a-6562-4a08-947f-e67cb4bf9322",
   "metadata": {},
   "source": [
    "##### Create the Dictionary for the range of values on the parameters"
   ]
  },
  {
   "cell_type": "code",
   "execution_count": 41,
   "id": "ffbf2fc6-4975-4ddf-9c4a-244317aa58ae",
   "metadata": {},
   "outputs": [
    {
     "name": "stdout",
     "output_type": "stream",
     "text": [
      "{'n_estimators': <scipy.stats._distn_infrastructure.rv_discrete_frozen object at 0x00000213A1113510>, 'max_depth': <scipy.stats._distn_infrastructure.rv_discrete_frozen object at 0x00000213A0F76750>, 'criterion': ['gini', 'entropy', 'log_loss'], 'min_samples_split': <scipy.stats._distn_infrastructure.rv_discrete_frozen object at 0x00000213A0F6A690>, 'max_features': ['sqrt', 'log2']}\n"
     ]
    }
   ],
   "source": [
    "Range = {'n_estimators': randint(50,500), \n",
    "              'max_depth': randint(1,20), \n",
    "              'criterion': ['gini', 'entropy', 'log_loss'], \n",
    "              'min_samples_split': randint(2,50), \n",
    "              'max_features': ['sqrt','log2']\n",
    "              }\n",
    "\n",
    "print(Range)"
   ]
  },
  {
   "cell_type": "markdown",
   "id": "fcb57153",
   "metadata": {},
   "source": [
    "##### Random Search"
   ]
  },
  {
   "cell_type": "code",
   "execution_count": 47,
   "id": "07de9c52",
   "metadata": {},
   "outputs": [],
   "source": [
    "RandomSearch = RandomizedSearchCV(RandomForest, param_distributions = Range, n_iter=5, n_jobs=(-1))\n"
   ]
  },
  {
   "cell_type": "markdown",
   "id": "443724f8",
   "metadata": {},
   "source": [
    "###### Training the Model"
   ]
  },
  {
   "cell_type": "code",
   "execution_count": 48,
   "id": "dc646c00",
   "metadata": {},
   "outputs": [
    {
     "data": {
      "text/html": [
       "<style>#sk-container-id-3 {color: black;}#sk-container-id-3 pre{padding: 0;}#sk-container-id-3 div.sk-toggleable {background-color: white;}#sk-container-id-3 label.sk-toggleable__label {cursor: pointer;display: block;width: 100%;margin-bottom: 0;padding: 0.3em;box-sizing: border-box;text-align: center;}#sk-container-id-3 label.sk-toggleable__label-arrow:before {content: \"▸\";float: left;margin-right: 0.25em;color: #696969;}#sk-container-id-3 label.sk-toggleable__label-arrow:hover:before {color: black;}#sk-container-id-3 div.sk-estimator:hover label.sk-toggleable__label-arrow:before {color: black;}#sk-container-id-3 div.sk-toggleable__content {max-height: 0;max-width: 0;overflow: hidden;text-align: left;background-color: #f0f8ff;}#sk-container-id-3 div.sk-toggleable__content pre {margin: 0.2em;color: black;border-radius: 0.25em;background-color: #f0f8ff;}#sk-container-id-3 input.sk-toggleable__control:checked~div.sk-toggleable__content {max-height: 200px;max-width: 100%;overflow: auto;}#sk-container-id-3 input.sk-toggleable__control:checked~label.sk-toggleable__label-arrow:before {content: \"▾\";}#sk-container-id-3 div.sk-estimator input.sk-toggleable__control:checked~label.sk-toggleable__label {background-color: #d4ebff;}#sk-container-id-3 div.sk-label input.sk-toggleable__control:checked~label.sk-toggleable__label {background-color: #d4ebff;}#sk-container-id-3 input.sk-hidden--visually {border: 0;clip: rect(1px 1px 1px 1px);clip: rect(1px, 1px, 1px, 1px);height: 1px;margin: -1px;overflow: hidden;padding: 0;position: absolute;width: 1px;}#sk-container-id-3 div.sk-estimator {font-family: monospace;background-color: #f0f8ff;border: 1px dotted black;border-radius: 0.25em;box-sizing: border-box;margin-bottom: 0.5em;}#sk-container-id-3 div.sk-estimator:hover {background-color: #d4ebff;}#sk-container-id-3 div.sk-parallel-item::after {content: \"\";width: 100%;border-bottom: 1px solid gray;flex-grow: 1;}#sk-container-id-3 div.sk-label:hover label.sk-toggleable__label {background-color: #d4ebff;}#sk-container-id-3 div.sk-serial::before {content: \"\";position: absolute;border-left: 1px solid gray;box-sizing: border-box;top: 0;bottom: 0;left: 50%;z-index: 0;}#sk-container-id-3 div.sk-serial {display: flex;flex-direction: column;align-items: center;background-color: white;padding-right: 0.2em;padding-left: 0.2em;position: relative;}#sk-container-id-3 div.sk-item {position: relative;z-index: 1;}#sk-container-id-3 div.sk-parallel {display: flex;align-items: stretch;justify-content: center;background-color: white;position: relative;}#sk-container-id-3 div.sk-item::before, #sk-container-id-3 div.sk-parallel-item::before {content: \"\";position: absolute;border-left: 1px solid gray;box-sizing: border-box;top: 0;bottom: 0;left: 50%;z-index: -1;}#sk-container-id-3 div.sk-parallel-item {display: flex;flex-direction: column;z-index: 1;position: relative;background-color: white;}#sk-container-id-3 div.sk-parallel-item:first-child::after {align-self: flex-end;width: 50%;}#sk-container-id-3 div.sk-parallel-item:last-child::after {align-self: flex-start;width: 50%;}#sk-container-id-3 div.sk-parallel-item:only-child::after {width: 0;}#sk-container-id-3 div.sk-dashed-wrapped {border: 1px dashed gray;margin: 0 0.4em 0.5em 0.4em;box-sizing: border-box;padding-bottom: 0.4em;background-color: white;}#sk-container-id-3 div.sk-label label {font-family: monospace;font-weight: bold;display: inline-block;line-height: 1.2em;}#sk-container-id-3 div.sk-label-container {text-align: center;}#sk-container-id-3 div.sk-container {/* jupyter's `normalize.less` sets `[hidden] { display: none; }` but bootstrap.min.css set `[hidden] { display: none !important; }` so we also need the `!important` here to be able to override the default hidden behavior on the sphinx rendered scikit-learn.org. See: https://github.com/scikit-learn/scikit-learn/issues/21755 */display: inline-block !important;position: relative;}#sk-container-id-3 div.sk-text-repr-fallback {display: none;}</style><div id=\"sk-container-id-3\" class=\"sk-top-container\"><div class=\"sk-text-repr-fallback\"><pre>RandomizedSearchCV(estimator=RandomForestClassifier(), n_iter=5, n_jobs=-1,\n",
       "                   param_distributions={&#x27;criterion&#x27;: [&#x27;gini&#x27;, &#x27;entropy&#x27;,\n",
       "                                                      &#x27;log_loss&#x27;],\n",
       "                                        &#x27;max_depth&#x27;: &lt;scipy.stats._distn_infrastructure.rv_discrete_frozen object at 0x00000213A0F76750&gt;,\n",
       "                                        &#x27;max_features&#x27;: [&#x27;sqrt&#x27;, &#x27;log2&#x27;],\n",
       "                                        &#x27;min_samples_split&#x27;: &lt;scipy.stats._distn_infrastructure.rv_discrete_frozen object at 0x00000213A0F6A690&gt;,\n",
       "                                        &#x27;n_estimators&#x27;: &lt;scipy.stats._distn_infrastructure.rv_discrete_frozen object at 0x00000213A1113510&gt;})</pre><b>In a Jupyter environment, please rerun this cell to show the HTML representation or trust the notebook. <br />On GitHub, the HTML representation is unable to render, please try loading this page with nbviewer.org.</b></div><div class=\"sk-container\" hidden><div class=\"sk-item sk-dashed-wrapped\"><div class=\"sk-label-container\"><div class=\"sk-label sk-toggleable\"><input class=\"sk-toggleable__control sk-hidden--visually\" id=\"sk-estimator-id-5\" type=\"checkbox\" ><label for=\"sk-estimator-id-5\" class=\"sk-toggleable__label sk-toggleable__label-arrow\">RandomizedSearchCV</label><div class=\"sk-toggleable__content\"><pre>RandomizedSearchCV(estimator=RandomForestClassifier(), n_iter=5, n_jobs=-1,\n",
       "                   param_distributions={&#x27;criterion&#x27;: [&#x27;gini&#x27;, &#x27;entropy&#x27;,\n",
       "                                                      &#x27;log_loss&#x27;],\n",
       "                                        &#x27;max_depth&#x27;: &lt;scipy.stats._distn_infrastructure.rv_discrete_frozen object at 0x00000213A0F76750&gt;,\n",
       "                                        &#x27;max_features&#x27;: [&#x27;sqrt&#x27;, &#x27;log2&#x27;],\n",
       "                                        &#x27;min_samples_split&#x27;: &lt;scipy.stats._distn_infrastructure.rv_discrete_frozen object at 0x00000213A0F6A690&gt;,\n",
       "                                        &#x27;n_estimators&#x27;: &lt;scipy.stats._distn_infrastructure.rv_discrete_frozen object at 0x00000213A1113510&gt;})</pre></div></div></div><div class=\"sk-parallel\"><div class=\"sk-parallel-item\"><div class=\"sk-item\"><div class=\"sk-label-container\"><div class=\"sk-label sk-toggleable\"><input class=\"sk-toggleable__control sk-hidden--visually\" id=\"sk-estimator-id-6\" type=\"checkbox\" ><label for=\"sk-estimator-id-6\" class=\"sk-toggleable__label sk-toggleable__label-arrow\">estimator: RandomForestClassifier</label><div class=\"sk-toggleable__content\"><pre>RandomForestClassifier()</pre></div></div></div><div class=\"sk-serial\"><div class=\"sk-item\"><div class=\"sk-estimator sk-toggleable\"><input class=\"sk-toggleable__control sk-hidden--visually\" id=\"sk-estimator-id-7\" type=\"checkbox\" ><label for=\"sk-estimator-id-7\" class=\"sk-toggleable__label sk-toggleable__label-arrow\">RandomForestClassifier</label><div class=\"sk-toggleable__content\"><pre>RandomForestClassifier()</pre></div></div></div></div></div></div></div></div></div></div>"
      ],
      "text/plain": [
       "RandomizedSearchCV(estimator=RandomForestClassifier(), n_iter=5, n_jobs=-1,\n",
       "                   param_distributions={'criterion': ['gini', 'entropy',\n",
       "                                                      'log_loss'],\n",
       "                                        'max_depth': <scipy.stats._distn_infrastructure.rv_discrete_frozen object at 0x00000213A0F76750>,\n",
       "                                        'max_features': ['sqrt', 'log2'],\n",
       "                                        'min_samples_split': <scipy.stats._distn_infrastructure.rv_discrete_frozen object at 0x00000213A0F6A690>,\n",
       "                                        'n_estimators': <scipy.stats._distn_infrastructure.rv_discrete_frozen object at 0x00000213A1113510>})"
      ]
     },
     "execution_count": 48,
     "metadata": {},
     "output_type": "execute_result"
    }
   ],
   "source": [
    "RandomSearch.fit(features_treino, has_cancer_treino)"
   ]
  },
  {
   "cell_type": "markdown",
   "id": "319fdf48",
   "metadata": {},
   "source": [
    "###### Best parameters found "
   ]
  },
  {
   "cell_type": "code",
   "execution_count": 49,
   "id": "78a2b248",
   "metadata": {},
   "outputs": [
    {
     "name": "stdout",
     "output_type": "stream",
     "text": [
      "Best hyperparameters: {'criterion': 'log_loss', 'max_depth': 17, 'max_features': 'log2', 'min_samples_split': 8, 'n_estimators': 432}\n"
     ]
    }
   ],
   "source": [
    "Best_Random_Search = RandomSearch.best_estimator_\n",
    "print('Best hyperparameters:',  RandomSearch.best_params_)"
   ]
  },
  {
   "cell_type": "markdown",
   "id": "0ed0a777",
   "metadata": {},
   "source": [
    "###### Accuracy of this model"
   ]
  },
  {
   "cell_type": "code",
   "execution_count": 50,
   "id": "5709bc56",
   "metadata": {},
   "outputs": [
    {
     "name": "stdout",
     "output_type": "stream",
     "text": [
      "0.903954802259887\n"
     ]
    }
   ],
   "source": [
    "has_cancer_prediction_BestRandomSearch = Best_Random_Search.predict(features_teste)\n",
    "accuracy_BestRandomSearch = accuracy_score(has_cancer_teste, has_cancer_prediction_BestRandomSearch)\n",
    "print(accuracy_BestRandomSearch)"
   ]
  },
  {
   "cell_type": "markdown",
   "id": "fd06aafd",
   "metadata": {},
   "source": [
    "###### Confusion Matrix"
   ]
  },
  {
   "cell_type": "code",
   "execution_count": 51,
   "id": "54de8e62",
   "metadata": {},
   "outputs": [
    {
     "data": {
      "text/plain": [
       "<sklearn.metrics._plot.confusion_matrix.ConfusionMatrixDisplay at 0x213a68e1090>"
      ]
     },
     "execution_count": 51,
     "metadata": {},
     "output_type": "execute_result"
    },
    {
     "data": {
      "image/png": "[encoded data removed]",
      "text/plain": [
       "<Figure size 640x480 with 2 Axes>"
      ]
     },
     "metadata": {},
     "output_type": "display_data"
    }
   ],
   "source": [
    "cmrandom=confusion_matrix(has_cancer_teste, has_cancer_prediction_BestRandomSearch)\n",
    "ConfusionMatrixDisplay(confusion_matrix=cmrandom).plot()"
   ]
  },
  {
   "cell_type": "markdown",
   "id": "e5942496",
   "metadata": {},
   "source": [
    "## Load Pyradiomics Dataset"
   ]
  },
  {
   "cell_type": "code",
   "execution_count": 71,
   "id": "44f200cf",
   "metadata": {},
   "outputs": [
    {
     "data": {
      "text/html": [
       "<div>\n",
       "<style scoped>\n",
       "    .dataframe tbody tr th:only-of-type {\n",
       "        vertical-align: middle;\n",
       "    }\n",
       "\n",
       "    .dataframe tbody tr th {\n",
       "        vertical-align: top;\n",
       "    }\n",
       "\n",
       "    .dataframe thead th {\n",
       "        text-align: right;\n",
       "    }\n",
       "</style>\n",
       "<table border=\"1\" class=\"dataframe\">\n",
       "  <thead>\n",
       "    <tr style=\"text-align: right;\">\n",
       "      <th></th>\n",
       "      <th>original_shape_Flatness</th>\n",
       "      <th>original_shape_LeastAxisLength</th>\n",
       "      <th>original_shape_MajorAxisLength</th>\n",
       "      <th>original_shape_Maximum2DDiameterColumn</th>\n",
       "      <th>original_shape_Maximum2DDiameterRow</th>\n",
       "      <th>original_shape_Maximum2DDiameterSlice</th>\n",
       "      <th>original_shape_Maximum3DDiameter</th>\n",
       "      <th>original_shape_MeshVolume</th>\n",
       "      <th>original_shape_MinorAxisLength</th>\n",
       "      <th>original_shape_Sphericity</th>\n",
       "      <th>...</th>\n",
       "      <th>Volume</th>\n",
       "      <th>Subtlety</th>\n",
       "      <th>Internalstructure</th>\n",
       "      <th>Calcification</th>\n",
       "      <th>Sphericity</th>\n",
       "      <th>Margin</th>\n",
       "      <th>Lobulation</th>\n",
       "      <th>Spiculation</th>\n",
       "      <th>Texture</th>\n",
       "      <th>Malignancy</th>\n",
       "    </tr>\n",
       "  </thead>\n",
       "  <tbody>\n",
       "    <tr>\n",
       "      <th>2646</th>\n",
       "      <td>0.375133</td>\n",
       "      <td>4.534490</td>\n",
       "      <td>12.087678</td>\n",
       "      <td>12.806248</td>\n",
       "      <td>11.401754</td>\n",
       "      <td>13.928388</td>\n",
       "      <td>14.628739</td>\n",
       "      <td>313.083333</td>\n",
       "      <td>9.595771</td>\n",
       "      <td>0.664923</td>\n",
       "      <td>...</td>\n",
       "      <td>140.178680</td>\n",
       "      <td>4.333333</td>\n",
       "      <td>1.0</td>\n",
       "      <td>6.0</td>\n",
       "      <td>3.666667</td>\n",
       "      <td>2.333333</td>\n",
       "      <td>2.333333</td>\n",
       "      <td>3.0</td>\n",
       "      <td>3.333333</td>\n",
       "      <td>4.0</td>\n",
       "    </tr>\n",
       "    <tr>\n",
       "      <th>2647</th>\n",
       "      <td>0.687954</td>\n",
       "      <td>8.589183</td>\n",
       "      <td>12.485120</td>\n",
       "      <td>14.422205</td>\n",
       "      <td>14.317821</td>\n",
       "      <td>12.649111</td>\n",
       "      <td>15.165751</td>\n",
       "      <td>605.541667</td>\n",
       "      <td>9.416961</td>\n",
       "      <td>0.697558</td>\n",
       "      <td>...</td>\n",
       "      <td>182.381630</td>\n",
       "      <td>2.500000</td>\n",
       "      <td>1.0</td>\n",
       "      <td>6.0</td>\n",
       "      <td>4.500000</td>\n",
       "      <td>2.000000</td>\n",
       "      <td>1.000000</td>\n",
       "      <td>1.5</td>\n",
       "      <td>1.000000</td>\n",
       "      <td>4.0</td>\n",
       "    </tr>\n",
       "    <tr>\n",
       "      <th>2648</th>\n",
       "      <td>0.185778</td>\n",
       "      <td>2.586515</td>\n",
       "      <td>13.922612</td>\n",
       "      <td>11.045361</td>\n",
       "      <td>14.866069</td>\n",
       "      <td>12.165525</td>\n",
       "      <td>15.842980</td>\n",
       "      <td>177.541667</td>\n",
       "      <td>7.855304</td>\n",
       "      <td>0.597379</td>\n",
       "      <td>...</td>\n",
       "      <td>127.207670</td>\n",
       "      <td>3.000000</td>\n",
       "      <td>1.0</td>\n",
       "      <td>6.0</td>\n",
       "      <td>3.500000</td>\n",
       "      <td>3.500000</td>\n",
       "      <td>1.500000</td>\n",
       "      <td>1.0</td>\n",
       "      <td>5.000000</td>\n",
       "      <td>4.0</td>\n",
       "    </tr>\n",
       "    <tr>\n",
       "      <th>2649</th>\n",
       "      <td>0.247844</td>\n",
       "      <td>2.471175</td>\n",
       "      <td>9.970706</td>\n",
       "      <td>7.280110</td>\n",
       "      <td>7.211103</td>\n",
       "      <td>7.615773</td>\n",
       "      <td>10.440307</td>\n",
       "      <td>70.041667</td>\n",
       "      <td>4.521458</td>\n",
       "      <td>0.708770</td>\n",
       "      <td>...</td>\n",
       "      <td>81.383582</td>\n",
       "      <td>5.000000</td>\n",
       "      <td>1.0</td>\n",
       "      <td>6.0</td>\n",
       "      <td>4.000000</td>\n",
       "      <td>5.000000</td>\n",
       "      <td>1.000000</td>\n",
       "      <td>1.0</td>\n",
       "      <td>5.000000</td>\n",
       "      <td>2.0</td>\n",
       "    </tr>\n",
       "    <tr>\n",
       "      <th>2650</th>\n",
       "      <td>0.273192</td>\n",
       "      <td>11.674262</td>\n",
       "      <td>42.732887</td>\n",
       "      <td>49.040799</td>\n",
       "      <td>50.219518</td>\n",
       "      <td>46.097722</td>\n",
       "      <td>51.048996</td>\n",
       "      <td>13760.916667</td>\n",
       "      <td>38.858918</td>\n",
       "      <td>0.635278</td>\n",
       "      <td>...</td>\n",
       "      <td>25205.225767</td>\n",
       "      <td>5.000000</td>\n",
       "      <td>1.0</td>\n",
       "      <td>4.0</td>\n",
       "      <td>5.000000</td>\n",
       "      <td>5.000000</td>\n",
       "      <td>3.000000</td>\n",
       "      <td>3.0</td>\n",
       "      <td>5.000000</td>\n",
       "      <td>2.0</td>\n",
       "    </tr>\n",
       "  </tbody>\n",
       "</table>\n",
       "<p>5 rows × 118 columns</p>\n",
       "</div>"
      ],
      "text/plain": [
       "      original_shape_Flatness  original_shape_LeastAxisLength  \\\n",
       "2646                 0.375133                        4.534490   \n",
       "2647                 0.687954                        8.589183   \n",
       "2648                 0.185778                        2.586515   \n",
       "2649                 0.247844                        2.471175   \n",
       "2650                 0.273192                       11.674262   \n",
       "\n",
       "      original_shape_MajorAxisLength  original_shape_Maximum2DDiameterColumn  \\\n",
       "2646                       12.087678                               12.806248   \n",
       "2647                       12.485120                               14.422205   \n",
       "2648                       13.922612                               11.045361   \n",
       "2649                        9.970706                                7.280110   \n",
       "2650                       42.732887                               49.040799   \n",
       "\n",
       "      original_shape_Maximum2DDiameterRow  \\\n",
       "2646                            11.401754   \n",
       "2647                            14.317821   \n",
       "2648                            14.866069   \n",
       "2649                             7.211103   \n",
       "2650                            50.219518   \n",
       "\n",
       "      original_shape_Maximum2DDiameterSlice  original_shape_Maximum3DDiameter  \\\n",
       "2646                              13.928388                         14.628739   \n",
       "2647                              12.649111                         15.165751   \n",
       "2648                              12.165525                         15.842980   \n",
       "2649                               7.615773                         10.440307   \n",
       "2650                              46.097722                         51.048996   \n",
       "\n",
       "      original_shape_MeshVolume  original_shape_MinorAxisLength  \\\n",
       "2646                 313.083333                        9.595771   \n",
       "2647                 605.541667                        9.416961   \n",
       "2648                 177.541667                        7.855304   \n",
       "2649                  70.041667                        4.521458   \n",
       "2650               13760.916667                       38.858918   \n",
       "\n",
       "      original_shape_Sphericity  ...        Volume  Subtlety  \\\n",
       "2646                   0.664923  ...    140.178680  4.333333   \n",
       "2647                   0.697558  ...    182.381630  2.500000   \n",
       "2648                   0.597379  ...    127.207670  3.000000   \n",
       "2649                   0.708770  ...     81.383582  5.000000   \n",
       "2650                   0.635278  ...  25205.225767  5.000000   \n",
       "\n",
       "      Internalstructure  Calcification  Sphericity    Margin  Lobulation  \\\n",
       "2646                1.0            6.0    3.666667  2.333333    2.333333   \n",
       "2647                1.0            6.0    4.500000  2.000000    1.000000   \n",
       "2648                1.0            6.0    3.500000  3.500000    1.500000   \n",
       "2649                1.0            6.0    4.000000  5.000000    1.000000   \n",
       "2650                1.0            4.0    5.000000  5.000000    3.000000   \n",
       "\n",
       "      Spiculation   Texture  Malignancy  \n",
       "2646          3.0  3.333333         4.0  \n",
       "2647          1.5  1.000000         4.0  \n",
       "2648          1.0  5.000000         4.0  \n",
       "2649          1.0  5.000000         2.0  \n",
       "2650          3.0  5.000000         2.0  \n",
       "\n",
       "[5 rows x 118 columns]"
      ]
     },
     "execution_count": 71,
     "metadata": {},
     "output_type": "execute_result"
    }
   ],
   "source": [
    "main_dataset=pd.read_csv(pyradiomicsPath)\n",
    "main_dataset.tail()"
   ]
  },
  {
   "cell_type": "markdown",
   "id": "4e619e08",
   "metadata": {},
   "source": [
    "## Random Forest Classifier Pyradiomics"
   ]
  },
  {
   "cell_type": "markdown",
   "id": "eb010bec",
   "metadata": {},
   "source": [
    "Let's now test the theory that if we had more features it would be better, as we proposed in the Pylidc part of this notebook.<br>\n",
    "With Pyradiomics we were able to extract about 100 features to train our model.<br>"
   ]
  },
  {
   "cell_type": "markdown",
   "id": "7dc3f844",
   "metadata": {},
   "source": [
    "### Data Split 1"
   ]
  },
  {
   "cell_type": "code",
   "execution_count": 52,
   "id": "02ff2132",
   "metadata": {},
   "outputs": [],
   "source": [
    "features_collumns=main_dataset.drop('Malignancy',axis=1)\n",
    "has_cancer_collumns=main_dataset['Malignancy']\n",
    "binary=main_dataset['Malignancy'].values\n",
    "for i in range(len(binary)):\n",
    "    if binary[i]>3:\n",
    "        binary[i]=1\n",
    "    else:\n",
    "        binary[i]=0\n",
    "main_dataset[collumn_name]=binary\n",
    "has_cancer_collumns=main_dataset[collumn_name]\n",
    "\n",
    "features_treino, features_teste, has_cancer_treino, has_cancer_teste=train_test_split(features_collumns,has_cancer_collumns, test_size=0.2)"
   ]
  },
  {
   "cell_type": "markdown",
   "id": "069397c5",
   "metadata": {},
   "source": [
    "### Random Forest Pyradiomics 1"
   ]
  },
  {
   "cell_type": "markdown",
   "id": "365fcfed",
   "metadata": {},
   "source": [
    "We will be doing two random forests for pyradiomics<br>\n",
    "The first we will use to get an estimate of the maximum complexity of one tree in a forest for the second data split"
   ]
  },
  {
   "cell_type": "markdown",
   "id": "a0594099",
   "metadata": {},
   "source": [
    "#### Random Search and data fitting"
   ]
  },
  {
   "cell_type": "code",
   "execution_count": 53,
   "id": "d5d29c6d",
   "metadata": {},
   "outputs": [
    {
     "name": "stdout",
     "output_type": "stream",
     "text": [
      "Best hyperparameters: {'criterion': 'entropy', 'max_depth': 16, 'max_features': 'sqrt', 'min_samples_split': 6, 'n_estimators': 300}\n"
     ]
    }
   ],
   "source": [
    "RandomSearch = RandomizedSearchCV(RandomForest, param_distributions = Range, n_iter=5, n_jobs=(-1))\n",
    "RandomSearch.fit(features_treino, has_cancer_treino)\n",
    "Best_Random_Search = RandomSearch.best_estimator_\n",
    "print('Best hyperparameters:',  RandomSearch.best_params_)"
   ]
  },
  {
   "cell_type": "markdown",
   "id": "706b2dd3",
   "metadata": {},
   "source": [
    "#### Accuracy"
   ]
  },
  {
   "cell_type": "code",
   "execution_count": 54,
   "id": "9008d21f",
   "metadata": {},
   "outputs": [
    {
     "name": "stdout",
     "output_type": "stream",
     "text": [
      "0.9510357815442562\n"
     ]
    }
   ],
   "source": [
    "has_cancer_prediction_BestRandomSearch = Best_Random_Search.predict(features_teste)\n",
    "accuracy_BestRandomSearch = accuracy_score(has_cancer_teste, has_cancer_prediction_BestRandomSearch)\n",
    "print(accuracy_BestRandomSearch)"
   ]
  },
  {
   "cell_type": "markdown",
   "id": "b5a19244",
   "metadata": {},
   "source": [
    "#### Confusion Matrix"
   ]
  },
  {
   "cell_type": "code",
   "execution_count": 55,
   "id": "2044cf39",
   "metadata": {},
   "outputs": [
    {
     "data": {
      "text/plain": [
       "<sklearn.metrics._plot.confusion_matrix.ConfusionMatrixDisplay at 0x213a1147f90>"
      ]
     },
     "execution_count": 55,
     "metadata": {},
     "output_type": "execute_result"
    },
    {
     "data": {
      "image/png": "[encoded data removed]",
      "text/plain": [
       "<Figure size 640x480 with 2 Axes>"
      ]
     },
     "metadata": {},
     "output_type": "display_data"
    }
   ],
   "source": [
    "cmrandom=confusion_matrix(has_cancer_teste, has_cancer_prediction_BestRandomSearch)\n",
    "ConfusionMatrixDisplay(confusion_matrix=cmrandom).plot()"
   ]
  },
  {
   "cell_type": "markdown",
   "id": "84e89537",
   "metadata": {},
   "source": [
    "### Data Split 2"
   ]
  },
  {
   "cell_type": "markdown",
   "id": "8a49e54f",
   "metadata": {},
   "source": [
    "We'll use the \"A scaling law\n",
    "for the validation-set training-set size ratio\" paper by Isabelle Guyon findings to try and optimize our data split or an adaptation of the findings to our case.<br>\n",
    "In the paper it's said that the best split is given by $\\sqrt{}$ ln($\\frac{N}{hmax}$)<br>\n",
    "N beeing the number of families of recognizers in an finite H<br>\n",
    "hmax beeing the largest complexity of those families<br>\n",
    "<br>\n",
    "\n",
    "So for our random forest we are going to do a small adaptation in the hopes that it improves the accuracy:<br>\n",
    "- N is going to be the number of trees in the forest<br>\n",
    "- hmax the complexity of the trees.<br>\n",
    "<br>\n",
    "We'll use the tree from pyradiomics random forest 1 to make the calculations<br>\n"
   ]
  },
  {
   "cell_type": "markdown",
   "id": "641be7d2",
   "metadata": {},
   "source": [
    "#### Setting N"
   ]
  },
  {
   "cell_type": "code",
   "execution_count": 56,
   "id": "87bb8dbb",
   "metadata": {},
   "outputs": [
    {
     "name": "stdout",
     "output_type": "stream",
     "text": [
      "300\n"
     ]
    }
   ],
   "source": [
    "N=RandomSearch.best_params_['n_estimators']\n",
    "print(N)"
   ]
  },
  {
   "cell_type": "markdown",
   "id": "51735d8e",
   "metadata": {},
   "source": [
    "#### Setting hmax"
   ]
  },
  {
   "cell_type": "markdown",
   "id": "fce95db9",
   "metadata": {},
   "source": [
    "The complexity of one tree is determined by bigO(tkd) beeing:<br>\n",
    "- t: number training examples<br>\n",
    "- k: number of features<br>\n",
    "- d: depth of decision tree<br>\n"
   ]
  },
  {
   "cell_type": "code",
   "execution_count": 57,
   "id": "a8adf1b6",
   "metadata": {},
   "outputs": [
    {
     "name": "stdout",
     "output_type": "stream",
     "text": [
      "hmax=1038.398767333629 t=6 k=10.816653826391969 d=16\n"
     ]
    }
   ],
   "source": [
    "t=RandomSearch.best_params_['min_samples_split']\n",
    "if (RandomSearch.best_params_['max_features']=='sqrt'):\n",
    "    k=math.sqrt(117)\n",
    "else:\n",
    "    k=math.log(117)\n",
    "\n",
    "d=RandomSearch.best_params_['max_depth']\n",
    "\n",
    "\n",
    "hmax=t*k*d\n",
    "hmax=hmax\n",
    "print (f\"hmax={hmax} t={t} k={k} d={d}\")"
   ]
  },
  {
   "cell_type": "markdown",
   "id": "5d697fbc",
   "metadata": {},
   "source": [
    "#### Setting $\\sqrt{}$ ln($\\frac{N}{hmax}$)"
   ]
  },
  {
   "cell_type": "code",
   "execution_count": 58,
   "id": "0ef080fb",
   "metadata": {},
   "outputs": [
    {
     "name": "stdout",
     "output_type": "stream",
     "text": [
      "0.2889\n",
      "1.2416746715099476\n",
      "0.5374941860150675\n"
     ]
    }
   ],
   "source": [
    "result=N/hmax*100000\n",
    "result=math.trunc(result)/100000\n",
    "print(result)\n",
    "log=abs(math.log(result))\n",
    "print(log)\n",
    "split=math.sqrt(result)\n",
    "print(split)"
   ]
  },
  {
   "cell_type": "markdown",
   "id": "b494f365",
   "metadata": {},
   "source": [
    "#### Spliting with new split value"
   ]
  },
  {
   "cell_type": "code",
   "execution_count": 59,
   "id": "f5dac521",
   "metadata": {},
   "outputs": [],
   "source": [
    "features_collumns=main_dataset.drop('Malignancy',axis=1)\n",
    "has_cancer_collumns=main_dataset['Malignancy']\n",
    "\n",
    "features_treino, features_teste, has_cancer_treino, has_cancer_teste=train_test_split(features_collumns,has_cancer_collumns, test_size=split)"
   ]
  },
  {
   "cell_type": "markdown",
   "id": "efc295ec",
   "metadata": {},
   "source": [
    "### Random Forest Pyradiomics 2"
   ]
  },
  {
   "cell_type": "markdown",
   "id": "0423001f",
   "metadata": {},
   "source": [
    "#### Random Forest with same hyperparameters"
   ]
  },
  {
   "cell_type": "code",
   "execution_count": 60,
   "id": "46f99bb0",
   "metadata": {},
   "outputs": [
    {
     "data": {
      "text/html": [
       "<style>#sk-container-id-4 {color: black;}#sk-container-id-4 pre{padding: 0;}#sk-container-id-4 div.sk-toggleable {background-color: white;}#sk-container-id-4 label.sk-toggleable__label {cursor: pointer;display: block;width: 100%;margin-bottom: 0;padding: 0.3em;box-sizing: border-box;text-align: center;}#sk-container-id-4 label.sk-toggleable__label-arrow:before {content: \"▸\";float: left;margin-right: 0.25em;color: #696969;}#sk-container-id-4 label.sk-toggleable__label-arrow:hover:before {color: black;}#sk-container-id-4 div.sk-estimator:hover label.sk-toggleable__label-arrow:before {color: black;}#sk-container-id-4 div.sk-toggleable__content {max-height: 0;max-width: 0;overflow: hidden;text-align: left;background-color: #f0f8ff;}#sk-container-id-4 div.sk-toggleable__content pre {margin: 0.2em;color: black;border-radius: 0.25em;background-color: #f0f8ff;}#sk-container-id-4 input.sk-toggleable__control:checked~div.sk-toggleable__content {max-height: 200px;max-width: 100%;overflow: auto;}#sk-container-id-4 input.sk-toggleable__control:checked~label.sk-toggleable__label-arrow:before {content: \"▾\";}#sk-container-id-4 div.sk-estimator input.sk-toggleable__control:checked~label.sk-toggleable__label {background-color: #d4ebff;}#sk-container-id-4 div.sk-label input.sk-toggleable__control:checked~label.sk-toggleable__label {background-color: #d4ebff;}#sk-container-id-4 input.sk-hidden--visually {border: 0;clip: rect(1px 1px 1px 1px);clip: rect(1px, 1px, 1px, 1px);height: 1px;margin: -1px;overflow: hidden;padding: 0;position: absolute;width: 1px;}#sk-container-id-4 div.sk-estimator {font-family: monospace;background-color: #f0f8ff;border: 1px dotted black;border-radius: 0.25em;box-sizing: border-box;margin-bottom: 0.5em;}#sk-container-id-4 div.sk-estimator:hover {background-color: #d4ebff;}#sk-container-id-4 div.sk-parallel-item::after {content: \"\";width: 100%;border-bottom: 1px solid gray;flex-grow: 1;}#sk-container-id-4 div.sk-label:hover label.sk-toggleable__label {background-color: #d4ebff;}#sk-container-id-4 div.sk-serial::before {content: \"\";position: absolute;border-left: 1px solid gray;box-sizing: border-box;top: 0;bottom: 0;left: 50%;z-index: 0;}#sk-container-id-4 div.sk-serial {display: flex;flex-direction: column;align-items: center;background-color: white;padding-right: 0.2em;padding-left: 0.2em;position: relative;}#sk-container-id-4 div.sk-item {position: relative;z-index: 1;}#sk-container-id-4 div.sk-parallel {display: flex;align-items: stretch;justify-content: center;background-color: white;position: relative;}#sk-container-id-4 div.sk-item::before, #sk-container-id-4 div.sk-parallel-item::before {content: \"\";position: absolute;border-left: 1px solid gray;box-sizing: border-box;top: 0;bottom: 0;left: 50%;z-index: -1;}#sk-container-id-4 div.sk-parallel-item {display: flex;flex-direction: column;z-index: 1;position: relative;background-color: white;}#sk-container-id-4 div.sk-parallel-item:first-child::after {align-self: flex-end;width: 50%;}#sk-container-id-4 div.sk-parallel-item:last-child::after {align-self: flex-start;width: 50%;}#sk-container-id-4 div.sk-parallel-item:only-child::after {width: 0;}#sk-container-id-4 div.sk-dashed-wrapped {border: 1px dashed gray;margin: 0 0.4em 0.5em 0.4em;box-sizing: border-box;padding-bottom: 0.4em;background-color: white;}#sk-container-id-4 div.sk-label label {font-family: monospace;font-weight: bold;display: inline-block;line-height: 1.2em;}#sk-container-id-4 div.sk-label-container {text-align: center;}#sk-container-id-4 div.sk-container {/* jupyter's `normalize.less` sets `[hidden] { display: none; }` but bootstrap.min.css set `[hidden] { display: none !important; }` so we also need the `!important` here to be able to override the default hidden behavior on the sphinx rendered scikit-learn.org. See: https://github.com/scikit-learn/scikit-learn/issues/21755 */display: inline-block !important;position: relative;}#sk-container-id-4 div.sk-text-repr-fallback {display: none;}</style><div id=\"sk-container-id-4\" class=\"sk-top-container\"><div class=\"sk-text-repr-fallback\"><pre>RandomizedSearchCV(estimator=RandomForestClassifier(), n_iter=5, n_jobs=-1,\n",
       "                   param_distributions={&#x27;criterion&#x27;: [&#x27;gini&#x27;, &#x27;entropy&#x27;,\n",
       "                                                      &#x27;log_loss&#x27;],\n",
       "                                        &#x27;max_depth&#x27;: &lt;scipy.stats._distn_infrastructure.rv_discrete_frozen object at 0x00000213A0F76750&gt;,\n",
       "                                        &#x27;max_features&#x27;: [&#x27;sqrt&#x27;, &#x27;log2&#x27;],\n",
       "                                        &#x27;min_samples_split&#x27;: &lt;scipy.stats._distn_infrastructure.rv_discrete_frozen object at 0x00000213A0F6A690&gt;,\n",
       "                                        &#x27;n_estimators&#x27;: &lt;scipy.stats._distn_infrastructure.rv_discrete_frozen object at 0x00000213A1113510&gt;})</pre><b>In a Jupyter environment, please rerun this cell to show the HTML representation or trust the notebook. <br />On GitHub, the HTML representation is unable to render, please try loading this page with nbviewer.org.</b></div><div class=\"sk-container\" hidden><div class=\"sk-item sk-dashed-wrapped\"><div class=\"sk-label-container\"><div class=\"sk-label sk-toggleable\"><input class=\"sk-toggleable__control sk-hidden--visually\" id=\"sk-estimator-id-8\" type=\"checkbox\" ><label for=\"sk-estimator-id-8\" class=\"sk-toggleable__label sk-toggleable__label-arrow\">RandomizedSearchCV</label><div class=\"sk-toggleable__content\"><pre>RandomizedSearchCV(estimator=RandomForestClassifier(), n_iter=5, n_jobs=-1,\n",
       "                   param_distributions={&#x27;criterion&#x27;: [&#x27;gini&#x27;, &#x27;entropy&#x27;,\n",
       "                                                      &#x27;log_loss&#x27;],\n",
       "                                        &#x27;max_depth&#x27;: &lt;scipy.stats._distn_infrastructure.rv_discrete_frozen object at 0x00000213A0F76750&gt;,\n",
       "                                        &#x27;max_features&#x27;: [&#x27;sqrt&#x27;, &#x27;log2&#x27;],\n",
       "                                        &#x27;min_samples_split&#x27;: &lt;scipy.stats._distn_infrastructure.rv_discrete_frozen object at 0x00000213A0F6A690&gt;,\n",
       "                                        &#x27;n_estimators&#x27;: &lt;scipy.stats._distn_infrastructure.rv_discrete_frozen object at 0x00000213A1113510&gt;})</pre></div></div></div><div class=\"sk-parallel\"><div class=\"sk-parallel-item\"><div class=\"sk-item\"><div class=\"sk-label-container\"><div class=\"sk-label sk-toggleable\"><input class=\"sk-toggleable__control sk-hidden--visually\" id=\"sk-estimator-id-9\" type=\"checkbox\" ><label for=\"sk-estimator-id-9\" class=\"sk-toggleable__label sk-toggleable__label-arrow\">estimator: RandomForestClassifier</label><div class=\"sk-toggleable__content\"><pre>RandomForestClassifier()</pre></div></div></div><div class=\"sk-serial\"><div class=\"sk-item\"><div class=\"sk-estimator sk-toggleable\"><input class=\"sk-toggleable__control sk-hidden--visually\" id=\"sk-estimator-id-10\" type=\"checkbox\" ><label for=\"sk-estimator-id-10\" class=\"sk-toggleable__label sk-toggleable__label-arrow\">RandomForestClassifier</label><div class=\"sk-toggleable__content\"><pre>RandomForestClassifier()</pre></div></div></div></div></div></div></div></div></div></div>"
      ],
      "text/plain": [
       "RandomizedSearchCV(estimator=RandomForestClassifier(), n_iter=5, n_jobs=-1,\n",
       "                   param_distributions={'criterion': ['gini', 'entropy',\n",
       "                                                      'log_loss'],\n",
       "                                        'max_depth': <scipy.stats._distn_infrastructure.rv_discrete_frozen object at 0x00000213A0F76750>,\n",
       "                                        'max_features': ['sqrt', 'log2'],\n",
       "                                        'min_samples_split': <scipy.stats._distn_infrastructure.rv_discrete_frozen object at 0x00000213A0F6A690>,\n",
       "                                        'n_estimators': <scipy.stats._distn_infrastructure.rv_discrete_frozen object at 0x00000213A1113510>})"
      ]
     },
     "execution_count": 60,
     "metadata": {},
     "output_type": "execute_result"
    }
   ],
   "source": [
    "RandomSearch.fit(features_treino, has_cancer_treino)\n"
   ]
  },
  {
   "cell_type": "markdown",
   "id": "1d08649c",
   "metadata": {},
   "source": [
    "#### Accuracy"
   ]
  },
  {
   "cell_type": "code",
   "execution_count": 61,
   "id": "c003353b",
   "metadata": {},
   "outputs": [
    {
     "name": "stdout",
     "output_type": "stream",
     "text": [
      "0.9992982456140351\n"
     ]
    }
   ],
   "source": [
    "has_cancer_prediction_BestRandomSearch = Best_Random_Search.predict(features_teste)\n",
    "accuracy_BestRandomSearch = accuracy_score(has_cancer_teste, has_cancer_prediction_BestRandomSearch)\n",
    "print(accuracy_BestRandomSearch)"
   ]
  },
  {
   "cell_type": "markdown",
   "id": "0cf3a18f",
   "metadata": {},
   "source": [
    "#### Confusion Matrix"
   ]
  },
  {
   "cell_type": "code",
   "execution_count": 62,
   "id": "d32a81ec",
   "metadata": {},
   "outputs": [
    {
     "data": {
      "text/plain": [
       "<sklearn.metrics._plot.confusion_matrix.ConfusionMatrixDisplay at 0x213a92d20d0>"
      ]
     },
     "execution_count": 62,
     "metadata": {},
     "output_type": "execute_result"
    },
    {
     "data": {
      "image/png": "[encoded data removed]",
      "text/plain": [
       "<Figure size 640x480 with 2 Axes>"
      ]
     },
     "metadata": {},
     "output_type": "display_data"
    }
   ],
   "source": [
    "cmrandom=confusion_matrix(has_cancer_teste, has_cancer_prediction_BestRandomSearch)\n",
    "ConfusionMatrixDisplay(confusion_matrix=cmrandom).plot()"
   ]
  }
 ],
 "metadata": {
  "kernelspec": {
   "display_name": "Python 3 (ipykernel)",
   "language": "python",
   "name": "python3"
  },
  "language_info": {
   "codemirror_mode": {
    "name": "ipython",
    "version": 3
   },
   "file_extension": ".py",
   "mimetype": "text/x-python",
   "name": "python",
   "nbconvert_exporter": "python",
   "pygments_lexer": "ipython3",
   "version": "3.11.5"
  },
  "polyglot_notebook": {
   "kernelInfo": {
    "defaultKernelName": "csharp",
    "items": [
     {
      "aliases": [],
      "name": "csharp"
     }
    ]
   }
  }
 },
 "nbformat": 4,
 "nbformat_minor": 5
}
