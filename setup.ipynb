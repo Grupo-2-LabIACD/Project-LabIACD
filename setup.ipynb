{
 "cells": [
  {
   "cell_type": "markdown",
   "metadata": {},
   "source": [
    "Ola isto e necessario para o codigo correr leiam e corram pls"
   ]
  },
  {
   "cell_type": "code",
   "execution_count": 14,
   "metadata": {},
   "outputs": [
    {
     "name": "stdout",
     "output_type": "stream",
     "text": [
      "Requirement already satisfied: numpy in c:\\users\\alexa\\anaconda3\\lib\\site-packages (1.24.3)\n",
      "Note: you may need to restart the kernel to use updated packages.\n"
     ]
    }
   ],
   "source": [
    "pip install numpy"
   ]
  },
  {
   "cell_type": "code",
   "execution_count": 15,
   "metadata": {},
   "outputs": [
    {
     "name": "stdout",
     "output_type": "stream",
     "text": [
      "Requirement already satisfied: pandas in c:\\users\\alexa\\anaconda3\\lib\\site-packages (2.0.3)\n",
      "Requirement already satisfied: python-dateutil>=2.8.2 in c:\\users\\alexa\\anaconda3\\lib\\site-packages (from pandas) (2.8.2)\n",
      "Requirement already satisfied: pytz>=2020.1 in c:\\users\\alexa\\anaconda3\\lib\\site-packages (from pandas) (2023.3.post1)\n",
      "Requirement already satisfied: tzdata>=2022.1 in c:\\users\\alexa\\anaconda3\\lib\\site-packages (from pandas) (2023.3)\n",
      "Requirement already satisfied: numpy>=1.21.0 in c:\\users\\alexa\\anaconda3\\lib\\site-packages (from pandas) (1.24.3)\n",
      "Requirement already satisfied: six>=1.5 in c:\\users\\alexa\\anaconda3\\lib\\site-packages (from python-dateutil>=2.8.2->pandas) (1.16.0)\n",
      "Note: you may need to restart the kernel to use updated packages.\n"
     ]
    }
   ],
   "source": [
    "pip install pandas"
   ]
  },
  {
   "cell_type": "code",
   "execution_count": 16,
   "metadata": {},
   "outputs": [
    {
     "name": "stdout",
     "output_type": "stream",
     "text": [
      "Collecting pydicom\n",
      "  Obtaining dependency information for pydicom from https://files.pythonhosted.org/packages/24/fe/d74445ca70ca30328a0c07ba50d9558741882a524ae92a7b482cce7ec6bf/pydicom-2.4.3-py3-none-any.whl.metadata\n",
      "  Downloading pydicom-2.4.3-py3-none-any.whl.metadata (7.8 kB)\n",
      "Downloading pydicom-2.4.3-py3-none-any.whl (1.8 MB)\n",
      "   ---------------------------------------- 0.0/1.8 MB ? eta -:--:--\n",
      "   ---------------------------------------- 0.0/1.8 MB ? eta -:--:--\n",
      "    --------------------------------------- 0.0/1.8 MB 435.7 kB/s eta 0:00:04\n",
      "   --- ------------------------------------ 0.1/1.8 MB 1.4 MB/s eta 0:00:02\n",
      "   --------- ------------------------------ 0.4/1.8 MB 3.1 MB/s eta 0:00:01\n",
      "   ----------------- ---------------------- 0.8/1.8 MB 4.5 MB/s eta 0:00:01\n",
      "   ------------------------- -------------- 1.1/1.8 MB 4.8 MB/s eta 0:00:01\n",
      "   ----------------------------------- ---- 1.6/1.8 MB 5.6 MB/s eta 0:00:01\n",
      "   ---------------------------------------  1.8/1.8 MB 5.6 MB/s eta 0:00:01\n",
      "   ---------------------------------------- 1.8/1.8 MB 5.4 MB/s eta 0:00:00\n",
      "Installing collected packages: pydicom\n",
      "Successfully installed pydicom-2.4.3\n",
      "Note: you may need to restart the kernel to use updated packages.\n"
     ]
    }
   ],
   "source": [
    "pip install pydicom"
   ]
  },
  {
   "cell_type": "code",
   "execution_count": 23,
   "metadata": {},
   "outputs": [
    {
     "name": "stdout",
     "output_type": "stream",
     "text": [
      "Requirement already satisfied: matplotlib in c:\\users\\alexa\\anaconda3\\lib\\site-packages (3.7.2)\n",
      "Requirement already satisfied: contourpy>=1.0.1 in c:\\users\\alexa\\anaconda3\\lib\\site-packages (from matplotlib) (1.0.5)\n",
      "Requirement already satisfied: cycler>=0.10 in c:\\users\\alexa\\anaconda3\\lib\\site-packages (from matplotlib) (0.11.0)\n",
      "Requirement already satisfied: fonttools>=4.22.0 in c:\\users\\alexa\\anaconda3\\lib\\site-packages (from matplotlib) (4.25.0)\n",
      "Requirement already satisfied: kiwisolver>=1.0.1 in c:\\users\\alexa\\anaconda3\\lib\\site-packages (from matplotlib) (1.4.4)\n",
      "Requirement already satisfied: numpy>=1.20 in c:\\users\\alexa\\anaconda3\\lib\\site-packages (from matplotlib) (1.24.3)\n",
      "Requirement already satisfied: packaging>=20.0 in c:\\users\\alexa\\anaconda3\\lib\\site-packages (from matplotlib) (23.1)\n",
      "Requirement already satisfied: pillow>=6.2.0 in c:\\users\\alexa\\anaconda3\\lib\\site-packages (from matplotlib) (9.4.0)\n",
      "Requirement already satisfied: pyparsing<3.1,>=2.3.1 in c:\\users\\alexa\\anaconda3\\lib\\site-packages (from matplotlib) (3.0.9)\n",
      "Requirement already satisfied: python-dateutil>=2.7 in c:\\users\\alexa\\anaconda3\\lib\\site-packages (from matplotlib) (2.8.2)\n",
      "Requirement already satisfied: six>=1.5 in c:\\users\\alexa\\anaconda3\\lib\\site-packages (from python-dateutil>=2.7->matplotlib) (1.16.0)\n",
      "Note: you may need to restart the kernel to use updated packages.\n"
     ]
    }
   ],
   "source": [
    "pip install matplotlib"
   ]
  },
  {
   "cell_type": "code",
   "execution_count": 22,
   "metadata": {},
   "outputs": [
    {
     "name": "stdout",
     "output_type": "stream",
     "text": [
      "Requirement already satisfied: scikit-image in c:\\users\\alexa\\anaconda3\\lib\\site-packages (0.20.0)\n",
      "Requirement already satisfied: numpy>=1.21.1 in c:\\users\\alexa\\anaconda3\\lib\\site-packages (from scikit-image) (1.24.3)\n",
      "Requirement already satisfied: scipy>=1.8 in c:\\users\\alexa\\anaconda3\\lib\\site-packages (from scikit-image) (1.11.1)\n",
      "Requirement already satisfied: networkx>=2.8 in c:\\users\\alexa\\anaconda3\\lib\\site-packages (from scikit-image) (3.1)\n",
      "Requirement already satisfied: pillow>=9.0.1 in c:\\users\\alexa\\anaconda3\\lib\\site-packages (from scikit-image) (9.4.0)\n",
      "Requirement already satisfied: imageio>=2.4.1 in c:\\users\\alexa\\anaconda3\\lib\\site-packages (from scikit-image) (2.26.0)\n",
      "Requirement already satisfied: tifffile>=2019.7.26 in c:\\users\\alexa\\anaconda3\\lib\\site-packages (from scikit-image) (2023.4.12)\n",
      "Requirement already satisfied: PyWavelets>=1.1.1 in c:\\users\\alexa\\anaconda3\\lib\\site-packages (from scikit-image) (1.4.1)\n",
      "Requirement already satisfied: packaging>=20.0 in c:\\users\\alexa\\anaconda3\\lib\\site-packages (from scikit-image) (23.1)\n",
      "Requirement already satisfied: lazy_loader>=0.1 in c:\\users\\alexa\\anaconda3\\lib\\site-packages (from scikit-image) (0.2)\n",
      "Note: you may need to restart the kernel to use updated packages.\n"
     ]
    }
   ],
   "source": [
    "pip install scikit-image\n"
   ]
  },
  {
   "cell_type": "code",
   "execution_count": 20,
   "metadata": {},
   "outputs": [
    {
     "name": "stdout",
     "output_type": "stream",
     "text": [
      "Requirement already satisfied: scipy in c:\\users\\alexa\\anaconda3\\lib\\site-packages (1.11.1)\n",
      "Requirement already satisfied: numpy<1.28.0,>=1.21.6 in c:\\users\\alexa\\anaconda3\\lib\\site-packages (from scipy) (1.24.3)\n",
      "Note: you may need to restart the kernel to use updated packages.\n"
     ]
    }
   ],
   "source": [
    "pip install scipy"
   ]
  },
  {
   "cell_type": "code",
   "execution_count": 25,
   "metadata": {},
   "outputs": [
    {
     "name": "stdout",
     "output_type": "stream",
     "text": [
      "Requirement already satisfied: scikit-learn in c:\\users\\alexa\\anaconda3\\lib\\site-packages (1.3.0)\n",
      "Requirement already satisfied: numpy>=1.17.3 in c:\\users\\alexa\\anaconda3\\lib\\site-packages (from scikit-learn) (1.24.3)\n",
      "Requirement already satisfied: scipy>=1.5.0 in c:\\users\\alexa\\anaconda3\\lib\\site-packages (from scikit-learn) (1.11.1)\n",
      "Requirement already satisfied: joblib>=1.1.1 in c:\\users\\alexa\\anaconda3\\lib\\site-packages (from scikit-learn) (1.2.0)\n",
      "Requirement already satisfied: threadpoolctl>=2.0.0 in c:\\users\\alexa\\anaconda3\\lib\\site-packages (from scikit-learn) (2.2.0)\n",
      "Note: you may need to restart the kernel to use updated packages.\n"
     ]
    }
   ],
   "source": [
    "pip install scikit-learn\n",
    "\n"
   ]
  },
  {
   "cell_type": "markdown",
   "metadata": {},
   "source": [
    "Agora para o pyradiomcs isto resultou para mim\n",
    "Instalem isto:\n",
    "    https://visualstudio.microsoft.com/visual-cpp-build-tools/\n",
    "e depois selecionem : Desktop development with c++ e deixem instalar\n",
    "\n"
   ]
  },
  {
   "cell_type": "code",
   "execution_count": null,
   "metadata": {},
   "outputs": [],
   "source": [
    "pip install --use-pep517"
   ]
  },
  {
   "cell_type": "markdown",
   "metadata": {},
   "source": [
    "depois de instalarem e correrem o comando a cima reiniciem o pc e so depois correm o pip do pyradiomics"
   ]
  },
  {
   "cell_type": "code",
   "execution_count": 1,
   "metadata": {},
   "outputs": [
    {
     "name": "stdout",
     "output_type": "stream",
     "text": [
      "Collecting pyradiomics\n",
      "  Using cached pyradiomics-3.1.0.tar.gz (34.5 MB)\n",
      "  Installing build dependencies: started\n",
      "  Installing build dependencies: finished with status 'done'\n",
      "  Getting requirements to build wheel: started\n",
      "  Getting requirements to build wheel: finished with status 'done'\n",
      "  Installing backend dependencies: started\n",
      "  Installing backend dependencies: finished with status 'done'\n",
      "  Preparing metadata (pyproject.toml): started\n",
      "  Preparing metadata (pyproject.toml): finished with status 'done'\n",
      "Discarding https://files.pythonhosted.org/packages/03/c1/20fc2c50ab1e3304da36d866042a1905a2b05a1431ece35448ab6b4578f2/pyradiomics-3.1.0.tar.gz (from https://pypi.org/simple/pyradiomics/): Requested pyradiomics from https://files.pythonhosted.org/packages/03/c1/20fc2c50ab1e3304da36d866042a1905a2b05a1431ece35448ab6b4578f2/pyradiomics-3.1.0.tar.gz has inconsistent version: expected '3.1.0', but metadata has '3.0.1a1'\n",
      "  Using cached pyradiomics-3.0.1.tar.gz (34.5 MB)\n",
      "  Preparing metadata (setup.py): started\n",
      "  Preparing metadata (setup.py): finished with status 'done'\n",
      "Requirement already satisfied: numpy>=1.9.2 in c:\\users\\alexa\\anaconda3\\lib\\site-packages (from pyradiomics) (1.24.3)\n",
      "Collecting SimpleITK>=0.9.1 (from pyradiomics)\n",
      "  Obtaining dependency information for SimpleITK>=0.9.1 from https://files.pythonhosted.org/packages/77/ea/a925ec74f476d4487f4f888f7c4a1ec22d5311074be8daf90765dc9fbe9d/SimpleITK-2.3.0-cp311-cp311-win_amd64.whl.metadata\n",
      "  Using cached SimpleITK-2.3.0-cp311-cp311-win_amd64.whl.metadata (8.0 kB)\n",
      "Requirement already satisfied: PyWavelets>=0.4.0 in c:\\users\\alexa\\anaconda3\\lib\\site-packages (from pyradiomics) (1.4.1)\n",
      "Collecting pykwalify>=1.6.0 (from pyradiomics)\n",
      "  Using cached pykwalify-1.8.0-py2.py3-none-any.whl (24 kB)\n",
      "Requirement already satisfied: six>=1.10.0 in c:\\users\\alexa\\anaconda3\\lib\\site-packages (from pyradiomics) (1.16.0)\n",
      "Collecting docopt>=0.6.2 (from pykwalify>=1.6.0->pyradiomics)\n",
      "  Using cached docopt-0.6.2-py2.py3-none-any.whl\n",
      "Requirement already satisfied: python-dateutil>=2.8.0 in c:\\users\\alexa\\anaconda3\\lib\\site-packages (from pykwalify>=1.6.0->pyradiomics) (2.8.2)\n",
      "Requirement already satisfied: ruamel.yaml>=0.16.0 in c:\\users\\alexa\\anaconda3\\lib\\site-packages (from pykwalify>=1.6.0->pyradiomics) (0.17.21)\n",
      "Using cached SimpleITK-2.3.0-cp311-cp311-win_amd64.whl (18.1 MB)\n",
      "Building wheels for collected packages: pyradiomics\n",
      "  Building wheel for pyradiomics (setup.py): started\n",
      "  Building wheel for pyradiomics (setup.py): finished with status 'done'\n",
      "  Created wheel for pyradiomics: filename=pyradiomics-3.0.1-cp311-cp311-win_amd64.whl size=121886 sha256=b64dde5031a637cb6193426e748b31da54c116127f27f9922c6183024d8c84c4\n",
      "  Stored in directory: c:\\users\\alexa\\appdata\\local\\pip\\cache\\wheels\\57\\fb\\95\\931a5364368a3d8eaf9eee0daaf186e64b75fea7c1c97949fb\n",
      "Successfully built pyradiomics\n",
      "Installing collected packages: SimpleITK, docopt, pykwalify, pyradiomics\n",
      "Successfully installed SimpleITK-2.3.0 docopt-0.6.2 pykwalify-1.8.0 pyradiomics-3.0.1\n",
      "Note: you may need to restart the kernel to use updated packages.\n"
     ]
    }
   ],
   "source": [
    "pip install pyradiomics\n"
   ]
  },
  {
   "cell_type": "code",
   "execution_count": 27,
   "metadata": {},
   "outputs": [
    {
     "name": "stdout",
     "output_type": "stream",
     "text": [
      "Collecting pylidc\n",
      "  Downloading pylidc-0.2.3-py2.py3-none-any.whl (5.6 MB)\n",
      "     ---------------------------------------- 0.0/5.6 MB ? eta -:--:--\n",
      "     ---------------------------------------- 0.0/5.6 MB ? eta -:--:--\n",
      "     ---------------------------------------- 0.0/5.6 MB 262.6 kB/s eta 0:00:22\n",
      "     ---------------------------------------- 0.1/5.6 MB 409.6 kB/s eta 0:00:14\n",
      "     - -------------------------------------- 0.2/5.6 MB 1.1 MB/s eta 0:00:05\n",
      "     --- ------------------------------------ 0.5/5.6 MB 2.2 MB/s eta 0:00:03\n",
      "     ----- ---------------------------------- 0.8/5.6 MB 2.9 MB/s eta 0:00:02\n",
      "     ------- -------------------------------- 1.1/5.6 MB 3.5 MB/s eta 0:00:02\n",
      "     ---------- ----------------------------- 1.4/5.6 MB 3.9 MB/s eta 0:00:02\n",
      "     ------------ --------------------------- 1.7/5.6 MB 4.1 MB/s eta 0:00:01\n",
      "     -------------- ------------------------- 2.0/5.6 MB 4.4 MB/s eta 0:00:01\n",
      "     ---------------- ----------------------- 2.3/5.6 MB 4.7 MB/s eta 0:00:01\n",
      "     ------------------- -------------------- 2.7/5.6 MB 4.8 MB/s eta 0:00:01\n",
      "     --------------------- ------------------ 3.0/5.6 MB 5.0 MB/s eta 0:00:01\n",
      "     ----------------------- ---------------- 3.3/5.6 MB 5.2 MB/s eta 0:00:01\n",
      "     ------------------------- -------------- 3.6/5.6 MB 5.2 MB/s eta 0:00:01\n",
      "     ---------------------------- ----------- 3.9/5.6 MB 5.3 MB/s eta 0:00:01\n",
      "     ----------------------------- ---------- 4.2/5.6 MB 5.3 MB/s eta 0:00:01\n",
      "     -------------------------------- ------- 4.5/5.6 MB 5.4 MB/s eta 0:00:01\n",
      "     ---------------------------------- ----- 4.8/5.6 MB 5.5 MB/s eta 0:00:01\n",
      "     ------------------------------------ --- 5.2/5.6 MB 5.6 MB/s eta 0:00:01\n",
      "     ---------------------------------------  5.5/5.6 MB 5.7 MB/s eta 0:00:01\n",
      "     ---------------------------------------  5.6/5.6 MB 5.8 MB/s eta 0:00:01\n",
      "     ---------------------------------------- 5.6/5.6 MB 5.4 MB/s eta 0:00:00\n",
      "Requirement already satisfied: sqlalchemy>=1.1.5 in c:\\users\\alexa\\anaconda3\\lib\\site-packages (from pylidc) (1.4.39)\n",
      "Requirement already satisfied: numpy>=1.12.0 in c:\\users\\alexa\\anaconda3\\lib\\site-packages (from pylidc) (1.24.3)\n",
      "Requirement already satisfied: scipy>=0.18.1 in c:\\users\\alexa\\anaconda3\\lib\\site-packages (from pylidc) (1.11.1)\n",
      "Requirement already satisfied: matplotlib>=2.0.0 in c:\\users\\alexa\\anaconda3\\lib\\site-packages (from pylidc) (3.7.2)\n",
      "Requirement already satisfied: pydicom>=1.0.0 in c:\\users\\alexa\\anaconda3\\lib\\site-packages (from pylidc) (2.4.3)\n",
      "Requirement already satisfied: scikit-image>=0.13 in c:\\users\\alexa\\anaconda3\\lib\\site-packages (from pylidc) (0.20.0)\n",
      "Requirement already satisfied: contourpy>=1.0.1 in c:\\users\\alexa\\anaconda3\\lib\\site-packages (from matplotlib>=2.0.0->pylidc) (1.0.5)\n",
      "Requirement already satisfied: cycler>=0.10 in c:\\users\\alexa\\anaconda3\\lib\\site-packages (from matplotlib>=2.0.0->pylidc) (0.11.0)\n",
      "Requirement already satisfied: fonttools>=4.22.0 in c:\\users\\alexa\\anaconda3\\lib\\site-packages (from matplotlib>=2.0.0->pylidc) (4.25.0)\n",
      "Requirement already satisfied: kiwisolver>=1.0.1 in c:\\users\\alexa\\anaconda3\\lib\\site-packages (from matplotlib>=2.0.0->pylidc) (1.4.4)\n",
      "Requirement already satisfied: packaging>=20.0 in c:\\users\\alexa\\anaconda3\\lib\\site-packages (from matplotlib>=2.0.0->pylidc) (23.1)\n",
      "Requirement already satisfied: pillow>=6.2.0 in c:\\users\\alexa\\anaconda3\\lib\\site-packages (from matplotlib>=2.0.0->pylidc) (9.4.0)\n",
      "Requirement already satisfied: pyparsing<3.1,>=2.3.1 in c:\\users\\alexa\\anaconda3\\lib\\site-packages (from matplotlib>=2.0.0->pylidc) (3.0.9)\n",
      "Requirement already satisfied: python-dateutil>=2.7 in c:\\users\\alexa\\anaconda3\\lib\\site-packages (from matplotlib>=2.0.0->pylidc) (2.8.2)\n",
      "Requirement already satisfied: networkx>=2.8 in c:\\users\\alexa\\anaconda3\\lib\\site-packages (from scikit-image>=0.13->pylidc) (3.1)\n",
      "Requirement already satisfied: imageio>=2.4.1 in c:\\users\\alexa\\anaconda3\\lib\\site-packages (from scikit-image>=0.13->pylidc) (2.26.0)\n",
      "Requirement already satisfied: tifffile>=2019.7.26 in c:\\users\\alexa\\anaconda3\\lib\\site-packages (from scikit-image>=0.13->pylidc) (2023.4.12)\n",
      "Requirement already satisfied: PyWavelets>=1.1.1 in c:\\users\\alexa\\anaconda3\\lib\\site-packages (from scikit-image>=0.13->pylidc) (1.4.1)\n",
      "Requirement already satisfied: lazy_loader>=0.1 in c:\\users\\alexa\\anaconda3\\lib\\site-packages (from scikit-image>=0.13->pylidc) (0.2)\n",
      "Requirement already satisfied: greenlet!=0.4.17 in c:\\users\\alexa\\anaconda3\\lib\\site-packages (from sqlalchemy>=1.1.5->pylidc) (2.0.1)\n",
      "Requirement already satisfied: six>=1.5 in c:\\users\\alexa\\anaconda3\\lib\\site-packages (from python-dateutil>=2.7->matplotlib>=2.0.0->pylidc) (1.16.0)\n",
      "Installing collected packages: pylidc\n",
      "Successfully installed pylidc-0.2.3\n",
      "Note: you may need to restart the kernel to use updated packages.\n"
     ]
    }
   ],
   "source": [
    "pip install pylidc"
   ]
  },
  {
   "cell_type": "code",
   "execution_count": null,
   "metadata": {},
   "outputs": [],
   "source": []
  }
 ],
 "metadata": {
  "kernelspec": {
   "display_name": "Python 3 (ipykernel)",
   "language": "python",
   "name": "python3"
  },
  "language_info": {
   "codemirror_mode": {
    "name": "ipython",
    "version": 3
   },
   "file_extension": ".py",
   "mimetype": "text/x-python",
   "name": "python",
   "nbconvert_exporter": "python",
   "pygments_lexer": "ipython3",
   "version": "3.11.5"
  }
 },
 "nbformat": 4,
 "nbformat_minor": 2
}
